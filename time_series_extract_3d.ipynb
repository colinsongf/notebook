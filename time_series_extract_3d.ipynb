{
 "metadata": {
  "name": "",
  "signature": "sha256:c16d92e565ea411a5bed626bbed2b3ccaea99acbf9dd6487490d2ed6d55e67d5"
 },
 "nbformat": 3,
 "nbformat_minor": 0,
 "worksheets": [
  {
   "cells": [
    {
     "cell_type": "heading",
     "level": 2,
     "metadata": {},
     "source": [
      "Extract time series from 3D [time,lat,lon] dataset"
     ]
    },
    {
     "cell_type": "code",
     "collapsed": false,
     "input": [
      "# Extract a forecast time-series of wave height from Global NCEP WaveWatch 3\n",
      "# and plot the time-series using Pandas\n",
      "\n",
      "# This is just one of the many datasets in Unidata's THREDDS Catalog Collection:\n",
      "# http://thredds.ucar.edu/thredds/catalog.html\n",
      "# and this approach would work for any CF-Compliant NetCDF or OPeNDAP dataset"
     ],
     "language": "python",
     "metadata": {},
     "outputs": [],
     "prompt_number": 1
    },
    {
     "cell_type": "code",
     "collapsed": false,
     "input": [
      "from pylab import *\n",
      "import netCDF4\n",
      "import pandas as pd\n",
      "import datetime as dt"
     ],
     "language": "python",
     "metadata": {},
     "outputs": [],
     "prompt_number": 2
    },
    {
     "cell_type": "code",
     "collapsed": false,
     "input": [
      "import bearcart\n",
      "bearcart.initialize_notebook()"
     ],
     "language": "python",
     "metadata": {},
     "outputs": [
      {
       "html": [
        "<script>\n",
        "\n",
        "  var bearcart_event = new CustomEvent(\n",
        "    \"bearcart_libs_loaded\",\n",
        "    {bubbles: true, cancelable: true}\n",
        "  );\n",
        "\n",
        "  var load_cart_charts = function(){\n",
        "    window.dispatchEvent(bearcart_event);\n",
        "  };\n",
        "\n",
        " function load_bearcart_libs(){\n",
        "    console.log('Loading all Bearcart libraries...')\n",
        "    $.getScript('http://code.jquery.com/ui/1.10.4/jquery-ui.js', function(){\n",
        "      $.getScript('http://cdnjs.cloudflare.com/ajax/libs/rickshaw/1.4.6/rickshaw.min.js', load_cart_charts)\n",
        "    })\n",
        "  };\n",
        "\n",
        " if(typeof define === \"function\" && define.amd){\n",
        "      if (window['d3'] === undefined){\n",
        "          require.config(\n",
        "              {paths: {d3: 'http://d3js.org/d3.v3.min'}\n",
        "              }\n",
        "            );\n",
        "          require([\"d3\"], function(d3){\n",
        "              console.log('Loading from require.js...')\n",
        "              window.d3 = d3;\n",
        "              load_bearcart_libs();\n",
        "          });\n",
        "      } else {\n",
        "        load_bearcart_libs();\n",
        "      }\n",
        " }else{\n",
        "      console.log('Require.js not found!');\n",
        "      throw \"Require.js not found!\"\n",
        " };\n",
        "\n",
        "</script>"
       ],
       "metadata": {},
       "output_type": "display_data",
       "text": [
        "<IPython.core.display.HTML at 0x2f7f390>"
       ]
      },
      {
       "html": [
        "<link rel=\"stylesheet\" href=\"http://cdnjs.cloudflare.com/ajax/libs/rickshaw/1.3.0/rickshaw.css\">\n",
        "<link rel=\"stylesheet\" href=\"http://code.jquery.com/ui/1.10.4/themes/smoothness/jquery-ui.css\">\n",
        "<style>\n",
        "  .rickshaw-chart {\n",
        "      font: 10px sans-serif;\n",
        "      float: left;\n",
        "      margin-top: 70px;\n",
        "            }\n",
        "  .rickshaw-y-axis {\n",
        "      font: 10px sans-serif;\n",
        "      float: left;\n",
        "      margin-top: 70px;\n",
        "  }\n",
        "  .rickshaw-legend {\n",
        "      float: left;\n",
        "      margin-left: 15px;\n",
        "      margin-top: 70px;\n",
        "  }\n",
        "\n",
        "  .rickshaw-slider {\n",
        "      float:left;\n",
        "      margin-top: : 100px;\n",
        "  }\n",
        "</style>"
       ],
       "metadata": {},
       "output_type": "display_data",
       "text": [
        "<IPython.core.display.HTML at 0x2b69350>"
       ]
      }
     ],
     "prompt_number": 3
    },
    {
     "cell_type": "code",
     "collapsed": false,
     "input": [
      "# NCEP WaveWatch 3 wave model: New England Coastal Grid:\n",
      "url='http://thredds.ucar.edu/thredds/dodsC/grib/NCEP/WW3/Coastal_US_East_Coast/best'  # forecast\n",
      "url='http://geoport.whoi.edu/thredds/dodsC/fmrc/NCEP/ww3/cfsr/4m/best'   # 30 year hindcast"
     ],
     "language": "python",
     "metadata": {},
     "outputs": [],
     "prompt_number": 4
    },
    {
     "cell_type": "code",
     "collapsed": false,
     "input": [
      "# NetCDF4-Python can open OPeNDAP dataset just like a local NetCDF file\n",
      "nc = netCDF4.Dataset(url)\n",
      "nc.variables.keys()"
     ],
     "language": "python",
     "metadata": {},
     "outputs": [
      {
       "metadata": {},
       "output_type": "pyout",
       "prompt_number": 5,
       "text": [
        "[u'lat',\n",
        " u'lon',\n",
        " u'time',\n",
        " u'time1',\n",
        " u'u-component_of_wind_surface',\n",
        " u'v-component_of_wind_surface',\n",
        " u'Significant_height_of_combined_wind_waves_and_swell_surface',\n",
        " u'Primary_wave_direction_degree_true_surface',\n",
        " u'Primary_wave_mean_period_surface']"
       ]
      }
     ],
     "prompt_number": 5
    },
    {
     "cell_type": "code",
     "collapsed": false,
     "input": [
      "lat = nc.variables['lat'][:]\n",
      "lon = nc.variables['lon'][:]\n",
      "time_var = nc.variables['time']\n",
      "dtime = netCDF4.num2date(time_var[:],time_var.units)"
     ],
     "language": "python",
     "metadata": {},
     "outputs": [],
     "prompt_number": 6
    },
    {
     "cell_type": "code",
     "collapsed": false,
     "input": [
      "# determine what longitude convention is being used\n",
      "print lon.min(),lon.max()"
     ],
     "language": "python",
     "metadata": {},
     "outputs": [
      {
       "output_type": "stream",
       "stream": "stdout",
       "text": [
        "-99.0 -60.0\n"
       ]
      }
     ],
     "prompt_number": 7
    },
    {
     "cell_type": "code",
     "collapsed": false,
     "input": [
      "# Specify desired station time series location\n",
      "# note we add 360 because of the lon convention in this dataset\n",
      "lati = 41.01; loni = -70.2  # Provincetown, MA"
     ],
     "language": "python",
     "metadata": {},
     "outputs": [],
     "prompt_number": 8
    },
    {
     "cell_type": "code",
     "collapsed": false,
     "input": [
      "# Function to find index to nearest point\n",
      "def near(array,value):\n",
      "    idx=(abs(array-value)).argmin()\n",
      "    return idx"
     ],
     "language": "python",
     "metadata": {},
     "outputs": [],
     "prompt_number": 9
    },
    {
     "cell_type": "code",
     "collapsed": false,
     "input": [
      "# Find nearest point to desired location (no interpolation)\n",
      "ix = near(lon, loni)\n",
      "iy = near(lat, lati)"
     ],
     "language": "python",
     "metadata": {},
     "outputs": [],
     "prompt_number": 10
    },
    {
     "cell_type": "code",
     "collapsed": false,
     "input": [
      "# Extract desired times.  Here we select 3 days before the present time through the end of the forecast\n",
      "start = dt.datetime.utcnow()- dt.timedelta(days=3)\n",
      "istart = netCDF4.date2index(start,time_var,select='nearest')\n",
      "istop = len(time_var)-1\n"
     ],
     "language": "python",
     "metadata": {},
     "outputs": [],
     "prompt_number": 11
    },
    {
     "cell_type": "code",
     "collapsed": false,
     "input": [
      "# Extract desired times.  Here we select a specific time of interest\n",
      "start = dt.datetime(2000,1,1,0,0,0)\n",
      "istart = netCDF4.date2index(start,time_var,select='nearest')\n",
      "stop = dt.datetime(2000,1,7,0,0,0)\n",
      "istop = netCDF4.date2index(stop,time_var,select='nearest')"
     ],
     "language": "python",
     "metadata": {},
     "outputs": [],
     "prompt_number": 12
    },
    {
     "cell_type": "code",
     "collapsed": false,
     "input": [
      "# Get all time records of variable [vname] at indices [iy,ix]\n",
      "vname = 'Significant_height_of_combined_wind_waves_and_swell_surface'\n",
      "var = nc.variables[vname]\n",
      "hs = var[istart:istop,iy,ix]\n",
      "tim = dtime[istart:istop]"
     ],
     "language": "python",
     "metadata": {},
     "outputs": [],
     "prompt_number": 13
    },
    {
     "cell_type": "code",
     "collapsed": false,
     "input": [
      "# Create Pandas time series object\n",
      "ts = pd.Series(hs,index=tim)"
     ],
     "language": "python",
     "metadata": {},
     "outputs": [],
     "prompt_number": 14
    },
    {
     "cell_type": "code",
     "collapsed": false,
     "input": [
      "# Use Pandas time series plot method\n",
      "figure(figsize=(16,4))\n",
      "ts.plot(title='%s (Lon=%.2f, Lat=%.2f)' % (vname, lon[ix], lat[iy]))\n",
      "ylabel(var.units)"
     ],
     "language": "python",
     "metadata": {},
     "outputs": [
      {
       "metadata": {},
       "output_type": "pyout",
       "prompt_number": 15,
       "text": [
        "<matplotlib.text.Text at 0x38811d0>"
       ]
      },
      {
       "metadata": {},
       "output_type": "display_data",
       "png": "[encoded data removed]",
       "text": [
        "<matplotlib.figure.Figure at 0x2b69350>"
       ]
      }
     ],
     "prompt_number": 15
    },
    {
     "cell_type": "code",
     "collapsed": false,
     "input": [
      "vis = bearcart.Chart(ts)\n",
      "vis"
     ],
     "language": "python",
     "metadata": {},
     "outputs": [
      {
       "output_type": "stream",
       "stream": "stderr",
       "text": [
        "/home/local/python27_epd/lib/python2.7/site-packages/IPython/core/formatters.py:239: FormatterWarning: Exception in text/html formatter: 0.89999998 is not JSON serializable\n",
        "  FormatterWarning,\n"
       ]
      },
      {
       "metadata": {},
       "output_type": "pyout",
       "prompt_number": 16,
       "text": [
        "<bearcart.bearcart.Chart at 0x38aa750>"
       ]
      }
     ],
     "prompt_number": 16
    },
    {
     "cell_type": "code",
     "collapsed": false,
     "input": [],
     "language": "python",
     "metadata": {},
     "outputs": [],
     "prompt_number": 16
    }
   ],
   "metadata": {}
  }
 ]
}