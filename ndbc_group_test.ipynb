{
 "metadata": {
  "name": "ndbc_group_test"
 },
 "nbformat": 3,
 "nbformat_minor": 0,
 "worksheets": [
  {
   "cells": [
    {
     "cell_type": "markdown",
     "metadata": {},
     "source": [
      "# Reading NDBC's heirarchical NetCDF4 buoy data"
     ]
    },
    {
     "cell_type": "markdown",
     "metadata": {},
     "source": [
      "NDBC decided in 2011 to go with NetCDF4 files using groups to store buoy data. \n",
      "Can we read them using standard tools?"
     ]
    },
    {
     "cell_type": "code",
     "collapsed": false,
     "input": [
      "import urllib\n",
      "import netCDF4\n",
      "from IPython.core.display import HTML\n",
      "import pandas as pd"
     ],
     "language": "python",
     "metadata": {},
     "outputs": [],
     "prompt_number": 2
    },
    {
     "cell_type": "markdown",
     "metadata": {},
     "source": [
      "If you visit http://www.nodc.noaa.gov/BUOY/ and select the \"41013\" buoy, then select a one of the links from the \"Buoy Data (netCDF)\" table, you will find yourself on a THREDDS dataset page like the one below"
     ]
    },
    {
     "cell_type": "code",
     "collapsed": false,
     "input": [
      "HTML('<iframe src=http://data.nodc.noaa.gov/thredds/catalog/ndbc/cmanwx/2013/08/catalog.html?dataset=ndbc/cmanwx/2013/08/NDBC_41013_201308_D2_v00.nc width=900 height=500></iframe>')"
     ],
     "language": "python",
     "metadata": {},
     "outputs": [
      {
       "html": [
        "<iframe src=http://data.nodc.noaa.gov/thredds/catalog/ndbc/cmanwx/2013/08/catalog.html?dataset=ndbc/cmanwx/2013/08/NDBC_41013_201308_D2_v00.nc width=900 height=500></iframe>"
       ],
       "metadata": {},
       "output_type": "pyout",
       "prompt_number": 3,
       "text": [
        "<IPython.core.display.HTML at 0x37b6610>"
       ]
      }
     ],
     "prompt_number": 3
    },
    {
     "cell_type": "code",
     "collapsed": false,
     "input": [
      "# try to open DAP URL\n",
      "dap_url='http://data.nodc.noaa.gov/thredds/dodsC/ndbc/cmanwx/2013/08/NDBC_41013_201308_D2_v00.nc'\n",
      "nc = netCDF4.Dataset(dap_url)"
     ],
     "language": "python",
     "metadata": {},
     "outputs": [
      {
       "ename": "RuntimeError",
       "evalue": "NetCDF: String match to name in use",
       "output_type": "pyerr",
       "traceback": [
        "\u001b[1;31m---------------------------------------------------------------------------\u001b[0m\n\u001b[1;31mRuntimeError\u001b[0m                              Traceback (most recent call last)",
        "\u001b[1;32m<ipython-input-4-0b3628dfc3e2>\u001b[0m in \u001b[0;36m<module>\u001b[1;34m()\u001b[0m\n\u001b[0;32m      1\u001b[0m \u001b[1;31m# try to open DAP URL\u001b[0m\u001b[1;33m\u001b[0m\u001b[1;33m\u001b[0m\u001b[0m\n\u001b[0;32m      2\u001b[0m \u001b[0mdap_url\u001b[0m\u001b[1;33m=\u001b[0m\u001b[1;34m'http://data.nodc.noaa.gov/thredds/dodsC/ndbc/cmanwx/2013/08/NDBC_41013_201308_D2_v00.nc'\u001b[0m\u001b[1;33m\u001b[0m\u001b[0m\n\u001b[1;32m----> 3\u001b[1;33m \u001b[0mnc\u001b[0m \u001b[1;33m=\u001b[0m \u001b[0mnetCDF4\u001b[0m\u001b[1;33m.\u001b[0m\u001b[0mDataset\u001b[0m\u001b[1;33m(\u001b[0m\u001b[0mdap_url\u001b[0m\u001b[1;33m)\u001b[0m\u001b[1;33m\u001b[0m\u001b[0m\n\u001b[0m",
        "\u001b[1;32m/home/local/python27_epd/lib/python2.7/site-packages/netCDF4.so\u001b[0m in \u001b[0;36mnetCDF4.Dataset.__init__ (netCDF4.c:15904)\u001b[1;34m()\u001b[0m\n",
        "\u001b[1;31mRuntimeError\u001b[0m: NetCDF: String match to name in use"
       ]
      }
     ],
     "prompt_number": 4
    },
    {
     "cell_type": "code",
     "collapsed": false,
     "input": [
      "# since DAP didn't work, download the entire NetCDF file\n",
      "urllib.urlretrieve('http://data.nodc.noaa.gov/thredds/fileServer/ndbc/cmanwx/2013/08/NDBC_41013_201308_D2_v00.nc',\n",
      "                                                                                    'NDBC_41013_201308_D2_v00.nc')"
     ],
     "language": "python",
     "metadata": {},
     "outputs": [
      {
       "metadata": {},
       "output_type": "pyout",
       "prompt_number": 5,
       "text": [
        "('NDBC_41013_201308_D2_v00.nc', <httplib.HTTPMessage instance at 0x37daef0>)"
       ]
      }
     ],
     "prompt_number": 5
    },
    {
     "cell_type": "code",
     "collapsed": false,
     "input": [
      "# open the local netcdf file\n",
      "nc = netCDF4.Dataset('NDBC_41013_201308_D2_v00.nc')"
     ],
     "language": "python",
     "metadata": {},
     "outputs": [],
     "prompt_number": 6
    },
    {
     "cell_type": "code",
     "collapsed": false,
     "input": [
      "# see if there are variables at the top level\n",
      "nc.variables.keys()"
     ],
     "language": "python",
     "metadata": {},
     "outputs": [
      {
       "metadata": {},
       "output_type": "pyout",
       "prompt_number": 7,
       "text": [
        "[u'time', u'time10', u'timem', u'time_wpm_20', u'wave_wpm', u'wave_wpm_bnds']"
       ]
      }
     ],
     "prompt_number": 7
    },
    {
     "cell_type": "code",
     "collapsed": false,
     "input": [
      "# convert time to Python datetime objects\n",
      "time_var = nc.variables['time']\n",
      "print time_var\n",
      "jd = netCDF4.num2date(time_var[:],time_var.units)"
     ],
     "language": "python",
     "metadata": {},
     "outputs": [
      {
       "output_type": "stream",
       "stream": "stdout",
       "text": [
        "<type 'netCDF4.Variable'>\n",
        "int32 time(u'time',)\n",
        "    long_name: time\n",
        "    standard_name: time\n",
        "    units: seconds since 1970-01-01 00:00:00 UTC\n",
        "unlimited dimensions = ()\n",
        "current size = (744,)\n",
        "\n"
       ]
      }
     ],
     "prompt_number": 8
    },
    {
     "cell_type": "code",
     "collapsed": false,
     "input": [
      "# see if there are groups\n",
      "nc.groups.keys()"
     ],
     "language": "python",
     "metadata": {},
     "outputs": [
      {
       "metadata": {},
       "output_type": "pyout",
       "prompt_number": 9,
       "text": [
        "[u'payload_1']"
       ]
      }
     ],
     "prompt_number": 9
    },
    {
     "cell_type": "code",
     "collapsed": false,
     "input": [
      "# only one group. Let's take a look:\n",
      "payload1= nc.groups['payload_1']"
     ],
     "language": "python",
     "metadata": {},
     "outputs": [],
     "prompt_number": 10
    },
    {
     "cell_type": "code",
     "collapsed": false,
     "input": [
      "# are there variables in payload_1?\n",
      "payload1.variables.keys()"
     ],
     "language": "python",
     "metadata": {},
     "outputs": [
      {
       "metadata": {},
       "output_type": "pyout",
       "prompt_number": 11,
       "text": [
        "[]"
       ]
      }
     ],
     "prompt_number": 11
    },
    {
     "cell_type": "code",
     "collapsed": false,
     "input": [
      "# are there more groups in payload_1?\n",
      "payload1.groups.keys()"
     ],
     "language": "python",
     "metadata": {},
     "outputs": [
      {
       "metadata": {},
       "output_type": "pyout",
       "prompt_number": 12,
       "text": [
        "[u'anemometer_1',\n",
        " u'anemometer_2',\n",
        " u'barometer_1',\n",
        " u'barometer_2',\n",
        " u'air_temperature_sensor_1',\n",
        " u'air_temperature_sensor_2',\n",
        " u'humidity_sensor_1',\n",
        " u'ocean_temperature_sensor_1',\n",
        " u'gps_1',\n",
        " u'wave_sensor_1']"
       ]
      }
     ],
     "prompt_number": 12
    },
    {
     "cell_type": "code",
     "collapsed": false,
     "input": [
      "# let's pick 'anemometer_2' from 'payload_1'\n",
      "payload1_anemometer2 = payload1.groups['anemometer_2']"
     ],
     "language": "python",
     "metadata": {},
     "outputs": [],
     "prompt_number": 13
    },
    {
     "cell_type": "code",
     "collapsed": false,
     "input": [
      "# any groups in group 2?\n",
      "payload1_anemometer2.groups.keys()"
     ],
     "language": "python",
     "metadata": {},
     "outputs": [
      {
       "metadata": {},
       "output_type": "pyout",
       "prompt_number": 14,
       "text": [
        "[]"
       ]
      }
     ],
     "prompt_number": 14
    },
    {
     "cell_type": "code",
     "collapsed": false,
     "input": [
      "# any variables in group 2?\n",
      "payload1_anemometer2.variables.keys()"
     ],
     "language": "python",
     "metadata": {},
     "outputs": [
      {
       "metadata": {},
       "output_type": "pyout",
       "prompt_number": 15,
       "text": [
        "[u'wind_speed',\n",
        " u'wind_speed_qc',\n",
        " u'wind_speed_detail_qc',\n",
        " u'wind_speed_release',\n",
        " u'wind_direction',\n",
        " u'wind_direction_qc',\n",
        " u'wind_direction_detail_qc',\n",
        " u'wind_direction_release',\n",
        " u'wind_gust',\n",
        " u'wind_gust_qc',\n",
        " u'wind_gust_detail_qc',\n",
        " u'wind_gust_release',\n",
        " u'continuous_wind_speed',\n",
        " u'continuous_wind_speed_qc',\n",
        " u'continuous_wind_speed_detail_qc',\n",
        " u'continuous_wind_speed_release',\n",
        " u'continuous_wind_direction',\n",
        " u'continuous_wind_direction_qc',\n",
        " u'continuous_wind_direction_detail_qc',\n",
        " u'continuous_wind_direction_release',\n",
        " u'hourly_max_gust',\n",
        " u'hourly_max_gust_qc',\n",
        " u'hourly_max_gust_detail_qc',\n",
        " u'hourly_max_gust_release',\n",
        " u'direction_of_hourly_max_gust',\n",
        " u'direction_of_hourly_max_gust_qc',\n",
        " u'direction_of_hourly_max_gust_detail_qc',\n",
        " u'direction_of_hourly_max_gust_release']"
       ]
      }
     ],
     "prompt_number": 15
    },
    {
     "cell_type": "code",
     "collapsed": false,
     "input": [
      "# open the wind speed variable from /payload_1/anemometer_2\n",
      "var = payload1_anemometer2.variables['wind_speed']"
     ],
     "language": "python",
     "metadata": {},
     "outputs": [],
     "prompt_number": 16
    },
    {
     "cell_type": "code",
     "collapsed": false,
     "input": [
      "print var"
     ],
     "language": "python",
     "metadata": {},
     "outputs": [
      {
       "output_type": "stream",
       "stream": "stdout",
       "text": [
        "<type 'netCDF4.Variable'>\n",
        "float32 wind_speed(u'time',)\n",
        "    long_name: wind_speed\n",
        "    standard_name: wind_speed\n",
        "    units: m/s\n",
        "path = /payload_1/anemometer_2\n",
        "unlimited dimensions = ()\n",
        "current size = (744,)\n",
        "\n"
       ]
      }
     ],
     "prompt_number": 17
    },
    {
     "cell_type": "code",
     "collapsed": false,
     "input": [
      "# Create Pandas time series object, using the time from group 0, and data from group 12\n",
      "ts = pd.Series(var,index=jd)"
     ],
     "language": "python",
     "metadata": {},
     "outputs": [],
     "prompt_number": 18
    },
    {
     "cell_type": "code",
     "collapsed": false,
     "input": [
      "# Make a Plot\n",
      "ts.plot(title=var.long_name,figsize=(12,4))\n",
      "ylabel(var.units)"
     ],
     "language": "python",
     "metadata": {},
     "outputs": [
      {
       "metadata": {},
       "output_type": "pyout",
       "prompt_number": 19,
       "text": [
        "<matplotlib.text.Text at 0x3604550>"
       ]
      },
      {
       "metadata": {},
       "output_type": "display_data",
       "png": "[encoded data removed]",
       "text": [
        "<matplotlib.figure.Figure at 0x35ee3d0>"
       ]
      }
     ],
     "prompt_number": 19
    },
    {
     "cell_type": "code",
     "collapsed": false,
     "input": [],
     "language": "python",
     "metadata": {},
     "outputs": [],
     "prompt_number": 19
    }
   ],
   "metadata": {}
  }
 ]
}