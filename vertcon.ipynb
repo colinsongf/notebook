{
 "metadata": {
  "name": "",
  "signature": "sha256:755b3b26da0f763a556b0e3cb1c2b659ca9e01ee863a8eeb943433c433e249ca"
 },
 "nbformat": 3,
 "nbformat_minor": 0,
 "worksheets": [
  {
   "cells": [
    {
     "cell_type": "code",
     "collapsed": false,
     "input": [
      "import requests"
     ],
     "language": "python",
     "metadata": {},
     "outputs": [],
     "prompt_number": 1
    },
    {
     "cell_type": "code",
     "collapsed": false,
     "input": [
      "def vertcon(lon,lat):\n",
      "    '''\n",
      "    Call NGS VERTCON web service (https://www.ngs.noaa.gov/cgi-bin/VERTCON/vert_con.prl),\n",
      "    returning the difference between the NAVD88 and NGVD29 vertical datums\n",
      "    for a specified lon,lat value.   Enter longitude in degrees_east (e.g. -70.5).\n",
      "    Returned value is the datum shift(NAVD 88 minus NGVD 29) in meters \n",
      "    FORMULA: height (NAVD 88) = height (NGVD 29) + datum_shift\n",
      "    Note: NAVD88 datum is above NGVD29 datum on the East Coast. \n",
      "    NAVD88 datum is below NGVD29 datum on the West Coast.\n",
      "    '''\n",
      "    params={'LAT':'42.500','LON':'071.500','HGT':'','MODE':'G'}\n",
      "    # Convert longitude in degrees_east (e.g. -71.5) to degrees_west for VERTCON\n",
      "    # VERTCON needs *exactly* the right format for lon/lat, so force it to be correct \n",
      "    params['LON']='%07.3f' % -lon\n",
      "    params['LAT']='%06.3f' % lat\n",
      "    # VERTCON web service needs a browser header, so just use Mozilla\n",
      "    headers = {'User-agent' : \"Mozilla/5.0\" }\n",
      "    url='https://www.ngs.noaa.gov/cgi-bin/VERTCON/vert_con2.prl'\n",
      "    r = requests.get(url, params=params, headers=headers)\n",
      "    print r.url\n",
      "    html = r.text\n",
      "    ind = html.find('meter')\n",
      "    datum_shift = float(html[ind-9:ind-1])\n",
      "    return off\n",
      "\n"
     ],
     "language": "python",
     "metadata": {},
     "outputs": [],
     "prompt_number": 17
    },
    {
     "cell_type": "code",
     "collapsed": false,
     "input": [
      "vertcon(-71.5,41.5)"
     ],
     "language": "python",
     "metadata": {},
     "outputs": [
      {
       "output_type": "stream",
       "stream": "stdout",
       "text": [
        "https://www.ngs.noaa.gov/cgi-bin/VERTCON/vert_con2.prl?LAT=41.500&HGT=&LON=071.500&MODE=G\n"
       ]
      },
      {
       "metadata": {},
       "output_type": "pyout",
       "prompt_number": 18,
       "text": [
        "-0.275"
       ]
      }
     ],
     "prompt_number": 18
    },
    {
     "cell_type": "code",
     "collapsed": false,
     "input": [
      "\n",
      "print off\n",
      "type(off)"
     ],
     "language": "python",
     "metadata": {},
     "outputs": [
      {
       "output_type": "stream",
       "stream": "stdout",
       "text": [
        "-0.243\n"
       ]
      },
      {
       "metadata": {},
       "output_type": "pyout",
       "prompt_number": 99,
       "text": [
        "float"
       ]
      }
     ],
     "prompt_number": 99
    },
    {
     "cell_type": "code",
     "collapsed": false,
     "input": [],
     "language": "python",
     "metadata": {},
     "outputs": []
    }
   ],
   "metadata": {}
  }
 ]
}