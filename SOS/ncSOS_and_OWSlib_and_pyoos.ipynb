{
 "metadata": {
  "name": "",
  "signature": "sha256:0922525fe8e9638d6eac1e22a871e2aa04c9d788cd50a42be5ea8f8830817f63"
 },
 "nbformat": 3,
 "nbformat_minor": 0,
 "worksheets": [
  {
   "cells": [
    {
     "cell_type": "heading",
     "level": 1,
     "metadata": {},
     "source": [
      "Accessing ncSOS with OWSLib and Pyoos"
     ]
    },
    {
     "cell_type": "markdown",
     "metadata": {},
     "source": [
      "We have an ncSOS server with a [get observation example that works](http://geoport-dev.whoi.edu/thredds/sos/usgs/data2/notebook/1211-A1H.cdf?service=SOS&version=1.0.0&request=GetObservation&responseFormat=text%2Fxml%3Bsubtype%3D%22om%2F1.0.0%22&offering=1211-A1H&observedProperty=u_1205&procedure=urn:ioos:station:gov.usgs:1211-A1H):\n",
      "```\n",
      "http://geoport-dev.whoi.edu/thredds/sos/usgs/data2/notebook/1211-A1H.cdf?service=SOS&version=1.0.0&request=GetObservation&responseFormat=text%2Fxml%3Bsubtype%3D%22om%2F1.0.0%22&offering=1211-A1H&observedProperty=u_1205&procedure=urn:ioos:station:gov.usgs:1211-A1H\n",
      "```\n",
      "But can we formulate, request and process this same query (and others like it) using OWSlib and Pyoos?  "
     ]
    },
    {
     "cell_type": "markdown",
     "metadata": {},
     "source": [
      "# 1. Try using OWSLib"
     ]
    },
    {
     "cell_type": "code",
     "collapsed": false,
     "input": [
      "from owslib.sos import SensorObservationService\n",
      "import pdb\n",
      "#from owslib.etree import etree\n",
      "\n",
      "import pandas as pd\n",
      "import datetime as dt"
     ],
     "language": "python",
     "metadata": {},
     "outputs": [],
     "prompt_number": 1
    },
    {
     "cell_type": "code",
     "collapsed": false,
     "input": [
      "#url = 'http://sdf.ndbc.noaa.gov/sos/server.php?request=GetCapabilities&service=SOS&version=1.0.0'\n",
      "#ndbc = SensorObservationService(url)"
     ],
     "language": "python",
     "metadata": {},
     "outputs": [],
     "prompt_number": 2
    },
    {
     "cell_type": "code",
     "collapsed": false,
     "input": [
      "# usgs woods hole\n",
      "# buoy data (single current meter)\n",
      "url='http://geoport-dev.whoi.edu/thredds/sos/usgs/data2/notebook/1211-A1H.cdf'\n",
      "usgs = SensorObservationService(url)\n",
      "contents = usgs.contents"
     ],
     "language": "python",
     "metadata": {},
     "outputs": [],
     "prompt_number": 3
    },
    {
     "cell_type": "code",
     "collapsed": false,
     "input": [
      "usgs.contents"
     ],
     "language": "python",
     "metadata": {},
     "outputs": [
      {
       "metadata": {},
       "output_type": "pyout",
       "prompt_number": 4,
       "text": [
        "{'network-all': <owslib.swe.observation.sos100.SosObservationOffering at 0x3b2e610>,\n",
        " 'urn_ioos_station_gov.usgs_1211-A1H': <owslib.swe.observation.sos100.SosObservationOffering at 0x3b2ea10>}"
       ]
      }
     ],
     "prompt_number": 4
    },
    {
     "cell_type": "code",
     "collapsed": false,
     "input": [
      "off = usgs.offerings[1]\n",
      "off.name"
     ],
     "language": "python",
     "metadata": {},
     "outputs": [
      {
       "metadata": {},
       "output_type": "pyout",
       "prompt_number": 5,
       "text": [
        "'urn:ioos:station:gov.usgs:1211-A1H'"
       ]
      }
     ],
     "prompt_number": 5
    },
    {
     "cell_type": "code",
     "collapsed": false,
     "input": [
      "off.response_formats"
     ],
     "language": "python",
     "metadata": {},
     "outputs": [
      {
       "metadata": {},
       "output_type": "pyout",
       "prompt_number": 6,
       "text": [
        "['text/xml;schema=\"om/1.0.0\"',\n",
        " 'text/xml;schema=\"om/1.0.0/profiles/ioos_sos/1.0\"']"
       ]
      }
     ],
     "prompt_number": 6
    },
    {
     "cell_type": "code",
     "collapsed": false,
     "input": [
      "off.observed_properties"
     ],
     "language": "python",
     "metadata": {},
     "outputs": [
      {
       "metadata": {},
       "output_type": "pyout",
       "prompt_number": 7,
       "text": [
        "['urn:ioos:sensor:gov.usgs:1211-A1H:u_1205',\n",
        " 'urn:ioos:sensor:gov.usgs:1211-A1H:v_1206',\n",
        " 'urn:ioos:sensor:gov.usgs:1211-A1H:CD_310',\n",
        " 'urn:ioos:sensor:gov.usgs:1211-A1H:CS_300',\n",
        " 'urn:ioos:sensor:gov.usgs:1211-A1H:upr_4001']"
       ]
      }
     ],
     "prompt_number": 7
    },
    {
     "cell_type": "code",
     "collapsed": false,
     "input": [
      "# the get observation request below works.  How can we recreate this using OWSLib?\n",
      "# http://geoport-dev.whoi.edu/thredds/sos/usgs/data2/notebook/1211-A1H.cdf?service=SOS&version=1.0.0&request=GetObservation&responseFormat=text%2Fxml%3Bsubtype%3D%22om%2F1.0.0%22&offering=1211-A1H&observedProperty=u_1205&procedure=urn:ioos:station:gov.usgs:1211-A1H"
     ],
     "language": "python",
     "metadata": {},
     "outputs": [],
     "prompt_number": 8
    },
    {
     "cell_type": "code",
     "collapsed": false,
     "input": [
      "#pdb.set_trace()\n",
      "response = usgs.get_observation(offerings=['1211-A1H'],\n",
      "                                 responseFormat='text/xml;schema=\"om/1.0.0\"',\n",
      "                                 observedProperties=['u_1205'],\n",
      "                                 procedure='urn:ioos:station:gov.usgs:1211-A1H')"
     ],
     "language": "python",
     "metadata": {},
     "outputs": [],
     "prompt_number": 9
    },
    {
     "cell_type": "code",
     "collapsed": false,
     "input": [
      "print response[0:4000]"
     ],
     "language": "python",
     "metadata": {},
     "outputs": [
      {
       "output_type": "stream",
       "stream": "stdout",
       "text": [
        "<?xml version=\"1.0\" encoding=\"UTF-8\"?>\r\n",
        "<om:ObservationCollection xmlns:om=\"http://www.opengis.net/om/1.0\" xmlns:xsi=\"http://www.w3.org/2001/XMLSchema-instance\" xmlns:xlink=\"http://www.w3.org/1999/xlink\" xmlns:gml=\"http://www.opengis.net/gml\" xmlns:swe=\"http://www.opengis.net/swe/1.0\" xsi:schemaLocation=\"http://www.opengis.net/om/1.0 http://schemas.opengis.net/om/1.0.0/observation.xsd\">\r\n",
        "  <gml:description>1211-A1H       start time = 28 Dec 1976  16:29:59  cycles = 250\r\n",
        "               stop  time =  8 Jan 1977  01:29:59  # days = 10\r\n",
        "Expt. = 'USGS'  sampling interval = 60.00 minutes\r\n",
        "Lat =  40.901112\r\n",
        "Lon = -69.176666  File created:  22:50 JUN 29,'83\r\n",
        "depth = 69m  Mag.var = -16.000000\r\n",
        "#  Variable     Units        Codes Depth   Inst.   Minimum   Maximum\r\n",
        "-- ------------ ------------ ----- ------- ------ --------- ---------\r\n",
        " 1 TIME         SECONDS      T     \r\n",
        " 2 EAST  COMP   CMS/SEC      R       69.00 V-0069   -44.012    49.297\r\n",
        " 3 NORTH COMP   CMS/SEC      R       69.00 V-0069   -50.654    72.174\r\n",
        " 4 VDIR.1       DEG          R       69.00 V-0069     1.868   359.745\r\n",
        " 5 VSPD.1       CMS/SEC      R       69.00 V-0069     1.416    79.172\r\n",
        " 6 INT_ROTOR    CMS/SEC      R       69.00 V-0069     5.847    79.927\r\n",
        "---------------------------------------------------------------------\r\n",
        " Comments:                                                      REDUCE\r\n",
        " GREAT SOUTH CHANNEL; ARGO MERCHANT SITE.  BEFORE TIPPED.\r\n",
        " VARIABLES LISTED IN ORDER SHOWN ABOVE</gml:description>\r\n",
        "  <gml:name>Current meter archive data - Butman et al, Oct.  1992</gml:name>\r\n",
        "  <gml:boundedBy>\r\n",
        "    <gml:Envelope srsName=\"http://www.opengis.net/def/crs/EPSG/0/4326\">\r\n",
        "      <!-- overwrite these with your actual offering ROI -->\r\n",
        "      <gml:lowerCorner>40.9011116027832 -69.17666625976562</gml:lowerCorner>\r\n",
        "      <gml:upperCorner>40.9011116027832 -69.17666625976562</gml:upperCorner>\r\n",
        "    </gml:Envelope>\r\n",
        "  </gml:boundedBy>\r\n",
        "  <om:member>\r\n",
        "    <om:Observation>\r\n",
        "      <gml:description />\r\n",
        "      <gml:name />\r\n",
        "      <gml:boundedBy>\r\n",
        "        <gml:Envelope srsName=\"http://www.opengis.net/def/crs/EPSG/0/4326\">\r\n",
        "          <gml:lowerCorner>40.9011116027832 -69.17666625976562</gml:lowerCorner>\r\n",
        "          <gml:upperCorner>40.9011116027832 -69.17666625976562</gml:upperCorner>\r\n",
        "        </gml:Envelope>\r\n",
        "      </gml:boundedBy>\r\n",
        "      <om:samplingTime>\r\n",
        "        <gml:TimePeriod gml:id=\"DATA_TIME\">\r\n",
        "          <gml:beginPosition>1976-12-28T21:29:59Z</gml:beginPosition>\r\n",
        "          <gml:endPosition>1977-01-08T06:29:59Z</gml:endPosition>\r\n",
        "        </gml:TimePeriod>\r\n",
        "      </om:samplingTime>\r\n",
        "      <om:procedure xlink:href=\"urn:ioos:station:gov.usgs:1211-A1H\" />\r\n",
        "      <om:observedProperty xlink:href=\"u_1205\" />\r\n",
        "      <om:featureOfInterest xlink:href=\"urn:ioos:station:gov.usgs:1211-A1H\" />\r\n",
        "      <om:result>\r\n",
        "        <om:DataArray>\r\n",
        "          <swe:elementCount>\r\n",
        "            <swe:Count>\r\n",
        "              <swe:value>1</swe:value>\r\n",
        "            </swe:Count>\r\n",
        "          </swe:elementCount>\r\n",
        "          <swe:elementType name=\"SimpleDataArray\">\r\n",
        "            <swe:DataRecord>\r\n",
        "              <swe:field name=\"time\">\r\n",
        "                <swe:Time definition=\"http://www.opengis.net/def/property/OGC/0/SamplingTime\">\r\n",
        "                  <swe:uom xlink:href=\"http://www.opengis.net/def/uom/ISO-8601/0/Gregorian\" />\r\n",
        "                </swe:Time>\r\n",
        "              </swe:field>\r\n",
        "              <swe:field name=\"u_1205\">\r\n",
        "                <swe:Quantity definition=\"http://mmisw.org/ont/cf/parameter/u_1205\">\r\n",
        "                  <swe:uom code=\"cm/s\" />\r\n",
        "                </swe:Quantity>\r\n",
        "              </swe:field>\r\n",
        "            </swe:DataRecord>\r\n",
        "          </swe:elementType>\r\n",
        "          <swe:encoding>\r\n",
        "            <swe:TextBlock blockSeparator=\" \" decimalSeparator=\".\" tokenSeparator=\",\" />\r\n",
        "          </swe:encoding>\r\n",
        "          <swe:values>1976-12-28T21:29:59Z,-7.53701 1976-12-28T22:29:59Z,-2.06346 1976-12-28T23:29:59Z,5.02748 1976-12-29T00:29:59Z,9.32351 1976-12-29T01:29:59Z,16.191 1976-12-29T02:29:59Z,18.452 1976-12-29T03:29:59Z,19.452\n"
       ]
      }
     ],
     "prompt_number": 10
    },
    {
     "cell_type": "code",
     "collapsed": false,
     "input": [
      "def parse_om_xml(response):\n",
      "    # extract data and time from OM-XML response\n",
      "    root = etree.fromstring(response)\n",
      "    # root.findall(\".//{%(om)s}Observation\" % root.nsmap )\n",
      "    values = root.find(\".//{%(swe)s}values\" % root.nsmap )\n",
      "    date_value = array( [ (dt.datetime.strptime(d,\"%Y-%m-%dT%H:%M:%SZ\"),float(v))\n",
      "            for d,v in [l.split(',') for l in values.text.split()]] )\n",
      "    time = date_value[:,0]\n",
      "    data = date_value[:,1]\n",
      "    return data,time"
     ],
     "language": "python",
     "metadata": {},
     "outputs": [],
     "prompt_number": 11
    },
    {
     "cell_type": "code",
     "collapsed": false,
     "input": [
      "data, time = parse_om_xml(response)"
     ],
     "language": "python",
     "metadata": {},
     "outputs": [
      {
       "ename": "NameError",
       "evalue": "global name 'etree' is not defined",
       "output_type": "pyerr",
       "traceback": [
        "\u001b[1;31m---------------------------------------------------------------------------\u001b[0m\n\u001b[1;31mNameError\u001b[0m                                 Traceback (most recent call last)",
        "\u001b[1;32m<ipython-input-12-a9d2787dbec9>\u001b[0m in \u001b[0;36m<module>\u001b[1;34m()\u001b[0m\n\u001b[1;32m----> 1\u001b[1;33m \u001b[0mdata\u001b[0m\u001b[1;33m,\u001b[0m \u001b[0mtime\u001b[0m \u001b[1;33m=\u001b[0m \u001b[0mparse_om_xml\u001b[0m\u001b[1;33m(\u001b[0m\u001b[0mresponse\u001b[0m\u001b[1;33m)\u001b[0m\u001b[1;33m\u001b[0m\u001b[0m\n\u001b[0m",
        "\u001b[1;32m<ipython-input-11-488ba2edb937>\u001b[0m in \u001b[0;36mparse_om_xml\u001b[1;34m(response)\u001b[0m\n\u001b[0;32m      1\u001b[0m \u001b[1;32mdef\u001b[0m \u001b[0mparse_om_xml\u001b[0m\u001b[1;33m(\u001b[0m\u001b[0mresponse\u001b[0m\u001b[1;33m)\u001b[0m\u001b[1;33m:\u001b[0m\u001b[1;33m\u001b[0m\u001b[0m\n\u001b[0;32m      2\u001b[0m     \u001b[1;31m# extract data and time from OM-XML response\u001b[0m\u001b[1;33m\u001b[0m\u001b[1;33m\u001b[0m\u001b[0m\n\u001b[1;32m----> 3\u001b[1;33m     \u001b[0mroot\u001b[0m \u001b[1;33m=\u001b[0m \u001b[0metree\u001b[0m\u001b[1;33m.\u001b[0m\u001b[0mfromstring\u001b[0m\u001b[1;33m(\u001b[0m\u001b[0mresponse\u001b[0m\u001b[1;33m)\u001b[0m\u001b[1;33m\u001b[0m\u001b[0m\n\u001b[0m\u001b[0;32m      4\u001b[0m     \u001b[1;31m# root.findall(\".//{%(om)s}Observation\" % root.nsmap )\u001b[0m\u001b[1;33m\u001b[0m\u001b[1;33m\u001b[0m\u001b[0m\n\u001b[0;32m      5\u001b[0m     \u001b[0mvalues\u001b[0m \u001b[1;33m=\u001b[0m \u001b[0mroot\u001b[0m\u001b[1;33m.\u001b[0m\u001b[0mfind\u001b[0m\u001b[1;33m(\u001b[0m\u001b[1;34m\".//{%(swe)s}values\"\u001b[0m \u001b[1;33m%\u001b[0m \u001b[0mroot\u001b[0m\u001b[1;33m.\u001b[0m\u001b[0mnsmap\u001b[0m \u001b[1;33m)\u001b[0m\u001b[1;33m\u001b[0m\u001b[0m\n",
        "\u001b[1;31mNameError\u001b[0m: global name 'etree' is not defined"
       ]
      }
     ],
     "prompt_number": 12
    },
    {
     "cell_type": "code",
     "collapsed": false,
     "input": [
      "ts = pd.Series(data,index=time)"
     ],
     "language": "python",
     "metadata": {},
     "outputs": []
    },
    {
     "cell_type": "code",
     "collapsed": false,
     "input": [
      "ts.plot(figsize(12,4));"
     ],
     "language": "python",
     "metadata": {},
     "outputs": []
    },
    {
     "cell_type": "markdown",
     "metadata": {},
     "source": [
      "# 2. Try using PYOOS"
     ]
    },
    {
     "cell_type": "code",
     "collapsed": false,
     "input": [
      "from pyoos.utils.etree import etree\n",
      "from pyoos.parsers.ioos.one.timeseries import TimeSeries"
     ],
     "language": "python",
     "metadata": {},
     "outputs": []
    },
    {
     "cell_type": "code",
     "collapsed": false,
     "input": [
      "from pyoos.parsers.ioos.get_observation import IoosGetObservation\n",
      "ob = IoosGetObservation(swe)\n",
      "stations = ob.observations[0].feature\n",
      "# 'stations' should be a Paegan 'StationCollection'"
     ],
     "language": "python",
     "metadata": {},
     "outputs": []
    },
    {
     "cell_type": "code",
     "collapsed": false,
     "input": [],
     "language": "python",
     "metadata": {},
     "outputs": []
    }
   ],
   "metadata": {}
  }
 ]
}