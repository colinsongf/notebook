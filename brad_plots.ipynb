{
 "metadata": {
  "name": "",
  "signature": "sha256:737f362b043c834d2042cb9bae8cdc3fb0cfcab97e7460904a0dce5f7d849465"
 },
 "nbformat": 3,
 "nbformat_minor": 0,
 "worksheets": [
  {
   "cells": [
    {
     "cell_type": "heading",
     "level": 1,
     "metadata": {},
     "source": [
      "Brad's Realtime Data Plots"
     ]
    },
    {
     "cell_type": "code",
     "collapsed": false,
     "input": [
      "import netCDF4"
     ],
     "language": "python",
     "metadata": {},
     "outputs": [],
     "prompt_number": 1
    },
    {
     "cell_type": "code",
     "collapsed": false,
     "input": [
      "#trans\n",
      "url='http://www.neracoos.org/thredds/dodsC/UMO/All/E0131/realtime/E0131.sbe16.trans.realtime.nc'"
     ],
     "language": "python",
     "metadata": {},
     "outputs": [],
     "prompt_number": 3
    },
    {
     "cell_type": "code",
     "collapsed": false,
     "input": [
      "nc=netCDF4.Dataset(url)"
     ],
     "language": "python",
     "metadata": {},
     "outputs": [],
     "prompt_number": 4
    },
    {
     "cell_type": "code",
     "collapsed": false,
     "input": [
      "ncv=nc.variables"
     ],
     "language": "python",
     "metadata": {},
     "outputs": [],
     "prompt_number": 5
    },
    {
     "cell_type": "code",
     "collapsed": false,
     "input": [
      "ncv.keys()"
     ],
     "language": "python",
     "metadata": {},
     "outputs": [
      {
       "metadata": {},
       "output_type": "pyout",
       "prompt_number": 8,
       "text": [
        "[u'lat',\n",
        " u'lon',\n",
        " u'depth',\n",
        " u'time',\n",
        " u'transmissivity_voltage',\n",
        " u'transmissivity_voltage_qc',\n",
        " u'transmissivity',\n",
        " u'transmissivity_qc',\n",
        " u'attenuation',\n",
        " u'attenuation_qc',\n",
        " u'conductivity',\n",
        " u'conductivity_qc',\n",
        " u'temperature',\n",
        " u'temperature_qc',\n",
        " u'salinity',\n",
        " u'salinity_qc',\n",
        " u'sigma_t',\n",
        " u'sigma_t_qc',\n",
        " u'time_created',\n",
        " u'time_modified']"
       ]
      }
     ],
     "prompt_number": 8
    },
    {
     "cell_type": "code",
     "collapsed": false,
     "input": [
      "time ="
     ],
     "language": "python",
     "metadata": {},
     "outputs": []
    }
   ],
   "metadata": {}
  }
 ]
}