{
 "metadata": {
  "name": "Fortran_Compiler_Comparison"
 },
 "nbformat": 3,
 "nbformat_minor": 0,
 "worksheets": [
  {
   "cells": [
    {
     "cell_type": "code",
     "collapsed": false,
     "input": [
      "import pandas as pd\n",
      "import StringIO"
     ],
     "language": "python",
     "metadata": {},
     "outputs": [],
     "prompt_number": 6
    },
    {
     "cell_type": "code",
     "collapsed": false,
     "input": [
      "# from http://polyhedron.com/pb05-lin64-f90bench_SBhtml\n",
      "x='''\n",
      "  Test   Absoft   G95  GFortran Intel(AP) Intel Lahey     PGI     Sun\n",
      "AC        4.42    9.60    5.92    5.03    4.80    8.00    5.97    21.99\n",
      "AERMOD    11.26    25.99    18.99    11.62    10.59    11.27    10.56    10.30\n",
      "AIR    1.37    5.95    3.10    1.01    2.28    2.71    2.86    2.51\n",
      "CAPACITA    17.90    26.83    17.96    17.61    16.21    19.94    14.62    21.56\n",
      "CHANNEL2    84.53    272.72    84.26    85.77    83.96    122.19    103.49    84.83\n",
      "DODUC    18.66    24.05    17.51    13.67    13.70    17.45    15.97    14.15\n",
      "FATIGUE2    95.21    374.38    101.73    52.50    52.37    110.88    80.23    75.28\n",
      "GAS_DYN2    73.18    320.04    86.71    60.16    63.68    107.03    77.73    84.39\n",
      "INDUCT2    28.08    147.53    66.57    26.85    63.49    93.29    113.20    125.91\n",
      "LINPK    5.52    6.21    5.77    5.03    4.84    5.67    5.49    5.11\n",
      "MDBX    6.86    8.68    7.32    3.61    5.74    7.85    8.04    7.41\n",
      "MP_PROP_DESIGN    23.90    419.95    103.67    19.01    55.54    126.05    78.71    161.97\n",
      "NF    7.78    13.40    7.79    7.21    7.02    10.36    7.59    8.16\n",
      "PROTEIN    19.28    27.43    20.33    18.21    18.33    35.68    20.82    20.44\n",
      "RNFLOW    10.89    25.90    15.47    9.59    11.23    14.58    15.07    15.72\n",
      "TEST_FPU2    42.95    103.38    42.94    34.69    42.26    61.17    41.28    57.41\n",
      "TFFT2    53.47    60.04    54.16    53.49    52.54    55.74    53.73    55.07\n",
      "'''\n"
     ],
     "language": "python",
     "metadata": {},
     "outputs": [],
     "prompt_number": 14
    },
    {
     "cell_type": "code",
     "collapsed": false,
     "input": [
      "df = pd.read_csv(StringIO.StringIO(x.strip()), sep=\"\\s*\")"
     ],
     "language": "python",
     "metadata": {},
     "outputs": [],
     "prompt_number": 17
    },
    {
     "cell_type": "code",
     "collapsed": false,
     "input": [
      "df.head()"
     ],
     "language": "python",
     "metadata": {},
     "outputs": [
      {
       "html": [
        "<div style=\"max-height:1000px;max-width:1500px;overflow:auto;\">\n",
        "<table border=\"1\" class=\"dataframe\">\n",
        "  <thead>\n",
        "    <tr style=\"text-align: right;\">\n",
        "      <th></th>\n",
        "      <th>Test</th>\n",
        "      <th>Absoft</th>\n",
        "      <th>G95</th>\n",
        "      <th>GFortran</th>\n",
        "      <th>Intel(AP)</th>\n",
        "      <th>Intel</th>\n",
        "      <th>Lahey</th>\n",
        "      <th>PGI</th>\n",
        "      <th>Sun</th>\n",
        "    </tr>\n",
        "  </thead>\n",
        "  <tbody>\n",
        "    <tr>\n",
        "      <th>0</th>\n",
        "      <td>       AC</td>\n",
        "      <td>  4.42</td>\n",
        "      <td>   9.60</td>\n",
        "      <td>  5.92</td>\n",
        "      <td>  5.03</td>\n",
        "      <td>  4.80</td>\n",
        "      <td>   8.00</td>\n",
        "      <td>   5.97</td>\n",
        "      <td> 21.99</td>\n",
        "    </tr>\n",
        "    <tr>\n",
        "      <th>1</th>\n",
        "      <td>   AERMOD</td>\n",
        "      <td> 11.26</td>\n",
        "      <td>  25.99</td>\n",
        "      <td> 18.99</td>\n",
        "      <td> 11.62</td>\n",
        "      <td> 10.59</td>\n",
        "      <td>  11.27</td>\n",
        "      <td>  10.56</td>\n",
        "      <td> 10.30</td>\n",
        "    </tr>\n",
        "    <tr>\n",
        "      <th>2</th>\n",
        "      <td>      AIR</td>\n",
        "      <td>  1.37</td>\n",
        "      <td>   5.95</td>\n",
        "      <td>  3.10</td>\n",
        "      <td>  1.01</td>\n",
        "      <td>  2.28</td>\n",
        "      <td>   2.71</td>\n",
        "      <td>   2.86</td>\n",
        "      <td>  2.51</td>\n",
        "    </tr>\n",
        "    <tr>\n",
        "      <th>3</th>\n",
        "      <td> CAPACITA</td>\n",
        "      <td> 17.90</td>\n",
        "      <td>  26.83</td>\n",
        "      <td> 17.96</td>\n",
        "      <td> 17.61</td>\n",
        "      <td> 16.21</td>\n",
        "      <td>  19.94</td>\n",
        "      <td>  14.62</td>\n",
        "      <td> 21.56</td>\n",
        "    </tr>\n",
        "    <tr>\n",
        "      <th>4</th>\n",
        "      <td> CHANNEL2</td>\n",
        "      <td> 84.53</td>\n",
        "      <td> 272.72</td>\n",
        "      <td> 84.26</td>\n",
        "      <td> 85.77</td>\n",
        "      <td> 83.96</td>\n",
        "      <td> 122.19</td>\n",
        "      <td> 103.49</td>\n",
        "      <td> 84.83</td>\n",
        "    </tr>\n",
        "  </tbody>\n",
        "</table>\n",
        "</div>"
       ],
       "metadata": {},
       "output_type": "pyout",
       "prompt_number": 18,
       "text": [
        "       Test  Absoft     G95  GFortran  Intel(AP)  Intel   Lahey     PGI    Sun\n",
        "0        AC    4.42    9.60      5.92       5.03   4.80    8.00    5.97  21.99\n",
        "1    AERMOD   11.26   25.99     18.99      11.62  10.59   11.27   10.56  10.30\n",
        "2       AIR    1.37    5.95      3.10       1.01   2.28    2.71    2.86   2.51\n",
        "3  CAPACITA   17.90   26.83     17.96      17.61  16.21   19.94   14.62  21.56\n",
        "4  CHANNEL2   84.53  272.72     84.26      85.77  83.96  122.19  103.49  84.83"
       ]
      }
     ],
     "prompt_number": 18
    },
    {
     "cell_type": "code",
     "collapsed": false,
     "input": [
      "df[['Intel','PGI']].plot(kind='bar',title='Fortran execution times',figsize=(12,4))\n",
      "xlabel('Test')\n",
      "ylabel('Seconds')"
     ],
     "language": "python",
     "metadata": {},
     "outputs": [
      {
       "metadata": {},
       "output_type": "pyout",
       "prompt_number": 35,
       "text": [
        "<matplotlib.text.Text at 0x63a6490>"
       ]
      },
      {
       "metadata": {},
       "output_type": "display_data",
       "png": "[encoded data removed]",
       "text": [
        "<matplotlib.figure.Figure at 0x621aa10>"
       ]
      }
     ],
     "prompt_number": 35
    },
    {
     "cell_type": "code",
     "collapsed": false,
     "input": [
      "df.plot("
     ],
     "language": "python",
     "metadata": {},
     "outputs": []
    }
   ],
   "metadata": {}
  }
 ]
}