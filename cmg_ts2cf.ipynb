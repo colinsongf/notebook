{
 "metadata": {
  "name": "cmg_ts2cf"
 },
 "nbformat": 3,
 "nbformat_minor": 0,
 "worksheets": [
  {
   "cells": [
    {
     "cell_type": "code",
     "collapsed": false,
     "input": [
      "import glob\n",
      "import os\n",
      "import netCDF4"
     ],
     "language": "python",
     "metadata": {},
     "outputs": [],
     "prompt_number": 1
    },
    {
     "cell_type": "code",
     "collapsed": false,
     "input": [
      "os.chdir('/usgs/data2/emontgomery/stellwagen/Data')"
     ],
     "language": "python",
     "metadata": {},
     "outputs": [],
     "prompt_number": 2
    },
    {
     "cell_type": "code",
     "collapsed": false,
     "input": [
      "os.chdir('ARGO_MERCHANT')"
     ],
     "language": "python",
     "metadata": {},
     "outputs": [],
     "prompt_number": 3
    },
    {
     "cell_type": "code",
     "collapsed": false,
     "input": [
      "# find netcdf files \n",
      "types = ('*.cdf', '*.nc') # the tuple of file types\n",
      "files = []\n",
      "for file in types:\n",
      "    files.extend(glob.glob(file))\n",
      "print files"
     ],
     "language": "python",
     "metadata": {},
     "outputs": [
      {
       "output_type": "stream",
       "stream": "stdout",
       "text": [
        "['1211-A1H.cdf', '1211-AA.cdf', '1211P-A.cdf', '1211P-A1H.cdf', '1211TR-A.cdf', '1211TR-A1H.cdf']\n"
       ]
      }
     ],
     "prompt_number": 4
    },
    {
     "cell_type": "code",
     "collapsed": false,
     "input": [
      "nc = netCDF4.Dataset('1211-A1H.cdf')"
     ],
     "language": "python",
     "metadata": {},
     "outputs": [],
     "prompt_number": 5
    },
    {
     "cell_type": "code",
     "collapsed": false,
     "input": [
      "vars=nc.variables.keys()"
     ],
     "language": "python",
     "metadata": {},
     "outputs": [],
     "prompt_number": 6
    },
    {
     "cell_type": "code",
     "collapsed": false,
     "input": [
      "coord_vars = ['time','time2','depth','lat','lon']"
     ],
     "language": "python",
     "metadata": {},
     "outputs": [],
     "prompt_number": 7
    },
    {
     "cell_type": "code",
     "collapsed": false,
     "input": [
      "# find data variables by removing coordinate variables from the variable list\n",
      "data_vars = [var for var in vars if var not in coord_vars]\n",
      "print data_vars"
     ],
     "language": "python",
     "metadata": {},
     "outputs": [
      {
       "output_type": "stream",
       "stream": "stdout",
       "text": [
        "[u'u_1205', u'v_1206', u'CD_310', u'CS_300', u'upr_4001']\n"
       ]
      }
     ],
     "prompt_number": 8
    },
    {
     "cell_type": "code",
     "collapsed": false,
     "input": [
      "nt = len(nc.dimensions['time'])\n",
      "nz = len(nc.dimensions['depth'])\n",
      "print nt,nz"
     ],
     "language": "python",
     "metadata": {},
     "outputs": [
      {
       "output_type": "stream",
       "stream": "stdout",
       "text": [
        "250 1\n"
       ]
      }
     ],
     "prompt_number": 10
    },
    {
     "cell_type": "code",
     "collapsed": false,
     "input": [
      "# create dimensions\n",
      "nco = netCDF4.Dataset('/usgs/data2/notebook/test.nc','w',clobber=True)\n",
      "nco.createDimension('time',nt)\n",
      "nco.createDimension('station',1)\n",
      "if nz > 1:\n",
      "    nco.createDimension('depth',nz)\n",
      "\n",
      "nchar=20\n",
      "nco.createDimension('nchar',nchar)"
     ],
     "language": "python",
     "metadata": {},
     "outputs": [
      {
       "metadata": {},
       "output_type": "pyout",
       "prompt_number": 11,
       "text": [
        "<netCDF4.Dimension at 0x39e4a50>"
       ]
      }
     ],
     "prompt_number": 11
    },
    {
     "cell_type": "code",
     "collapsed": false,
     "input": [
      "# create coordinate variables\n",
      "time_v = nco.createVariable('time', 'f8', ('time'))\n",
      "lon_v = nco.createVariable('lon','f4',('station'))\n",
      "lat_v = nco.createVariable('lat','f4',('station'))\n",
      "depth_v = nco.createVariable('depth','f4',('station'))\n",
      "station_v = nco.createVariable('site','S1',('station','nchar'))"
     ],
     "language": "python",
     "metadata": {},
     "outputs": [],
     "prompt_number": 12
    },
    {
     "cell_type": "code",
     "collapsed": false,
     "input": [
      "# write global attributes\n",
      "g_attdict = nc.__dict__\n",
      "g_attdict['Conventions'] = 'CF-1.6'\n",
      "g_attdict['featureType'] = 'timeSeries'\n",
      "nco.setncatts(g_attdict) "
     ],
     "language": "python",
     "metadata": {},
     "outputs": [],
     "prompt_number": 16
    },
    {
     "cell_type": "code",
     "collapsed": false,
     "input": [
      "# write station variable\n",
      "station_v.cf_role = 'timeseries_id'\n",
      "station_v.standard_name = 'station_id'\n",
      "data = numpy.empty((1,),'S'+repr(nchar))\n",
      "data[0] = 'mystation'\n",
      "station_v[:] = netCDF4.stringtochar(data)\n",
      "\n",
      "# write time variable\n",
      "time_v.units = 'seconds since 1858-11-17 00:00:00 +0:00'\n",
      "time_v.standard_name = 'time'\n",
      "time_v.calendar = 'gregorian'\n",
      "time_v[:] = (nc.variables['time'][:]-2400001.)*3600.*24. + nc.variables['time2'][:]/1000.\n",
      "\n",
      "# write lon variable\n",
      "lon_v.units = 'degree_east'\n",
      "lon_v.standard_name = 'longitude'\n",
      "lon_v[:] = nc.variables['lon'][:]\n",
      "\n",
      "# write lat variable\n",
      "lat_v.units = 'degree_north'\n",
      "lat_v.standard_name = 'latitude'\n",
      "lat_v[:] = nc.variables['lat'][:]\n",
      "\n",
      "# write depth variable\n",
      "depth_v.units = 'm'\n",
      "depth_v.standard_name = 'depth'   \n",
      "depth_v.positive = 'down'\n",
      "depth_v.axis = 'Z'\n",
      "depth_v[:] = nc.variables['depth'][:]\n",
      "\n"
     ],
     "language": "python",
     "metadata": {},
     "outputs": [],
     "prompt_number": 17
    },
    {
     "cell_type": "code",
     "collapsed": false,
     "input": [
      "for varname in data_vars:\n",
      "    print nc.variables[varname].long_name"
     ],
     "language": "python",
     "metadata": {},
     "outputs": [
      {
       "output_type": "stream",
       "stream": "stdout",
       "text": [
        "Eastward Velocity        \n",
        "Northward Velocity       \n",
        "CURRENT DIRECTION (T)     \n",
        "CURRENT SPEED (CM/S)      \n",
        "UPPER ROTOR SPEED     \n"
       ]
      }
     ],
     "prompt_number": 18
    },
    {
     "cell_type": "code",
     "collapsed": false,
     "input": [
      "# variable mapping\n",
      "d={}\n",
      "d['eastward_sea_water_velocity']=['eastward velocity', 'east']\n",
      "d['northward_sea_water_velocity']=['northward velocity', 'north']\n",
      "d['sea_water_temperature']=['t_20']\n",
      "d['sea_water_salinity'] = ['s_40']"
     ],
     "language": "python",
     "metadata": {},
     "outputs": [],
     "prompt_number": 19
    },
    {
     "cell_type": "code",
     "collapsed": false,
     "input": [
      "# create the data variables\n",
      "var_v=[]\n",
      "for varname in data_vars:\n",
      "    ncvar = nc.variables[varname]\n",
      "    # if time series variable\n",
      "    if len(ncvar) == nt:\n",
      "        var = nco.createVariable(varname,ncvar.dtype,('time','station'))\n",
      "    else:\n",
      "        var = nco.createVariable(varname,ncvar.dtype,('time','depth','station'))\n",
      "\n",
      "#   load old variable attributes and modify if necessary \n",
      "    attdict = ncvar.__dict__\n",
      "#   if dounpackshort and 'scale_factor' in attdict: del attdict['scale_factor']\n",
      "    attdict['coordinates'] = 'time lon lat depth'\n",
      "\n",
      "    # assign standard_name if in dictionary\n",
      "    a =[k for (k, v) in d.iteritems() if attdict['long_name'].strip().lower() in v]\n",
      "    if len(a)==1: attdict['standard_name']=a[0]\n",
      "    \n",
      "    # write variable attributes\n",
      "    var.setncatts(attdict) \n",
      "    # write the data\n",
      "    var[:] = ncvar[:]"
     ],
     "language": "python",
     "metadata": {},
     "outputs": [],
     "prompt_number": 20
    },
    {
     "cell_type": "code",
     "collapsed": false,
     "input": [
      "nco.close()"
     ],
     "language": "python",
     "metadata": {},
     "outputs": [],
     "prompt_number": 21
    },
    {
     "cell_type": "code",
     "collapsed": false,
     "input": [
      "d={}\n",
      "d['eastward_sea_water_velocity']=['u_1205', 'u']\n",
      "d['northward_sea_water_velocity']=['v_1206', 'v']\n",
      "\n",
      "a =[k for (k, v) in d.iteritems() if 'u_1205' in v]"
     ],
     "language": "python",
     "metadata": {},
     "outputs": [],
     "prompt_number": 284
    },
    {
     "cell_type": "code",
     "collapsed": false,
     "input": [
      "a =[k for (k, v) in d.iteritems() if 'u_2205' in v]"
     ],
     "language": "python",
     "metadata": {},
     "outputs": [],
     "prompt_number": 285
    },
    {
     "cell_type": "code",
     "collapsed": false,
     "input": [
      "a"
     ],
     "language": "python",
     "metadata": {},
     "outputs": [
      {
       "metadata": {},
       "output_type": "pyout",
       "prompt_number": 286,
       "text": [
        "[]"
       ]
      }
     ],
     "prompt_number": 286
    },
    {
     "cell_type": "code",
     "collapsed": false,
     "input": [
      "empty(a)"
     ],
     "language": "python",
     "metadata": {},
     "outputs": [
      {
       "metadata": {},
       "output_type": "pyout",
       "prompt_number": 287,
       "text": [
        "array(0.0)"
       ]
      }
     ],
     "prompt_number": 287
    },
    {
     "cell_type": "code",
     "collapsed": false,
     "input": [
      "isempty(a)"
     ],
     "language": "python",
     "metadata": {},
     "outputs": [
      {
       "ename": "NameError",
       "evalue": "name 'isempty' is not defined",
       "output_type": "pyerr",
       "traceback": [
        "\u001b[1;31m---------------------------------------------------------------------------\u001b[0m\n\u001b[1;31mNameError\u001b[0m                                 Traceback (most recent call last)",
        "\u001b[1;32m<ipython-input-288-bc8b6da86051>\u001b[0m in \u001b[0;36m<module>\u001b[1;34m()\u001b[0m\n\u001b[1;32m----> 1\u001b[1;33m \u001b[0misempty\u001b[0m\u001b[1;33m(\u001b[0m\u001b[0ma\u001b[0m\u001b[1;33m)\u001b[0m\u001b[1;33m\u001b[0m\u001b[0m\n\u001b[0m",
        "\u001b[1;31mNameError\u001b[0m: name 'isempty' is not defined"
       ]
      }
     ],
     "prompt_number": 288
    },
    {
     "cell_type": "code",
     "collapsed": false,
     "input": [
      "a.isempty()"
     ],
     "language": "python",
     "metadata": {},
     "outputs": []
    },
    {
     "cell_type": "code",
     "collapsed": false,
     "input": [
      "a"
     ],
     "language": "python",
     "metadata": {},
     "outputs": []
    },
    {
     "cell_type": "code",
     "collapsed": false,
     "input": [
      "a.empty()"
     ],
     "language": "python",
     "metadata": {},
     "outputs": []
    },
    {
     "cell_type": "code",
     "collapsed": false,
     "input": [
      "len(a)"
     ],
     "language": "python",
     "metadata": {},
     "outputs": []
    },
    {
     "cell_type": "code",
     "collapsed": false,
     "input": [],
     "language": "python",
     "metadata": {},
     "outputs": []
    }
   ],
   "metadata": {}
  }
 ]
}