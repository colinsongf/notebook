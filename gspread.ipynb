{
 "metadata": {
  "name": "gspread"
 },
 "nbformat": 3,
 "nbformat_minor": 0,
 "worksheets": [
  {
   "cells": [
    {
     "cell_type": "code",
     "collapsed": false,
     "input": [
      "import os\n",
      "import netCDF4\n",
      "import gspread\n",
      "import pyugrid"
     ],
     "language": "python",
     "metadata": {},
     "outputs": [],
     "prompt_number": 1
    },
    {
     "cell_type": "code",
     "collapsed": false,
     "input": [
      "c = gspread.Client(auth=('rsignell@yahoo.com', 'sura_ftp'))"
     ],
     "language": "python",
     "metadata": {},
     "outputs": [],
     "prompt_number": 2
    },
    {
     "cell_type": "code",
     "collapsed": false,
     "input": [
      "c.login()"
     ],
     "language": "python",
     "metadata": {},
     "outputs": [],
     "prompt_number": 3
    },
    {
     "cell_type": "code",
     "collapsed": false,
     "input": [
      "# testing\n",
      "w = c.open_by_key(key='0AjAHlPEEP_ujdGRPMU9ZSkF5b2xJU0E5X3lSU2ZTdXc')\n",
      "# corbitt's \n",
      "w = c.open_by_key(key='0AmAEVaW9GoHedFZHU3Z4c1pyMkozWmJxSUlGSDk3eVE')\n",
      "\n"
     ],
     "language": "python",
     "metadata": {},
     "outputs": [],
     "prompt_number": 4
    },
    {
     "cell_type": "code",
     "collapsed": false,
     "input": [
      "wks = w.worksheet('Testbed2')"
     ],
     "language": "python",
     "metadata": {},
     "outputs": [],
     "prompt_number": 5
    },
    {
     "cell_type": "code",
     "collapsed": false,
     "input": [
      "rows = wks.get_all_records(empty2zero=False)"
     ],
     "language": "python",
     "metadata": {},
     "outputs": [],
     "prompt_number": 6
    },
    {
     "cell_type": "code",
     "collapsed": false,
     "input": [
      "# DAP URLs look like: \n",
      "a = 'http://testbed2.sura.org/thredds/dodsC/alldata/inundation_tropical/MDL_SLOSH/Hurricane_Ike_final_run_egm3/00_dir.ncml'\n",
      "# Data URLs look like\n",
      "b = '/data/testbed/inundation_tropical/MDL_SLOSH/Hurricane_Ike_final_run_egm3/00_dir.ncml'\n"
     ],
     "language": "python",
     "metadata": {},
     "outputs": [],
     "prompt_number": 7
    },
    {
     "cell_type": "code",
     "collapsed": false,
     "input": [
      "print a.split('/',6)[-1]\n",
      "print b.split('/',3)[-1]"
     ],
     "language": "python",
     "metadata": {},
     "outputs": [
      {
       "output_type": "stream",
       "stream": "stdout",
       "text": [
        "inundation_tropical/MDL_SLOSH/Hurricane_Ike_final_run_egm3/00_dir.ncml\n",
        "inundation_tropical/MDL_SLOSH/Hurricane_Ike_final_run_egm3/00_dir.ncml\n"
       ]
      }
     ],
     "prompt_number": 8
    },
    {
     "cell_type": "code",
     "collapsed": false,
     "input": [
      "dap_path='http://testbed2.sura.org/thredds/dodsC/alldata'"
     ],
     "language": "python",
     "metadata": {},
     "outputs": [],
     "prompt_number": 9
    },
    {
     "cell_type": "code",
     "collapsed": false,
     "input": [],
     "language": "python",
     "metadata": {},
     "outputs": [],
     "prompt_number": 9
    },
    {
     "cell_type": "code",
     "collapsed": false,
     "input": [
      "wrow = 1\n",
      "for row in rows:\n",
      "    wrow += 1\n",
      "    path = os.path.join(row['Data path'],row['NCML Link'])\n",
      "    dataset = path.split('/',3)[-1]\n",
      "    print path\n",
      "    dap_url = os.path.join(dap_path,dataset)\n",
      "    print dap_url\n",
      "\n",
      "    "
     ],
     "language": "python",
     "metadata": {},
     "outputs": [
      {
       "ename": "NameError",
       "evalue": "name 'rows' is not defined",
       "output_type": "pyerr",
       "traceback": [
        "\u001b[1;31m---------------------------------------------------------------------------\u001b[0m\n\u001b[1;31mNameError\u001b[0m                                 Traceback (most recent call last)",
        "\u001b[1;32m<ipython-input-6-a04705f3358e>\u001b[0m in \u001b[0;36m<module>\u001b[1;34m()\u001b[0m\n\u001b[0;32m      1\u001b[0m \u001b[0mwrow\u001b[0m \u001b[1;33m=\u001b[0m \u001b[1;36m1\u001b[0m\u001b[1;33m\u001b[0m\u001b[0m\n\u001b[1;32m----> 2\u001b[1;33m \u001b[1;32mfor\u001b[0m \u001b[0mrow\u001b[0m \u001b[1;32min\u001b[0m \u001b[0mrows\u001b[0m\u001b[1;33m:\u001b[0m\u001b[1;33m\u001b[0m\u001b[0m\n\u001b[0m\u001b[0;32m      3\u001b[0m     \u001b[0mwrow\u001b[0m \u001b[1;33m+=\u001b[0m \u001b[1;36m1\u001b[0m\u001b[1;33m\u001b[0m\u001b[0m\n\u001b[0;32m      4\u001b[0m     \u001b[0mpath\u001b[0m \u001b[1;33m=\u001b[0m \u001b[0mos\u001b[0m\u001b[1;33m.\u001b[0m\u001b[0mpath\u001b[0m\u001b[1;33m.\u001b[0m\u001b[0mjoin\u001b[0m\u001b[1;33m(\u001b[0m\u001b[0mrow\u001b[0m\u001b[1;33m[\u001b[0m\u001b[1;34m'Data path'\u001b[0m\u001b[1;33m]\u001b[0m\u001b[1;33m,\u001b[0m\u001b[0mrow\u001b[0m\u001b[1;33m[\u001b[0m\u001b[1;34m'NCML Link'\u001b[0m\u001b[1;33m]\u001b[0m\u001b[1;33m)\u001b[0m\u001b[1;33m\u001b[0m\u001b[0m\n\u001b[0;32m      5\u001b[0m     \u001b[0mdataset\u001b[0m \u001b[1;33m=\u001b[0m \u001b[0mpath\u001b[0m\u001b[1;33m.\u001b[0m\u001b[0msplit\u001b[0m\u001b[1;33m(\u001b[0m\u001b[1;34m'/'\u001b[0m\u001b[1;33m,\u001b[0m\u001b[1;36m3\u001b[0m\u001b[1;33m)\u001b[0m\u001b[1;33m[\u001b[0m\u001b[1;33m-\u001b[0m\u001b[1;36m1\u001b[0m\u001b[1;33m]\u001b[0m\u001b[1;33m\u001b[0m\u001b[0m\n",
        "\u001b[1;31mNameError\u001b[0m: name 'rows' is not defined"
       ]
      }
     ],
     "prompt_number": 6
    },
    {
     "cell_type": "code",
     "collapsed": false,
     "input": [
      "wcol = wks.find('NCML working').col"
     ],
     "language": "python",
     "metadata": {},
     "outputs": [],
     "prompt_number": 55
    },
    {
     "cell_type": "code",
     "collapsed": false,
     "input": [
      "wrow = 1\n",
      "for row in rows:\n",
      "    wrow += 1\n",
      "    path = os.path.join(row['Data path'],row['NCML Link'])\n",
      "    dataset = path.split('/',3)[-1]\n",
      "    dap_url = os.path.join(dap_path,dataset)\n",
      "    try: \n",
      "        nc = netCDF4.Dataset(dap_url)\n",
      "        try:\n",
      "            pyugrid.UGrid.from_ncfile(dap_url)\n",
      "            wks.update_cell(wrow,wcol,'ugrid')\n",
      "        except:\n",
      "            wks.update_cell(wrow,wcol,'grid')\n",
      "    except:\n",
      "        wks.update_cell(wrow,wcol,'fail')\n",
      "\n",
      "    "
     ],
     "language": "python",
     "metadata": {},
     "outputs": [
      {
       "output_type": "stream",
       "stream": "stdout",
       "text": [
        "http://testbed2.sura.org/thredds/dodsC/alldata/inundation_tropical/MDL_SLOSH/Hurricane_Ike_final_run_egm3/00_dir.ncml\n",
        "http://testbed2.sura.org/thredds/dodsC/alldata/inundation_tropical/MDL_SLOSH/Hurricane_Rita_final_run_egm3/00_dir.ncml"
       ]
      },
      {
       "output_type": "stream",
       "stream": "stdout",
       "text": [
        "\n",
        "http://testbed2.sura.org/thredds/dodsC/alldata/inundation_tropical/UND_ADCIRC/Hurricane_Ike_2D_final_run_with_waves/00_dir.ncml"
       ]
      },
      {
       "output_type": "stream",
       "stream": "stdout",
       "text": [
        "\n",
        "http://testbed2.sura.org/thredds/dodsC/alldata/inundation_tropical/UND_ADCIRC/Hurricane_Ike_2D_final_run_without_waves/00_dir.ncml"
       ]
      },
      {
       "output_type": "stream",
       "stream": "stdout",
       "text": [
        "\n",
        "http://testbed2.sura.org/thredds/dodsC/alldata/inundation_tropical/UND_ADCIRC/Hurricane_Ike_2D_preliminary_run_1_spinup/00_dir.ncml"
       ]
      },
      {
       "output_type": "stream",
       "stream": "stdout",
       "text": [
        "\n",
        "fail"
       ]
      },
      {
       "output_type": "stream",
       "stream": "stdout",
       "text": [
        "\n",
        "http://testbed2.sura.org/thredds/dodsC/alldata/inundation_tropical/UND_ADCIRC/Hurricane_Ike_2D_preliminary_run_2_spinup_without_advection_implicit_1s/00_dir.ncml"
       ]
      },
      {
       "output_type": "stream",
       "stream": "stdout",
       "text": [
        "\n",
        "fail"
       ]
      },
      {
       "output_type": "stream",
       "stream": "stdout",
       "text": [
        "\n",
        "http://testbed2.sura.org/thredds/dodsC/alldata/inundation_tropical/UND_ADCIRC/Hurricane_Ike_2D_preliminary_run_3_spinup_with_levees/00_dir.ncml"
       ]
      },
      {
       "output_type": "stream",
       "stream": "stdout",
       "text": [
        "\n",
        "fail"
       ]
      },
      {
       "output_type": "stream",
       "stream": "stdout",
       "text": [
        "\n",
        "http://testbed2.sura.org/thredds/dodsC/alldata/inundation_tropical/UND_ADCIRC/Hurricane_Ike_2D_preliminary_run_4_spinup_with_levees_and_river_flow/00_dir.ncml"
       ]
      },
      {
       "output_type": "stream",
       "stream": "stdout",
       "text": [
        "\n",
        "fail"
       ]
      },
      {
       "output_type": "stream",
       "stream": "stdout",
       "text": [
        "\n",
        "http://testbed2.sura.org/thredds/dodsC/alldata/inundation_tropical/UND_ADCIRC/Hurricane_Ike_2D_preliminary_run_5_tides_only/00_dir.ncml"
       ]
      },
      {
       "output_type": "stream",
       "stream": "stdout",
       "text": [
        "\n",
        "http://testbed2.sura.org/thredds/dodsC/alldata/inundation_tropical/UND_ADCIRC/Hurricane_Ike_2D_preliminary_run_6_without_waves_and_advection_implicit_1s/00_dir.ncml"
       ]
      },
      {
       "output_type": "stream",
       "stream": "stdout",
       "text": [
        "\n",
        "http://testbed2.sura.org/thredds/dodsC/alldata/inundation_tropical/UND_ADCIRC/Hurricane_Ike_2D_preliminary_run_7_with_waves_without_advection_implicit_1s/00_dir.ncml"
       ]
      },
      {
       "output_type": "stream",
       "stream": "stdout",
       "text": [
        "\n",
        "http://testbed2.sura.org/thredds/dodsC/alldata/inundation_tropical/UND_ADCIRC/Hurricane_Ike_2D_preliminary_run_8_with_waves_and_levees/00_dir.ncml"
       ]
      },
      {
       "output_type": "stream",
       "stream": "stdout",
       "text": [
        "\n",
        "http://testbed2.sura.org/thredds/dodsC/alldata/inundation_tropical/UND_ADCIRC/Hurricane_Ike_2D_preliminary_run_9_with_waves_and_levees_and_river_flow/00_dir.ncml"
       ]
      },
      {
       "output_type": "stream",
       "stream": "stdout",
       "text": [
        "\n",
        "http://testbed2.sura.org/thredds/dodsC/alldata/inundation_tropical/UND_ADCIRC/Hurricane_Ike_3D_final_run_with_waves/00_dir.ncml"
       ]
      },
      {
       "output_type": "stream",
       "stream": "stdout",
       "text": [
        "\n",
        "http://testbed2.sura.org/thredds/dodsC/alldata/inundation_tropical/UND_ADCIRC/Hurricane_Ike_3D_final_run_without_waves/00_dir.ncml"
       ]
      },
      {
       "output_type": "stream",
       "stream": "stdout",
       "text": [
        "\n",
        "http://testbed2.sura.org/thredds/dodsC/alldata/inundation_tropical/UND_ADCIRC/Hurricane_Ike_3D_preliminary_run_1_spinup/00_dir.ncml"
       ]
      },
      {
       "output_type": "stream",
       "stream": "stdout",
       "text": [
        "\n",
        "fail"
       ]
      },
      {
       "output_type": "stream",
       "stream": "stdout",
       "text": [
        "\n",
        "http://testbed2.sura.org/thredds/dodsC/alldata/inundation_tropical/UND_ADCIRC/Hurricane_Ike_Timing_with_waves/00_dir.ncml"
       ]
      },
      {
       "output_type": "stream",
       "stream": "stdout",
       "text": [
        "\n",
        "http://testbed2.sura.org/thredds/dodsC/alldata/inundation_tropical/UND_ADCIRC/Hurricane_Ike_Timing_without_waves/00_dir.ncml"
       ]
      },
      {
       "output_type": "stream",
       "stream": "stdout",
       "text": [
        "\n",
        "http://testbed2.sura.org/thredds/dodsC/alldata/inundation_tropical/UND_ADCIRC/Hurricane_Rita_2D_final_run_with_waves/00_dir.ncml"
       ]
      },
      {
       "output_type": "stream",
       "stream": "stdout",
       "text": [
        "\n",
        "http://testbed2.sura.org/thredds/dodsC/alldata/inundation_tropical/UND_ADCIRC/Hurricane_Rita_2D_final_run_without_waves/00_dir.ncml"
       ]
      },
      {
       "output_type": "stream",
       "stream": "stdout",
       "text": [
        "\n",
        "http://testbed2.sura.org/thredds/dodsC/alldata/inundation_tropical/UND_ADCIRC/Hurricane_Rita_2D_preliminary_run_1_spinup/00_dir.ncml"
       ]
      },
      {
       "output_type": "stream",
       "stream": "stdout",
       "text": [
        "\n",
        "fail"
       ]
      },
      {
       "output_type": "stream",
       "stream": "stdout",
       "text": [
        "\n",
        "http://testbed2.sura.org/thredds/dodsC/alldata/inundation_tropical/UND_ADCIRC/Hurricane_Rita_2D_preliminary_run_2_spinup_without_advection_implicit_1s/00_dir.ncml"
       ]
      },
      {
       "output_type": "stream",
       "stream": "stdout",
       "text": [
        "\n",
        "fail"
       ]
      },
      {
       "output_type": "stream",
       "stream": "stdout",
       "text": [
        "\n",
        "http://testbed2.sura.org/thredds/dodsC/alldata/inundation_tropical/UND_ADCIRC/Hurricane_Rita_2D_preliminary_run_3_tides_only/00_dir.ncml"
       ]
      },
      {
       "output_type": "stream",
       "stream": "stdout",
       "text": [
        "\n",
        "http://testbed2.sura.org/thredds/dodsC/alldata/inundation_tropical/UND_ADCIRC/Hurricane_Rita_2D_preliminary_run_4_with_waves_without_advection_implicit_1s/00_dir.ncml"
       ]
      },
      {
       "output_type": "stream",
       "stream": "stdout",
       "text": [
        "\n",
        "http://testbed2.sura.org/thredds/dodsC/alldata/inundation_tropical/UND_ADCIRC/Hurricane_Rita_2D_preliminary_run_5_without_waves_and_advection_implicit_1s/00_dir.ncml"
       ]
      },
      {
       "output_type": "stream",
       "stream": "stdout",
       "text": [
        "\n",
        "http://testbed2.sura.org/thredds/dodsC/alldata/inundation_tropical/UND_ADCIRC/Hurricane_Rita_3D_final_run_with_waves/00_dir.ncml"
       ]
      },
      {
       "output_type": "stream",
       "stream": "stdout",
       "text": [
        "\n",
        "http://testbed2.sura.org/thredds/dodsC/alldata/inundation_tropical/UND_ADCIRC/Hurricane_Rita_3D_final_run_without_waves/00_dir.ncml"
       ]
      },
      {
       "output_type": "stream",
       "stream": "stdout",
       "text": [
        "\n",
        "http://testbed2.sura.org/thredds/dodsC/alldata/inundation_tropical/UND_ADCIRC/Hurricane_Rita_3D_preliminary_run_1_spinup/00_dir.ncml"
       ]
      },
      {
       "output_type": "stream",
       "stream": "stdout",
       "text": [
        "\n",
        "fail"
       ]
      },
      {
       "output_type": "stream",
       "stream": "stdout",
       "text": [
        "\n",
        "http://testbed2.sura.org/thredds/dodsC/alldata/inundation_tropical/UND_ADCIRC/Tides_only_2D_final_run/00_dir.ncml"
       ]
      },
      {
       "output_type": "stream",
       "stream": "stdout",
       "text": [
        "\n",
        "http://testbed2.sura.org/thredds/dodsC/alldata/inundation_tropical/UND_ADCIRC/Tides_only_2D_preliminary_run_1_without_advection_implicit_1s/00_dir.ncml"
       ]
      },
      {
       "output_type": "stream",
       "stream": "stdout",
       "text": [
        "\n",
        "http://testbed2.sura.org/thredds/dodsC/alldata/inundation_tropical/UND_ADCIRC/Tides_only_3D_final_run/00_dir.ncml"
       ]
      },
      {
       "output_type": "stream",
       "stream": "stdout",
       "text": [
        "\n",
        "http://testbed2.sura.org/thredds/dodsC/alldata/inundation_tropical/UND_SLOSH/Hurricane_Ike_final_run_egl3/00_dir.ncml"
       ]
      },
      {
       "output_type": "stream",
       "stream": "stdout",
       "text": [
        "\n",
        "http://testbed2.sura.org/thredds/dodsC/alldata/inundation_tropical/UND_SLOSH/Hurricane_Ike_final_run_egm3/00_dir.ncml"
       ]
      },
      {
       "output_type": "stream",
       "stream": "stdout",
       "text": [
        "\n",
        "http://testbed2.sura.org/thredds/dodsC/alldata/inundation_tropical/UND_SLOSH/Hurricane_Ike_preliminary_run_1_egl3_without_tides/00_dir.ncml"
       ]
      },
      {
       "output_type": "stream",
       "stream": "stdout",
       "text": [
        "\n",
        "http://testbed2.sura.org/thredds/dodsC/alldata/inundation_tropical/UND_SLOSH/Hurricane_Ike_preliminary_run_2_egl3_with_SLOSH_winds/00_dir.ncml"
       ]
      },
      {
       "output_type": "stream",
       "stream": "stdout",
       "text": [
        "\n",
        "http://testbed2.sura.org/thredds/dodsC/alldata/inundation_tropical/UND_SLOSH/Hurricane_Ike_preliminary_run_3_egl3_with_SLOSH_winds_without_tides/00_dir.ncml"
       ]
      },
      {
       "output_type": "stream",
       "stream": "stdout",
       "text": [
        "\n",
        "http://testbed2.sura.org/thredds/dodsC/alldata/inundation_tropical/UND_SLOSH/Hurricane_Ike_preliminary_run_4_egm3_without_tides/00_dir.ncml"
       ]
      },
      {
       "output_type": "stream",
       "stream": "stdout",
       "text": [
        "\n",
        "http://testbed2.sura.org/thredds/dodsC/alldata/inundation_tropical/UND_SLOSH/Hurricane_Ike_preliminary_run_5_egm3_with_SLOSH_winds/00_dir.ncml"
       ]
      },
      {
       "output_type": "stream",
       "stream": "stdout",
       "text": [
        "\n",
        "http://testbed2.sura.org/thredds/dodsC/alldata/inundation_tropical/UND_SLOSH/Hurricane_Ike_preliminary_run_6_egm3_with_SLOSH_winds_without_tides/00_dir.ncml"
       ]
      },
      {
       "output_type": "stream",
       "stream": "stdout",
       "text": [
        "\n",
        "http://testbed2.sura.org/thredds/dodsC/alldata/inundation_tropical/UND_SLOSH/Hurricane_Rita_final_run_ebp3/00_dir.ncml"
       ]
      },
      {
       "output_type": "stream",
       "stream": "stdout",
       "text": [
        "\n",
        "http://testbed2.sura.org/thredds/dodsC/alldata/inundation_tropical/UND_SLOSH/Hurricane_Rita_final_run_egm3/00_dir.ncml"
       ]
      },
      {
       "output_type": "stream",
       "stream": "stdout",
       "text": [
        "\n",
        "http://testbed2.sura.org/thredds/dodsC/alldata/inundation_tropical/UND_SLOSH/Hurricane_Rita_preliminary_run_1_ebp3_without_tides/00_dir.ncml"
       ]
      },
      {
       "output_type": "stream",
       "stream": "stdout",
       "text": [
        "\n",
        "http://testbed2.sura.org/thredds/dodsC/alldata/inundation_tropical/UND_SLOSH/Hurricane_Rita_preliminary_run_2_ebp3_with_SLOSH_winds/00_dir.ncml"
       ]
      },
      {
       "output_type": "stream",
       "stream": "stdout",
       "text": [
        "\n",
        "http://testbed2.sura.org/thredds/dodsC/alldata/inundation_tropical/UND_SLOSH/Hurricane_Rita_preliminary_run_3_ebp3_with_SLOSH_winds_without_tides/00_dir.ncml"
       ]
      },
      {
       "output_type": "stream",
       "stream": "stdout",
       "text": [
        "\n",
        "http://testbed2.sura.org/thredds/dodsC/alldata/inundation_tropical/UND_SLOSH/Hurricane_Rita_preliminary_run_4_egm3_without_tides/00_dir.ncml"
       ]
      },
      {
       "output_type": "stream",
       "stream": "stdout",
       "text": [
        "\n",
        "http://testbed2.sura.org/thredds/dodsC/alldata/inundation_tropical/UND_SLOSH/Hurricane_Rita_preliminary_run_5_egm3_with_SLOSH_winds/00_dir.ncml"
       ]
      },
      {
       "output_type": "stream",
       "stream": "stdout",
       "text": [
        "\n",
        "http://testbed2.sura.org/thredds/dodsC/alldata/inundation_tropical/UND_SLOSH/Hurricane_Rita_preliminary_run_6_egm3_with_SLOSH_winds_without_tides/00_dir.ncml"
       ]
      },
      {
       "output_type": "stream",
       "stream": "stdout",
       "text": [
        "\n",
        "http://testbed2.sura.org/thredds/dodsC/alldata/inundation_tropical/USF_FVCOM/Hurricane_Ike_2D_final_run_with_waves/00_dir.ncml"
       ]
      },
      {
       "output_type": "stream",
       "stream": "stdout",
       "text": [
        "\n",
        "http://testbed2.sura.org/thredds/dodsC/alldata/inundation_tropical/USF_FVCOM/Hurricane_Ike_2D_final_run_without_waves/00_dir.ncml"
       ]
      },
      {
       "output_type": "stream",
       "stream": "stdout",
       "text": [
        "\n",
        "http://testbed2.sura.org/thredds/dodsC/alldata/inundation_tropical/USF_FVCOM/Hurricane_Ike_3D_final_run_with_waves/00_dir.ncml"
       ]
      },
      {
       "output_type": "stream",
       "stream": "stdout",
       "text": [
        "\n",
        "http://testbed2.sura.org/thredds/dodsC/alldata/inundation_tropical/USF_FVCOM/Hurricane_Ike_3D_final_run_without_waves/00_dir.ncml"
       ]
      },
      {
       "output_type": "stream",
       "stream": "stdout",
       "text": [
        "\n",
        "http://testbed2.sura.org/thredds/dodsC/alldata/inundation_tropical/USF_FVCOM/Hurricane_Rita_2D_final_run_with_waves/00_dir.ncml"
       ]
      },
      {
       "output_type": "stream",
       "stream": "stdout",
       "text": [
        "\n",
        "http://testbed2.sura.org/thredds/dodsC/alldata/inundation_tropical/USF_FVCOM/Hurricane_Rita_2D_final_run_without_waves/00_dir.ncml"
       ]
      },
      {
       "output_type": "stream",
       "stream": "stdout",
       "text": [
        "\n",
        "http://testbed2.sura.org/thredds/dodsC/alldata/inundation_tropical/USF_FVCOM/Hurricane_Rita_3D_final_run_with_waves/00_dir.ncml"
       ]
      },
      {
       "output_type": "stream",
       "stream": "stdout",
       "text": [
        "\n",
        "http://testbed2.sura.org/thredds/dodsC/alldata/inundation_tropical/USF_FVCOM/Hurricane_Rita_3D_final_run_without_waves/00_dir.ncml"
       ]
      },
      {
       "output_type": "stream",
       "stream": "stdout",
       "text": [
        "\n",
        "http://testbed2.sura.org/thredds/dodsC/alldata/inundation_tropical/USF_FVCOM/SWAN_Ike_final_run_with_2DSurge/00_dir.ncml"
       ]
      },
      {
       "output_type": "stream",
       "stream": "stdout",
       "text": [
        "\n",
        "fail"
       ]
      },
      {
       "output_type": "stream",
       "stream": "stdout",
       "text": [
        "\n",
        "http://testbed2.sura.org/thredds/dodsC/alldata/inundation_tropical/USF_FVCOM/SWAN_Ike_final_run_without_Surge/00_dir.ncml"
       ]
      },
      {
       "output_type": "stream",
       "stream": "stdout",
       "text": [
        "\n",
        "fail"
       ]
      },
      {
       "output_type": "stream",
       "stream": "stdout",
       "text": [
        "\n",
        "http://testbed2.sura.org/thredds/dodsC/alldata/inundation_tropical/USF_FVCOM/SWAN_Rita_final_run_with_2DSurge/00_dir.ncml"
       ]
      },
      {
       "output_type": "stream",
       "stream": "stdout",
       "text": [
        "\n",
        "fail"
       ]
      },
      {
       "output_type": "stream",
       "stream": "stdout",
       "text": [
        "\n",
        "http://testbed2.sura.org/thredds/dodsC/alldata/inundation_tropical/USF_FVCOM/SWAN_Rita_final_run_without_Surge/00_dir.ncml"
       ]
      },
      {
       "output_type": "stream",
       "stream": "stdout",
       "text": [
        "\n",
        "fail"
       ]
      },
      {
       "output_type": "stream",
       "stream": "stdout",
       "text": [
        "\n",
        "http://testbed2.sura.org/thredds/dodsC/alldata/inundation_tropical/USF_FVCOM/Tides_only_2D_final_run/00_dir.ncml"
       ]
      },
      {
       "output_type": "stream",
       "stream": "stdout",
       "text": [
        "\n",
        "http://testbed2.sura.org/thredds/dodsC/alldata/inundation_tropical/USF_FVCOM/Tides_only_2D_preliminary_run_fixed_manning/00_dir.ncml"
       ]
      },
      {
       "output_type": "stream",
       "stream": "stdout",
       "text": [
        "\n",
        "fail"
       ]
      },
      {
       "output_type": "stream",
       "stream": "stdout",
       "text": [
        "\n",
        "http://testbed2.sura.org/thredds/dodsC/alldata/inundation_tropical/USF_FVCOM/Tides_only_2D_preliminary_run_varied_manning_minimum_manning_0.025/00_dir.ncml"
       ]
      },
      {
       "output_type": "stream",
       "stream": "stdout",
       "text": [
        "\n",
        "fail"
       ]
      },
      {
       "output_type": "stream",
       "stream": "stdout",
       "text": [
        "\n",
        "http://testbed2.sura.org/thredds/dodsC/alldata/inundation_tropical/USF_FVCOM/Tides_only_3D_final_run/00_dir.ncml"
       ]
      },
      {
       "output_type": "stream",
       "stream": "stdout",
       "text": [
        "\n",
        "http://testbed2.sura.org/thredds/dodsC/alldata/inundation_tropical/USF_FVCOM/Tides_only_3D_preliminary_run_fixed_roughness/00_dir.ncml"
       ]
      },
      {
       "output_type": "stream",
       "stream": "stdout",
       "text": [
        "\n",
        "fail"
       ]
      },
      {
       "output_type": "stream",
       "stream": "stdout",
       "text": [
        "\n",
        "http://testbed2.sura.org/thredds/dodsC/alldata/inundation_tropical/VIMS_SELFE/Hurricane_Ike_2D_final_run_wave_only/00_dir.ncml"
       ]
      },
      {
       "output_type": "stream",
       "stream": "stdout",
       "text": [
        "\n",
        "http://testbed2.sura.org/thredds/dodsC/alldata/inundation_tropical/VIMS_SELFE/Hurricane_Ike_2D_final_run_with_waves/00_dir.ncml"
       ]
      },
      {
       "output_type": "stream",
       "stream": "stdout",
       "text": [
        "\n",
        "fail"
       ]
      },
      {
       "output_type": "stream",
       "stream": "stdout",
       "text": [
        "\n",
        "http://testbed2.sura.org/thredds/dodsC/alldata/inundation_tropical/VIMS_SELFE/Hurricane_Ike_2D_final_run_without_waves/00_dir.ncml"
       ]
      },
      {
       "output_type": "stream",
       "stream": "stdout",
       "text": [
        "\n",
        "http://testbed2.sura.org/thredds/dodsC/alldata/inundation_tropical/VIMS_SELFE/Hurricane_Ike_3D_final_run_with_waves/00_dir.ncml"
       ]
      },
      {
       "output_type": "stream",
       "stream": "stdout",
       "text": [
        "\n",
        "http://testbed2.sura.org/thredds/dodsC/alldata/inundation_tropical/VIMS_SELFE/Hurricane_Ike_3D_final_run_without_waves/00_dir.ncml"
       ]
      },
      {
       "output_type": "stream",
       "stream": "stdout",
       "text": [
        "\n",
        "http://testbed2.sura.org/thredds/dodsC/alldata/inundation_tropical/VIMS_SELFE/Hurricane_Rita_2D_final_run_waves_only/00_dir.ncml"
       ]
      },
      {
       "output_type": "stream",
       "stream": "stdout",
       "text": [
        "\n",
        "http://testbed2.sura.org/thredds/dodsC/alldata/inundation_tropical/VIMS_SELFE/Hurricane_Rita_2D_final_run_with_waves/00_dir.ncml"
       ]
      },
      {
       "output_type": "stream",
       "stream": "stdout",
       "text": [
        "\n",
        "http://testbed2.sura.org/thredds/dodsC/alldata/inundation_tropical/VIMS_SELFE/Hurricane_Rita_2D_final_run_without_waves/00_dir.ncml"
       ]
      },
      {
       "output_type": "stream",
       "stream": "stdout",
       "text": [
        "\n",
        "http://testbed2.sura.org/thredds/dodsC/alldata/inundation_tropical/VIMS_SELFE/Hurricane_Rita_3D_final_run_with_waves/00_dir.ncml"
       ]
      },
      {
       "output_type": "stream",
       "stream": "stdout",
       "text": [
        "\n",
        "http://testbed2.sura.org/thredds/dodsC/alldata/inundation_tropical/VIMS_SELFE/Hurricane_Rita_3D_final_run_without_waves/00_dir.ncml"
       ]
      },
      {
       "output_type": "stream",
       "stream": "stdout",
       "text": [
        "\n",
        "http://testbed2.sura.org/thredds/dodsC/alldata/inundation_extratropical/BIO_WW3/ww3_swan_2005/00_dir.ncml"
       ]
      },
      {
       "output_type": "stream",
       "stream": "stdout",
       "text": [
        "\n",
        "fail"
       ]
      },
      {
       "output_type": "stream",
       "stream": "stdout",
       "text": [
        "\n",
        "http://testbed2.sura.org/thredds/dodsC/alldata/inundation_extratropical/BIO_WW3/ww3_swan_2007/00_dir.ncml"
       ]
      },
      {
       "output_type": "stream",
       "stream": "stdout",
       "text": [
        "\n",
        "fail"
       ]
      },
      {
       "output_type": "stream",
       "stream": "stdout",
       "text": [
        "\n",
        "http://testbed2.sura.org/thredds/dodsC/alldata/inundation_extratropical/BIO_WW3/ww3_swan_wlev_2005/00_dir.ncml"
       ]
      },
      {
       "output_type": "stream",
       "stream": "stdout",
       "text": [
        "\n",
        "fail"
       ]
      },
      {
       "output_type": "stream",
       "stream": "stdout",
       "text": [
        "\n",
        "http://testbed2.sura.org/thredds/dodsC/alldata/inundation_extratropical/BIO_WW3/ww3_swan_wlev_curr_2005/00_dir.ncml"
       ]
      },
      {
       "output_type": "stream",
       "stream": "stdout",
       "text": [
        "\n",
        "fail"
       ]
      },
      {
       "output_type": "stream",
       "stream": "stdout",
       "text": [
        "\n",
        "http://testbed2.sura.org/thredds/dodsC/alldata/inundation_extratropical/BIO_WW3/ww3_swan_wlev_curr_2007_f7/00_dir.ncml"
       ]
      },
      {
       "output_type": "stream",
       "stream": "stdout",
       "text": [
        "\n",
        "fail"
       ]
      },
      {
       "output_type": "stream",
       "stream": "stdout",
       "text": [
        "\n",
        "http://testbed2.sura.org/thredds/dodsC/alldata/inundation_extratropical/UMASS_FVCOM/2005_fine_grid1/current/00_dir.ncml"
       ]
      },
      {
       "output_type": "stream",
       "stream": "stdout",
       "text": [
        "\n",
        "fail"
       ]
      },
      {
       "output_type": "stream",
       "stream": "stdout",
       "text": [
        "\n",
        "http://testbed2.sura.org/thredds/dodsC/alldata/inundation_extratropical/UMASS_FVCOM/2005_fine_grid1/wave/00_dir.ncml"
       ]
      },
      {
       "output_type": "stream",
       "stream": "stdout",
       "text": [
        "\n",
        "fail"
       ]
      },
      {
       "output_type": "stream",
       "stream": "stdout",
       "text": [
        "\n",
        "http://testbed2.sura.org/thredds/dodsC/alldata/inundation_extratropical/UMASS_FVCOM/2005_fine_grid1/wave_current/00_dir.ncml"
       ]
      },
      {
       "output_type": "stream",
       "stream": "stdout",
       "text": [
        "\n",
        "fail"
       ]
      },
      {
       "output_type": "stream",
       "stream": "stdout",
       "text": [
        "\n",
        "http://testbed2.sura.org/thredds/dodsC/alldata/inundation_extratropical/UMASS_FVCOM/2005_fine_grid1_1.09wind_old/current/00_dir.ncml"
       ]
      },
      {
       "output_type": "stream",
       "stream": "stdout",
       "text": [
        "\n",
        "fail"
       ]
      },
      {
       "output_type": "stream",
       "stream": "stdout",
       "text": [
        "\n",
        "http://testbed2.sura.org/thredds/dodsC/alldata/inundation_extratropical/UMASS_FVCOM/2005_fine_grid1_1.09wind_old/wave/00_dir.ncml"
       ]
      },
      {
       "output_type": "stream",
       "stream": "stdout",
       "text": [
        "\n",
        "fail"
       ]
      },
      {
       "output_type": "stream",
       "stream": "stdout",
       "text": [
        "\n",
        "http://testbed2.sura.org/thredds/dodsC/alldata/inundation_extratropical/UMASS_FVCOM/2005_fine_grid1_1.09wind_old/wave_current/00_dir.ncml"
       ]
      },
      {
       "output_type": "stream",
       "stream": "stdout",
       "text": [
        "\n",
        "fail"
       ]
      },
      {
       "output_type": "stream",
       "stream": "stdout",
       "text": [
        "\n",
        "http://testbed2.sura.org/thredds/dodsC/alldata/inundation_extratropical/UMASS_FVCOM/2007_fine_grid1/current/00_dir.ncml"
       ]
      },
      {
       "output_type": "stream",
       "stream": "stdout",
       "text": [
        "\n",
        "fail"
       ]
      },
      {
       "output_type": "stream",
       "stream": "stdout",
       "text": [
        "\n",
        "http://testbed2.sura.org/thredds/dodsC/alldata/inundation_extratropical/UMASS_FVCOM/2007_fine_grid1/wave/00_dir.ncml"
       ]
      },
      {
       "output_type": "stream",
       "stream": "stdout",
       "text": [
        "\n",
        "fail"
       ]
      },
      {
       "output_type": "stream",
       "stream": "stdout",
       "text": [
        "\n",
        "http://testbed2.sura.org/thredds/dodsC/alldata/inundation_extratropical/UMASS_FVCOM/2007_fine_grid1/wave_current/00_dir.ncml"
       ]
      },
      {
       "output_type": "stream",
       "stream": "stdout",
       "text": [
        "\n",
        "fail"
       ]
      },
      {
       "output_type": "stream",
       "stream": "stdout",
       "text": [
        "\n",
        "http://testbed2.sura.org/thredds/dodsC/alldata/inundation_extratropical/UMASS_FVCOM/2007_fine_grid1_pair_1.09wind_old/current/00_dir.ncml"
       ]
      },
      {
       "output_type": "stream",
       "stream": "stdout",
       "text": [
        "\n",
        "fail"
       ]
      },
      {
       "output_type": "stream",
       "stream": "stdout",
       "text": [
        "\n",
        "http://testbed2.sura.org/thredds/dodsC/alldata/inundation_extratropical/UMASS_FVCOM/2007_fine_grid1_pair_1.09wind_old/wave/00_dir.ncml"
       ]
      },
      {
       "output_type": "stream",
       "stream": "stdout",
       "text": [
        "\n",
        "fail"
       ]
      },
      {
       "output_type": "stream",
       "stream": "stdout",
       "text": [
        "\n",
        "http://testbed2.sura.org/thredds/dodsC/alldata/inundation_extratropical/UMASS_FVCOM/2007_fine_grid1_pair_1.09wind_old/wave_current/00_dir.ncml"
       ]
      },
      {
       "output_type": "stream",
       "stream": "stdout",
       "text": [
        "\n",
        "fail"
       ]
      },
      {
       "output_type": "stream",
       "stream": "stdout",
       "text": [
        "\n",
        "http://testbed2.sura.org/thredds/dodsC/alldata/inundation_extratropical/UMASS_FVCOM/2010_12_storm/00_dir.ncml"
       ]
      },
      {
       "output_type": "stream",
       "stream": "stdout",
       "text": [
        "\n",
        "fail"
       ]
      },
      {
       "output_type": "stream",
       "stream": "stdout",
       "text": [
        "\n",
        "http://testbed2.sura.org/thredds/dodsC/alldata/inundation_extratropical/UMASS_FVCOM/gom3_wave/00_dir.ncml"
       ]
      },
      {
       "output_type": "stream",
       "stream": "stdout",
       "text": [
        "\n",
        "fail"
       ]
      },
      {
       "output_type": "stream",
       "stream": "stdout",
       "text": [
        "\n",
        "http://testbed2.sura.org/thredds/dodsC/alldata/inundation_extratropical/UMASS_FVCOM/gom3_wave_spectra/00_dir.ncml"
       ]
      },
      {
       "output_type": "stream",
       "stream": "stdout",
       "text": [
        "\n",
        "fail"
       ]
      },
      {
       "output_type": "stream",
       "stream": "stdout",
       "text": [
        "\n",
        "http://testbed2.sura.org/thredds/dodsC/alldata/inundation_extratropical/UMASS_FVCOM/sci_v11_tide20100501_fine_grid1/00_dir.ncml"
       ]
      },
      {
       "output_type": "stream",
       "stream": "stdout",
       "text": [
        "\n",
        "fail"
       ]
      },
      {
       "output_type": "stream",
       "stream": "stdout",
       "text": [
        "\n",
        "http://testbed2.sura.org/thredds/dodsC/alldata/inundation_extratropical/UMASS_FVCOM/sci_v9_tide20100710/00_dir.ncml"
       ]
      },
      {
       "output_type": "stream",
       "stream": "stdout",
       "text": [
        "\n",
        "fail"
       ]
      },
      {
       "output_type": "stream",
       "stream": "stdout",
       "text": [
        "\n",
        "http://testbed2.sura.org/thredds/dodsC/alldata/inundation_extratropical/UND_ADCIRC/2005_2D_final_run_without_waves/00_dir.ncml"
       ]
      },
      {
       "output_type": "stream",
       "stream": "stdout",
       "text": [
        "\n",
        "http://testbed2.sura.org/thredds/dodsC/alldata/inundation_extratropical/UND_ADCIRC/2005_2D_final_run_wave_model_only_without_circulation/00_dir.ncml"
       ]
      },
      {
       "output_type": "stream",
       "stream": "stdout",
       "text": [
        "\n",
        "http://testbed2.sura.org/thredds/dodsC/alldata/inundation_extratropical/UND_ADCIRC/2005_2D_final_run_with_waves/00_dir.ncml"
       ]
      },
      {
       "output_type": "stream",
       "stream": "stdout",
       "text": [
        "\n",
        "http://testbed2.sura.org/thredds/dodsC/alldata/inundation_extratropical/UND_ADCIRC/2007_2D_final_run_without_waves/00_dir.ncml"
       ]
      },
      {
       "output_type": "stream",
       "stream": "stdout",
       "text": [
        "\n",
        "fail"
       ]
      },
      {
       "output_type": "stream",
       "stream": "stdout",
       "text": [
        "\n",
        "http://testbed2.sura.org/thredds/dodsC/alldata/inundation_extratropical/UND_ADCIRC/2007_2D_final_run_wave_model_only_without_circulation/00_dir.ncml"
       ]
      },
      {
       "output_type": "stream",
       "stream": "stdout",
       "text": [
        "\n",
        "http://testbed2.sura.org/thredds/dodsC/alldata/inundation_extratropical/UND_ADCIRC/2007_2D_final_run_with_waves/00_dir.ncml"
       ]
      },
      {
       "output_type": "stream",
       "stream": "stdout",
       "text": [
        "\n",
        "http://testbed2.sura.org/thredds/dodsC/alldata/inundation_extratropical/UND_ADCIRC/2010_final_run_tide_only/00_dir.ncml"
       ]
      },
      {
       "output_type": "stream",
       "stream": "stdout",
       "text": [
        "\n",
        "fail"
       ]
      },
      {
       "output_type": "stream",
       "stream": "stdout",
       "text": [
        "\n",
        "http://testbed2.sura.org/thredds/dodsC/alldata/inundation_extratropical/VIMS_SELFE/2005_2D_final_run_waves_only/00_dir.ncml"
       ]
      },
      {
       "output_type": "stream",
       "stream": "stdout",
       "text": [
        "\n",
        "http://testbed2.sura.org/thredds/dodsC/alldata/inundation_extratropical/VIMS_SELFE/2005_2D_final_run_with_waves/00_dir.ncml"
       ]
      },
      {
       "output_type": "stream",
       "stream": "stdout",
       "text": [
        "\n",
        "http://testbed2.sura.org/thredds/dodsC/alldata/inundation_extratropical/VIMS_SELFE/2005_2D_final_run_without_waves/00_dir.ncml"
       ]
      },
      {
       "output_type": "stream",
       "stream": "stdout",
       "text": [
        "\n",
        "http://testbed2.sura.org/thredds/dodsC/alldata/inundation_extratropical/VIMS_SELFE/2005_2D_preliminary_run_waves_only/00_dir.ncml"
       ]
      },
      {
       "output_type": "stream",
       "stream": "stdout",
       "text": [
        "\n",
        "http://testbed2.sura.org/thredds/dodsC/alldata/inundation_extratropical/VIMS_SELFE/2005_2D_preliminary_run_with_waves/00_dir.ncml"
       ]
      },
      {
       "output_type": "stream",
       "stream": "stdout",
       "text": [
        "\n",
        "http://testbed2.sura.org/thredds/dodsC/alldata/inundation_extratropical/VIMS_SELFE/2005_2D_preliminary_run_without_waves/00_dir.ncml"
       ]
      },
      {
       "output_type": "stream",
       "stream": "stdout",
       "text": [
        "\n",
        "http://testbed2.sura.org/thredds/dodsC/alldata/inundation_extratropical/VIMS_SELFE/2007_2D_final_run_waves_only/00_dir.ncml"
       ]
      },
      {
       "output_type": "stream",
       "stream": "stdout",
       "text": [
        "\n",
        "http://testbed2.sura.org/thredds/dodsC/alldata/inundation_extratropical/VIMS_SELFE/2007_2D_final_run_with_waves/00_dir.ncml"
       ]
      },
      {
       "output_type": "stream",
       "stream": "stdout",
       "text": [
        "\n",
        "http://testbed2.sura.org/thredds/dodsC/alldata/inundation_extratropical/VIMS_SELFE/2007_2D_final_run_without_waves/00_dir.ncml"
       ]
      },
      {
       "output_type": "stream",
       "stream": "stdout",
       "text": [
        "\n",
        "fail"
       ]
      },
      {
       "output_type": "stream",
       "stream": "stdout",
       "text": [
        "\n",
        "http://testbed2.sura.org/thredds/dodsC/alldata/inundation_extratropical/VIMS_SELFE/2007_2D_preliminary_run_waves_only/00_dir.ncml"
       ]
      },
      {
       "output_type": "stream",
       "stream": "stdout",
       "text": [
        "\n",
        "http://testbed2.sura.org/thredds/dodsC/alldata/inundation_extratropical/VIMS_SELFE/2007_2D_preliminary_run_with_waves/00_dir.ncml"
       ]
      },
      {
       "output_type": "stream",
       "stream": "stdout",
       "text": [
        "\n",
        "http://testbed2.sura.org/thredds/dodsC/alldata/inundation_extratropical/VIMS_SELFE/2007_2D_preliminary_run_without_waves/00_dir.ncml"
       ]
      },
      {
       "output_type": "stream",
       "stream": "stdout",
       "text": [
        "\n",
        "fail"
       ]
      },
      {
       "output_type": "stream",
       "stream": "stdout",
       "text": [
        "\n",
        "http://testbed2.sura.org/thredds/dodsC/alldata/inundation_extratropical/VIMS_SELFE/2010_2D_final_run_tide_only/00_dir.ncml"
       ]
      },
      {
       "output_type": "stream",
       "stream": "stdout",
       "text": [
        "\n",
        "fail"
       ]
      },
      {
       "output_type": "stream",
       "stream": "stdout",
       "text": [
        "\n",
        "http://testbed2.sura.org/thredds/dodsC/alldata/inundation_extratropical/VIMS_SELFE/2010_2D_preliminary_run_without_waves/00_dir.ncml"
       ]
      },
      {
       "output_type": "stream",
       "stream": "stdout",
       "text": [
        "\n",
        "http://testbed2.sura.org/thredds/dodsC/alldata/estuarine_hypoxia/Long_Hood_ChesROMS_BGC/ChesROMS_BGC_1991-\u00ad?2005/00_dir.ncml"
       ]
      },
      {
       "output_type": "stream",
       "stream": "stdout",
       "text": [
        "\n",
        "fail\n",
        "http://testbed2.sura.org/thredds/dodsC/alldata/estuarine_hypoxia/NOAA_CBOFS/CBOFS/00_dir.ncml"
       ]
      },
      {
       "output_type": "stream",
       "stream": "stdout",
       "text": [
        "\n",
        "fail"
       ]
      },
      {
       "output_type": "stream",
       "stream": "stdout",
       "text": [
        "\n",
        "http://testbed2.sura.org/thredds/dodsC/alldata/estuarine_hypoxia/NOAA_CBOFS/CBOFS_1termDO_2004/00_dir.ncml"
       ]
      },
      {
       "output_type": "stream",
       "stream": "stdout",
       "text": [
        "\n",
        "fail"
       ]
      },
      {
       "output_type": "stream",
       "stream": "stdout",
       "text": [
        "\n",
        "http://testbed2.sura.org/thredds/dodsC/alldata/estuarine_hypoxia/Scully_ChesROMS_1termDO/ChesROMS_1termDO_1991-2005/00_dir.ncml"
       ]
      },
      {
       "output_type": "stream",
       "stream": "stdout",
       "text": [
        "\n",
        "fail"
       ]
      },
      {
       "output_type": "stream",
       "stream": "stdout",
       "text": [
        "\n",
        "http://testbed2.sura.org/thredds/dodsC/alldata/estuarine_hypoxia/Scully_ChesROMS_1termDO/ChesROMS_1termDO_2004-2005/00_dir.ncml"
       ]
      },
      {
       "output_type": "stream",
       "stream": "stdout",
       "text": [
        "\n",
        "fail"
       ]
      },
      {
       "output_type": "stream",
       "stream": "stdout",
       "text": [
        "\n",
        "http://testbed2.sura.org/thredds/dodsC/alldata/estuarine_hypoxia/Li_UMCES_ROMS/Case01_Y2004_lres/00_dir.ncml"
       ]
      },
      {
       "output_type": "stream",
       "stream": "stdout",
       "text": [
        "\n",
        "fail"
       ]
      },
      {
       "output_type": "stream",
       "stream": "stdout",
       "text": [
        "\n",
        "http://testbed2.sura.org/thredds/dodsC/alldata/estuarine_hypoxia/Li_UMCES_ROMS/Case02_Y2004_hres/00_dir.ncml"
       ]
      },
      {
       "output_type": "stream",
       "stream": "stdout",
       "text": [
        "\n",
        "fail"
       ]
      },
      {
       "output_type": "stream",
       "stream": "stdout",
       "text": [
        "\n",
        "http://testbed2.sura.org/thredds/dodsC/alldata/estuarine_hypoxia/Li_UMCES_ROMS/Case03_Y2005_lres/00_dir.ncml"
       ]
      },
      {
       "output_type": "stream",
       "stream": "stdout",
       "text": [
        "\n",
        "fail"
       ]
      },
      {
       "output_type": "stream",
       "stream": "stdout",
       "text": [
        "\n",
        "http://testbed2.sura.org/thredds/dodsC/alldata/estuarine_hypoxia/Li_UMCES_ROMS/Case04_Y2005_hres/00_dir.ncml"
       ]
      },
      {
       "output_type": "stream",
       "stream": "stdout",
       "text": [
        "\n",
        "fail"
       ]
      },
      {
       "output_type": "stream",
       "stream": "stdout",
       "text": [
        "\n",
        "http://testbed2.sura.org/thredds/dodsC/alldata/estuarine_hypoxia/Shen_VIMS_EFDC/EFDC_DO3d_2004/00_dir.ncml"
       ]
      },
      {
       "output_type": "stream",
       "stream": "stdout",
       "text": [
        "\n",
        "fail"
       ]
      },
      {
       "output_type": "stream",
       "stream": "stdout",
       "text": [
        "\n",
        "http://testbed2.sura.org/thredds/dodsC/alldata/estuarine_hypoxia/Bever_et_al_manuscript_runs_VIMS/CBOFS2_2004_2005/00_dir.ncml"
       ]
      },
      {
       "output_type": "stream",
       "stream": "stdout",
       "text": [
        "\n",
        "fail"
       ]
      },
      {
       "output_type": "stream",
       "stream": "stdout",
       "text": [
        "\n",
        "http://testbed2.sura.org/thredds/dodsC/alldata/estuarine_hypoxia/Bever_et_al_manuscript_runs_VIMS/CH3D_ICM_2004/00_dir.ncml"
       ]
      },
      {
       "output_type": "stream",
       "stream": "stdout",
       "text": [
        "\n",
        "fail"
       ]
      },
      {
       "output_type": "stream",
       "stream": "stdout",
       "text": [
        "\n",
        "http://testbed2.sura.org/thredds/dodsC/alldata/estuarine_hypoxia/Bever_et_al_manuscript_runs_VIMS/CH3D_ICM_2005/00_dir.ncml"
       ]
      },
      {
       "output_type": "stream",
       "stream": "stdout",
       "text": [
        "\n",
        "fail"
       ]
      },
      {
       "output_type": "stream",
       "stream": "stdout",
       "text": [
        "\n",
        "http://testbed2.sura.org/thredds/dodsC/alldata/estuarine_hypoxia/Bever_et_al_manuscript_runs_VIMS/ChesROMS_constantR_2004/00_dir.ncml"
       ]
      },
      {
       "output_type": "stream",
       "stream": "stdout",
       "text": [
        "\n",
        "fail"
       ]
      },
      {
       "output_type": "stream",
       "stream": "stdout",
       "text": [
        "\n",
        "http://testbed2.sura.org/thredds/dodsC/alldata/estuarine_hypoxia/Bever_et_al_manuscript_runs_VIMS/ChesROMS_constantR_2005/00_dir.ncml"
       ]
      },
      {
       "output_type": "stream",
       "stream": "stdout",
       "text": [
        "\n",
        "fail"
       ]
      },
      {
       "output_type": "stream",
       "stream": "stdout",
       "text": [
        "\n",
        "http://testbed2.sura.org/thredds/dodsC/alldata/estuarine_hypoxia/Bever_et_al_manuscript_runs_VIMS/ChesROMS_DepthDep_2004/00_dir.ncml"
       ]
      },
      {
       "output_type": "stream",
       "stream": "stdout",
       "text": [
        "\n",
        "fail"
       ]
      },
      {
       "output_type": "stream",
       "stream": "stdout",
       "text": [
        "\n",
        "http://testbed2.sura.org/thredds/dodsC/alldata/estuarine_hypoxia/Bever_et_al_manuscript_runs_VIMS/ChesROMS_DepthDep_2005/00_dir.ncml"
       ]
      },
      {
       "output_type": "stream",
       "stream": "stdout",
       "text": [
        "\n",
        "fail"
       ]
      },
      {
       "output_type": "stream",
       "stream": "stdout",
       "text": [
        "\n",
        "http://testbed2.sura.org/thredds/dodsC/alldata/shelf_hypoxia/dal/roms/b_clim_053_B20clim/00_dir.ncml"
       ]
      },
      {
       "output_type": "stream",
       "stream": "stdout",
       "text": [
        "\n",
        "http://testbed2.sura.org/thredds/dodsC/alldata/shelf_hypoxia/dal/roms/b_clim_058_A20clim/00_dir.ncml"
       ]
      },
      {
       "output_type": "stream",
       "stream": "stdout",
       "text": [
        "\n",
        "fail"
       ]
      },
      {
       "output_type": "stream",
       "stream": "stdout",
       "text": [
        "\n",
        "http://testbed2.sura.org/thredds/dodsC/alldata/shelf_hypoxia/dal/roms/b_hycom_081_A30HYC/00_dir.ncml"
       ]
      },
      {
       "output_type": "stream",
       "stream": "stdout",
       "text": [
        "\n",
        "http://testbed2.sura.org/thredds/dodsC/alldata/shelf_hypoxia/dal/roms/b_hycom_082_B30HYC/00_dir.ncml"
       ]
      },
      {
       "output_type": "stream",
       "stream": "stdout",
       "text": [
        "\n",
        "http://testbed2.sura.org/thredds/dodsC/alldata/shelf_hypoxia/dal/roms/b_iasnfs_080_B30IAS/00_dir.ncml"
       ]
      },
      {
       "output_type": "stream",
       "stream": "stdout",
       "text": [
        "\n",
        "http://testbed2.sura.org/thredds/dodsC/alldata/shelf_hypoxia/dal/roms/b_iasnfs_083_A30IAS/00_dir.ncml"
       ]
      },
      {
       "output_type": "stream",
       "stream": "stdout",
       "text": [
        "\n",
        "http://testbed2.sura.org/thredds/dodsC/alldata/shelf_hypoxia/navocean/ncom_amseas/00_dir.ncml"
       ]
      },
      {
       "output_type": "stream",
       "stream": "stdout",
       "text": [
        "\n",
        "fail"
       ]
      },
      {
       "output_type": "stream",
       "stream": "stdout",
       "text": [
        "\n",
        "http://testbed2.sura.org/thredds/dodsC/alldata/shelf_hypoxia/noaa/NGOM/00_dir.ncml"
       ]
      },
      {
       "output_type": "stream",
       "stream": "stdout",
       "text": [
        "\n",
        "fail"
       ]
      },
      {
       "output_type": "stream",
       "stream": "stdout",
       "text": [
        "\n",
        "http://testbed2.sura.org/thredds/dodsC/alldata/shelf_hypoxia/nrl/gem3d/00_dir.ncml"
       ]
      },
      {
       "output_type": "stream",
       "stream": "stdout",
       "text": [
        "\n",
        "fail"
       ]
      },
      {
       "output_type": "stream",
       "stream": "stdout",
       "text": [
        "\n",
        "http://testbed2.sura.org/thredds/dodsC/alldata/shelf_hypoxia/nrl/hycom_gom/00_dir.ncml"
       ]
      },
      {
       "output_type": "stream",
       "stream": "stdout",
       "text": [
        "\n",
        "fail"
       ]
      },
      {
       "output_type": "stream",
       "stream": "stdout",
       "text": [
        "\n",
        "http://testbed2.sura.org/thredds/dodsC/alldata/shelf_hypoxia/nrl/ncom_gom/00_dir.ncml"
       ]
      },
      {
       "output_type": "stream",
       "stream": "stdout",
       "text": [
        "\n",
        "fail"
       ]
      },
      {
       "output_type": "stream",
       "stream": "stdout",
       "text": [
        "\n",
        "http://testbed2.sura.org/thredds/dodsC/alldata/shelf_hypoxia/nrl/ncom_iasnfs/00_dir.ncml"
       ]
      },
      {
       "output_type": "stream",
       "stream": "stdout",
       "text": [
        "\n",
        "fail"
       ]
      },
      {
       "output_type": "stream",
       "stream": "stdout",
       "text": [
        "\n",
        "http://testbed2.sura.org/thredds/dodsC/alldata/shelf_hypoxia/ssc/v1/00_dir.ncml"
       ]
      },
      {
       "output_type": "stream",
       "stream": "stdout",
       "text": [
        "\n",
        "fail"
       ]
      },
      {
       "output_type": "stream",
       "stream": "stdout",
       "text": [
        "\n",
        "http://testbed2.sura.org/thredds/dodsC/alldata/shelf_hypoxia/ssc/v3/00_dir.ncml"
       ]
      },
      {
       "output_type": "stream",
       "stream": "stdout",
       "text": [
        "\n",
        "fail"
       ]
      },
      {
       "output_type": "stream",
       "stream": "stdout",
       "text": [
        "\n",
        "http://testbed2.sura.org/thredds/dodsC/alldata/shelf_hypoxia/tamu/ssh/00_dir.ncml"
       ]
      },
      {
       "output_type": "stream",
       "stream": "stdout",
       "text": [
        "\n",
        "fail"
       ]
      },
      {
       "output_type": "stream",
       "stream": "stdout",
       "text": [
        "\n",
        "http://testbed2.sura.org/thredds/dodsC/alldata/shelf_hypoxia/tamu/roms/00_dir.ncml"
       ]
      },
      {
       "output_type": "stream",
       "stream": "stdout",
       "text": [
        "\n",
        "fail"
       ]
      },
      {
       "output_type": "stream",
       "stream": "stdout",
       "text": [
        "\n"
       ]
      }
     ],
     "prompt_number": 56
    },
    {
     "cell_type": "code",
     "collapsed": false,
     "input": [
      "url='http://testbed2.sura.org/thredds/dodsC/alldata/inundation_tropical/UND_ADCIRC/Hurricane_Ike_2D_final_run_with_waves/00_dir.ncml'"
     ],
     "language": "python",
     "metadata": {},
     "outputs": [],
     "prompt_number": 61
    },
    {
     "cell_type": "code",
     "collapsed": false,
     "input": [
      "url='http://testbed2.sura.org/thredds/dodsC/alldata/inundation_tropical/USF_FVCOM/SWAN_Ike_final_run_with_2DSurge/01_dir.ncml'"
     ],
     "language": "python",
     "metadata": {},
     "outputs": [],
     "prompt_number": 4
    },
    {
     "cell_type": "code",
     "collapsed": false,
     "input": [
      "ug = pyugrid.UGrid.from_ncfile(url)"
     ],
     "language": "python",
     "metadata": {},
     "outputs": [],
     "prompt_number": 5
    },
    {
     "cell_type": "code",
     "collapsed": false,
     "input": [
      "nc = netCDF4.Dataset(url)\n",
      "ncvars = nc.variables"
     ],
     "language": "python",
     "metadata": {},
     "outputs": [],
     "prompt_number": 64
    },
    {
     "cell_type": "code",
     "collapsed": false,
     "input": [
      "meshname = 'adcirc_mesh'\n",
      "meshatt_names = ncvars[meshname].ncattrs()"
     ],
     "language": "python",
     "metadata": {},
     "outputs": [],
     "prompt_number": 65
    },
    {
     "cell_type": "code",
     "collapsed": false,
     "input": [
      "meshatt_names"
     ],
     "language": "python",
     "metadata": {},
     "outputs": [
      {
       "metadata": {},
       "output_type": "pyout",
       "prompt_number": 66,
       "text": [
        "[u'long_name',\n",
        " u'node_coordinates',\n",
        " u'face_node_connectivity',\n",
        " u'cf_role',\n",
        " u'topology_dimension']"
       ]
      }
     ],
     "prompt_number": 66
    },
    {
     "cell_type": "code",
     "collapsed": false,
     "input": [
      "meshatts = {}\n",
      "for attname in meshatt_names:\n",
      "    meshatts[attname] = ncvars[meshname].getncattr(attname)\n",
      "assert meshatts['cf_role'] == 'mesh_topology'"
     ],
     "language": "python",
     "metadata": {},
     "outputs": [],
     "prompt_number": 68
    },
    {
     "cell_type": "code",
     "collapsed": false,
     "input": [
      "node_coordinates = meshatts.get('node_coordinates', None)"
     ],
     "language": "python",
     "metadata": {},
     "outputs": [],
     "prompt_number": 69
    },
    {
     "cell_type": "code",
     "collapsed": false,
     "input": [
      "node_coordinates"
     ],
     "language": "python",
     "metadata": {},
     "outputs": [
      {
       "metadata": {},
       "output_type": "pyout",
       "prompt_number": 70,
       "text": [
        "u'x y'"
       ]
      }
     ],
     "prompt_number": 70
    },
    {
     "cell_type": "code",
     "collapsed": false,
     "input": [
      "type(node_coordinates)"
     ],
     "language": "python",
     "metadata": {},
     "outputs": [
      {
       "metadata": {},
       "output_type": "pyout",
       "prompt_number": 72,
       "text": [
        "unicode"
       ]
      }
     ],
     "prompt_number": 72
    },
    {
     "cell_type": "code",
     "collapsed": false,
     "input": [
      "node_coord_var=node_coordinates.split()[0].strip()"
     ],
     "language": "python",
     "metadata": {},
     "outputs": [],
     "prompt_number": 78
    },
    {
     "cell_type": "code",
     "collapsed": false,
     "input": [
      "foo=ncvars[node_coord_var]"
     ],
     "language": "python",
     "metadata": {},
     "outputs": [],
     "prompt_number": 82
    },
    {
     "cell_type": "code",
     "collapsed": false,
     "input": [
      "len(foo)"
     ],
     "language": "python",
     "metadata": {},
     "outputs": [
      {
       "metadata": {},
       "output_type": "pyout",
       "prompt_number": 83,
       "text": [
        "417642"
       ]
      }
     ],
     "prompt_number": 83
    },
    {
     "cell_type": "code",
     "collapsed": false,
     "input": [
      "dap_url='http://129.252.139.124/thredds/dodsC/testAll/sciwms.nc'"
     ],
     "language": "python",
     "metadata": {},
     "outputs": [],
     "prompt_number": 2
    },
    {
     "cell_type": "code",
     "collapsed": false,
     "input": [
      "pyugrid.UGrid.from_ncfile(dap_url)"
     ],
     "language": "python",
     "metadata": {},
     "outputs": [
      {
       "ename": "IndexError",
       "evalue": "list index out of range",
       "output_type": "pyerr",
       "traceback": [
        "\u001b[1;31m---------------------------------------------------------------------------\u001b[0m\n\u001b[1;31mIndexError\u001b[0m                                Traceback (most recent call last)",
        "\u001b[1;32m<ipython-input-3-515809097d44>\u001b[0m in \u001b[0;36m<module>\u001b[1;34m()\u001b[0m\n\u001b[1;32m----> 1\u001b[1;33m \u001b[0mpyugrid\u001b[0m\u001b[1;33m.\u001b[0m\u001b[0mUGrid\u001b[0m\u001b[1;33m.\u001b[0m\u001b[0mfrom_ncfile\u001b[0m\u001b[1;33m(\u001b[0m\u001b[0mdap_url\u001b[0m\u001b[1;33m)\u001b[0m\u001b[1;33m\u001b[0m\u001b[0m\n\u001b[0m",
        "\u001b[1;32m/home/local/python27_epd/lib/python2.7/site-packages/pyugrid/ugrid.pyc\u001b[0m in \u001b[0;36mfrom_ncfile\u001b[1;34m(klass, nc_url, mesh_name)\u001b[0m\n\u001b[0;32m    151\u001b[0m         \u001b[0mdata\u001b[0m \u001b[1;33m=\u001b[0m \u001b[0mopen_cf_todict\u001b[0m\u001b[1;33m(\u001b[0m\u001b[0mnc_url\u001b[0m\u001b[1;33m)\u001b[0m\u001b[1;33m\u001b[0m\u001b[0m\n\u001b[0;32m    152\u001b[0m         \u001b[1;32mif\u001b[0m \u001b[0mmesh_name\u001b[0m \u001b[1;32mis\u001b[0m \u001b[0mNone\u001b[0m\u001b[1;33m:\u001b[0m\u001b[1;33m\u001b[0m\u001b[0m\n\u001b[1;32m--> 153\u001b[1;33m             \u001b[0mug\u001b[0m \u001b[1;33m=\u001b[0m \u001b[0mdata\u001b[0m\u001b[1;33m[\u001b[0m\u001b[0mdata\u001b[0m\u001b[1;33m.\u001b[0m\u001b[0mkeys\u001b[0m\u001b[1;33m(\u001b[0m\u001b[1;33m)\u001b[0m\u001b[1;33m[\u001b[0m\u001b[1;36m0\u001b[0m\u001b[1;33m]\u001b[0m\u001b[1;33m]\u001b[0m\u001b[1;33m\u001b[0m\u001b[0m\n\u001b[0m\u001b[0;32m    154\u001b[0m         \u001b[1;32melse\u001b[0m\u001b[1;33m:\u001b[0m\u001b[1;33m\u001b[0m\u001b[0m\n\u001b[0;32m    155\u001b[0m             \u001b[0mug\u001b[0m \u001b[1;33m=\u001b[0m \u001b[0mdata\u001b[0m\u001b[1;33m[\u001b[0m\u001b[0mmesh_name\u001b[0m\u001b[1;33m]\u001b[0m\u001b[1;33m\u001b[0m\u001b[0m\n",
        "\u001b[1;31mIndexError\u001b[0m: list index out of range"
       ]
      }
     ],
     "prompt_number": 3
    },
    {
     "cell_type": "code",
     "collapsed": false,
     "input": [
      "dap_url='http://testbed2.sura.org/thredds/dodsC/alldata/inundation_extratropical/UND_ADCIRC/2010_2D_final_run_tide_only/00_dir.ncml'\n",
      "dap_url='http://testbed2.sura.org/thredds/dodsC/alldata/inundation_extratropical/UMASS_FVCOM/2005_fine_grid1/current/00_dir.ncml'\n",
      "pyugrid.UGrid.from_ncfile(dap_url)"
     ],
     "language": "python",
     "metadata": {},
     "outputs": [
      {
       "metadata": {},
       "output_type": "pyout",
       "prompt_number": 12,
       "text": [
        "<pyugrid.ugrid.UGrid at 0x39119d0>"
       ]
      }
     ],
     "prompt_number": 12
    },
    {
     "cell_type": "code",
     "collapsed": false,
     "input": [
      "dap_url='http://testbedapps-dev.sura.org/thredds/dodsC/alldata/Inundation/umass/fvcom_extratropical/runs/2005_fine_grid1/wave/output/00_dir.ncml'"
     ],
     "language": "python",
     "metadata": {},
     "outputs": [],
     "prompt_number": 3
    },
    {
     "cell_type": "code",
     "collapsed": false,
     "input": [
      "foo=pyugrid.UGrid.from_ncfile(dap_url)"
     ],
     "language": "python",
     "metadata": {},
     "outputs": [],
     "prompt_number": 5
    },
    {
     "cell_type": "code",
     "collapsed": false,
     "input": [
      "foo.nodes.len()"
     ],
     "language": "python",
     "metadata": {},
     "outputs": [
      {
       "ename": "AttributeError",
       "evalue": "'numpy.ndarray' object has no attribute 'len'",
       "output_type": "pyerr",
       "traceback": [
        "\u001b[1;31m---------------------------------------------------------------------------\u001b[0m\n\u001b[1;31mAttributeError\u001b[0m                            Traceback (most recent call last)",
        "\u001b[1;32m<ipython-input-6-4738ae91f08b>\u001b[0m in \u001b[0;36m<module>\u001b[1;34m()\u001b[0m\n\u001b[1;32m----> 1\u001b[1;33m \u001b[0mfoo\u001b[0m\u001b[1;33m.\u001b[0m\u001b[0mnodes\u001b[0m\u001b[1;33m.\u001b[0m\u001b[0mlen\u001b[0m\u001b[1;33m(\u001b[0m\u001b[1;33m)\u001b[0m\u001b[1;33m\u001b[0m\u001b[0m\n\u001b[0m",
        "\u001b[1;31mAttributeError\u001b[0m: 'numpy.ndarray' object has no attribute 'len'"
       ]
      }
     ],
     "prompt_number": 6
    },
    {
     "cell_type": "code",
     "collapsed": false,
     "input": [
      "foo.num_vertices"
     ],
     "language": "python",
     "metadata": {},
     "outputs": [
      {
       "metadata": {},
       "output_type": "pyout",
       "prompt_number": 8,
       "text": [
        "3"
       ]
      }
     ],
     "prompt_number": 8
    },
    {
     "cell_type": "code",
     "collapsed": false,
     "input": [
      "a=foo.nodes"
     ],
     "language": "python",
     "metadata": {},
     "outputs": [],
     "prompt_number": 9
    },
    {
     "cell_type": "code",
     "collapsed": false,
     "input": [
      "type(a)"
     ],
     "language": "python",
     "metadata": {},
     "outputs": [
      {
       "metadata": {},
       "output_type": "pyout",
       "prompt_number": 10,
       "text": [
        "numpy.ndarray"
       ]
      }
     ],
     "prompt_number": 10
    },
    {
     "cell_type": "code",
     "collapsed": false,
     "input": [
      "shape(a)"
     ],
     "language": "python",
     "metadata": {},
     "outputs": [
      {
       "metadata": {},
       "output_type": "pyout",
       "prompt_number": 11,
       "text": [
        "(5620, 2)"
       ]
      }
     ],
     "prompt_number": 11
    },
    {
     "cell_type": "code",
     "collapsed": false,
     "input": [],
     "language": "python",
     "metadata": {},
     "outputs": []
    }
   ],
   "metadata": {}
  }
 ]
}