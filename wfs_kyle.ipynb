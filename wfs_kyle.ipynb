{
 "metadata": {
  "name": "",
  "signature": "sha256:76c028b6ec99da1394f103d811c423a8f639bc0897e203efdc7b4fb802389754"
 },
 "nbformat": 3,
 "nbformat_minor": 0,
 "worksheets": [
  {
   "cells": [
    {
     "cell_type": "code",
     "collapsed": false,
     "input": [
      "import requests\n",
      "import json\n",
      "import geojson\n",
      "from shapely.geometry import mapping\n",
      "\n",
      "url = ('https://www.sciencebase.gov/catalogMaps/mapping/ows/53398e51e4b0db25ad10d288?'\n",
      "'service=wfs&version=1.0.0&request=GetFeature&'\n",
      "'typeNames=sb:Project_Area&outputFormat=application/json')\n",
      "\n",
      "geo = mapping(geojson.loads(requests.get(url).text))"
     ],
     "language": "python",
     "metadata": {},
     "outputs": [],
     "prompt_number": 2
    },
    {
     "cell_type": "code",
     "collapsed": false,
     "input": [],
     "language": "python",
     "metadata": {},
     "outputs": []
    }
   ],
   "metadata": {}
  }
 ]
}