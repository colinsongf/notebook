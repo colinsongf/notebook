{
 "metadata": {
  "name": "",
  "signature": "sha256:4c1365dd182903b05c96769e506b5684ab27ef2684e862648dd17404d9d6499c"
 },
 "nbformat": 3,
 "nbformat_minor": 0,
 "worksheets": [
  {
   "cells": [
    {
     "cell_type": "markdown",
     "metadata": {},
     "source": [
      "Outline of Notebook Elements:\n",
      "*  Theme Title\n",
      "*  Questions\n",
      "*  DISCOVERY Process (code and narrative)\n",
      "*  ACCESS Process (code and narrative)\n",
      "*  USE Process (code and narrative)\n",
      "*  Results and Conclusions (narrative)"
     ]
    },
    {
     "cell_type": "heading",
     "level": 1,
     "metadata": {},
     "source": [
      "Theme: Extreme Event\n",
      "  >  Scenario B: Oil Tanker Spill"
     ]
    },
    {
     "cell_type": "heading",
     "level": 3,
     "metadata": {},
     "source": [
      "I. Question: Can we discover and access the core variables applicable to analysis of an Oil Tanker Spill from the available list of Registries?"
     ]
    },
    {
     "cell_type": "markdown",
     "metadata": {},
     "source": [
      "figure out the different names for service urls - sos, wms, dap - and figure out how to loop those through so you don't leave off any.... df. function - figure that out and how to spit out tables for the assessment and how to graph that  -- figure out some basic graphs to do for each extreme event"
     ]
    },
    {
     "cell_type": "code",
     "collapsed": false,
     "input": [
      "import pandas as pd\n",
      "from pandas import Series, DataFrame\n",
      "import numpy as np\n",
      "import matplotlib.pyplot as plt\n",
      "import matplotlib.cbook as cbook\n",
      "import csv\n",
      "import re\n",
      "import cStringIO\n",
      "import urllib2\n",
      "import parser\n",
      "import pdb\n",
      "from datetime import datetime\n",
      "from pylab import *\n",
      "from owslib.csw import CatalogueServiceWeb\n",
      "from owslib.wms import WebMapService\n",
      "from owslib.csw import CatalogueServiceWeb\n",
      "from owslib.sos import SensorObservationService\n",
      "from owslib.etree import etree\n",
      "from owslib import fes\n",
      "#from pyoos.utils.etree import etree\n",
      "#from pyoos.parsers.ioos.one.timeseries import TimeSeries\n",
      "#from pyoos.collectors.coops.coops_sos import CoopsSos\n",
      "import netCDF4\n",
      "\n",
      "endpoints = ['http://www.nodc.noaa.gov/geoportal/csw',\n",
      "             'http://www.ngdc.noaa.gov/geoportal/csw',\n",
      "             'http://catalog.data.gov/csw-all',\n",
      "             'http://geoport.whoi.edu/geoportal/csw',\n",
      "             'https://edg.epa.gov/metadata/csw',\n",
      "             'http://cmgds.marine.usgs.gov/geonetwork/srv/en/csw',\n",
      "             'http://cida.usgs.gov/gdp/geonetwork/srv/en/csw',\n",
      "             'http://geodiscover.cgdi.ca/wes/serviceManagerCSW/csw']\n",
      "\n",
      "variables = ['phytoplankton','zooplankton', 'fish', 'river', 'currents', 'bathymetry', 'wind']"
     ],
     "language": "python",
     "metadata": {},
     "outputs": [],
     "prompt_number": 1
    },
    {
     "cell_type": "heading",
     "level": 2,
     "metadata": {},
     "source": [
      "A. DISCOVERY Process: Accessing Catalogs for variables required for oil spill modeling."
     ]
    },
    {
     "cell_type": "code",
     "collapsed": false,
     "input": [
      "cswlist = []\n",
      "oplist = []\n",
      "isolist = []\n",
      "lenoplist =[]\n",
      "lenisolist=[]\n",
      "for endpoint in endpoints[:2]:\n",
      "    csw = CatalogueServiceWeb(endpoint,timeout=60)\n",
      "    cswlist.append(csw.version)\n",
      "    oplist.append([op.name for op in csw.operations])\n",
      "    for oper in csw.operations:\n",
      "        try:\n",
      "            if oper.name == 'GetRecords':\n",
      "                isolist.append(oper.constraints['SupportedISOQueryables']['values'])\n",
      "        except KeyError:\n",
      "            isolist.append('Keyerror')\n",
      "    lenoplist.append(len(oplist[-1]))\n",
      "    lenisolist.append(len(isolist[-1]))          \n",
      "  "
     ],
     "language": "python",
     "metadata": {},
     "outputs": [],
     "prompt_number": 2
    },
    {
     "cell_type": "code",
     "collapsed": false,
     "input": [
      "  \n",
      "CWSLIST = zip(endpoints,cswlist,oplist,lenoplist, isolist,lenisolist)\n",
      "df = DataFrame(data = CWSLIST, columns = ['endpoint','CSW Version', 'Operations','#of Operations','ISO_Queryables','#isoqueryeables'])\n",
      "print df"
     ],
     "language": "python",
     "metadata": {},
     "outputs": [
      {
       "output_type": "stream",
       "stream": "stdout",
       "text": [
        "                                 endpoint CSW Version  \\\n",
        "0  http://www.nodc.noaa.gov/geoportal/csw       2.0.2   \n",
        "1  http://www.ngdc.noaa.gov/geoportal/csw       2.0.2   \n",
        "\n",
        "                                          Operations  #of Operations  \\\n",
        "0  [GetCapabilities, DescribeRecord, GetRecords, ...               5   \n",
        "1  [GetCapabilities, DescribeRecord, GetRecords, ...               5   \n",
        "\n",
        "                                      ISO_Queryables  #isoqueryeables  \n",
        "0  [apiso:Subject, apiso:Title, apiso:Abstract, a...               37  \n",
        "1  [apiso:Subject, apiso:Title, apiso:Abstract, a...               37  \n",
        "\n",
        "[2 rows x 6 columns]\n"
       ]
      }
     ],
     "prompt_number": 3
    },
    {
     "cell_type": "code",
     "collapsed": false,
     "input": [
      "#IOOS Core Biological Variables include fish, phytoplankton, and zooplankton\n",
      "#searching for these keywords in a particular registry provides titles of records that include a wide range of records.  \n",
      "#This provides a first step in discovery, and refining data sets for a particular time period and geography will be the next step.\n",
      "#Variable search terms:\n",
      "\n",
      "#    phytoplankton\n",
      "#    zooplankton\n",
      "#    fish\n",
      "#    river flow rates\n",
      "#    sea surface currents #velocity vectors\n",
      "#    bathymetry\n",
      "#    bottom type\n",
      "#    wind\n",
      "\n",
      "\n",
      "\n",
      "variables = ['phytoplankton','zooplankton', 'fish', 'river', 'currents', 'bathymetry', 'wind']\n",
      "variables1 = []\n",
      "records1 = []\n",
      "records2 = []\n",
      "titles1 = []\n",
      "titles2=[]\n",
      "lenrecords1 = []\n",
      "lentitles1 = []\n",
      "k = 0\n",
      "for endpoint in endpoints[:2]:    \n",
      "    csw = CatalogueServiceWeb(endpoints[k],timeout=60)\n",
      "    n = 0\n",
      "    for v in variables:\n",
      "        try:\n",
      "            csw.getrecords(keywords = [variables[n]], maxrecords = 60)\n",
      "            records1.append(csw.results)\n",
      "        except Exception, ex1:\n",
      "            records1.append('Error')\n",
      "        try:\n",
      "            for rec in csw.records:    \n",
      "                titles1.append(csw.records[rec].title)\n",
      "        except Exception, ex1:\n",
      "            titles1.append('Error') \n",
      "        n +=1\n",
      "    titles2.append(titles1)\n",
      "    records2.append(records1)\n",
      "    lentitles1.append(len(titles2[k]))\n",
      "    lenrecords1.append(len(records2[k]))\n",
      "    k +=1\n",
      "\n",
      "\n",
      "    #records.append(records1)\n",
      "    #titles.append(title)\n",
      "    #records.append(csw.results)\n",
      "    #for rec in csw.records:\n",
      "zipvar1 = zip(endpoints, records2,lenrecords1, titles2,lentitles1)\n",
      "df = DataFrame(data = zipvar1, columns = ['endpoints', 'records1','lenrecords1', 'titles1','lentitles1'])\n",
      "print df\n",
      "\n"
     ],
     "language": "python",
     "metadata": {},
     "outputs": [
      {
       "output_type": "stream",
       "stream": "stdout",
       "text": [
        "                                endpoints  \\\n",
        "0  http://www.nodc.noaa.gov/geoportal/csw   \n",
        "1  http://www.ngdc.noaa.gov/geoportal/csw   \n",
        "\n",
        "                                            records1  lenrecords1  \\\n",
        "0  [{u'matches': 37, u'nextrecord': 0, u'returned...            7   \n",
        "1  [{u'matches': 37, u'nextrecord': 0, u'returned...           14   \n",
        "\n",
        "                                             titles1  lentitles1  \n",
        "0  [Fluorescence, Terra MODIS, OSU DB, 0.125 degr...         280  \n",
        "1  [Fluorescence, Terra MODIS, OSU DB, 0.125 degr...         595  \n",
        "\n",
        "[2 rows x 5 columns]\n"
       ]
      },
      {
       "output_type": "stream",
       "stream": "stderr",
       "text": [
        "/home/local/python27_epd/lib/python2.7/site-packages/owslib/csw.py:189: UserWarning: Please use the updated 'getrecords2' method instead of 'getrecords'.  \n",
        "        The 'getrecords' method will be upgraded to use the 'getrecords2' parameters\n",
        "        in a future version of OWSLib.\n",
        "  in a future version of OWSLib.\"\"\")\n"
       ]
      }
     ],
     "prompt_number": 4
    },
    {
     "cell_type": "code",
     "collapsed": false,
     "input": [
      "def service_urls(records,service_string='urn:x-esri:specification:ServiceType:odp:url'):\n",
      "    urls=[]\n",
      "    for key,rec in records.iteritems():\n",
      "        #create a generator object, and iterate through it until the match is found\n",
      "        #if not found, gets the default value (here \"none\")\n",
      "        url = next((d['url'] for d in rec.references if d['scheme'] == service_string), None)\n",
      "        if url is not None:\n",
      "            urls.append(url)\n",
      "    return urls\n",
      "\n",
      "#Establish daterange definitions\n",
      "def dateRange(start_date='1900-01-01',stop_date='2100-01-01',constraint='overlaps'):\n",
      "    if constraint == 'overlaps':\n",
      "        start = fes.PropertyIsLessThanOrEqualTo(propertyname='startDate', literal=stop_date)\n",
      "        stop = fes.PropertyIsGreaterThanOrEqualTo(propertyname='endDate', literal=start_date)\n",
      "    elif constraint == 'within':\n",
      "        start = fes.PropertyIsGreaterThanOrEqualTo(propertyname='startDate', literal=start_date)\n",
      "        stop = fes.PropertyIsLessThanOrEqualTo(propertyname='endDate', literal=stop_date)\n",
      "    return start,stop\n"
     ],
     "language": "python",
     "metadata": {},
     "outputs": [],
     "prompt_number": 5
    },
    {
     "cell_type": "code",
     "collapsed": false,
     "input": [
      "variables1 = ['wind', 'temp']\n",
      "n_wms_urls = []\n",
      "n_dap_urls = []\n",
      "n_sos_urls = []\n",
      "wms_urls1= []\n",
      "dap_urls1= []\n",
      "sos_urls1= []\n",
      "k = 0\n",
      "for endpoint in endpoints[:2]:\n",
      "    csw = CatalogueServiceWeb(endpoints[k],timeout=60)\n",
      "    n = 0\n",
      "    for v in variables1:\n",
      "        try:\n",
      "            csw.getrecords(keywords = [variables[n]], maxrecords = 60)\n",
      "            sos_urls = service_urls(csw.records,service_string='urn:x-esri:specification:ServiceType:sos:url')\n",
      "            dap_urls = service_urls(csw.records,service_string='urn:x-esri:specification:ServiceType:odp:url')\n",
      "            wms_urls = service_urls(csw.records,service_string='urn:x-esri:specification:ServiceType:wms:url')\n",
      "            bbox = fes.BBox([180, 90, -180, -90])\n",
      "            start,stop = dateRange('1970-01-01','2014-02-01')\n",
      "            std_name = variables[n]\n",
      "            sos_name = variables[n]\n",
      "            keywords = fes.PropertyIsLike(propertyname='anyText', literal=std_name)\n",
      "            serviceType = fes.PropertyIsLike(propertyname='apiso:ServiceType', literal='*opendap*') \n",
      "        except Exception, ex1:\n",
      "            sos_urls = 'None'\n",
      "            dap_urls = 'None'\n",
      "            wms_urls = 'None'\n",
      "        n +=1       \n",
      "    wms_urls1.append(wms_urls)\n",
      "    dap_urls1.append(dap_urls)\n",
      "    sos_urls1.append(sos_urls)\n",
      "    k += 1\n",
      "print wms_urls\n",
      "zipvar1 = zip(endpoints, wms_urls1, dap_urls1, sos_urls1)\n",
      "#df = DataFrame(data = zipvar1, columns = ['endpoints', 'wms_urls', 'n_wms_urls', 'dap_urls', 'n_dap_urls', 'sos_urls', 'n_sos_urls'])\n",
      "df = DataFrame(data = zipvar1, columns = ['endpoints', 'wms_urls', 'dap_urls', 'sos_urls'])\n",
      "print df"
     ],
     "language": "python",
     "metadata": {},
     "outputs": [
      {
       "output_type": "stream",
       "stream": "stdout",
       "text": [
        "None\n",
        "                                endpoints wms_urls dap_urls sos_urls\n",
        "0  http://www.nodc.noaa.gov/geoportal/csw       []       []       []\n",
        "1  http://www.ngdc.noaa.gov/geoportal/csw     None     None     None\n",
        "\n",
        "[2 rows x 4 columns]\n"
       ]
      }
     ],
     "prompt_number": 6
    },
    {
     "cell_type": "code",
     "collapsed": false,
     "input": [
      "\n",
      "k = 0\n",
      "for endpoint in endpoints[:2]:\n",
      "    csw = CatalogueServiceWeb(endpoints[k],timeout=60)\n",
      "    print 'Endpoint: ' + endpoint\n",
      "    print 'Number of WMS: ' + str(len(wms_urls))\n",
      "    print 'Number of DAP: ' + str(len(dap_urls))\n",
      "    print 'Number of SOS: ' + str(len(sos_urls))\n",
      "    print ''\n",
      "    k +=1"
     ],
     "language": "python",
     "metadata": {},
     "outputs": [
      {
       "output_type": "stream",
       "stream": "stdout",
       "text": [
        "Endpoint: http://www.nodc.noaa.gov/geoportal/csw\n",
        "Number of WMS: 4\n",
        "Number of DAP: 4\n",
        "Number of SOS: 4\n",
        "\n"
       ]
      },
      {
       "ename": "timeout",
       "evalue": "timed out",
       "output_type": "pyerr",
       "traceback": [
        "\u001b[1;31m---------------------------------------------------------------------------\u001b[0m\n\u001b[1;31mtimeout\u001b[0m                                   Traceback (most recent call last)",
        "\u001b[1;32m<ipython-input-7-052b62fbab55>\u001b[0m in \u001b[0;36m<module>\u001b[1;34m()\u001b[0m\n\u001b[0;32m      2\u001b[0m \u001b[0mk\u001b[0m \u001b[1;33m=\u001b[0m \u001b[1;36m0\u001b[0m\u001b[1;33m\u001b[0m\u001b[0m\n\u001b[0;32m      3\u001b[0m \u001b[1;32mfor\u001b[0m \u001b[0mendpoint\u001b[0m \u001b[1;32min\u001b[0m \u001b[0mendpoints\u001b[0m\u001b[1;33m:\u001b[0m\u001b[1;33m\u001b[0m\u001b[0m\n\u001b[1;32m----> 4\u001b[1;33m     \u001b[0mcsw\u001b[0m \u001b[1;33m=\u001b[0m \u001b[0mCatalogueServiceWeb\u001b[0m\u001b[1;33m(\u001b[0m\u001b[0mendpoints\u001b[0m\u001b[1;33m[\u001b[0m\u001b[0mk\u001b[0m\u001b[1;33m]\u001b[0m\u001b[1;33m,\u001b[0m\u001b[0mtimeout\u001b[0m\u001b[1;33m=\u001b[0m\u001b[1;36m60\u001b[0m\u001b[1;33m)\u001b[0m\u001b[1;33m\u001b[0m\u001b[0m\n\u001b[0m\u001b[0;32m      5\u001b[0m     \u001b[1;32mprint\u001b[0m \u001b[1;34m'Endpoint: '\u001b[0m \u001b[1;33m+\u001b[0m \u001b[0mendpoint\u001b[0m\u001b[1;33m\u001b[0m\u001b[0m\n\u001b[0;32m      6\u001b[0m     \u001b[1;32mprint\u001b[0m \u001b[1;34m'Number of WMS: '\u001b[0m \u001b[1;33m+\u001b[0m \u001b[0mstr\u001b[0m\u001b[1;33m(\u001b[0m\u001b[0mlen\u001b[0m\u001b[1;33m(\u001b[0m\u001b[0mwms_urls\u001b[0m\u001b[1;33m)\u001b[0m\u001b[1;33m)\u001b[0m\u001b[1;33m\u001b[0m\u001b[0m\n",
        "\u001b[1;32m/home/local/python27_epd/lib/python2.7/site-packages/owslib/csw.pyc\u001b[0m in \u001b[0;36m__init__\u001b[1;34m(self, url, lang, version, timeout, skip_caps)\u001b[0m\n\u001b[0;32m     71\u001b[0m             \u001b[0mself\u001b[0m\u001b[1;33m.\u001b[0m\u001b[0mrequest\u001b[0m \u001b[1;33m=\u001b[0m \u001b[1;34m'%s%s'\u001b[0m \u001b[1;33m%\u001b[0m \u001b[1;33m(\u001b[0m\u001b[0mbind_url\u001b[0m\u001b[1;33m(\u001b[0m\u001b[0mself\u001b[0m\u001b[1;33m.\u001b[0m\u001b[0murl\u001b[0m\u001b[1;33m)\u001b[0m\u001b[1;33m,\u001b[0m \u001b[0murlencode\u001b[0m\u001b[1;33m(\u001b[0m\u001b[0mdata\u001b[0m\u001b[1;33m)\u001b[0m\u001b[1;33m)\u001b[0m\u001b[1;33m\u001b[0m\u001b[0m\n\u001b[0;32m     72\u001b[0m \u001b[1;33m\u001b[0m\u001b[0m\n\u001b[1;32m---> 73\u001b[1;33m             \u001b[0mself\u001b[0m\u001b[1;33m.\u001b[0m\u001b[0m_invoke\u001b[0m\u001b[1;33m(\u001b[0m\u001b[1;33m)\u001b[0m\u001b[1;33m\u001b[0m\u001b[0m\n\u001b[0m\u001b[0;32m     74\u001b[0m \u001b[1;33m\u001b[0m\u001b[0m\n\u001b[0;32m     75\u001b[0m             \u001b[1;32mif\u001b[0m \u001b[0mself\u001b[0m\u001b[1;33m.\u001b[0m\u001b[0mexceptionreport\u001b[0m \u001b[1;32mis\u001b[0m \u001b[0mNone\u001b[0m\u001b[1;33m:\u001b[0m\u001b[1;33m\u001b[0m\u001b[0m\n",
        "\u001b[1;32m/home/local/python27_epd/lib/python2.7/site-packages/owslib/csw.pyc\u001b[0m in \u001b[0;36m_invoke\u001b[1;34m(self)\u001b[0m\n\u001b[0;32m    585\u001b[0m \u001b[1;33m\u001b[0m\u001b[0m\n\u001b[0;32m    586\u001b[0m         \u001b[1;32mif\u001b[0m \u001b[0misinstance\u001b[0m\u001b[1;33m(\u001b[0m\u001b[0mself\u001b[0m\u001b[1;33m.\u001b[0m\u001b[0mrequest\u001b[0m\u001b[1;33m,\u001b[0m \u001b[0mbasestring\u001b[0m\u001b[1;33m)\u001b[0m\u001b[1;33m:\u001b[0m  \u001b[1;31m# GET KVP\u001b[0m\u001b[1;33m\u001b[0m\u001b[0m\n\u001b[1;32m--> 587\u001b[1;33m             \u001b[0mself\u001b[0m\u001b[1;33m.\u001b[0m\u001b[0mresponse\u001b[0m \u001b[1;33m=\u001b[0m \u001b[0murlopen\u001b[0m\u001b[1;33m(\u001b[0m\u001b[0mself\u001b[0m\u001b[1;33m.\u001b[0m\u001b[0mrequest\u001b[0m\u001b[1;33m,\u001b[0m \u001b[0mtimeout\u001b[0m\u001b[1;33m=\u001b[0m\u001b[0mself\u001b[0m\u001b[1;33m.\u001b[0m\u001b[0mtimeout\u001b[0m\u001b[1;33m)\u001b[0m\u001b[1;33m.\u001b[0m\u001b[0mread\u001b[0m\u001b[1;33m(\u001b[0m\u001b[1;33m)\u001b[0m\u001b[1;33m\u001b[0m\u001b[0m\n\u001b[0m\u001b[0;32m    588\u001b[0m         \u001b[1;32melse\u001b[0m\u001b[1;33m:\u001b[0m\u001b[1;33m\u001b[0m\u001b[0m\n\u001b[0;32m    589\u001b[0m             \u001b[0mself\u001b[0m\u001b[1;33m.\u001b[0m\u001b[0mrequest\u001b[0m \u001b[1;33m=\u001b[0m \u001b[0mcleanup_namespaces\u001b[0m\u001b[1;33m(\u001b[0m\u001b[0mself\u001b[0m\u001b[1;33m.\u001b[0m\u001b[0mrequest\u001b[0m\u001b[1;33m)\u001b[0m\u001b[1;33m\u001b[0m\u001b[0m\n",
        "\u001b[1;32m/home/local/python27_epd/lib/python2.7/urllib2.pyc\u001b[0m in \u001b[0;36murlopen\u001b[1;34m(url, data, timeout)\u001b[0m\n\u001b[0;32m    124\u001b[0m     \u001b[1;32mif\u001b[0m \u001b[0m_opener\u001b[0m \u001b[1;32mis\u001b[0m \u001b[0mNone\u001b[0m\u001b[1;33m:\u001b[0m\u001b[1;33m\u001b[0m\u001b[0m\n\u001b[0;32m    125\u001b[0m         \u001b[0m_opener\u001b[0m \u001b[1;33m=\u001b[0m \u001b[0mbuild_opener\u001b[0m\u001b[1;33m(\u001b[0m\u001b[1;33m)\u001b[0m\u001b[1;33m\u001b[0m\u001b[0m\n\u001b[1;32m--> 126\u001b[1;33m     \u001b[1;32mreturn\u001b[0m \u001b[0m_opener\u001b[0m\u001b[1;33m.\u001b[0m\u001b[0mopen\u001b[0m\u001b[1;33m(\u001b[0m\u001b[0murl\u001b[0m\u001b[1;33m,\u001b[0m \u001b[0mdata\u001b[0m\u001b[1;33m,\u001b[0m \u001b[0mtimeout\u001b[0m\u001b[1;33m)\u001b[0m\u001b[1;33m\u001b[0m\u001b[0m\n\u001b[0m\u001b[0;32m    127\u001b[0m \u001b[1;33m\u001b[0m\u001b[0m\n\u001b[0;32m    128\u001b[0m \u001b[1;32mdef\u001b[0m \u001b[0minstall_opener\u001b[0m\u001b[1;33m(\u001b[0m\u001b[0mopener\u001b[0m\u001b[1;33m)\u001b[0m\u001b[1;33m:\u001b[0m\u001b[1;33m\u001b[0m\u001b[0m\n",
        "\u001b[1;32m/home/local/python27_epd/lib/python2.7/urllib2.pyc\u001b[0m in \u001b[0;36mopen\u001b[1;34m(self, fullurl, data, timeout)\u001b[0m\n\u001b[0;32m    398\u001b[0m             \u001b[0mreq\u001b[0m \u001b[1;33m=\u001b[0m \u001b[0mmeth\u001b[0m\u001b[1;33m(\u001b[0m\u001b[0mreq\u001b[0m\u001b[1;33m)\u001b[0m\u001b[1;33m\u001b[0m\u001b[0m\n\u001b[0;32m    399\u001b[0m \u001b[1;33m\u001b[0m\u001b[0m\n\u001b[1;32m--> 400\u001b[1;33m         \u001b[0mresponse\u001b[0m \u001b[1;33m=\u001b[0m \u001b[0mself\u001b[0m\u001b[1;33m.\u001b[0m\u001b[0m_open\u001b[0m\u001b[1;33m(\u001b[0m\u001b[0mreq\u001b[0m\u001b[1;33m,\u001b[0m \u001b[0mdata\u001b[0m\u001b[1;33m)\u001b[0m\u001b[1;33m\u001b[0m\u001b[0m\n\u001b[0m\u001b[0;32m    401\u001b[0m \u001b[1;33m\u001b[0m\u001b[0m\n\u001b[0;32m    402\u001b[0m         \u001b[1;31m# post-process response\u001b[0m\u001b[1;33m\u001b[0m\u001b[1;33m\u001b[0m\u001b[0m\n",
        "\u001b[1;32m/home/local/python27_epd/lib/python2.7/urllib2.pyc\u001b[0m in \u001b[0;36m_open\u001b[1;34m(self, req, data)\u001b[0m\n\u001b[0;32m    416\u001b[0m         \u001b[0mprotocol\u001b[0m \u001b[1;33m=\u001b[0m \u001b[0mreq\u001b[0m\u001b[1;33m.\u001b[0m\u001b[0mget_type\u001b[0m\u001b[1;33m(\u001b[0m\u001b[1;33m)\u001b[0m\u001b[1;33m\u001b[0m\u001b[0m\n\u001b[0;32m    417\u001b[0m         result = self._call_chain(self.handle_open, protocol, protocol +\n\u001b[1;32m--> 418\u001b[1;33m                                   '_open', req)\n\u001b[0m\u001b[0;32m    419\u001b[0m         \u001b[1;32mif\u001b[0m \u001b[0mresult\u001b[0m\u001b[1;33m:\u001b[0m\u001b[1;33m\u001b[0m\u001b[0m\n\u001b[0;32m    420\u001b[0m             \u001b[1;32mreturn\u001b[0m \u001b[0mresult\u001b[0m\u001b[1;33m\u001b[0m\u001b[0m\n",
        "\u001b[1;32m/home/local/python27_epd/lib/python2.7/urllib2.pyc\u001b[0m in \u001b[0;36m_call_chain\u001b[1;34m(self, chain, kind, meth_name, *args)\u001b[0m\n\u001b[0;32m    376\u001b[0m             \u001b[0mfunc\u001b[0m \u001b[1;33m=\u001b[0m \u001b[0mgetattr\u001b[0m\u001b[1;33m(\u001b[0m\u001b[0mhandler\u001b[0m\u001b[1;33m,\u001b[0m \u001b[0mmeth_name\u001b[0m\u001b[1;33m)\u001b[0m\u001b[1;33m\u001b[0m\u001b[0m\n\u001b[0;32m    377\u001b[0m \u001b[1;33m\u001b[0m\u001b[0m\n\u001b[1;32m--> 378\u001b[1;33m             \u001b[0mresult\u001b[0m \u001b[1;33m=\u001b[0m \u001b[0mfunc\u001b[0m\u001b[1;33m(\u001b[0m\u001b[1;33m*\u001b[0m\u001b[0margs\u001b[0m\u001b[1;33m)\u001b[0m\u001b[1;33m\u001b[0m\u001b[0m\n\u001b[0m\u001b[0;32m    379\u001b[0m             \u001b[1;32mif\u001b[0m \u001b[0mresult\u001b[0m \u001b[1;32mis\u001b[0m \u001b[1;32mnot\u001b[0m \u001b[0mNone\u001b[0m\u001b[1;33m:\u001b[0m\u001b[1;33m\u001b[0m\u001b[0m\n\u001b[0;32m    380\u001b[0m                 \u001b[1;32mreturn\u001b[0m \u001b[0mresult\u001b[0m\u001b[1;33m\u001b[0m\u001b[0m\n",
        "\u001b[1;32m/home/local/python27_epd/lib/python2.7/urllib2.pyc\u001b[0m in \u001b[0;36mhttp_open\u001b[1;34m(self, req)\u001b[0m\n\u001b[0;32m   1205\u001b[0m \u001b[1;33m\u001b[0m\u001b[0m\n\u001b[0;32m   1206\u001b[0m     \u001b[1;32mdef\u001b[0m \u001b[0mhttp_open\u001b[0m\u001b[1;33m(\u001b[0m\u001b[0mself\u001b[0m\u001b[1;33m,\u001b[0m \u001b[0mreq\u001b[0m\u001b[1;33m)\u001b[0m\u001b[1;33m:\u001b[0m\u001b[1;33m\u001b[0m\u001b[0m\n\u001b[1;32m-> 1207\u001b[1;33m         \u001b[1;32mreturn\u001b[0m \u001b[0mself\u001b[0m\u001b[1;33m.\u001b[0m\u001b[0mdo_open\u001b[0m\u001b[1;33m(\u001b[0m\u001b[0mhttplib\u001b[0m\u001b[1;33m.\u001b[0m\u001b[0mHTTPConnection\u001b[0m\u001b[1;33m,\u001b[0m \u001b[0mreq\u001b[0m\u001b[1;33m)\u001b[0m\u001b[1;33m\u001b[0m\u001b[0m\n\u001b[0m\u001b[0;32m   1208\u001b[0m \u001b[1;33m\u001b[0m\u001b[0m\n\u001b[0;32m   1209\u001b[0m     \u001b[0mhttp_request\u001b[0m \u001b[1;33m=\u001b[0m \u001b[0mAbstractHTTPHandler\u001b[0m\u001b[1;33m.\u001b[0m\u001b[0mdo_request_\u001b[0m\u001b[1;33m\u001b[0m\u001b[0m\n",
        "\u001b[1;32m/home/local/python27_epd/lib/python2.7/urllib2.pyc\u001b[0m in \u001b[0;36mdo_open\u001b[1;34m(self, http_class, req)\u001b[0m\n\u001b[0;32m   1178\u001b[0m         \u001b[1;32melse\u001b[0m\u001b[1;33m:\u001b[0m\u001b[1;33m\u001b[0m\u001b[0m\n\u001b[0;32m   1179\u001b[0m             \u001b[1;32mtry\u001b[0m\u001b[1;33m:\u001b[0m\u001b[1;33m\u001b[0m\u001b[0m\n\u001b[1;32m-> 1180\u001b[1;33m                 \u001b[0mr\u001b[0m \u001b[1;33m=\u001b[0m \u001b[0mh\u001b[0m\u001b[1;33m.\u001b[0m\u001b[0mgetresponse\u001b[0m\u001b[1;33m(\u001b[0m\u001b[0mbuffering\u001b[0m\u001b[1;33m=\u001b[0m\u001b[0mTrue\u001b[0m\u001b[1;33m)\u001b[0m\u001b[1;33m\u001b[0m\u001b[0m\n\u001b[0m\u001b[0;32m   1181\u001b[0m             \u001b[1;32mexcept\u001b[0m \u001b[0mTypeError\u001b[0m\u001b[1;33m:\u001b[0m \u001b[1;31m# buffering kw not supported\u001b[0m\u001b[1;33m\u001b[0m\u001b[0m\n\u001b[0;32m   1182\u001b[0m                 \u001b[0mr\u001b[0m \u001b[1;33m=\u001b[0m \u001b[0mh\u001b[0m\u001b[1;33m.\u001b[0m\u001b[0mgetresponse\u001b[0m\u001b[1;33m(\u001b[0m\u001b[1;33m)\u001b[0m\u001b[1;33m\u001b[0m\u001b[0m\n",
        "\u001b[1;32m/home/local/python27_epd/lib/python2.7/httplib.pyc\u001b[0m in \u001b[0;36mgetresponse\u001b[1;34m(self, buffering)\u001b[0m\n\u001b[0;32m   1028\u001b[0m         \u001b[0mresponse\u001b[0m \u001b[1;33m=\u001b[0m \u001b[0mself\u001b[0m\u001b[1;33m.\u001b[0m\u001b[0mresponse_class\u001b[0m\u001b[1;33m(\u001b[0m\u001b[1;33m*\u001b[0m\u001b[0margs\u001b[0m\u001b[1;33m,\u001b[0m \u001b[1;33m**\u001b[0m\u001b[0mkwds\u001b[0m\u001b[1;33m)\u001b[0m\u001b[1;33m\u001b[0m\u001b[0m\n\u001b[0;32m   1029\u001b[0m \u001b[1;33m\u001b[0m\u001b[0m\n\u001b[1;32m-> 1030\u001b[1;33m         \u001b[0mresponse\u001b[0m\u001b[1;33m.\u001b[0m\u001b[0mbegin\u001b[0m\u001b[1;33m(\u001b[0m\u001b[1;33m)\u001b[0m\u001b[1;33m\u001b[0m\u001b[0m\n\u001b[0m\u001b[0;32m   1031\u001b[0m         \u001b[1;32massert\u001b[0m \u001b[0mresponse\u001b[0m\u001b[1;33m.\u001b[0m\u001b[0mwill_close\u001b[0m \u001b[1;33m!=\u001b[0m \u001b[0m_UNKNOWN\u001b[0m\u001b[1;33m\u001b[0m\u001b[0m\n\u001b[0;32m   1032\u001b[0m         \u001b[0mself\u001b[0m\u001b[1;33m.\u001b[0m\u001b[0m__state\u001b[0m \u001b[1;33m=\u001b[0m \u001b[0m_CS_IDLE\u001b[0m\u001b[1;33m\u001b[0m\u001b[0m\n",
        "\u001b[1;32m/home/local/python27_epd/lib/python2.7/httplib.pyc\u001b[0m in \u001b[0;36mbegin\u001b[1;34m(self)\u001b[0m\n\u001b[0;32m    405\u001b[0m         \u001b[1;31m# read until we get a non-100 response\u001b[0m\u001b[1;33m\u001b[0m\u001b[1;33m\u001b[0m\u001b[0m\n\u001b[0;32m    406\u001b[0m         \u001b[1;32mwhile\u001b[0m \u001b[0mTrue\u001b[0m\u001b[1;33m:\u001b[0m\u001b[1;33m\u001b[0m\u001b[0m\n\u001b[1;32m--> 407\u001b[1;33m             \u001b[0mversion\u001b[0m\u001b[1;33m,\u001b[0m \u001b[0mstatus\u001b[0m\u001b[1;33m,\u001b[0m \u001b[0mreason\u001b[0m \u001b[1;33m=\u001b[0m \u001b[0mself\u001b[0m\u001b[1;33m.\u001b[0m\u001b[0m_read_status\u001b[0m\u001b[1;33m(\u001b[0m\u001b[1;33m)\u001b[0m\u001b[1;33m\u001b[0m\u001b[0m\n\u001b[0m\u001b[0;32m    408\u001b[0m             \u001b[1;32mif\u001b[0m \u001b[0mstatus\u001b[0m \u001b[1;33m!=\u001b[0m \u001b[0mCONTINUE\u001b[0m\u001b[1;33m:\u001b[0m\u001b[1;33m\u001b[0m\u001b[0m\n\u001b[0;32m    409\u001b[0m                 \u001b[1;32mbreak\u001b[0m\u001b[1;33m\u001b[0m\u001b[0m\n",
        "\u001b[1;32m/home/local/python27_epd/lib/python2.7/httplib.pyc\u001b[0m in \u001b[0;36m_read_status\u001b[1;34m(self)\u001b[0m\n\u001b[0;32m    363\u001b[0m     \u001b[1;32mdef\u001b[0m \u001b[0m_read_status\u001b[0m\u001b[1;33m(\u001b[0m\u001b[0mself\u001b[0m\u001b[1;33m)\u001b[0m\u001b[1;33m:\u001b[0m\u001b[1;33m\u001b[0m\u001b[0m\n\u001b[0;32m    364\u001b[0m         \u001b[1;31m# Initialize with Simple-Response defaults\u001b[0m\u001b[1;33m\u001b[0m\u001b[1;33m\u001b[0m\u001b[0m\n\u001b[1;32m--> 365\u001b[1;33m         \u001b[0mline\u001b[0m \u001b[1;33m=\u001b[0m \u001b[0mself\u001b[0m\u001b[1;33m.\u001b[0m\u001b[0mfp\u001b[0m\u001b[1;33m.\u001b[0m\u001b[0mreadline\u001b[0m\u001b[1;33m(\u001b[0m\u001b[1;33m)\u001b[0m\u001b[1;33m\u001b[0m\u001b[0m\n\u001b[0m\u001b[0;32m    366\u001b[0m         \u001b[1;32mif\u001b[0m \u001b[0mself\u001b[0m\u001b[1;33m.\u001b[0m\u001b[0mdebuglevel\u001b[0m \u001b[1;33m>\u001b[0m \u001b[1;36m0\u001b[0m\u001b[1;33m:\u001b[0m\u001b[1;33m\u001b[0m\u001b[0m\n\u001b[0;32m    367\u001b[0m             \u001b[1;32mprint\u001b[0m \u001b[1;34m\"reply:\"\u001b[0m\u001b[1;33m,\u001b[0m \u001b[0mrepr\u001b[0m\u001b[1;33m(\u001b[0m\u001b[0mline\u001b[0m\u001b[1;33m)\u001b[0m\u001b[1;33m\u001b[0m\u001b[0m\n",
        "\u001b[1;32m/home/local/python27_epd/lib/python2.7/socket.pyc\u001b[0m in \u001b[0;36mreadline\u001b[1;34m(self, size)\u001b[0m\n\u001b[0;32m    445\u001b[0m             \u001b[1;32mwhile\u001b[0m \u001b[0mTrue\u001b[0m\u001b[1;33m:\u001b[0m\u001b[1;33m\u001b[0m\u001b[0m\n\u001b[0;32m    446\u001b[0m                 \u001b[1;32mtry\u001b[0m\u001b[1;33m:\u001b[0m\u001b[1;33m\u001b[0m\u001b[0m\n\u001b[1;32m--> 447\u001b[1;33m                     \u001b[0mdata\u001b[0m \u001b[1;33m=\u001b[0m \u001b[0mself\u001b[0m\u001b[1;33m.\u001b[0m\u001b[0m_sock\u001b[0m\u001b[1;33m.\u001b[0m\u001b[0mrecv\u001b[0m\u001b[1;33m(\u001b[0m\u001b[0mself\u001b[0m\u001b[1;33m.\u001b[0m\u001b[0m_rbufsize\u001b[0m\u001b[1;33m)\u001b[0m\u001b[1;33m\u001b[0m\u001b[0m\n\u001b[0m\u001b[0;32m    448\u001b[0m                 \u001b[1;32mexcept\u001b[0m \u001b[0merror\u001b[0m\u001b[1;33m,\u001b[0m \u001b[0me\u001b[0m\u001b[1;33m:\u001b[0m\u001b[1;33m\u001b[0m\u001b[0m\n\u001b[0;32m    449\u001b[0m                     \u001b[1;32mif\u001b[0m \u001b[0me\u001b[0m\u001b[1;33m.\u001b[0m\u001b[0margs\u001b[0m\u001b[1;33m[\u001b[0m\u001b[1;36m0\u001b[0m\u001b[1;33m]\u001b[0m \u001b[1;33m==\u001b[0m \u001b[0mEINTR\u001b[0m\u001b[1;33m:\u001b[0m\u001b[1;33m\u001b[0m\u001b[0m\n",
        "\u001b[1;31mtimeout\u001b[0m: timed out"
       ]
      }
     ],
     "prompt_number": 7
    },
    {
     "cell_type": "code",
     "collapsed": false,
     "input": [
      "\n"
     ],
     "language": "python",
     "metadata": {},
     "outputs": []
    },
    {
     "cell_type": "code",
     "collapsed": false,
     "input": [
      "\n",
      "        "
     ],
     "language": "python",
     "metadata": {},
     "outputs": []
    }
   ],
   "metadata": {}
  }
 ]
}