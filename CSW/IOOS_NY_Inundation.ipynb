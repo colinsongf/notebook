{
 "metadata": {
  "name": "",
  "signature": "sha256:cef040712ed453c82e1fd17b21caff430aeca8306dc9e9383e097d360fad6e1b"
 },
 "nbformat": 3,
 "nbformat_minor": 0,
 "worksheets": [
  {
   "cells": [
    {
     "cell_type": "markdown",
     "metadata": {},
     "source": [
      "#IOOS System Test: [Extreme Events Theme](https://github.com/ioos/system-test/wiki/Development-of-Test-Themes#wiki-theme-2-extreme-events):  Inundation\n",
      "\n",
      "###Compare modeled water levels with observations for a specified bounding box and time period using IOOS recommended service standards for catalog search (CSW) and data retrieval (OPeNDAP & SOS). <p>\n",
      "\n",
      "* Query CSW to find datasets that match criteria\n",
      "* Extract OPeNDAP data endpoints from model datasets and SOS endpoints from observational datasets\n",
      "* OPeNDAP model datasets will be granules\n",
      "* SOS endpoints may be datasets (from ncSOS) or collections of datasets (from NDBC, CO-OPS SOS servers)\n",
      "* Filter SOS services to obtain datasets\n",
      "* Extract data from SOS datasets\n",
      "* Extract data from model datasets at locations of observations\n",
      "* Compare time series data on same vertical datum\n"
     ]
    },
    {
     "cell_type": "code",
     "collapsed": false,
     "input": [
      "from pylab import *\n",
      "from owslib.csw import CatalogueServiceWeb\n",
      "from owslib import fes\n",
      "import random\n",
      "import netCDF4\n",
      "import pandas as pd\n",
      "import datetime as dt\n",
      "from pyoos.collectors.coops.coops_sos import CoopsSos\n",
      "import cStringIO\n",
      "import iris\n",
      "import urllib2\n",
      "import parser\n",
      "from lxml import etree"
     ],
     "language": "python",
     "metadata": {
      "input_collapsed": false
     },
     "outputs": []
    },
    {
     "cell_type": "code",
     "collapsed": false,
     "input": [],
     "language": "python",
     "metadata": {},
     "outputs": []
    },
    {
     "cell_type": "markdown",
     "metadata": {},
     "source": [
      "### Specify a bounding box and time range of interest:"
     ]
    },
    {
     "cell_type": "code",
     "collapsed": false,
     "input": [
      "#box=[-74.4751, 40.3890, -73.7432, 40.9397]\n",
      "box=[-76.4751, 38.3890, -71.7432, 42.9397]\n",
      "\n",
      "#box=[-180, -90, 180, 90]\n",
      "\n",
      "# specific specific times (UTC) ...\n",
      "\n",
      "# hurricane sandy\n",
      "jd_start = dt.datetime(2012,10,26)\n",
      "jd_stop = dt.datetime(2012,11,2)\n",
      "\n",
      "# 2014 feb 10-15 storm\n",
      "jd_start = dt.datetime(2014,2,10)\n",
      "jd_stop = dt.datetime(2014,2,15)\n",
      "\n",
      "# 2014 recent\n",
      "jd_start = dt.datetime(2014,3,8)\n",
      "jd_stop = dt.datetime(2014,3,11)\n",
      "\n",
      "# 2011 \n",
      "#jd_start = dt.datetime(2013,4,20)\n",
      "#jd_stop = dt.datetime(2013,4,24)\n",
      "\n",
      "# ... or relative to now\n",
      "jd_start = dt.datetime.utcnow()- dt.timedelta(days=3)\n",
      "jd_stop = dt.datetime.utcnow() + dt.timedelta(days=3)\n",
      "\n",
      "start_date = jd_start.strftime('%Y-%m-%d %H:00')\n",
      "stop_date  = jd_stop.strftime('%Y-%m-%d %H:00')\n",
      "\n",
      "jd_start = dt.datetime.strptime(start_date,'%Y-%m-%d %H:%M')\n",
      "jd_stop = dt.datetime.strptime(stop_date,'%Y-%m-%d %H:%M')\n",
      "\n",
      "print start_date,'to',stop_date\n",
      "\n",
      "sos_name = 'water_surface_height_above_reference_datum'"
     ],
     "language": "python",
     "metadata": {},
     "outputs": []
    },
    {
     "cell_type": "markdown",
     "metadata": {},
     "source": [
      "Now we need to specify all the names we know for water level, names that will get used in the CSW search, and also to find data in the datasets that are returned.  This is ugly and fragile.  There hopefully will be a better way in the future..."
     ]
    },
    {
     "cell_type": "code",
     "collapsed": false,
     "input": [
      "std_name_list=['water_surface_height_above_reference_datum',\n",
      "    'sea_surface_height_above_geoid','sea_surface_elevation',\n",
      "    'sea_surface_height_above_reference_ellipsoid','sea_surface_height_above_sea_level',\n",
      "    'sea_surface_height','water level']"
     ],
     "language": "python",
     "metadata": {},
     "outputs": []
    },
    {
     "cell_type": "markdown",
     "metadata": {},
     "source": [
      "## 1. Get observations from SOS"
     ]
    },
    {
     "cell_type": "code",
     "collapsed": false,
     "input": [
      "collector = CoopsSos()"
     ],
     "language": "python",
     "metadata": {},
     "outputs": []
    },
    {
     "cell_type": "code",
     "collapsed": false,
     "input": [
      "collector.server.identification.title"
     ],
     "language": "python",
     "metadata": {},
     "outputs": []
    },
    {
     "cell_type": "code",
     "collapsed": false,
     "input": [
      "collector.start_time = jd_start\n",
      "collector.end_time = jd_stop\n",
      "collector.variables = [sos_name]"
     ],
     "language": "python",
     "metadata": {},
     "outputs": []
    },
    {
     "cell_type": "code",
     "collapsed": false,
     "input": [
      "ofrs = collector.server.offerings"
     ],
     "language": "python",
     "metadata": {},
     "outputs": []
    },
    {
     "cell_type": "code",
     "collapsed": false,
     "input": [
      "print len(ofrs)\n",
      "for p in ofrs[700:710]: print p"
     ],
     "language": "python",
     "metadata": {},
     "outputs": []
    },
    {
     "cell_type": "markdown",
     "metadata": {},
     "source": [
      "### Find the SOS stations within our bounding box and time extent\n",
      "We would like to just use a filter on a collection to get a new collection, but PYOOS doesn't do that yet. So we do a GetObservation request for a collection, including a bounding box, and asking for one value at the start of the time period of interest.   We use that to do a bounding box filter on the SOS server, which returns 1 point for each station found.  So for 3 stations, we get back 3 records, in CSV format.  We can strip the station ids from the CSV, and then we have a list of stations we can use with pyoos.  The template for the GetObservation query for the bounding box filtered collection was generated using the GUI at http://opendap.co-ops.nos.noaa.gov/ioos-dif-sos/"
     ]
    },
    {
     "cell_type": "code",
     "collapsed": false,
     "input": [
      "iso_start = jd_start.strftime('%Y-%m-%dT%H:%M:%SZ')\n",
      "print iso_start\n",
      "box_str=','.join(str(e) for e in box)\n",
      "print box_str"
     ],
     "language": "python",
     "metadata": {},
     "outputs": []
    },
    {
     "cell_type": "code",
     "collapsed": false,
     "input": [
      "url=('http://opendap.co-ops.nos.noaa.gov/ioos-dif-sos/SOS?'\n",
      "     'service=SOS&request=GetObservation&version=1.0.0&'\n",
      "     'observedProperty=%s&offering=urn:ioos:network:NOAA.NOS.CO-OPS:WaterLevelActive&'\n",
      "     'featureOfInterest=BBOX:%s&responseFormat=text/csv&eventTime=%s&'\n",
      "     'result=VerticalDatum==urn:ogc:def:datum:epsg::5103&'\n",
      "     'dataType=PreliminarySixMinute') % (sos_name,box_str,iso_start)\n",
      "print url\n",
      "obs_loc_df = pd.read_csv(url)\n"
     ],
     "language": "python",
     "metadata": {},
     "outputs": []
    },
    {
     "cell_type": "code",
     "collapsed": false,
     "input": [
      "obs_loc_df.head()"
     ],
     "language": "python",
     "metadata": {},
     "outputs": []
    },
    {
     "cell_type": "code",
     "collapsed": false,
     "input": [
      "stations = [sta.split(':')[-1] for sta in obs_loc_df['station_id']]\n",
      "print stations\n",
      "obs_lon = [sta for sta in obs_loc_df['longitude (degree)']]\n",
      "obs_lat = [sta for sta in obs_loc_df['latitude (degree)']]\n",
      "print obs_lon\n",
      "print obs_lat"
     ],
     "language": "python",
     "metadata": {},
     "outputs": []
    },
    {
     "cell_type": "markdown",
     "metadata": {},
     "source": [
      "### Get longName from SOS DescribeSensor request"
     ]
    },
    {
     "cell_type": "code",
     "collapsed": false,
     "input": [
      "def get_Coops_longName(sta):\n",
      "    \"\"\"\n",
      "    get longName for specific station from COOPS SOS using DescribeSensor request\n",
      "    \"\"\"\n",
      "    url=('http://opendap.co-ops.nos.noaa.gov/ioos-dif-sos/SOS?service=SOS&'\n",
      "        'request=DescribeSensor&version=1.0.0&outputFormat=text/xml;subtype=\"sensorML/1.0.1\"&'\n",
      "        'procedure=urn:ioos:sensor:NOAA.NOS.CO-OPS:%s:B1') % sta\n",
      "    tree = etree.parse(urllib2.urlopen(url))\n",
      "    root = tree.getroot()\n",
      "    longName=root.xpath(\"//sml:identifier[@name='longName']/sml:Term/sml:value/text()\", namespaces={'sml':\"http://www.opengis.net/sensorML/1.0.1\"})\n",
      "    return longName"
     ],
     "language": "python",
     "metadata": {},
     "outputs": []
    },
    {
     "cell_type": "code",
     "collapsed": false,
     "input": [
      "long_names=[get_Coops_longName(sta) for sta in stations]\n",
      "print long_names"
     ],
     "language": "python",
     "metadata": {},
     "outputs": []
    },
    {
     "cell_type": "code",
     "collapsed": false,
     "input": [
      "long_names=[]\n",
      "for sta in stations:\n",
      "    a = get_Coops_longName(sta)\n",
      "    if len(a)==0:\n",
      "        long_names.append(sta)\n",
      "    else:\n",
      "        long_names.append(a[0])\n",
      "print long_names"
     ],
     "language": "python",
     "metadata": {},
     "outputs": []
    },
    {
     "cell_type": "markdown",
     "metadata": {},
     "source": [
      "###Request CSV response from SOS and convert to Pandas DataFrames"
     ]
    },
    {
     "cell_type": "code",
     "collapsed": false,
     "input": [
      "def coops2df(collector,coops_id,sos_name):\n",
      "    collector.features = [coops_id]\n",
      "    collector.variables = [sos_name]\n",
      "    response = collector.raw(responseFormat=\"text/csv\")\n",
      "    data_df = pd.read_csv(cStringIO.StringIO(str(response)), parse_dates=True, index_col='date_time')\n",
      "    data_df['lev']=data_df['water_surface_height_above_reference_datum (m)']-data_df['vertical_position (m)']\n",
      "    return data_df"
     ],
     "language": "python",
     "metadata": {
      "input_collapsed": true
     },
     "outputs": []
    },
    {
     "cell_type": "markdown",
     "metadata": {},
     "source": [
      "Generate a uniform 6-min time base for model/data comparison:"
     ]
    },
    {
     "cell_type": "code",
     "collapsed": false,
     "input": [
      "ts_rng = pd.date_range(start=jd_start, end=jd_stop, freq='6Min')\n",
      "ts = pd.DataFrame(index=ts_rng)\n",
      "print jd_start,jd_stop\n",
      "print len(ts)"
     ],
     "language": "python",
     "metadata": {},
     "outputs": []
    },
    {
     "cell_type": "markdown",
     "metadata": {},
     "source": [
      "Create a dictionary of obs dataframes, one for each station:"
     ]
    },
    {
     "cell_type": "code",
     "collapsed": false,
     "input": [
      "obs_df={}\n",
      "for sta in stations:\n",
      "    b=coops2df(collector,sta,sos_name)\n",
      "    obs_df[sta] = pd.concat([b, ts],axis=1).interpolate()"
     ],
     "language": "python",
     "metadata": {},
     "outputs": []
    },
    {
     "cell_type": "markdown",
     "metadata": {},
     "source": [
      "### Search CSW for datasets of interest"
     ]
    },
    {
     "cell_type": "code",
     "collapsed": false,
     "input": [
      "#from IPython.core.display import HTML\n",
      "#HTML('<iframe src=http://www.ngdc.noaa.gov/geoportal/ width=950 height=400></iframe>')"
     ],
     "language": "python",
     "metadata": {},
     "outputs": []
    },
    {
     "cell_type": "code",
     "collapsed": false,
     "input": [
      "# connect to CSW, explore it's properties\n",
      "\n",
      "endpoint = 'http://www.ngdc.noaa.gov/geoportal/csw' # NGDC Geoportal\n",
      "#endpoint = 'http://geoport.whoi.edu/geoportal/csw'  # USGS WHSC Geoportal\n",
      "\n",
      "#endpoint = 'http://www.nodc.noaa.gov/geoportal/csw'   # NODC Geoportal: granule level\n",
      "#endpoint = 'http://data.nodc.noaa.gov/geoportal/csw'  # NODC Geoportal: collection level   \n",
      "#endpoint = 'http://geodiscover.cgdi.ca/wes/serviceManagerCSW/csw'  # NRCAN CUSTOM\n",
      "#endpoint = 'http://geoport.whoi.edu/gi-cat/services/cswiso' # USGS Woods Hole GI_CAT\n",
      "#endpoint = 'http://cida.usgs.gov/gdp/geonetwork/srv/en/csw' # USGS CIDA Geonetwork\n",
      "#endpoint = 'http://cmgds.marine.usgs.gov/geonetwork/srv/en/csw' # USGS Coastal and Marine Program\n",
      "#endpoint = 'http://geoport.whoi.edu/geoportal/csw' # USGS Woods Hole Geoportal \n",
      "#endpoint = 'http://geo.gov.ckan.org/csw'  # CKAN testing site for new Data.gov\n",
      "#endpoint = 'https://edg.epa.gov/metadata/csw'  # EPA\n",
      "#endpoint = 'http://cwic.csiss.gmu.edu/cwicv1/discovery'  # CWIC\n",
      "\n",
      "csw = CatalogueServiceWeb(endpoint,timeout=60)\n",
      "csw.version"
     ],
     "language": "python",
     "metadata": {},
     "outputs": []
    },
    {
     "cell_type": "code",
     "collapsed": false,
     "input": [
      "for oper in csw.operations:\n",
      "    if oper.name == 'GetRecords':\n",
      "        print '\\nISO Queryables:\\n',oper.constraints['SupportedISOQueryables']['values']"
     ],
     "language": "python",
     "metadata": {},
     "outputs": []
    },
    {
     "cell_type": "code",
     "collapsed": false,
     "input": [
      "# hopefully something like this will be implemented in fes soon\n",
      "def dateRange(start_date='1900-01-01',stop_date='2100-01-01',constraint='overlaps'):\n",
      "    if constraint == 'overlaps':\n",
      "        start = fes.PropertyIsLessThanOrEqualTo(propertyname='apiso:TempExtent_begin', literal=stop_date)\n",
      "        stop = fes.PropertyIsGreaterThanOrEqualTo(propertyname='apiso:TempExtent_end', literal=start_date)\n",
      "    elif constraint == 'within':\n",
      "        start = fes.PropertyIsGreaterThanOrEqualTo(propertyname='apiso:TempExtent_begin', literal=start_date)\n",
      "        stop = fes.PropertyIsLessThanOrEqualTo(propertyname='apiso:TempExtent_end', literal=stop_date)\n",
      "    return start,stop"
     ],
     "language": "python",
     "metadata": {},
     "outputs": []
    },
    {
     "cell_type": "code",
     "collapsed": false,
     "input": [
      "stop_date"
     ],
     "language": "python",
     "metadata": {},
     "outputs": []
    },
    {
     "cell_type": "code",
     "collapsed": false,
     "input": [
      "# convert User Input into FES filters\n",
      "start,stop = dateRange(start_date,stop_date)\n",
      "bbox = fes.BBox(box)"
     ],
     "language": "python",
     "metadata": {},
     "outputs": []
    },
    {
     "cell_type": "code",
     "collapsed": false,
     "input": [
      "or_filt = fes.Or([fes.PropertyIsLike(propertyname='apiso:AnyText',literal=('*%s*' % val),\n",
      "                    escapeChar='\\\\',wildCard='*',singleChar='?') for val in std_name_list])"
     ],
     "language": "python",
     "metadata": {},
     "outputs": []
    },
    {
     "cell_type": "markdown",
     "metadata": {},
     "source": [
      "ROMS model output often has Averages and History files.  The Averages files are usually averaged over a tidal cycle or more, while the History files are snapshots at that time instant.  We are not interested in averaged data for this test, so in the cell below we remove any Averages files here by removing any datasets that have the term \"Averages\" in the metadata text.  A better approach would be to look at the `cell_methods` attributes propagated through to some term in the ISO metadata, but this is not implemented yet, as far as I know"
     ]
    },
    {
     "cell_type": "code",
     "collapsed": false,
     "input": [
      "val = 'Averages'\n",
      "not_filt = fes.Not([fes.PropertyIsLike(propertyname='apiso:AnyText',literal=('*%s*' % val),\n",
      "                        escapeChar='\\\\',wildCard='*',singleChar='?')])"
     ],
     "language": "python",
     "metadata": {},
     "outputs": []
    },
    {
     "cell_type": "code",
     "collapsed": false,
     "input": [
      "filter_list = [fes.And([ bbox, start, stop, or_filt, not_filt]) ]"
     ],
     "language": "python",
     "metadata": {},
     "outputs": []
    },
    {
     "cell_type": "code",
     "collapsed": false,
     "input": [
      "# try request using multiple filters \"and\" syntax: [[filter1,filter2]]\n",
      "csw.getrecords2(constraints=filter_list,maxrecords=1000,esn='full')\n",
      "print len(csw.records.keys())"
     ],
     "language": "python",
     "metadata": {},
     "outputs": []
    },
    {
     "cell_type": "markdown",
     "metadata": {},
     "source": [
      "Now print out some titles"
     ]
    },
    {
     "cell_type": "code",
     "collapsed": false,
     "input": [
      "for rec,item in csw.records.iteritems():\n",
      "    print item.title"
     ],
     "language": "python",
     "metadata": {},
     "outputs": []
    },
    {
     "cell_type": "markdown",
     "metadata": {},
     "source": [
      "Define a function that will return the endpoint for a specified service type"
     ]
    },
    {
     "cell_type": "code",
     "collapsed": false,
     "input": [
      "# get specific ServiceType URL from records\n",
      "def service_urls(records,service_string='urn:x-esri:specification:ServiceType:odp:url'):\n",
      "    urls=[]\n",
      "    for key,rec in records.iteritems():\n",
      "        #create a generator object, and iterate through it until the match is found\n",
      "        #if not found, gets the default value (here \"none\")\n",
      "        url = next((d['url'] for d in rec.references if d['scheme'] == service_string), None)\n",
      "        if url is not None:\n",
      "            urls.append(url)\n",
      "    return urls"
     ],
     "language": "python",
     "metadata": {},
     "outputs": []
    },
    {
     "cell_type": "markdown",
     "metadata": {},
     "source": [
      "Print out all the OPeNDAP Data URL endpoints"
     ]
    },
    {
     "cell_type": "code",
     "collapsed": false,
     "input": [
      "dap_urls = service_urls(csw.records,service_string='urn:x-esri:specification:ServiceType:odp:url')\n",
      "print \"\\n\".join(dap_urls)"
     ],
     "language": "python",
     "metadata": {},
     "outputs": []
    },
    {
     "cell_type": "markdown",
     "metadata": {},
     "source": [
      "Print out all the SOS Data URL endpoints"
     ]
    },
    {
     "cell_type": "code",
     "collapsed": false,
     "input": [
      "sos_urls = service_urls(csw.records,service_string='urn:x-esri:specification:ServiceType:sos:url')\n",
      "print \"\\n\".join(sos_urls)"
     ],
     "language": "python",
     "metadata": {},
     "outputs": []
    },
    {
     "cell_type": "code",
     "collapsed": false,
     "input": [
      "def nearxy(x,y,xi,yi):\n",
      "    ind=ones(len(xi),dtype=int)\n",
      "    dd=ones(len(xi),dtype='float')\n",
      "    for i in arange(len(xi)):\n",
      "        dist=sqrt((x-xi[i])**2+(y-yi[i])**2)\n",
      "        ind[i]=dist.argmin()\n",
      "        dd[i]=dist[ind[i]]\n",
      "    return ind,dd"
     ],
     "language": "python",
     "metadata": {
      "input_collapsed": true
     },
     "outputs": []
    },
    {
     "cell_type": "code",
     "collapsed": false,
     "input": [
      "def find_ij(x,y,d,xi,yi):\n",
      "    \"\"\"\n",
      "    find non-NaN cell d[j,i] that are closest to xi,yi.\n",
      "    \"\"\"\n",
      "    index = where(~isnan(d.flatten()))[0]\n",
      "    ind,dd = nearxy(x.flatten()[index],y.flatten()[index],xi,yi)\n",
      "    j,i=ind2ij(x,index[ind])\n",
      "    return i,j,dd\n",
      "    "
     ],
     "language": "python",
     "metadata": {},
     "outputs": []
    },
    {
     "cell_type": "code",
     "collapsed": false,
     "input": [
      "def find_timevar(cube):\n",
      "    try:\n",
      "        cube.coord(axis='T').rename('time')\n",
      "    except:\n",
      "        pass\n",
      "    timevar = cube.coord('time')\n",
      "    return timevar\n",
      "    "
     ],
     "language": "python",
     "metadata": {
      "input_collapsed": true
     },
     "outputs": []
    },
    {
     "cell_type": "code",
     "collapsed": false,
     "input": [
      "def ind2ij(a,index):\n",
      "    \"\"\"\n",
      "    returns a[j,i] for a.ravel()[index]\n",
      "    \"\"\"\n",
      "    n,m = shape(lon)\n",
      "    j = ceil(index/m).astype(int)\n",
      "    i = remainder(index,m)\n",
      "    return i,j"
     ],
     "language": "python",
     "metadata": {
      "input_collapsed": true
     },
     "outputs": []
    },
    {
     "cell_type": "code",
     "collapsed": false,
     "input": [
      "print std_name_list\n",
      "def name_in_list(cube):\n",
      "    return cube.standard_name in std_name_list\n",
      "constraint = iris.Constraint(cube_func=name_in_list)"
     ],
     "language": "python",
     "metadata": {},
     "outputs": []
    },
    {
     "cell_type": "code",
     "collapsed": false,
     "input": [
      "#dap_urls=['http://geoport-dev.whoi.edu/thredds/dodsC/estofs/atlantic']\n",
      "mod_df={}\n",
      "\n",
      "for url in dap_urls:\n",
      "    try:\n",
      "        a = iris.load_cube(url,constraint)\n",
      "        # take first 20 chars for name\n",
      "        name = a.attributes['title'][0:20]\n",
      "        r = shape(a)\n",
      "        timevar = find_timevar(a)\n",
      "        lat = a.coord(axis='Y').points\n",
      "        lon = a.coord(axis='X').points\n",
      "        jd = timevar.units.num2date(timevar.points)\n",
      "        istart = timevar.nearest_neighbour_index(timevar.units.date2num(jd_start))\n",
      "        istop = timevar.nearest_neighbour_index(timevar.units.date2num(jd_stop))\n",
      "        mod_df[name]=[]\n",
      "        if istart != istop:\n",
      "            print url\n",
      "            nsta = len(obs_lon)\n",
      "            if len(r)==3:\n",
      "                j,i,dd = find_ij(lon,lat,d,obs_lon,obs_lat)\n",
      "                d = a[0,:,:].data\n",
      "                for n in range(nsta):\n",
      "                    arr = a[istart:istop,j[n],i[n]].data                    \n",
      "                    if dd[n]<0.1:\n",
      "                        b = pd.DataFrame(arr,index=jd[istart:istop],columns=[stations[n]])\n",
      "                        c = pd.concat([b, ts],axis=1).interpolate()\n",
      "                        mod_df[name].append(c)\n",
      "            elif len(r)==2:\n",
      "                index,dd = nearxy(lon.ravel(),lat.ravel(),obs_lon,obs_lat)\n",
      "                for n in range(nsta):\n",
      "                    if dd[n]<0.1:\n",
      "                        arr = a[istart:istop,index[n]].data\n",
      "                        b = pd.DataFrame(arr,index=jd[istart:istop],columns=[stations[n]])\n",
      "                        c = pd.concat([b, ts],axis=1).interpolate()\n",
      "                        mod_df[name].append(c)\n",
      "                   \n",
      "    except:\n",
      "        pass"
     ],
     "language": "python",
     "metadata": {},
     "outputs": []
    },
    {
     "cell_type": "code",
     "collapsed": false,
     "input": [
      "for key in mod_df:\n",
      "    pd.concat(mod_df[key],axis=1).plot(title=key)"
     ],
     "language": "python",
     "metadata": {},
     "outputs": []
    },
    {
     "cell_type": "code",
     "collapsed": false,
     "input": [
      "mod_df={}\n",
      "url='http://opendap.co-ops.nos.noaa.gov/thredds/dodsC/NYOFS/fmrc/Aggregated_7_day_NYOFS_Fields_Forecast_best.ncd'\n",
      "\n",
      "a = iris.load_cube(url,constraint)\n",
      "# take first 20 chars for name\n",
      "name = a.attributes['title'][0:20]\n",
      "r = shape(a)\n",
      "timevar = find_timevar(a)\n",
      "lat = a.coord(axis='Y').points\n",
      "lon = a.coord(axis='X').points\n",
      "jd = timevar.units.num2date(timevar.points)\n",
      "istart = timevar.nearest_neighbour_index(timevar.units.date2num(jd_start))\n",
      "istop = timevar.nearest_neighbour_index(timevar.units.date2num(jd_stop))\n",
      "mod_df[name]=[]\n",
      "if istart != istop:\n",
      "    print url\n",
      "    nsta = len(obs_lon)\n",
      "    if len(r)==3:\n",
      "        j,i,dd = find_ij(lon,lat,d,obs_lon,obs_lat)\n",
      "        d = a[0,:,:].data\n",
      "        for n in range(nsta):\n",
      "            arr = a[istart:istop,j[n],i[n]].data                    \n",
      "            if dd[n]<0.1:\n",
      "                b = pd.DataFrame(arr,index=jd[istart:istop],columns=[stations[n]])\n",
      "                c = pd.concat([b, ts],axis=1).interpolate()\n",
      "                mod_df[name].append(c)\n",
      "    elif len(r)==2:\n",
      "        index,dd = nearxy(lon.ravel(),lat.ravel(),obs_lon,obs_lat)\n",
      "        for n in range(nsta):\n",
      "            if dd[n]<0.1:\n",
      "                arr = a[istart:istop,index[n]].data\n",
      "                b = pd.DataFrame(arr,index=jd[istart:istop],columns=[stations[n]])\n",
      "                c = pd.concat([b, ts],axis=1).interpolate()\n",
      "                mod_df[name].append(c)"
     ],
     "language": "python",
     "metadata": {},
     "outputs": []
    },
    {
     "cell_type": "code",
     "collapsed": false,
     "input": [
      "for sta in stations:\n",
      "    df1=pd.DataFrame(obs_df[sta]['lev'])\n",
      "    df2=mod_df[sta]\n",
      "    foo = pd.concat([df1, df2],axis=1)\n",
      "    foo.plot(figsize=(16,6))"
     ],
     "language": "python",
     "metadata": {},
     "outputs": []
    },
    {
     "cell_type": "code",
     "collapsed": false,
     "input": [
      "foo=pd.concat([,mod_df[stations[0]],axis=1).interpolate()\n",
      "                    "
     ],
     "language": "python",
     "metadata": {},
     "outputs": []
    },
    {
     "cell_type": "code",
     "collapsed": false,
     "input": [
      "url='http://www.smast.umassd.edu:8080/thredds/dodsC/FVCOM/NECOFS/Forecasts/NECOFS_GOM3_FORECAST.nc'\n",
      "a=iris.load_raw(url,'sea_surface_height_above_geoid')[0]"
     ],
     "language": "python",
     "metadata": {},
     "outputs": []
    },
    {
     "cell_type": "code",
     "collapsed": false,
     "input": [
      "print a[0]"
     ],
     "language": "python",
     "metadata": {},
     "outputs": []
    },
    {
     "cell_type": "code",
     "collapsed": false,
     "input": [],
     "language": "python",
     "metadata": {},
     "outputs": []
    },
    {
     "cell_type": "code",
     "collapsed": false,
     "input": [
      "b =pd.concat([mod_df[1], ts],axis=1).interpolate()"
     ],
     "language": "python",
     "metadata": {},
     "outputs": []
    },
    {
     "cell_type": "code",
     "collapsed": false,
     "input": [
      "b.head()"
     ],
     "language": "python",
     "metadata": {},
     "outputs": []
    },
    {
     "cell_type": "code",
     "collapsed": false,
     "input": [
      "url='http://opendap.co-ops.nos.noaa.gov/thredds/dodsC/NYOFS/fmrc/Aggregated_7_day_NYOFS_Fields_Forecast_best.ncd'"
     ],
     "language": "python",
     "metadata": {},
     "outputs": []
    },
    {
     "cell_type": "code",
     "collapsed": false,
     "input": [
      "a = iris.load_cube(url, constraint)\n",
      "#    timevar = a.coord(axis='T')\n",
      "timevar = find_timevar(a)\n",
      "lat = a.coord(axis='Y').points\n",
      "lon = a.coord(axis='X').points\n",
      "jd = timevar.units.num2date(timevar.points)\n",
      "istart = timevar.nearest_neighbour_index(timevar.units.date2num(jd_start))\n",
      "istop = timevar.nearest_neighbour_index(timevar.units.date2num(jd_stop))\n",
      "d = a[0,:,:].data\n",
      "index = where(~isnan(d.flatten()))[0]\n",
      "ind,dd = nearxy(lon.flatten()[index],lat.flatten()[index],obs_lon,obs_lat)\n",
      "j,i=ind2ij(lon,index[ind])\n",
      "j,i,dd = find_ij(lon,lat,d,obs_lon,obs_lat)"
     ],
     "language": "python",
     "metadata": {},
     "outputs": []
    },
    {
     "cell_type": "code",
     "collapsed": false,
     "input": [
      "pcolormesh(lon,lat,d,vmin=-1.0,vmax=1.0)\n",
      "plot(obs_lon[0],obs_lat[0],'wo')\n",
      "plot(lon.flatten()[index],lat.flatten()[index],'w.')\n",
      "plot(lon[j[0],i[0]],lat[j[0],i[0]],'ro')"
     ],
     "language": "python",
     "metadata": {},
     "outputs": []
    },
    {
     "cell_type": "code",
     "collapsed": false,
     "input": [
      "ind=where(~isnan(d))[0]"
     ],
     "language": "python",
     "metadata": {},
     "outputs": []
    },
    {
     "cell_type": "code",
     "collapsed": false,
     "input": [
      "index=nearxy(lon.ravel()[ind],lat.ravel()[ind],obs_lon,obs_lat)"
     ],
     "language": "python",
     "metadata": {},
     "outputs": []
    },
    {
     "cell_type": "code",
     "collapsed": false,
     "input": [
      "ind[index]"
     ],
     "language": "python",
     "metadata": {},
     "outputs": []
    },
    {
     "cell_type": "code",
     "collapsed": false,
     "input": [
      "index"
     ],
     "language": "python",
     "metadata": {},
     "outputs": []
    },
    {
     "cell_type": "code",
     "collapsed": false,
     "input": [
      "jj,ii=ind2ij(lon,index)"
     ],
     "language": "python",
     "metadata": {},
     "outputs": []
    },
    {
     "cell_type": "code",
     "collapsed": false,
     "input": [
      "lon[jj,ii]"
     ],
     "language": "python",
     "metadata": {},
     "outputs": []
    },
    {
     "cell_type": "code",
     "collapsed": false,
     "input": [
      "obs_lon"
     ],
     "language": "python",
     "metadata": {},
     "outputs": []
    },
    {
     "cell_type": "code",
     "collapsed": false,
     "input": [
      "lon[ii,jj]"
     ],
     "language": "python",
     "metadata": {},
     "outputs": []
    },
    {
     "cell_type": "code",
     "collapsed": false,
     "input": [
      "plot(lon.ravel(),lat.ravel(),'g.')\n",
      "plot(obs_lon,obs_lat,'k.')\n",
      "plot(lon[ii,jj],lat[ii,jj],'c.')"
     ],
     "language": "python",
     "metadata": {},
     "outputs": []
    },
    {
     "cell_type": "code",
     "collapsed": false,
     "input": [
      "plot(lon.ravel()[ind],lat.ravel()[ind],'k.')"
     ],
     "language": "python",
     "metadata": {},
     "outputs": []
    },
    {
     "cell_type": "code",
     "collapsed": false,
     "input": [],
     "language": "python",
     "metadata": {},
     "outputs": []
    },
    {
     "cell_type": "code",
     "collapsed": false,
     "input": [
      "d.min()"
     ],
     "language": "python",
     "metadata": {},
     "outputs": []
    },
    {
     "cell_type": "code",
     "collapsed": false,
     "input": [
      "d.max()"
     ],
     "language": "python",
     "metadata": {},
     "outputs": []
    },
    {
     "cell_type": "code",
     "collapsed": false,
     "input": [
      "print a[1,50,30].data"
     ],
     "language": "python",
     "metadata": {},
     "outputs": []
    },
    {
     "cell_type": "code",
     "collapsed": false,
     "input": [
      "for sta in stations:\n",
      "    obs_df[sta]['lev'].plot(figsize=(16,6))"
     ],
     "language": "python",
     "metadata": {},
     "outputs": []
    },
    {
     "cell_type": "code",
     "collapsed": false,
     "input": [],
     "language": "python",
     "metadata": {},
     "outputs": []
    }
   ],
   "metadata": {}
  }
 ]
}