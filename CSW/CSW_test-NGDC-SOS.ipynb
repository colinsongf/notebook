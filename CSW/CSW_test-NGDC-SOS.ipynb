{
 "metadata": {
  "name": "CSW_test-NGDC-SOS"
 },
 "nbformat": 3,
 "nbformat_minor": 0,
 "worksheets": [
  {
   "cells": [
    {
     "cell_type": "markdown",
     "metadata": {},
     "source": [
      "#CSW access with OWSLib using ISO queryables with SOS\n",
      "\n",
      "Demonstration of how to use the OGC Catalog Services for the Web (CSW) to search for find all datasets containing a specified variable that fall withing a specified date range and geospatial bounding box, and then use the data access service contained in the returned metadata to retrieve and visualize the data.  <P> Here we are accessing a Geoportal Server CSW, but in the future we should be able to point it toward any another CSW service, such as the one provided by catalog.data.gov."
     ]
    },
    {
     "cell_type": "code",
     "collapsed": false,
     "input": [
      "from pylab import *\n",
      "from owslib.csw import CatalogueServiceWeb\n",
      "from owslib import fes\n",
      "from owslib.sos import SensorObservationService\n",
      "import pdb\n",
      "from owslib.etree import etree\n",
      "import random\n",
      "import netCDF4\n",
      "import pandas as pd\n",
      "import datetime as dt"
     ],
     "language": "python",
     "metadata": {},
     "outputs": [],
     "prompt_number": 83
    },
    {
     "cell_type": "markdown",
     "metadata": {},
     "source": [
      "These are tags NGDC would like tested:\n",
      "```\n",
      "apiso:ResponsiblePartyName\n",
      "apiso:Keywords\n",
      "apiso:KeywordType\n",
      "apiso:VertExtent_min\n",
      "apiso:VertExtent_max\n",
      "apiso:ServiceType\n",
      "apiso:ServiceTypeVersion\n",
      "apiso:OperatesOn\n",
      "resource.url\n",
      "website.url\n",
      "```"
     ]
    },
    {
     "cell_type": "code",
     "collapsed": false,
     "input": [
      "def parse_om_xml(response):\n",
      "    # extract data and time from OM-XML response\n",
      "    root = etree.fromstring(response)\n",
      "    # root.findall(\".//{%(om)s}Observation\" % root.nsmap )\n",
      "    values = root.find(\".//{%(swe)s}values\" % root.nsmap )\n",
      "    date_value = array( [ (dt.datetime.strptime(d,\"%Y-%m-%dT%H:%M:%SZ\"),float(v))\n",
      "            for d,v in [l.split(',') for l in values.text.split()]] )\n",
      "    time = date_value[:,0]\n",
      "    data = date_value[:,1]\n",
      "    return data,time"
     ],
     "language": "python",
     "metadata": {},
     "outputs": [],
     "prompt_number": 84
    },
    {
     "cell_type": "code",
     "collapsed": false,
     "input": [
      "#from IPython.core.display import HTML\n",
      "#HTML('<iframe src=http://www.ngdc.noaa.gov/geoportal/ width=950 height=400></iframe>')"
     ],
     "language": "python",
     "metadata": {},
     "outputs": [],
     "prompt_number": 85
    },
    {
     "cell_type": "code",
     "collapsed": false,
     "input": [
      "# connect to CSW, explore it's properties\n",
      "\n",
      "endpoint = 'http://www.ngdc.noaa.gov/geoportal/csw' # NGDC Geoportal\n",
      "\n",
      "#endpoint = 'http://www.nodc.noaa.gov/geoportal/csw'   # NODC Geoportal: granule level\n",
      "#endpoint = 'http://data.nodc.noaa.gov/geoportal/csw'  # NODC Geoportal: collection level   \n",
      "#endpoint = 'http://geodiscover.cgdi.ca/wes/serviceManagerCSW/csw'  # NRCAN CUSTOM\n",
      "#endpoint = 'http://geoport.whoi.edu/gi-cat/services/cswiso' # USGS Woods Hole GI_CAT\n",
      "#endpoint = 'http://cida.usgs.gov/gdp/geonetwork/srv/en/csw' # USGS CIDA Geonetwork\n",
      "#endpoint = 'http://cmgds.marine.usgs.gov/geonetwork/srv/en/csw' # USGS Coastal and Marine Program\n",
      "#endpoint = 'http://geoport.whoi.edu/geoportal/csw' # USGS Woods Hole Geoportal \n",
      "#endpoint = 'http://geo.gov.ckan.org/csw'  # CKAN testing site for new Data.gov\n",
      "#endpoint = 'https://edg.epa.gov/metadata/csw'  # EPA\n",
      "#endpoint = 'http://cwic.csiss.gmu.edu/cwicv1/discovery'  # CWIC\n",
      "\n",
      "csw = CatalogueServiceWeb(endpoint,timeout=60)\n",
      "csw.version"
     ],
     "language": "python",
     "metadata": {},
     "outputs": [
      {
       "metadata": {},
       "output_type": "pyout",
       "prompt_number": 86,
       "text": [
        "'2.0.2'"
       ]
      }
     ],
     "prompt_number": 86
    },
    {
     "cell_type": "code",
     "collapsed": false,
     "input": [
      "[op.name for op in csw.operations]"
     ],
     "language": "python",
     "metadata": {},
     "outputs": [
      {
       "metadata": {},
       "output_type": "pyout",
       "prompt_number": 87,
       "text": [
        "['GetCapabilities',\n",
        " 'DescribeRecord',\n",
        " 'GetRecords',\n",
        " 'GetRecordById',\n",
        " 'Transaction']"
       ]
      }
     ],
     "prompt_number": 87
    },
    {
     "cell_type": "code",
     "collapsed": false,
     "input": [
      "# hopefully something like this will be implemented in fes soon\n",
      "def dateRange(start_date='1900-01-01',stop_date='2100-01-01',constraint='overlaps'):\n",
      "    if constraint == 'overlaps':\n",
      "        start = fes.PropertyIsLessThanOrEqualTo(propertyname='apiso:TempExtent_begin', literal=stop_date)\n",
      "        stop = fes.PropertyIsGreaterThanOrEqualTo(propertyname='apiso:TempExtent_end', literal=start_date)\n",
      "    elif constraint == 'within':\n",
      "        start = fes.PropertyIsGreaterThanOrEqualTo(propertyname='apiso:TempExtent_begin', literal=start_date)\n",
      "        stop = fes.PropertyIsLessThanOrEqualTo(propertyname='apiso:TempExtent_end', literal=stop_date)\n",
      "    return start,stop"
     ],
     "language": "python",
     "metadata": {},
     "outputs": [],
     "prompt_number": 88
    },
    {
     "cell_type": "code",
     "collapsed": false,
     "input": [
      "# hopefully something like this will be implemented in fes soon\n",
      "def zRange(min_z='-5000', max_z='0', constraint='overlaps'):\n",
      "    if constraint == 'overlaps':\n",
      "        zmin = fes.PropertyIsLessThanOrEqualTo(propertyname='apiso:VertExtent_min', literal=min_z)\n",
      "        zmax = fes.PropertyIsGreaterThanOrEqualTo(propertyname='apiso:VertExtent_max', literal=max_z)\n",
      "    elif constraint == 'within':\n",
      "        zmin = fes.PropertyIsGreaterThanOrEqualTo(propertyname='apiso:VertExtent_min', literal=min_z)\n",
      "        zmax = fes.PropertyIsLessThanOrEqualTo(propertyname='apiso:VertExtent_max', literal=max_z)\n",
      "    return zmin,zmax"
     ],
     "language": "python",
     "metadata": {},
     "outputs": [],
     "prompt_number": 89
    },
    {
     "cell_type": "code",
     "collapsed": false,
     "input": [
      "# User Input for query\n",
      "\n",
      "#box=[-120, 2.0, -110.0, 6.0] #  oceansites\n",
      "box=[-160, 19, -156, 23]   # pacioos\n",
      "start_date='2012-05-01'\n",
      "stop_date='2012-06-01'\n",
      "min_z = '-5000'\n",
      "max_z = '0'\n",
      "responsible_party = 'Jim Potemra'\n",
      "responsible_party = 'Margaret McManus'\n",
      "std_name = 'sea_water_temperature'\n",
      "service_type='sos' # 'opendap'"
     ],
     "language": "python",
     "metadata": {},
     "outputs": [],
     "prompt_number": 90
    },
    {
     "cell_type": "code",
     "collapsed": false,
     "input": [
      "# convert User Input into FES filters\n",
      "start,stop = dateRange(start_date,stop_date)\n",
      "zmin,zmax = zRange(min_z,max_z,constraint='within')\n",
      "bbox = fes.BBox(box)\n",
      "#keywords = fes.PropertyIsLike(propertyname='anyText', literal=std_name)\n",
      "#keywords = fes.PropertyIsLike(propertyname='apiso:Keywords', literal=std_name)\n",
      "keywords = fes.PropertyIsEqualTo(propertyname='apiso:Keywords', literal=std_name)\n",
      "serviceType = fes.PropertyIsLike(propertyname='apiso:ServiceType', literal=('*%s*' % service_type))\n",
      "ResponsiblePartyName = fes.PropertyIsEqualTo(propertyname='apiso:ResponsiblePartyName', literal=responsible_party)\n",
      "#serviceType = fes.PropertyIsEqualTo(propertyname='apiso:ServiceType', literal=service_type)\n",
      "\n"
     ],
     "language": "python",
     "metadata": {},
     "outputs": [],
     "prompt_number": 91
    },
    {
     "cell_type": "code",
     "collapsed": false,
     "input": [
      "# try simple request using only keywords\n",
      "\n",
      "csw.getrecords2(constraints=[keywords,serviceType],maxrecords=5,esn='full')\n",
      "csw.records.keys()"
     ],
     "language": "python",
     "metadata": {},
     "outputs": [
      {
       "metadata": {},
       "output_type": "pyout",
       "prompt_number": 92,
       "text": [
        "['NANOOS Sensor Observation Service (SOS)',\n",
        " 'National Data Buoy Center SOS',\n",
        " 'Northeastern Regional Association of Coastal Ocean Observing Systems',\n",
        " 'NOAA.NOS.CO-OPS SOS',\n",
        " 'Dauphin Island Sea Lab SOS']"
       ]
      }
     ],
     "prompt_number": 92
    },
    {
     "cell_type": "code",
     "collapsed": false,
     "input": [
      "csw.getrecords2(constraints=[serviceType],esn='full')\n",
      "csw.records.keys()"
     ],
     "language": "python",
     "metadata": {},
     "outputs": [
      {
       "metadata": {},
       "output_type": "pyout",
       "prompt_number": 114,
       "text": [
        "['testDatasetScan/testBuoy_20130825.nc',\n",
        " 'Dauphin Island Sea Lab SOS',\n",
        " 'testDatasetScan/testBuoy_10.nc',\n",
        " 'testDatasetScan/testBuoy_11.nc',\n",
        " 'NERRS SOS',\n",
        " 'testDatasetScan/testBuoy_20130824.nc',\n",
        " 'id_testBuoy',\n",
        " 'Louisiana Universities Marine Consortium (LUMCON) SOS',\n",
        " 'SECOORA SOS',\n",
        " 'University of South Florida COMPS SOS']"
       ]
      }
     ],
     "prompt_number": 114
    },
    {
     "cell_type": "code",
     "collapsed": false,
     "input": [
      "# try request using multiple filters \"and\" syntax: [[filter1,filter2]]\n",
      "csw.getrecords2(constraints=[[keywords,start,stop,serviceType,bbox]],maxrecords=5,esn='full')\n",
      "csw.records.keys()"
     ],
     "language": "python",
     "metadata": {},
     "outputs": [
      {
       "metadata": {},
       "output_type": "pyout",
       "prompt_number": 74,
       "text": [
        "['National Data Buoy Center SOS', 'NOAA.NOS.CO-OPS SOS']"
       ]
      }
     ],
     "prompt_number": 74
    },
    {
     "cell_type": "markdown",
     "metadata": {},
     "source": [
      "In the next cell we take a look at the `references` for a random record.  "
     ]
    },
    {
     "cell_type": "code",
     "collapsed": false,
     "input": [
      "choice=random.choice(list(csw.records.keys()))\n",
      "print choice\n",
      "csw.records[choice].references"
     ],
     "language": "python",
     "metadata": {},
     "outputs": [
      {
       "output_type": "stream",
       "stream": "stdout",
       "text": [
        "NOAA.NOS.CO-OPS SOS\n"
       ]
      },
      {
       "metadata": {},
       "output_type": "pyout",
       "prompt_number": 103,
       "text": [
        "[{'scheme': 'urn:x-esri:specification:ServiceType:distribution:url',\n",
        "  'url': 'http://opendap.co-ops.nos.noaa.gov/ioos-dif-sos/SOS?service=SOS&request=GetCapabilities'},\n",
        " {'scheme': 'urn:x-esri:specification:ServiceType:distribution:url',\n",
        "  'url': 'http://opendap.co-ops.nos.noaa.gov/ioos-dif-sos/SOS?service=SOS&request=GetCapabilities'},\n",
        " {'scheme': 'urn:x-esri:specification:ServiceType:sos:url',\n",
        "  'url': 'http://opendap.co-ops.nos.noaa.gov/ioos-dif-sos/SOS?service=SOS&request=GetCapabilities'},\n",
        " {'scheme': 'urn:x-esri:specification:ServiceType:sos:url',\n",
        "  'url': 'http://opendap.co-ops.nos.noaa.gov/ioos-dif-sos/SOS?service=SOS&request=GetCapabilities'}]"
       ]
      }
     ],
     "prompt_number": 103
    },
    {
     "cell_type": "code",
     "collapsed": false,
     "input": [
      "foo=csw.records[choice]"
     ],
     "language": "python",
     "metadata": {},
     "outputs": [],
     "prompt_number": 76
    },
    {
     "cell_type": "markdown",
     "metadata": {},
     "source": [
      "In the next cell we try using the `ResponsiblePartyName`, we are looking for 'Jim Potemra', who we see in the ISO record for 'NS10agg' here <br>\n",
      "http://oos.soest.hawaii.edu/thredds/iso/hioos/nss/ns10agg?catalog=http%3A%2F%2Foos.soest.hawaii.edu%2Fthredds%2Fidd%2Fnss_hioos.html&dataset=NS10agg"
     ]
    },
    {
     "cell_type": "code",
     "collapsed": false,
     "input": [
      "# try adding responsible party role \n",
      "csw.getrecords2(constraints=[ResponsiblePartyName],maxrecords=10,esn='full')\n",
      "csw.records.keys()"
     ],
     "language": "python",
     "metadata": {},
     "outputs": [
      {
       "metadata": {},
       "output_type": "pyout",
       "prompt_number": 77,
       "text": [
        "['NS05agg',\n",
        " 'NS10agg',\n",
        " 'NS09agg',\n",
        " 'NS15agg',\n",
        " 'NS04agg',\n",
        " 'NS06agg',\n",
        " 'NS03agg',\n",
        " 'NS11agg',\n",
        " 'NS07agg',\n",
        " 'NS08agg']"
       ]
      }
     ],
     "prompt_number": 77
    },
    {
     "cell_type": "markdown",
     "metadata": {},
     "source": [
      "Now print out some titles"
     ]
    },
    {
     "cell_type": "code",
     "collapsed": false,
     "input": [
      "for rec,item in csw.records.iteritems():\n",
      "    print item.title"
     ],
     "language": "python",
     "metadata": {},
     "outputs": [
      {
       "output_type": "stream",
       "stream": "stdout",
       "text": [
        "NANOOS Sensor Observation Service (SOS)\n",
        "National Data Buoy Center SOS\n",
        "Northeastern Regional Association of Coastal Ocean Observing Systems\n",
        "NOAA.NOS.CO-OPS SOS\n",
        "Dauphin Island Sea Lab SOS\n"
       ]
      }
     ],
     "prompt_number": 104
    },
    {
     "cell_type": "markdown",
     "metadata": {},
     "source": [
      "In the next cell we try using a vertical extent range, which doesn't seem to be working, as we are looking for z values between [-5000, 0] and we see in the ISO record for 'NS10agg' here: <br>\n",
      "http://oos.soest.hawaii.edu/thredds/iso/hioos/nss/ns10agg?catalog=http%3A%2F%2Foos.soest.hawaii.edu%2Fthredds%2Fidd%2Fnss_hioos.html&dataset=NS10agg <br>\n",
      "that the vertical extent is from [-2, -2]"
     ]
    },
    {
     "cell_type": "code",
     "collapsed": false,
     "input": [
      "csw.getrecords2(constraints=[[keywords,start,stop,serviceType,bbox,zmin,zmax]],maxrecords=5,esn='full')\n",
      "csw.records.keys()"
     ],
     "language": "python",
     "metadata": {},
     "outputs": [
      {
       "metadata": {},
       "output_type": "pyout",
       "prompt_number": 79,
       "text": [
        "[]"
       ]
      }
     ],
     "prompt_number": 79
    },
    {
     "cell_type": "markdown",
     "metadata": {},
     "source": [
      "Define a function that will return the endpoint for a specified service type"
     ]
    },
    {
     "cell_type": "code",
     "collapsed": false,
     "input": [],
     "language": "python",
     "metadata": {},
     "outputs": [],
     "prompt_number": 79
    },
    {
     "cell_type": "code",
     "collapsed": false,
     "input": [
      "# get specific ServiceType URL from records\n",
      "def service_urls(records,service_string='urn:x-esri:specification:ServiceType:odp:url'):\n",
      "    urls=[]\n",
      "    for key,rec in records.iteritems():\n",
      "        #create a generator object, and iterate through it until the match is found\n",
      "        #if not found, gets the default value (here \"none\")\n",
      "        url = next((d['url'] for d in rec.references if d['scheme'] == service_string), None)\n",
      "        if url is not None:\n",
      "            urls.append(url)\n",
      "    return urls"
     ],
     "language": "python",
     "metadata": {},
     "outputs": [],
     "prompt_number": 105
    },
    {
     "cell_type": "markdown",
     "metadata": {},
     "source": [
      "Print out all the SOS  endpoints"
     ]
    },
    {
     "cell_type": "code",
     "collapsed": false,
     "input": [
      "sos_urls = service_urls(csw.records,service_string='urn:x-esri:specification:ServiceType:sos:url')\n",
      "print \"\\n\".join(sos_urls)"
     ],
     "language": "python",
     "metadata": {},
     "outputs": [
      {
       "output_type": "stream",
       "stream": "stdout",
       "text": [
        "http://habu.apl.washington.edu/pyws/sos.py?service=SOS&request=GetCapabilities\n",
        "http://sdf.ndbc.noaa.gov/sos/server.php?service=SOS&request=GetCapabilities\n",
        "http://opendap.co-ops.nos.noaa.gov/ioos-dif-sos/SOS?service=SOS&request=GetCapabilities\n"
       ]
      }
     ],
     "prompt_number": 106
    },
    {
     "cell_type": "code",
     "collapsed": false,
     "input": [],
     "language": "python",
     "metadata": {},
     "outputs": [],
     "prompt_number": 81
    },
    {
     "cell_type": "code",
     "collapsed": false,
     "input": [
      "sos = SensorObservationService(sos_urls[2])\n",
      "contents = sos.contents\n",
      "#print(contents)"
     ],
     "language": "python",
     "metadata": {},
     "outputs": [],
     "prompt_number": 111
    },
    {
     "cell_type": "code",
     "collapsed": false,
     "input": [
      "sos.filters"
     ],
     "language": "python",
     "metadata": {},
     "outputs": [],
     "prompt_number": 112
    },
    {
     "cell_type": "code",
     "collapsed": false,
     "input": [
      "for url in sos_urls:\n",
      "    sos = SensorObservationService(url)\n",
      "    off = sos.offerings[1]\n",
      "    print sos.filters\n",
      "#    print(off)"
     ],
     "language": "python",
     "metadata": {},
     "outputs": [
      {
       "output_type": "stream",
       "stream": "stdout",
       "text": [
        "None\n",
        "None"
       ]
      },
      {
       "output_type": "stream",
       "stream": "stdout",
       "text": [
        "\n",
        "None"
       ]
      },
      {
       "output_type": "stream",
       "stream": "stdout",
       "text": [
        "\n"
       ]
      }
     ],
     "prompt_number": 113
    },
    {
     "cell_type": "code",
     "collapsed": false,
     "input": [
      "for url in sos_urls:\n",
      "    csw = CatalogueServiceWeb(url,timeout=60)\n",
      "\n",
      "    #pdb.set_trace()\n",
      "    response = csw.get_observation(offerings=['1211-A1H'],\n",
      "                                 responseFormat='text/xml;subtype=\"om/1.0.0\"',\n",
      "                                 observedProperties=['u_1205'],\n",
      "                                 procedure='urn:ioos:station:gov.usgs:1211-A1H')ncv = netCDF4.Dataset(url).variables\n",
      "\n",
      "            data_dict[v]=ncv[v][istart:istop].flatten()\n",
      "        # Create Pandas data frame, with time index\n",
      "        ts = pd.DataFrame.from_dict(data_dict)\n",
      "        ts.index=dtime\n",
      "        ts.plot(figsize=(12,4));\n",
      "        title(std_name)"
     ],
     "language": "python",
     "metadata": {},
     "outputs": []
    },
    {
     "cell_type": "code",
     "collapsed": false,
     "input": [],
     "language": "python",
     "metadata": {},
     "outputs": []
    }
   ],
   "metadata": {}
  }
 ]
}