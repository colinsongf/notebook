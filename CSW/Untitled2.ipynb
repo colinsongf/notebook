{
 "metadata": {
  "name": "",
  "signature": "sha256:780d4902ad695c321077d28a0e9c63a053f2f8111a5032715302b02e5897dbb8"
 },
 "nbformat": 3,
 "nbformat_minor": 0,
 "worksheets": [
  {
   "cells": [
    {
     "cell_type": "code",
     "collapsed": false,
     "input": [
      "a=1"
     ],
     "language": "python",
     "metadata": {},
     "outputs": [],
     "prompt_number": 1
    }
   ],
   "metadata": {}
  }
 ]
}