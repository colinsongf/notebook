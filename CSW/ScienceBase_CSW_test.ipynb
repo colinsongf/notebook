{
 "metadata": {
  "name": "",
  "signature": "sha256:f516290060069841c03b79d05403daa9a009cb2bf37355e1f713f43979c660cb"
 },
 "nbformat": 3,
 "nbformat_minor": 0,
 "worksheets": [
  {
   "cells": [
    {
     "cell_type": "markdown",
     "metadata": {},
     "source": [
      "#Explore ScienceBase CSW Services"
     ]
    },
    {
     "cell_type": "markdown",
     "metadata": {},
     "source": [
      "Test support for different types of CSW queries in USGS ScienceBase.  In ScienceBase, each item has a CSW which contains all child items.  Thus I clicked on the `json` link on the top level Hurricane Sandy link, and located the CSW endpoint within.  "
     ]
    },
    {
     "cell_type": "code",
     "collapsed": false,
     "input": [
      "from pylab import *\n",
      "from owslib.csw import CatalogueServiceWeb\n",
      "from owslib import fes\n",
      "import datetime as dt\n",
      "from numpy import random"
     ],
     "language": "python",
     "metadata": {},
     "outputs": [],
     "prompt_number": 7
    },
    {
     "cell_type": "code",
     "collapsed": false,
     "input": [
      "# top level USGS Hurricane Sandy community CSW link\n",
      "#https://www.sciencebase.gov/catalog/item/519bee13e4b0e4e151f0232c/csw?service=CSW&version=2.0.2&request=GetCapabilities\n",
      "endpoint='https://www.sciencebase.gov/catalog/item/519bee13e4b0e4e151f0232c/csw'\n",
      "# san francisco bay\n",
      "#endpoint='https://beta.sciencebase.gov/catalog/item/5064c1cee4b0050306265490/csw'\n"
     ],
     "language": "python",
     "metadata": {},
     "outputs": [],
     "prompt_number": 8
    },
    {
     "cell_type": "code",
     "collapsed": false,
     "input": [
      "#box=[-180, -90, 180, 90]\n",
      "\n",
      "box=[-76.4751, 38.3890, -71.7432, 42.9397]  # new york harbor region\n",
      "#box=[-72.0, 41.0, -69.0, 43.0]   # gulf of maine\n",
      "box =[-123.0, 37.0, -120., 38.] # san fran bay\n",
      "box = [-75., 38., -73., 41.] # barnegat bay\n",
      "\n",
      "# specific specific times (UTC) ...\n",
      "\n",
      "# hurricane sandy\n",
      "jd_start = dt.datetime(2012,10,26)\n",
      "jd_stop = dt.datetime(2012,11,2)\n",
      "\n",
      "# 2014 feb 10-15 storm\n",
      "jd_start = dt.datetime(2014,2,10)\n",
      "jd_stop = dt.datetime(2014,2,15)\n",
      "\n",
      "# 2014 recent\n",
      "jd_start = dt.datetime(2014,3,8)\n",
      "jd_stop = dt.datetime(2014,3,11)\n",
      "\n",
      "# 2011 \n",
      "#jd_start = dt.datetime(2013,4,20)\n",
      "#jd_stop = dt.datetime(2013,4,24)\n",
      "\n",
      "# ... or relative to now\n",
      "jd_start = dt.datetime.utcnow()- dt.timedelta(days=3)\n",
      "jd_stop = dt.datetime.utcnow() + dt.timedelta(days=3)\n",
      "\n",
      "start_date = jd_start.strftime('%Y-%m-%d %H:00')\n",
      "stop_date  = jd_stop.strftime('%Y-%m-%d %H:00')\n",
      "\n",
      "jd_start = dt.datetime.strptime(start_date,'%Y-%m-%d %H:%M')\n",
      "jd_stop = dt.datetime.strptime(stop_date,'%Y-%m-%d %H:%M')\n",
      "\n",
      "print start_date,'to',stop_date\n"
     ],
     "language": "python",
     "metadata": {},
     "outputs": [
      {
       "output_type": "stream",
       "stream": "stdout",
       "text": [
        "2014-04-25 21:00 to 2014-05-01 21:00\n"
       ]
      }
     ],
     "prompt_number": 24
    },
    {
     "cell_type": "code",
     "collapsed": false,
     "input": [
      "# Bounding Box [lon_min, lat_min, lon_max, lat_max]\n",
      "box=[-75., 39., -71., 41.5]  # new york harbor region\n",
      "#box=[-72.0, 41.0, -69.0, 43.0]   # gulf of maine\n",
      "#box=[-160.0, 18.0, -154., 23.0] #hawaii\n",
      "box=[-75, 38, -73, 40] #barnegat"
     ],
     "language": "python",
     "metadata": {},
     "outputs": [],
     "prompt_number": 49
    },
    {
     "cell_type": "code",
     "collapsed": false,
     "input": [
      "bbox = fes.BBox(box)"
     ],
     "language": "python",
     "metadata": {},
     "outputs": [],
     "prompt_number": 50
    },
    {
     "cell_type": "code",
     "collapsed": false,
     "input": [
      "std_name_list=['water_surface_height_above_reference_datum',\n",
      "    'sea_surface_height_above_geoid','sea_surface_elevation',\n",
      "    'sea_surface_height_above_reference_ellipsoid','sea_surface_height_above_sea_level',\n",
      "    'sea_surface_height','water level']"
     ],
     "language": "python",
     "metadata": {},
     "outputs": [],
     "prompt_number": 51
    },
    {
     "cell_type": "code",
     "collapsed": false,
     "input": [
      "std_name_list=['GDP','output']"
     ],
     "language": "python",
     "metadata": {},
     "outputs": [],
     "prompt_number": 52
    },
    {
     "cell_type": "code",
     "collapsed": false,
     "input": [
      "csw = CatalogueServiceWeb(endpoint,timeout=60)\n",
      "csw.version"
     ],
     "language": "python",
     "metadata": {},
     "outputs": [
      {
       "metadata": {},
       "output_type": "pyout",
       "prompt_number": 53,
       "text": [
        "'2.0.2'"
       ]
      }
     ],
     "prompt_number": 53
    },
    {
     "cell_type": "code",
     "collapsed": false,
     "input": [
      "for oper in csw.operations:\n",
      "    if oper.name == 'GetRecords':\n",
      "        print oper.constraints"
     ],
     "language": "python",
     "metadata": {},
     "outputs": [
      {
       "output_type": "stream",
       "stream": "stdout",
       "text": [
        "{'AdditionalQueryables': {'values': ['sb:collection', 'sb:servicetype']}, 'SupportedCommonQueryables': {'values': ['AnyText', 'Title', 'Abstract', 'Subject']}}\n"
       ]
      }
     ],
     "prompt_number": 54
    },
    {
     "cell_type": "code",
     "collapsed": false,
     "input": [
      "csw.getrecords2(maxrecords=1000,esn='full')\n",
      "print len(csw.records.keys())\n",
      "for rec,item in csw.records.iteritems():\n",
      "    print item.title"
     ],
     "language": "python",
     "metadata": {},
     "outputs": [
      {
       "output_type": "stream",
       "stream": "stdout",
       "text": [
        "35\n",
        "Migratory birds\n",
        "Jamaica Bay\n",
        "Submerged aquatic vegetation (SAV) CRSSA image classification of the Barnegat Bay - Little Egg Harbor estuary, New Jersey: 2009\n",
        "Barnegat Bay Ecologically Sensitive Areas\n",
        "Theme 2: Impacts to Coastal Beaches and Barriers\n",
        "NWI maps\n",
        "Modeling Hurricane Sandy Impacts and Storm Surge Protection of Coastal Forest Resources of Atlantic Coast DOI Parks and Refuges\n",
        "Forsythe plovers\n",
        "Theme 4: Impacts on Environmental Quality\n",
        "Hurricane Sandy Storm Surge\n",
        "Hurricane Sandy (FEMA 4086DR-NJ-USGS-01)\n",
        "Decision Support for Coastal Science and Management\n",
        "Hurricane Sandy Publications\n",
        "Change map\n",
        "NEXRAD birds\n",
        "Barrow project area\n",
        "Coastal topography?Northeast Atlantic coast, post-hurricane Sandy, 2012\n",
        "Hurricane Sandy (FEMA MA-12102506-USGS-01)\n",
        "SET cores\n",
        "Products\n",
        "Outer Banks birds\n",
        "Theme 3: Impacts of Storm Surge\n",
        "Sedge Island Marine Conservation Zone\n",
        "Monitoring storm tide and flooding from Hurricane Sandy along the Atlantic coast of the United States, October 2012\n",
        "Hurricane Sandy (FEMA DE-12102505-USGS-01)\n",
        "Hurricane Sandy (FEMA 3353EM-CT-USGS-01)\n",
        "Inundation\n",
        "Theme 5: Impacts to Coastal Ecosystems\n",
        "NJ Delmarva\n",
        "Hurricane Sandy Storm Surge\n",
        "Hurricane Sandy Projects\n",
        "Theme 1: Coastal Topographic and Bathymetric Data\n",
        "Coastal Change Processes\n",
        "SET monitoring\n",
        "Decision support for ecological recovery and resilience\n"
       ]
      }
     ],
     "prompt_number": 55
    },
    {
     "cell_type": "code",
     "collapsed": false,
     "input": [
      "val='Barnegat'\n",
      "text_filt = fes.PropertyIsLike(propertyname='AnyText',literal=('*%s*' % val))\n",
      "\n",
      "filter_list = [text_filt ]"
     ],
     "language": "python",
     "metadata": {},
     "outputs": [],
     "prompt_number": 56
    },
    {
     "cell_type": "code",
     "collapsed": false,
     "input": [
      "# try request using multiple filters \"and\" syntax: [[filter1,filter2]]\n",
      "csw.getrecords2(constraints=filter_list,maxrecords=1000,esn='full')\n",
      "print len(csw.records.keys())"
     ],
     "language": "python",
     "metadata": {},
     "outputs": [
      {
       "output_type": "stream",
       "stream": "stdout",
       "text": [
        "2\n"
       ]
      }
     ],
     "prompt_number": 57
    },
    {
     "cell_type": "code",
     "collapsed": false,
     "input": [
      "for rec,item in csw.records.iteritems():\n",
      "    print item.title"
     ],
     "language": "python",
     "metadata": {},
     "outputs": [
      {
       "output_type": "stream",
       "stream": "stdout",
       "text": [
        "Submerged aquatic vegetation (SAV) CRSSA image classification of the Barnegat Bay - Little Egg Harbor estuary, New Jersey: 2009\n",
        "Barnegat Bay Ecologically Sensitive Areas\n"
       ]
      }
     ],
     "prompt_number": 58
    },
    {
     "cell_type": "code",
     "collapsed": false,
     "input": [
      "val='Barnegat'\n",
      "text_filt = fes.PropertyIsLike(propertyname='AnyText',literal=('*%s*' % val))\n",
      "\n",
      "filter_list = [fes.And([ bbox, text_filt]) ]\n",
      "# try request using multiple filters \"and\" syntax: [[filter1,filter2]]\n",
      "csw.getrecords2(constraints=filter_list,maxrecords=1000,esn='full')\n",
      "print len(csw.records.keys())"
     ],
     "language": "python",
     "metadata": {},
     "outputs": [
      {
       "output_type": "stream",
       "stream": "stdout",
       "text": [
        "35\n"
       ]
      }
     ],
     "prompt_number": 59
    },
    {
     "cell_type": "code",
     "collapsed": false,
     "input": [
      "val='Barnegat'\n",
      "filter_list = [ bbox]\n",
      "# try request using multiple filters \"and\" syntax: [[filter1,filter2]]\n",
      "csw.getrecords2(constraints=filter_list,maxrecords=1000,esn='full')\n",
      "print len(csw.records.keys())"
     ],
     "language": "python",
     "metadata": {},
     "outputs": [
      {
       "output_type": "stream",
       "stream": "stdout",
       "text": [
        "0\n"
       ]
      }
     ],
     "prompt_number": 60
    },
    {
     "cell_type": "code",
     "collapsed": false,
     "input": [
      "for rec,item in csw.records.iteritems():\n",
      "    print item.title"
     ],
     "language": "python",
     "metadata": {},
     "outputs": [],
     "prompt_number": 61
    },
    {
     "cell_type": "code",
     "collapsed": false,
     "input": [
      "choice=random.choice(list(csw.records.keys()))\n",
      "print choice\n",
      "csw.records[choice].references"
     ],
     "language": "python",
     "metadata": {},
     "outputs": [
      {
       "ename": "ValueError",
       "evalue": "a must be non-empty",
       "output_type": "pyerr",
       "traceback": [
        "\u001b[1;31m---------------------------------------------------------------------------\u001b[0m\n\u001b[1;31mValueError\u001b[0m                                Traceback (most recent call last)",
        "\u001b[1;32m<ipython-input-62-6361c64444f8>\u001b[0m in \u001b[0;36m<module>\u001b[1;34m()\u001b[0m\n\u001b[1;32m----> 1\u001b[1;33m \u001b[0mchoice\u001b[0m\u001b[1;33m=\u001b[0m\u001b[0mrandom\u001b[0m\u001b[1;33m.\u001b[0m\u001b[0mchoice\u001b[0m\u001b[1;33m(\u001b[0m\u001b[0mlist\u001b[0m\u001b[1;33m(\u001b[0m\u001b[0mcsw\u001b[0m\u001b[1;33m.\u001b[0m\u001b[0mrecords\u001b[0m\u001b[1;33m.\u001b[0m\u001b[0mkeys\u001b[0m\u001b[1;33m(\u001b[0m\u001b[1;33m)\u001b[0m\u001b[1;33m)\u001b[0m\u001b[1;33m)\u001b[0m\u001b[1;33m\u001b[0m\u001b[0m\n\u001b[0m\u001b[0;32m      2\u001b[0m \u001b[1;32mprint\u001b[0m \u001b[0mchoice\u001b[0m\u001b[1;33m\u001b[0m\u001b[0m\n\u001b[0;32m      3\u001b[0m \u001b[0mcsw\u001b[0m\u001b[1;33m.\u001b[0m\u001b[0mrecords\u001b[0m\u001b[1;33m[\u001b[0m\u001b[0mchoice\u001b[0m\u001b[1;33m]\u001b[0m\u001b[1;33m.\u001b[0m\u001b[0mreferences\u001b[0m\u001b[1;33m\u001b[0m\u001b[0m\n",
        "\u001b[1;32m/home/local/python27_epd/lib/python2.7/site-packages/numpy/random/mtrand.so\u001b[0m in \u001b[0;36mmtrand.RandomState.choice (numpy/random/mtrand/mtrand.c:7299)\u001b[1;34m()\u001b[0m\n",
        "\u001b[1;31mValueError\u001b[0m: a must be non-empty"
       ]
      }
     ],
     "prompt_number": 62
    },
    {
     "cell_type": "code",
     "collapsed": false,
     "input": [
      "foo=csw.records[choice]"
     ],
     "language": "python",
     "metadata": {},
     "outputs": [
      {
       "ename": "KeyError",
       "evalue": "'5227ba5fe4b0767cef419fd5'",
       "output_type": "pyerr",
       "traceback": [
        "\u001b[1;31m---------------------------------------------------------------------------\u001b[0m\n\u001b[1;31mKeyError\u001b[0m                                  Traceback (most recent call last)",
        "\u001b[1;32m<ipython-input-63-cdaae0520fcb>\u001b[0m in \u001b[0;36m<module>\u001b[1;34m()\u001b[0m\n\u001b[1;32m----> 1\u001b[1;33m \u001b[0mfoo\u001b[0m\u001b[1;33m=\u001b[0m\u001b[0mcsw\u001b[0m\u001b[1;33m.\u001b[0m\u001b[0mrecords\u001b[0m\u001b[1;33m[\u001b[0m\u001b[0mchoice\u001b[0m\u001b[1;33m]\u001b[0m\u001b[1;33m\u001b[0m\u001b[0m\n\u001b[0m",
        "\u001b[1;31mKeyError\u001b[0m: '5227ba5fe4b0767cef419fd5'"
       ]
      }
     ],
     "prompt_number": 63
    },
    {
     "cell_type": "code",
     "collapsed": false,
     "input": [
      "print(foo.xml)"
     ],
     "language": "python",
     "metadata": {},
     "outputs": [
      {
       "output_type": "stream",
       "stream": "stdout",
       "text": [
        "<csw:Record xmlns:csw=\"http://www.opengis.net/cat/csw/2.0.2\" xmlns:xsd=\"http://www.w3.org/2001/XMLSchema\" xmlns:dc=\"http://purl.org/dc/elements/1.1/\" xmlns:dcmiBox=\"http://dublincore.org/documents/2000/07/11/dcmi-box/\" xmlns:dct=\"http://purl.org/dc/terms/\" xmlns:gml=\"http://www.opengis.net/gml\" xmlns:ows=\"http://www.opengis.net/ows\">\n",
        "      <dc:identifier>5227ba5fe4b0767cef419fd5</dc:identifier>\n",
        "      <dc:title>Forsythe plovers</dc:title>\n",
        "      <dct:modified>2014-03-31T15:48:34.240Z</dct:modified>\n",
        "      <dct:abstract>&lt;strong&gt;&lt;strong&gt;&lt;strong&gt;Background/Overview&lt;/strong&gt;&lt;br /&gt; Fewer than 2,000 breeding pairs of Piping Plovers ( &lt;em&gt;Charadrius melodus&lt;/em&gt;) were detected on the Atlantic coast in 2012. The Atlantic Coast Piping Plover is a federally-listed, threatened shorebird that inhabits beaches of barrier islands, ocean fronts, bays and inlets, tidal creeks/marshes, peninsulas, and sand bars. These are precisely the habitats that were altered by Hurricane Sandy. The storm eroded or flattened the shoreline of inlets and tidal creeks, breached barrier islands, altered the amount and topography of sand on beaches, washed dunes to the backside of barrier islands, and created sand/gravel overwash habitat on marshes. These changes to the coastal fringes may diminish nesting opportunities for plovers or may create new nesting habitat. Understanding the reproductive response of Piping Plovers to changes in beach habitats will better inform decision-making as plans are made for beach restoration in areas affected by Hurricane Sandy.&lt;br /&gt; &lt;br /&gt; Geographic Location&lt;/strong&gt;&lt;br /&gt; The New Jersey coast on Edwin B. Forsythe National Wildlife Refuge (NWR)(Figure 1). The refuge has been monitoring nesting Piping Plovers on the Holgate and Little Beach Island Units for 26 years. The Holgate Unit is located in the southern region of Long Beach Island in Ocean County. The Little Beach Unit is located in Atlantic County, between Beach Haven Inlet and Brigantine Inlet. Both Units are designated National Wilderness Areas and are closed to the public during the nesting season (April &#8211; August). The refuge lies within the zone of Hurricane Sandy&#8217;s &#8220;highest impact&#8221;; Piping Plover habitat was altered as a result of beach erosion, marsh overwash and exposed rubble (&lt;em&gt;Hurricane Sandy Rapid Assessment Final Report, 2013, Atlantic Flyway Shorebird Business Strategy Planning Team, Manomet Center for Conservation Sciences and the National Fish and Wildlife Foundation&lt;/em&gt;).&amp;nbsp;&lt;br /&gt; &amp;nbsp;&lt;br /&gt; &lt;strong&gt;Partners&lt;/strong&gt;&lt;br /&gt; Virginia Rettig, Refuge Manager, and Paul Castelli, Refuge Biologist, USFWS, Edwin B. Forsythe NWR; Christina Davis, Senior Environmental Specialist, New Jersey Division of Fish and Wildlife, Endangered and Nongame Species Program; and Todd Pover, Beach Nesting Bird Project Manager, Conserve Wildlife Foundation of New Jersey&lt;br /&gt; &amp;nbsp;&lt;br /&gt; &lt;strong&gt;Timeline and milestones&lt;/strong&gt;&lt;br /&gt; Work will commence upon arrival of funds. July - Sept 2013: Joint USGS-USFWS workshop for development of a model set examining ecological factors and reproductive success of the Piping Plover on E. B. Forsythe NWR (hypothesis generation). August 2013&#8211; March 2014: Measurement of ecological factors identified in the workshop using remotely-sensed data (data collection). Analysis of refuge&#8217;s archival nesting data for Holgate and Little Beach Island Units, and AIC model selection (analysis). April &#8211; August 2013: Post-storm field data collection of nesting Piping Plovers on Holgate and Little Beach Island Units (data collection).&lt;br /&gt; &amp;nbsp;&lt;br /&gt; &lt;strong&gt;Budget/staffing&lt;/strong&gt;. Total: $178,200 (includes $25,668 indirect). USGS salaries: $86,228; interagency agreement with USFWS (salary for 6 interns and supplies/equipment for field surveys): $40,079; 2008 and 2013 aerial photography: $14,705; Travel: $5,700; Supplies: $5,820.&lt;br /&gt; &amp;nbsp;&lt;br /&gt; &lt;strong&gt;Deliverables&lt;/strong&gt;&lt;br /&gt; First allocation products include: (1) A model of the ecological factors affecting reproductive success of Piping Plovers using Edwin B. Forsythe NWR, 1987 &#8211; 2012, (2)A map of changes in Piping Plover nesting habitat caused by Hurricane Sandy. The map will be based on photo interpretation of 2008 and 2013 stereo aerial photography.&lt;/strong&gt;</dct:abstract>\n",
        "    </csw:Record>\n",
        "  \n"
       ]
      }
     ],
     "prompt_number": 20
    },
    {
     "cell_type": "code",
     "collapsed": false,
     "input": [],
     "language": "python",
     "metadata": {},
     "outputs": [],
     "prompt_number": 20
    }
   ],
   "metadata": {}
  }
 ]
}