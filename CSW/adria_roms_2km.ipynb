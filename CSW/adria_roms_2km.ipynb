{
 "metadata": {
  "name": "",
  "signature": "sha256:51985d8bc96b65f30bf003c5c78009c535dcbc7c7bb8f30c78a1c2727f955530"
 },
 "nbformat": 3,
 "nbformat_minor": 0,
 "worksheets": [
  {
   "cells": [
    {
     "cell_type": "code",
     "collapsed": false,
     "input": [
      "import netCDF4"
     ],
     "language": "python",
     "metadata": {},
     "outputs": [],
     "prompt_number": 8
    },
    {
     "cell_type": "code",
     "collapsed": false,
     "input": [
      "# if files are not aggregated, can use this approach\n",
      "# root = 'http://home.irb.hr:40088/thredds/dodsC/ROMS_2km/roms_his_arch_201403%2.2d.nc' \n",
      "# files = [root % d for d in range(1, 31)]\n",
      "# nc = netCDF4.MFDataset(files)"
     ],
     "language": "python",
     "metadata": {},
     "outputs": [],
     "prompt_number": 9
    },
    {
     "cell_type": "code",
     "collapsed": false,
     "input": [
      "# Ivica's aggregation\n",
      "url='http://home.irb.hr:40088/thredds/dodsC/ROMS_2km/agg.ncml'\n",
      "nc = netCDF4.Dataset(url);"
     ],
     "language": "python",
     "metadata": {},
     "outputs": []
    },
    {
     "cell_type": "code",
     "collapsed": false,
     "input": [
      "print nc.variables['ubar']"
     ],
     "language": "python",
     "metadata": {},
     "outputs": []
    },
    {
     "cell_type": "code",
     "collapsed": false,
     "input": [
      "880  export CONDA_NPY=18\n",
      "  881  export CONDA_PY=27\n",
      "  882  cd ..\n"
     ],
     "language": "python",
     "metadata": {},
     "outputs": []
    }
   ],
   "metadata": {}
  }
 ]
}