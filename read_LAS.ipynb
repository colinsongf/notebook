{
 "metadata": {
  "name": "",
  "signature": "sha256:8629cd5d1db743338bbf71c0cdaa50e8fd702345ee935db6403861946e6d034d"
 },
 "nbformat": 3,
 "nbformat_minor": 0,
 "worksheets": [
  {
   "cells": [
    {
     "cell_type": "code",
     "collapsed": false,
     "input": [
      "from liblas import file"
     ],
     "language": "python",
     "metadata": {},
     "outputs": []
    }
   ],
   "metadata": {}
  }
 ]
}