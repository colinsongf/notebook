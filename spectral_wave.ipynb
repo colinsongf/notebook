{
 "metadata": {
  "name": "spectral_wave"
 },
 "nbformat": 3,
 "nbformat_minor": 0,
 "worksheets": [
  {
   "cells": [
    {
     "cell_type": "code",
     "collapsed": false,
     "input": [
      "import netCDF4"
     ],
     "language": "python",
     "metadata": {},
     "outputs": [],
     "prompt_number": 1
    },
    {
     "cell_type": "code",
     "collapsed": false,
     "input": [
      "url='http://data.nodc.noaa.gov/thredds/dodsC/ndbc/cmanwx/2013/06/NDBC_41013_201306_D2_v00.nc'"
     ],
     "language": "python",
     "metadata": {},
     "outputs": [],
     "prompt_number": 2
    },
    {
     "cell_type": "code",
     "collapsed": false,
     "input": [
      "nc = netCDF4.Dataset(url)"
     ],
     "language": "python",
     "metadata": {},
     "outputs": [
      {
       "ename": "RuntimeError",
       "evalue": "NetCDF: String match to name in use",
       "output_type": "pyerr",
       "traceback": [
        "\u001b[1;31m---------------------------------------------------------------------------\u001b[0m\n\u001b[1;31mRuntimeError\u001b[0m                              Traceback (most recent call last)",
        "\u001b[1;32m<ipython-input-3-b04991578635>\u001b[0m in \u001b[0;36m<module>\u001b[1;34m()\u001b[0m\n\u001b[1;32m----> 1\u001b[1;33m \u001b[0mnc\u001b[0m \u001b[1;33m=\u001b[0m \u001b[0mnetCDF4\u001b[0m\u001b[1;33m.\u001b[0m\u001b[0mDataset\u001b[0m\u001b[1;33m(\u001b[0m\u001b[0murl\u001b[0m\u001b[1;33m)\u001b[0m\u001b[1;33m\u001b[0m\u001b[0m\n\u001b[0m",
        "\u001b[1;32m/home/local/python27_epd/lib/python2.7/site-packages/netCDF4.so\u001b[0m in \u001b[0;36mnetCDF4.Dataset.__init__ (netCDF4.c:15904)\u001b[1;34m()\u001b[0m\n",
        "\u001b[1;31mRuntimeError\u001b[0m: NetCDF: String match to name in use"
       ]
      }
     ],
     "prompt_number": 3
    },
    {
     "cell_type": "code",
     "collapsed": false,
     "input": [
      "url='/usgs/data2/rsignell/data/waves/NDBC_41013_201308_D2_v00.nc'"
     ],
     "language": "python",
     "metadata": {},
     "outputs": [],
     "prompt_number": 3
    },
    {
     "cell_type": "code",
     "collapsed": false,
     "input": [
      "nc = netCDF4.Dataset(url)"
     ],
     "language": "python",
     "metadata": {},
     "outputs": [],
     "prompt_number": 4
    },
    {
     "cell_type": "code",
     "collapsed": false,
     "input": [
      "nc.variables.keys()"
     ],
     "language": "python",
     "metadata": {},
     "outputs": [
      {
       "metadata": {},
       "output_type": "pyout",
       "prompt_number": 5,
       "text": [
        "[u'time', u'time10', u'timem', u'time_wpm_20', u'wave_wpm', u'wave_wpm_bnds']"
       ]
      }
     ],
     "prompt_number": 5
    },
    {
     "cell_type": "code",
     "collapsed": false,
     "input": [
      "print nc"
     ],
     "language": "python",
     "metadata": {},
     "outputs": [
      {
       "output_type": "stream",
       "stream": "stdout",
       "text": [
        "<type 'netCDF4.Dataset'>\n",
        "root group (NETCDF4 file format):\n",
        "    id: 41013\n",
        "    naming_authority: WMO\n",
        "    geospatial_vertical_datum: urn:ogc:def:datum:epsg::5113\n",
        "    ioos_id: urn:ioos:station:wmo:41013\n",
        "    wmo_id: 41013\n",
        "    institution: National Data Buoy Center\n",
        "    institution_abbreviation: NDBC\n",
        "    title: Meteorological and Oceanographic Data Collected from the National Data Buoy Center's Coastal Marine Automated Network and Weather Buoys\n",
        "    summary: The Coastal-Marine Automated Network (C-MAN) was established by NDBC for the NWS in the early 1980's. Approximately 50 stations make up the C-MAN and have been installed on lighthouses, at capes and beaches, on near shore islands, and on offshore platforms.  Over 100 moored weather buoys have been deployed in U.S. coastal and offshore waters.  C-MAN and weather buoy data typically include barometric pressure, wind direction, speed and gust, and air temperature; however, some C-MAN stations are equipped to also measure sea water temperature, waves, and relative humidity. Weather buoys also measure wave energy spectra from which significant wave height, dominant wave period, and average wave period are derived. The direction of wave propagation is also measured on many moored weather buoys.\n",
        "    station_name: Frying Pan Shoals, NC Buoy\n",
        "    sea_floor_depth_below_sea_level: 23.5\n",
        "    site_elevation: 0.0\n",
        "    qc_manual: http://www.ndbc.noaa.gov/NDBCHandbookofAutomatedDataQualityControl2009.pdf\n",
        "    keywords: Atmospheric Pressure, Sea level Pressure, Atmospheric Temperature, Surface Temperature, Dewpoint Temperature, Humidity, Surface Winds, Ocean Winds, Ocean Temperature, Sea Surface Temperature, Ocean Waves,  Wave Height, Wave Period, Wave Spectra, Longwave Radiation, Shortwave Radiation, Conductivity, Salinity,  Ocean Currents\n",
        "    keywords_vocabulary: GCMD Science Keywords\n",
        "    standard_name_vocabulary: CF-16.0\n",
        "    scientific_project: None\n",
        "    restrictions: There are no restrictions placed on these data.\n",
        "    Metadata_Conventions: Unidata Dataset Discovery v1.0\n",
        "    cdm_data_type: station\n",
        "    history: NDBC_41013_201308_D2_history.txt\n",
        "    format_version: \n",
        "    processing_level: 0\n",
        "    distribution_statement: There are no restrictions placed on these data.\n",
        "    citation: The National Data Buoy Center should be cited as the source of these data if used in any publication.\n",
        "    publisher_name: NDBC\n",
        "    publisher_url: http://www.ndbc.noaa.gov\n",
        "    publisher_email: webmaster.ndbc@noaa.gov\n",
        "    nominal_latitude: 33.436\n",
        "    nominal_longitude: -77.743\n",
        "    geospatial_lat_min: 33.436\n",
        "    geospatial_lat_max: 33.436\n",
        "    geospatial_lat_units: degrees\n",
        "    geospatial_lon_min: -77.743\n",
        "    geospatial_lon_max: -77.743\n",
        "    geospatial_lon_units: degrees\n",
        "    geospatial_vertical_min: 0.0\n",
        "    geospatial_vertical_max: 0.0\n",
        "    geospatial_vertical_positive: up\n",
        "    geospatial_vertial_units: meters above mean sea level\n",
        "    time_coverage_start: 2013-08-01T00:50:00Z\n",
        "    time_coverage_end: 2013-08-31T23:50:00Z\n",
        "    date_created: 2013-09-03T14:12:46Z\n",
        "    date_modified: \n",
        "    creator_url: http://www.ndbc.noaa.gov\n",
        "    creator_email: webmaster.ndbc@noaa.gov\n",
        "    dimensions = (u'time', u'time10', u'timem', u'time_wpm_20', u'wave_wpm', u'wave_wpm_bnds')\n",
        "    variables = (u'time', u'time10', u'timem', u'time_wpm_20', u'wave_wpm', u'wave_wpm_bnds')\n",
        "    groups = (u'payload_1',)\n",
        "\n"
       ]
      }
     ],
     "prompt_number": 6
    },
    {
     "cell_type": "code",
     "collapsed": false,
     "input": [
      "nc.groups"
     ],
     "language": "python",
     "metadata": {},
     "outputs": [
      {
       "metadata": {},
       "output_type": "pyout",
       "prompt_number": 7,
       "text": [
        "OrderedDict([(u'payload_1', <netCDF4.Group object at 0x4363850>)])"
       ]
      }
     ],
     "prompt_number": 7
    },
    {
     "cell_type": "code",
     "collapsed": false,
     "input": [
      "print nc.groups['payload_1']"
     ],
     "language": "python",
     "metadata": {},
     "outputs": [
      {
       "output_type": "stream",
       "stream": "stdout",
       "text": [
        "<type 'netCDF4.Group'>\n",
        "group /payload_1:\n",
        "    payload_id: 41013\n",
        "    description: AMPS ELECTRONICS UNIT, BUOY W/INTERNAL COMPASS\n",
        "    manufacturer: NDBC\n",
        "    part_number: 300000-002\n",
        "    serial_number: 047\n",
        "    install_date: 2011-08-09T00:00:00Z\n",
        "    hull_id: 3DV17\n",
        "    dimensions = ()\n",
        "    variables = ()\n",
        "    groups = (u'anemometer_1', u'anemometer_2', u'barometer_1', u'barometer_2', u'air_temperature_sensor_1', u'air_temperature_sensor_2', u'humidity_sensor_1', u'ocean_temperature_sensor_1', u'gps_1', u'wave_sensor_1')\n",
        "\n"
       ]
      }
     ],
     "prompt_number": 9
    },
    {
     "cell_type": "code",
     "collapsed": false,
     "input": [
      "pay1=nc.groups['payload_1']"
     ],
     "language": "python",
     "metadata": {},
     "outputs": [],
     "prompt_number": 10
    },
    {
     "cell_type": "code",
     "collapsed": false,
     "input": [
      "wave1=pay1.groups['wave_sensor_1']"
     ],
     "language": "python",
     "metadata": {},
     "outputs": [],
     "prompt_number": 13
    },
    {
     "cell_type": "code",
     "collapsed": false,
     "input": [
      "print wave1.variables['"
     ],
     "language": "python",
     "metadata": {},
     "outputs": [
      {
       "metadata": {},
       "output_type": "pyout",
       "prompt_number": 14,
       "text": [
        "[u'significant_wave_height',\n",
        " u'significant_wave_height_qc',\n",
        " u'significant_wave_height_detail_qc',\n",
        " u'significant_wave_height_release',\n",
        " u'dominant_period',\n",
        " u'dominant_period_qc',\n",
        " u'dominant_period_detail_qc',\n",
        " u'dominant_period_release',\n",
        " u'average_period',\n",
        " u'average_period_qc',\n",
        " u'average_period_detail_qc',\n",
        " u'average_period_release',\n",
        " u'mean_wave_direction',\n",
        " u'mean_wave_direction_qc',\n",
        " u'mean_wave_direction_detail_qc',\n",
        " u'mean_wave_direction_release',\n",
        " u'c11',\n",
        " u'c11m',\n",
        " u'alpha1',\n",
        " u'alpha2',\n",
        " u'r1',\n",
        " u'r2',\n",
        " u'rhq',\n",
        " u'gamma2',\n",
        " u'gamma3',\n",
        " u'phih']"
       ]
      }
     ],
     "prompt_number": 14
    },
    {
     "cell_type": "code",
     "collapsed": false,
     "input": [],
     "language": "python",
     "metadata": {},
     "outputs": []
    }
   ],
   "metadata": {}
  }
 ]
}