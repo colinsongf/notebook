{
 "metadata": {
  "gist_id": "e493c6d950ae171aa0a8",
  "name": "",
  "signature": "sha256:72b2ed5913a4fa5628bcb8279c876169e151242c84f1830df3e0db6107264c36"
 },
 "nbformat": 3,
 "nbformat_minor": 0,
 "worksheets": [
  {
   "cells": [
    {
     "cell_type": "heading",
     "level": 1,
     "metadata": {},
     "source": [
      "Convert CNR Wave Data to NetCDF DSG (CF-1.6)"
     ]
    },
    {
     "cell_type": "markdown",
     "metadata": {},
     "source": [
      "From Davide Bonaldo at CNR-ISMAR :\n",
      "    here's a time series of wave data from Jesolo.\n",
      "* Columns 1 to 6: date (y m d h m s)\n",
      "* Column 7: Significant wave height (m)\n",
      "* Column 8: Mean period (s)\n",
      "* Column 9: Mean direction (deg)\n",
      "* Column 10: Sea surface elevation (m)"
     ]
    },
    {
     "cell_type": "code",
     "collapsed": false,
     "input": [
      "import numpy as np\n",
      "import urllib\n",
      "%matplotlib inline"
     ],
     "language": "python",
     "metadata": {},
     "outputs": []
    },
    {
     "cell_type": "code",
     "collapsed": false,
     "input": [
      "url='https://www.dropbox.com/s/0epy3vsjgl1h8ld/ONDE_Jesolo.txt?dl=1'\n",
      "local_file = '/usgs/data2/notebook/data/ONDE_Jesolo.txt'"
     ],
     "language": "python",
     "metadata": {},
     "outputs": [],
     "prompt_number": 17
    },
    {
     "cell_type": "code",
     "collapsed": false,
     "input": [
      "urllib.urlretrieve (url,local_file)"
     ],
     "language": "python",
     "metadata": {},
     "outputs": [
      {
       "metadata": {},
       "output_type": "pyout",
       "prompt_number": 18,
       "text": [
        "('/usgs/data2/notebook/data/ONDE_Jesolo.txt',\n",
        " <httplib.HTTPMessage instance at 0x7f602ce65998>)"
       ]
      }
     ],
     "prompt_number": 18
    },
    {
     "cell_type": "code",
     "collapsed": false,
     "input": [
      "from datetime import datetime\n",
      "\n",
      "import pandas as pd\n",
      "\n",
      "def date_parser(year, month, day, hour, minute, second):\n",
      "    var = year, month, day, hour, minute, second\n",
      "    var = [int(float(x)) for x in var]\n",
      "    return datetime(*var)\n",
      "\n",
      "df = pd.read_csv(local_file, header=None,\n",
      "                 delim_whitespace=True, index_col='datetime',\n",
      "                 parse_dates={'datetime': [0, 1, 2, 3, 4, 5]},\n",
      "                 date_parser=date_parser)\n"
     ],
     "language": "python",
     "metadata": {},
     "outputs": [],
     "prompt_number": 19
    },
    {
     "cell_type": "code",
     "collapsed": false,
     "input": [
      "df.columns=['Hsig','Twave','Dwave','Wlevel']"
     ],
     "language": "python",
     "metadata": {},
     "outputs": [],
     "prompt_number": 20
    },
    {
     "cell_type": "code",
     "collapsed": false,
     "input": [
      "df[['Hsig','Wlevel']].plot()"
     ],
     "language": "python",
     "metadata": {},
     "outputs": [
      {
       "metadata": {},
       "output_type": "pyout",
       "prompt_number": 21,
       "text": [
        "<matplotlib.axes._subplots.AxesSubplot at 0x7f602cc0e650>"
       ]
      },
      {
       "metadata": {},
       "output_type": "display_data",
       "png": "[encoded data removed]",
       "text": [
        "<matplotlib.figure.Figure at 0x7f602ba66f90>"
       ]
      }
     ],
     "prompt_number": 21
    },
    {
     "cell_type": "code",
     "collapsed": false,
     "input": [
      "import calendar\n",
      "times     = [ calendar.timegm(x.timetuple()) for x in df.index ]\n",
      "times=np.asarray(times, dtype=np.int64)"
     ],
     "language": "python",
     "metadata": {},
     "outputs": [],
     "prompt_number": 41
    },
    {
     "cell_type": "code",
     "collapsed": false,
     "input": [
      "def pd_to_secs(df):\n",
      "    import calendar\n",
      "    \"\"\"\n",
      "    convert a pandas datetime index to seconds since 1970\n",
      "    \"\"\"\n",
      "    return np.asarray([ calendar.timegm(x.timetuple()) for x in df.index ], dtype=np.int64)"
     ],
     "language": "python",
     "metadata": {},
     "outputs": [],
     "prompt_number": 49
    },
    {
     "cell_type": "code",
     "collapsed": false,
     "input": [
      "secs = pd_to_secs(df)"
     ],
     "language": "python",
     "metadata": {},
     "outputs": [],
     "prompt_number": 50
    },
    {
     "cell_type": "code",
     "collapsed": false,
     "input": [
      "# z is positive down, will generate ADCP if all z is not the same, simple time series otherwise\n",
      "z = np.zeros_like(secs)"
     ],
     "language": "python",
     "metadata": {},
     "outputs": [],
     "prompt_number": 51
    },
    {
     "cell_type": "code",
     "collapsed": false,
     "input": [
      "values = df['Hsig'].values"
     ],
     "language": "python",
     "metadata": {},
     "outputs": [],
     "prompt_number": 52
    },
    {
     "cell_type": "code",
     "collapsed": false,
     "input": [
      "from pytools.netcdf.sensors import create,ncml,merge,crawl"
     ],
     "language": "python",
     "metadata": {},
     "outputs": [],
     "prompt_number": 53
    },
    {
     "cell_type": "code",
     "collapsed": false,
     "input": [
      "sensor_urn='urn:it.cnr.ismar.ve:sensor:wave_height'\n",
      "station_urn='urn:it.cnr.ismar.ve:station:onda'"
     ],
     "language": "python",
     "metadata": {},
     "outputs": [],
     "prompt_number": 54
    },
    {
     "cell_type": "code",
     "collapsed": false,
     "input": [
      "attributes={'units':'m'}"
     ],
     "language": "python",
     "metadata": {},
     "outputs": [],
     "prompt_number": 55
    },
    {
     "cell_type": "code",
     "collapsed": false,
     "input": [
      "create.create_timeseries_file(output_directory='/usgs/data2/notebook/data',\n",
      "                              latitude=41.5,\n",
      "                              longitude=-69.1,\n",
      "                              full_station_urn=station_urn,\n",
      "                              full_sensor_urn=sensor_urn,\n",
      "                              sensor_vertical_datum=0.0,\n",
      "                              times=secs,\n",
      "                              verticals=z, \n",
      "                              values=values,\n",
      "                              attributes=attributes,\n",
      "                              global_attributes={},\n",
      "                              output_filename='wave_data.nc')"
     ],
     "language": "python",
     "metadata": {},
     "outputs": [],
     "prompt_number": 56
    },
    {
     "cell_type": "code",
     "collapsed": false,
     "input": [],
     "language": "python",
     "metadata": {},
     "outputs": []
    }
   ],
   "metadata": {}
  }
 ]
}