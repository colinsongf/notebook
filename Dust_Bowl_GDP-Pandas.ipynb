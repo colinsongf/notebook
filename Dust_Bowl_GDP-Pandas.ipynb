{
 "metadata": {
  "gist_id": "0dd23762d03c9a6f597b",
  "name": "",
  "signature": "sha256:93ea44bf6f87ed7ab9d44d387e0fca1e9d41a84c44575f34398923317434739e"
 },
 "nbformat": 3,
 "nbformat_minor": 0,
 "worksheets": [
  {
   "cells": [
    {
     "cell_type": "markdown",
     "metadata": {},
     "source": [
      "#Exploring Climate Data: Past and Future\n",
      "##Roland Viger, Rich Signell, USGS\n",
      "First presented at the 2012 Unidata Workshop: Navigating Earth System Science Data, 9-13 July.\n",
      "\n",
      "What if you were watching [Ken Burns's \"The Dust Bowl\"](http://www.pbs.org/kenburns/dustbowl/), saw the striking image below, and wondered: \"How much precipitation there really was back in the dustbowl years?\"  How easy is it to access and manipulate climate data in a scientific analysis?  Here we'll show some powerful tools that make it easy.\n"
     ]
    },
    {
     "cell_type": "code",
     "collapsed": false,
     "input": [
      "from IPython.core.display import Image\n",
      "Image('http://www-tc.pbs.org/kenburns/dustbowl/media/photos/s2571-lg.jpg')"
     ],
     "language": "python",
     "metadata": {},
     "outputs": []
    },
    {
     "cell_type": "markdown",
     "metadata": {},
     "source": [
      "Above:Dust storm hits Hooker, OK, June 4, 1937. \n",
      "\n",
      "To find out how much rainfall was there during the dust bowl years, we can use the [USGS/CIDA GeoDataPortal (GDP)](http://cida.usgs.gov/climate/gdp/) which can compute statistics of a gridded field within specified shapes, such as county outlines.  Hooker is in Texas County, Oklahoma, so here we use the GDP to compute a historical time series of mean precipitation in Texas County using the PRISM dataset. We then compare to climate forecast projections to see if similar droughts are predicted to occur in the future, and what the impact of different climate scenarios might be. "
     ]
    },
    {
     "cell_type": "code",
     "collapsed": false,
     "input": [
      "import numpy as np\n",
      "import matplotlib.dates as mdates\n",
      "import matplotlib.pyplot as plt\n",
      "import urllib\n",
      "import os\n",
      "from IPython.core.display import HTML\n",
      "import time\n",
      "import datetime\n",
      "import pandas as pd\n",
      "%matplotlib inline"
     ],
     "language": "python",
     "metadata": {},
     "outputs": []
    },
    {
     "cell_type": "code",
     "collapsed": false,
     "input": [
      "cd /usgs/data2/notebook"
     ],
     "language": "python",
     "metadata": {},
     "outputs": []
    },
    {
     "cell_type": "code",
     "collapsed": false,
     "input": [
      "import pyGDP\n",
      "import numpy as np\n",
      "import matplotlib.dates as mdates"
     ],
     "language": "python",
     "metadata": {},
     "outputs": []
    },
    {
     "cell_type": "markdown",
     "metadata": {},
     "source": [
      "One way to interface with the GDP is with the interactive web interface, shown below.  In this interface, you can upload a shapefile or draw on the screen to define a polygon region, then you specify the statistics and datasets you want to use via dropdown menus.  "
     ]
    },
    {
     "cell_type": "code",
     "collapsed": false,
     "input": [
      "HTML('<iframe src=http://screencast.com/t/K7KTcaFrSUc width=800 height=600></iframe>')"
     ],
     "language": "python",
     "metadata": {},
     "outputs": []
    },
    {
     "cell_type": "markdown",
     "metadata": {},
     "source": [
      "Here we use the python interface to the GDP, called PyGDP, which allows for scripting.  You can get the code and documentation at https://github.com/USGS-CIDA/pyGDP."
     ]
    },
    {
     "cell_type": "code",
     "collapsed": false,
     "input": [
      "# Create a pyGDP object\n",
      "myGDP = pyGDP.pyGDPwebProcessing()"
     ],
     "language": "python",
     "metadata": {},
     "outputs": []
    },
    {
     "cell_type": "code",
     "collapsed": false,
     "input": [
      "# Let's see what shapefiles are already available on the GDP server\n",
      "# this changes with time, since uploaded shapefiles are kept for a few days\n",
      "shapefiles = myGDP.getShapefiles()\n",
      "print 'Available Shapefiles:'\n",
      "for s in shapefiles:\n",
      "    print s"
     ],
     "language": "python",
     "metadata": {},
     "outputs": []
    },
    {
     "cell_type": "code",
     "collapsed": false,
     "input": [
      "# Is our shapefile there already?\n",
      "# If not, upload it. \n",
      "OKshapeFile = 'upload:OKCNTYD'\n",
      "if not OKshapeFile in shapefiles:\n",
      "    shpfile = myGDP.uploadShapeFile('OKCNTYD.zip')"
     ],
     "language": "python",
     "metadata": {},
     "outputs": []
    },
    {
     "cell_type": "code",
     "collapsed": false,
     "input": [
      "# Let's check the attributes of the shapefile\n",
      "attributes = myGDP.getAttributes(OKshapeFile)\n",
      "print \"Shapefile attributes:\"\n",
      "for a in attributes:\n",
      "    print a"
     ],
     "language": "python",
     "metadata": {},
     "outputs": []
    },
    {
     "cell_type": "code",
     "collapsed": false,
     "input": [
      "# In this particular example, we are interested in attribute = 'DESCRIP', \n",
      "# which provides the County names for Oklahoma\n",
      "user_attribute = 'DESCRIP'\n",
      "values = myGDP.getValues(OKshapeFile, user_attribute)\n",
      "print \"Shapefile attribute values:\"\n",
      "for v in values:\n",
      "    print v"
     ],
     "language": "python",
     "metadata": {},
     "outputs": []
    },
    {
     "cell_type": "code",
     "collapsed": false,
     "input": [
      "# we want Texas County, Oklahoma, which is where Hooker is located\n",
      "user_value = 'Texas'"
     ],
     "language": "python",
     "metadata": {},
     "outputs": []
    },
    {
     "cell_type": "code",
     "collapsed": false,
     "input": [
      "# Let's see what gridded datasets are available for the GDP to operate on\n",
      "dataSets = myGDP.getDataSetURI()\n",
      "print \"Available gridded datasets:\"\n",
      "for d in dataSets:\n",
      "    print d[0]"
     ],
     "language": "python",
     "metadata": {},
     "outputs": []
    },
    {
     "cell_type": "code",
     "collapsed": false,
     "input": [
      "dataSets[0][0]"
     ],
     "language": "python",
     "metadata": {},
     "outputs": []
    },
    {
     "cell_type": "code",
     "collapsed": false,
     "input": [
      "df = pd.DataFrame(dataSets[1:],columns=['title','abstract','urls'])"
     ],
     "language": "python",
     "metadata": {},
     "outputs": []
    },
    {
     "cell_type": "code",
     "collapsed": false,
     "input": [
      "df.head()"
     ],
     "language": "python",
     "metadata": {},
     "outputs": []
    },
    {
     "cell_type": "code",
     "collapsed": false,
     "input": [
      "print df['title']"
     ],
     "language": "python",
     "metadata": {},
     "outputs": []
    },
    {
     "cell_type": "code",
     "collapsed": false,
     "input": [
      "df.ix[20].urls"
     ],
     "language": "python",
     "metadata": {},
     "outputs": []
    },
    {
     "cell_type": "code",
     "collapsed": false,
     "input": [
      "# If you choose a DAP URL, use the \"dods:\" prefix, even\n",
      "# if the list above has a \"http:\" prefix.\n",
      "# For example:  dods://cida.usgs.gov/qa/thredds/dodsC/prism\n",
      "# Let's see what data variables are in our dataset\n",
      "dataSetURI = 'dods://cida.usgs.gov/thredds/dodsC/prism'\n",
      "dataTypes = myGDP.getDataType(dataSetURI)\n",
      "print \"Available variables:\"\n",
      "for d in dataTypes:\n",
      "    print d"
     ],
     "language": "python",
     "metadata": {},
     "outputs": []
    },
    {
     "cell_type": "code",
     "collapsed": false,
     "input": [
      "# Let's see what the available time range is for our data variable\n",
      "variable = 'ppt'  # precip\n",
      "timeRange = myGDP.getTimeRange(dataSetURI, variable)\n",
      "for t in timeRange:\n",
      "    print t"
     ],
     "language": "python",
     "metadata": {},
     "outputs": []
    },
    {
     "cell_type": "code",
     "collapsed": false,
     "input": [
      "timeBegin = '1900-01-01T00:00:00Z'\n",
      "timeEnd   = '2012-08-01T00:00:00Z'"
     ],
     "language": "python",
     "metadata": {},
     "outputs": []
    },
    {
     "cell_type": "code",
     "collapsed": false,
     "input": [
      "# Once we have our shapefile, attribute, value, dataset, datatype, and timerange as inputs, we can go ahead\n",
      "# and submit our request.\n",
      "name1='gdp_texas_county_prism.csv'\n",
      "if not os.path.exists(name1):\n",
      "    url_csv = myGDP.submitFeatureWeightedGridStatistics(OKshapeFile, dataSetURI, variable, \n",
      "          timeBegin, timeEnd, user_attribute, user_value, delim='COMMA', stat='MEAN' )\n",
      "    f = urllib.urlretrieve(url_csv,name1)"
     ],
     "language": "python",
     "metadata": {},
     "outputs": []
    },
    {
     "cell_type": "code",
     "collapsed": false,
     "input": [
      "# load historical PRISM precip\n",
      "df1=pd.read_csv(name1,skiprows=3,parse_dates=True,index_col=0,\n",
      "                names=['date','observed precip'])"
     ],
     "language": "python",
     "metadata": {},
     "outputs": []
    },
    {
     "cell_type": "code",
     "collapsed": false,
     "input": [
      "df1.plot(figsize=(12,2),\n",
      "    title='Average Precip for Texas County, Oklahoma, calculated via GDP using PRISM data ');"
     ],
     "language": "python",
     "metadata": {},
     "outputs": []
    },
    {
     "cell_type": "code",
     "collapsed": false,
     "input": [
      "df1 = pd.stats.moments.rolling_mean(df1,36)\n",
      "df1.plot(figsize=(12,2),\n",
      "    title='Average Precip for Texas County, Oklahoma, calculated via GDP using PRISM data ');"
     ],
     "language": "python",
     "metadata": {},
     "outputs": []
    },
    {
     "cell_type": "code",
     "collapsed": false,
     "input": [
      "HTML('<iframe src=http://www.ipcc.ch/publications_and_data/ar4/wg1/en/spmsspm-projections-of.html width=900 height=350></iframe>')"
     ],
     "language": "python",
     "metadata": {},
     "outputs": []
    },
    {
     "cell_type": "code",
     "collapsed": false,
     "input": [
      "#hayhoe_URI ='dods://cida-eros-thredds1.er.usgs.gov:8082/thredds/dodsC/dcp/conus_grid.w_meta.ncml'\n",
      "dataset ='dods://cida.usgs.gov/thredds/dodsC/maurer/maurer_brekke_w_meta.ncml'\n",
      "variable = 'sresa2_gfdl-cm2-1_1_Prcp'\n",
      "timeRange = myGDP.getTimeRange(dataset, variable)\n",
      "timeRange"
     ],
     "language": "python",
     "metadata": {},
     "outputs": []
    },
    {
     "cell_type": "code",
     "collapsed": false,
     "input": [
      "# retrieve the GFDL model A2 more \"Business-as-Usual\" scenario:\n",
      "time0=time.time();\n",
      "name2='sresa2_gfdl-cm2-1_1_Prcp.csv'\n",
      "if not os.path.exists(name2):\n",
      "    variable = 'sresa2_gfdl-cm2-1_1_Prcp'\n",
      "    result2 = myGDP.submitFeatureWeightedGridStatistics(OKshapeFile, dataset, variable,\n",
      "            timeRange[0],timeRange[1],user_attribute,user_value, delim='COMMA', stat='MEAN' )\n",
      "    f = urllib.urlretrieve(result2,name2)\n",
      "    print('elapsed time=%d s' % (time.time()-time0))"
     ],
     "language": "python",
     "metadata": {},
     "outputs": []
    },
    {
     "cell_type": "code",
     "collapsed": false,
     "input": [
      "# now retrieve the GFDL model B1 \"Eco-Friendly\" scenario:\n",
      "time0=time.time();\n",
      "name3='sresb1_gfdl-cm2-1_1_Prcp.csv'\n",
      "if not os.path.exists(name3):\n",
      "    variable = 'sresb1_gfdl-cm2-1_1_Prcp'\n",
      "    result3 = myGDP.submitFeatureWeightedGridStatistics(OKshapeFile, dataset, variable,\n",
      "            timeRange[0],timeRange[1],user_attribute,user_value, delim='COMMA', stat='MEAN' )\n",
      "    f = urllib.urlretrieve(result3,name3)\n",
      "    print('elapsed time=%d s' % (time.time()-time0))"
     ],
     "language": "python",
     "metadata": {},
     "outputs": []
    },
    {
     "cell_type": "code",
     "collapsed": false,
     "input": [
      "# Load the GDP result for:  \"Business-as-Usual\" scenario:\n",
      "# load historical PRISM precip\n",
      "df2=pd.read_csv(name2,skiprows=3,parse_dates=True,index_col=0,\n",
      "                names=['date','GFDL A2'])\n",
      "\n",
      "# Load the GDP result for:   \"Eco-Friendly\" scenario:\n",
      "df3=pd.read_csv(name3,skiprows=3,parse_dates=True,index_col=0,\n",
      "                names=['date','GFDL B1'])\n",
      "# convert mm/day to mm/month (approximate):\n",
      "\n",
      "\n",
      "ts_rng = pd.date_range(start='1/1/1900',end='1/1/2100',freq='30D')\n",
      "ts = pd.DataFrame(index=ts_rng)\n",
      "df2['GFDL B1'] = df3['GFDL B1']*30.\n",
      "df2['GFDL A2'] = df2['GFDL A2']*30.\n",
      "df2 = pd.stats.moments.rolling_mean(df2,36,center=True)\n",
      "df2 = pd.concat([df2,ts],axis=1).interpolate(limit=1)\n",
      "df2['OBS'] = pd.concat([df1,ts],axis=1).interpolate(limit=1)['observed precip']\n",
      "\n",
      "# interpolate \n",
      "ax=df2.plot(figsize=(12,2),legend=False,\n",
      "    title='Average Precip for Texas County, Oklahoma, calculated via GDP using PRISM data ');\n",
      "ax.legend(loc='upper right');"
     ],
     "language": "python",
     "metadata": {},
     "outputs": []
    },
    {
     "cell_type": "markdown",
     "metadata": {},
     "source": [
      "Now just to show that we can access more than climate model time series, let's extract precipitation data from a dry winter (1936-1937) and a normal winter (2009-2010) for Texas County and look at the spatial patterns.  \n",
      "\n",
      "We'll use the netCDF4-Python library, which allows us to open OPeNDAP datasets just as if they were local NetCDF files. "
     ]
    },
    {
     "cell_type": "code",
     "collapsed": false,
     "input": [
      "import netCDF4\n",
      "url='http://cida.usgs.gov/thredds/dodsC/prism'\n",
      "box = [-102,36.5,-100.95,37]  # Bounding box for Texas County, Oklahoma\n",
      "#box = [-104,36.,-100,39.0]  # Bounding box for larger dust bowl region"
     ],
     "language": "python",
     "metadata": {},
     "outputs": []
    },
    {
     "cell_type": "code",
     "collapsed": false,
     "input": [
      "# define a mean precipitation function, here hard-wired for the PRISM data\n",
      "def mean_precip(nc,bbox=None,start=None,stop=None):\n",
      "    lon=nc.variables['lon'][:]\n",
      "    lat=nc.variables['lat'][:]\n",
      "    tindex0=netCDF4.date2index(start,nc.variables['time'],select='nearest')\n",
      "    tindex1=netCDF4.date2index(stop,nc.variables['time'],select='nearest')\n",
      "    bi=(lon>=box[0])&(lon<=box[2])\n",
      "    bj=(lat>=box[1])&(lat<=box[3])\n",
      "    p=nc.variables['ppt'][tindex0:tindex1,bj,bi]\n",
      "    latmin=np.min(lat[bj])\n",
      "    p=np.mean(p,axis=0)\n",
      "    lon=lon[bi]\n",
      "    lat=lat[bj]\n",
      "    return p,lon,lat"
     ],
     "language": "python",
     "metadata": {},
     "outputs": []
    },
    {
     "cell_type": "code",
     "collapsed": false,
     "input": [
      "nc = netCDF4.Dataset(url)\n",
      "p,lon,lat = mean_precip(nc,bbox=box,start=datetime.datetime(1936,11,1,0,0),\n",
      "                        stop=datetime.datetime(1937,4,1,0,0))\n",
      "p2,lon,lat = mean_precip(nc,bbox=box,start=datetime.datetime(1940,11,1,0,0),\n",
      "                       stop=datetime.datetime(1941,4,1,0,0))\n",
      "latmin = np.min(lat)"
     ],
     "language": "python",
     "metadata": {},
     "outputs": []
    },
    {
     "cell_type": "raw",
     "metadata": {},
     "source": [
      "# look at March 1935, just before black sunday on April 14, 1935\n",
      "nc = netCDF4.Dataset(url)\n",
      "p,lon,lat = mean_precip(nc,bbox=box,start=datetime.datetime(1935,3,1,0,0),\n",
      "                        stop=datetime.datetime(1935,4,1,0,0))\n",
      "p2,lon,lat = mean_precip(nc,bbox=box,start=datetime.datetime(2009,3,1,0,0),\n",
      "                       stop=datetime.datetime(2009,4,1,0,0))\n",
      "latmin = np.min(lat)"
     ]
    },
    {
     "cell_type": "code",
     "collapsed": false,
     "input": [
      "import cartopy.crs as ccrs\n",
      "import cartopy.feature as cfeature\n",
      "states_provinces = cfeature.NaturalEarthFeature(\n",
      "        category='cultural',\n",
      "        name='admin_1_states_provinces_lines',\n",
      "        scale='50m',\n",
      "        facecolor='none')"
     ],
     "language": "python",
     "metadata": {},
     "outputs": []
    },
    {
     "cell_type": "code",
     "collapsed": false,
     "input": [
      "fig = plt.figure(figsize=(12,5)) \n",
      "ax = fig.add_axes([0.1, 0.15, 0.3, 0.8],projection=ccrs.PlateCarree())\n",
      "pc = ax.pcolormesh(lon, lat, p, cmap=plt.cm.jet_r,vmin=0,vmax=40)\n",
      "plt.title('Precip in Dust Bowl Region: Winter 1936-1937')\n",
      "ax.add_feature(states_provinces,edgecolor='gray')\n",
      "ax.text(-101,36.86,'Hooker')\n",
      "ax.plot(-101,36.86,'o')\n",
      "\n",
      "cb = plt.colorbar(pc,   orientation='horizontal')\n",
      "cb.set_label('Precip (mm/month)')\n",
      "\n",
      "ax2 = fig.add_axes([0.6, 0.15, 0.3, 0.8],projection=ccrs.PlateCarree())\n",
      "pc2 = ax2.pcolormesh(lon, lat, p2, cmap=plt.cm.jet_r,vmin=0,vmax=40)\n",
      "plt.title('Precip in Dust Bowl Region: Winter 1940-1941')\n",
      "\n",
      "ax2.add_feature(states_provinces,edgecolor='gray')\n",
      "ax2.text(-101,36.86,'Hooker')\n",
      "ax2.plot(-101,36.86,'o')\n",
      "\n",
      "cb2 = plt.colorbar(pc2,  orientation='horizontal')\n",
      "cb2.set_label('Precip (mm/month)')\n",
      "\n",
      "\n",
      "plt.show()"
     ],
     "language": "python",
     "metadata": {},
     "outputs": []
    },
    {
     "cell_type": "markdown",
     "metadata": {},
     "source": [
      "From the above patterns, we can see that it's significantly drier in the northwestern part of the county in both years.  We can also see that the *maximum* precip in 1936-1937 is less than the *minimum* precipitation in 2009-2010.  We can see just how much each part of the county was drier by doing the different plot below. "
     ]
    },
    {
     "cell_type": "markdown",
     "metadata": {},
     "source": [
      "Hopefully this demo inspires other investigation of historical and projected climate data using the GDP and Python.  "
     ]
    },
    {
     "cell_type": "code",
     "collapsed": false,
     "input": [],
     "language": "python",
     "metadata": {},
     "outputs": []
    }
   ],
   "metadata": {}
  }
 ]
}