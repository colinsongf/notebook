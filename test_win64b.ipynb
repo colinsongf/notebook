{
 "cells": [
  {
   "cell_type": "markdown",
   "metadata": {},
   "source": [
    "```bash\n",
    "conda create --yes -n SECOORA --file ioos_req_windows64.txt python=2.7\n",
    "```"
   ]
  },
  {
   "cell_type": "raw",
   "metadata": {
    "collapsed": false
   },
   "source": [
    "%load_ext watermark\n",
    "%watermark --machine --python --packages iris,pyoos,owslib,oceans,utilities"
   ]
  },
  {
   "cell_type": "code",
   "execution_count": 1,
   "metadata": {
    "collapsed": false
   },
   "outputs": [],
   "source": [
    "import iris\n",
    "import pytz\n",
    "from datetime import datetime, timedelta\n",
    "\n",
    "from utilities import CF_names\n",
    "\n",
    "stop = datetime(2014, 7, 7, 12)\n",
    "stop = stop.replace(tzinfo=pytz.utc)\n",
    "start = stop - timedelta(days=7)\n",
    "\n",
    "bbox = [-87.40, 24.25, -74.70, 36.70]\n",
    "\n",
    "name_list = CF_names['sea_water_temperature']\n",
    "\n",
    "units = iris.unit.Unit('celsius')"
   ]
  },
  {
   "cell_type": "code",
   "execution_count": 2,
   "metadata": {
    "collapsed": false
   },
   "outputs": [],
   "source": [
    "import warnings\n",
    "from oceans import wrap_lon180\n",
    "from utilities import quick_load_cubes, proc_cube, get_surface\n",
    "\n",
    "# Changed to HYCOM because windows iris bombs with Memory error for big data.\n",
    "#url = \"http://oos.soest.hawaii.edu/thredds/dodsC/pacioos/hycom/global\"\n",
    "url = \"http://ecowatch.ncddc.noaa.gov/thredds/dodsC/hycom/hycom_reg1_agg/HYCOM_Region_1_Aggregation_best.ncd\"\n",
    "\n",
    "with warnings.catch_warnings():\n",
    "    warnings.simplefilter(\"ignore\")  # Suppress iris warnings.\n",
    "    cube = quick_load_cubes(url, name_list, callback=None, strict=True)"
   ]
  },
  {
   "cell_type": "code",
   "execution_count": 3,
   "metadata": {
    "collapsed": false
   },
   "outputs": [
    {
     "data": {
      "text/plain": [
       "<iris 'Cube' of sea_water_temperature / (degC) (time: 5587; depth: 40; latitude: 876; longitude: 626)>"
      ]
     },
     "execution_count": 3,
     "metadata": {},
     "output_type": "execute_result"
    }
   ],
   "source": [
    "cube"
   ]
  },
  {
   "cell_type": "code",
   "execution_count": 4,
   "metadata": {
    "collapsed": false
   },
   "outputs": [
    {
     "data": {
      "text/plain": [
       "array([ 260.00003052,  260.08004761,  260.16003418,  260.24002075,\n",
       "        260.32003784,  260.40002441,  260.48001099,  260.56002808,\n",
       "        260.64004517,  260.72003174,  260.80004883,  260.8800354 ,\n",
       "        260.96002197,  261.04003906,  261.12002563,  261.20004272,\n",
       "        261.2800293 ,  261.36001587,  261.44003296,  261.52001953])"
      ]
     },
     "execution_count": 4,
     "metadata": {},
     "output_type": "execute_result"
    }
   ],
   "source": [
    "cube.coord(axis='X').points[:20]"
   ]
  },
  {
   "cell_type": "code",
   "execution_count": 5,
   "metadata": {
    "collapsed": true
   },
   "outputs": [],
   "source": [
    "# Just found a bug in proc_cube().  Meanwhile lets skip the constraint step.\n",
    "cube.coord(axis='X').points = wrap_lon180(cube.coord(axis='X').points)"
   ]
  },
  {
   "cell_type": "code",
   "execution_count": 6,
   "metadata": {
    "collapsed": false
   },
   "outputs": [
    {
     "data": {
      "text/plain": [
       "array([-99.99996948, -99.91995239, -99.83996582, -99.75997925,\n",
       "       -99.67996216, -99.59997559, -99.51998901, -99.43997192,\n",
       "       -99.35995483, -99.27996826, -99.19995117, -99.1199646 ,\n",
       "       -99.03997803, -98.95996094, -98.87997437, -98.79995728,\n",
       "       -98.7199707 , -98.63998413, -98.55996704, -98.47998047])"
      ]
     },
     "execution_count": 6,
     "metadata": {},
     "output_type": "execute_result"
    }
   ],
   "source": [
    "cube.coord(axis='X').points[:20]"
   ]
  },
  {
   "cell_type": "code",
   "execution_count": 7,
   "metadata": {
    "collapsed": false
   },
   "outputs": [
    {
     "ename": "ValueError",
     "evalue": "Unequal lengths. Cube dimension 1 => 876; coord u'depth' dimension 0 => 1.",
     "output_type": "error",
     "traceback": [
      "\u001b[1;31m---------------------------------------------------------------------------\u001b[0m",
      "\u001b[1;31mValueError\u001b[0m                                Traceback (most recent call last)",
      "\u001b[1;32m<ipython-input-7-37f15c3dc45e>\u001b[0m in \u001b[0;36m<module>\u001b[1;34m()\u001b[0m\n\u001b[0;32m      1\u001b[0m \u001b[1;31m# cube = proc_cube(cube, bbox=bbox, time=(start, stop), units=units)\u001b[0m\u001b[1;33m\u001b[0m\u001b[1;33m\u001b[0m\u001b[0m\n\u001b[1;32m----> 2\u001b[1;33m \u001b[0mcube\u001b[0m \u001b[1;33m=\u001b[0m \u001b[0mget_surface\u001b[0m\u001b[1;33m(\u001b[0m\u001b[0mcube\u001b[0m\u001b[1;33m)\u001b[0m  \u001b[1;31m# Get a 2D surface cube.  I am working on 3D...\u001b[0m\u001b[1;33m\u001b[0m\u001b[0m\n\u001b[0m\u001b[0;32m      3\u001b[0m \u001b[0mcube\u001b[0m\u001b[1;33m\u001b[0m\u001b[0m\n",
      "\u001b[1;32mc:\\programs\\anaconda-64\\envs\\secoora4\\lib\\site-packages\\utilities-0.2.0-py2.7.egg\\utilities\\iris_utils.pyc\u001b[0m in \u001b[0;36mget_surface\u001b[1;34m(cube)\u001b[0m\n\u001b[0;32m    186\u001b[0m         \u001b[1;32melse\u001b[0m\u001b[1;33m:\u001b[0m\u001b[1;33m\u001b[0m\u001b[0m\n\u001b[0;32m    187\u001b[0m             \u001b[0midx\u001b[0m \u001b[1;33m=\u001b[0m \u001b[0mnp\u001b[0m\u001b[1;33m.\u001b[0m\u001b[0munique\u001b[0m\u001b[1;33m(\u001b[0m\u001b[0mz\u001b[0m\u001b[1;33m.\u001b[0m\u001b[0mpoints\u001b[0m\u001b[1;33m.\u001b[0m\u001b[0margmin\u001b[0m\u001b[1;33m(\u001b[0m\u001b[0maxis\u001b[0m\u001b[1;33m=\u001b[0m\u001b[1;36m0\u001b[0m\u001b[1;33m)\u001b[0m\u001b[1;33m)\u001b[0m\u001b[1;33m[\u001b[0m\u001b[1;36m0\u001b[0m\u001b[1;33m]\u001b[0m\u001b[1;33m\u001b[0m\u001b[0m\n\u001b[1;32m--> 188\u001b[1;33m         \u001b[1;32mreturn\u001b[0m \u001b[0mcube\u001b[0m\u001b[1;33m[\u001b[0m\u001b[1;33m:\u001b[0m\u001b[1;33m,\u001b[0m \u001b[0midx\u001b[0m\u001b[1;33m,\u001b[0m \u001b[1;33m.\u001b[0m\u001b[1;33m.\u001b[0m\u001b[1;33m.\u001b[0m\u001b[1;33m]\u001b[0m\u001b[1;33m\u001b[0m\u001b[0m\n\u001b[0m\u001b[0;32m    189\u001b[0m     \u001b[1;32melse\u001b[0m\u001b[1;33m:\u001b[0m\u001b[1;33m\u001b[0m\u001b[0m\n\u001b[0;32m    190\u001b[0m         \u001b[1;32mreturn\u001b[0m \u001b[0mcube\u001b[0m\u001b[1;33m\u001b[0m\u001b[0m\n",
      "\u001b[1;32mc:\\programs\\anaconda-64\\envs\\SECOORA4\\lib\\site-packages\\iris\\cube.pyc\u001b[0m in \u001b[0;36m__getitem__\u001b[1;34m(self, keys)\u001b[0m\n\u001b[0;32m   1938\u001b[0m                 \u001b[1;31m# Attempt to slice it by converting to AuxCoord first\u001b[0m\u001b[1;33m\u001b[0m\u001b[1;33m\u001b[0m\u001b[0m\n\u001b[0;32m   1939\u001b[0m                 \u001b[0mnew_coord\u001b[0m \u001b[1;33m=\u001b[0m \u001b[0miris\u001b[0m\u001b[1;33m.\u001b[0m\u001b[0mcoords\u001b[0m\u001b[1;33m.\u001b[0m\u001b[0mAuxCoord\u001b[0m\u001b[1;33m.\u001b[0m\u001b[0mfrom_coord\u001b[0m\u001b[1;33m(\u001b[0m\u001b[0mcoord\u001b[0m\u001b[1;33m)\u001b[0m\u001b[1;33m[\u001b[0m\u001b[0mcoord_keys\u001b[0m\u001b[1;33m]\u001b[0m\u001b[1;33m\u001b[0m\u001b[0m\n\u001b[1;32m-> 1940\u001b[1;33m                 \u001b[0mcube\u001b[0m\u001b[1;33m.\u001b[0m\u001b[0madd_aux_coord\u001b[0m\u001b[1;33m(\u001b[0m\u001b[0mnew_coord\u001b[0m\u001b[1;33m,\u001b[0m \u001b[0mnew_dims\u001b[0m\u001b[1;33m)\u001b[0m\u001b[1;33m\u001b[0m\u001b[0m\n\u001b[0m\u001b[0;32m   1941\u001b[0m             \u001b[0mcoord_mapping\u001b[0m\u001b[1;33m[\u001b[0m\u001b[0mid\u001b[0m\u001b[1;33m(\u001b[0m\u001b[0mcoord\u001b[0m\u001b[1;33m)\u001b[0m\u001b[1;33m]\u001b[0m \u001b[1;33m=\u001b[0m \u001b[0mnew_coord\u001b[0m\u001b[1;33m\u001b[0m\u001b[0m\n\u001b[0;32m   1942\u001b[0m \u001b[1;33m\u001b[0m\u001b[0m\n",
      "\u001b[1;32mc:\\programs\\anaconda-64\\envs\\SECOORA4\\lib\\site-packages\\iris\\cube.pyc\u001b[0m in \u001b[0;36madd_aux_coord\u001b[1;34m(self, coord, data_dims)\u001b[0m\n\u001b[0;32m    815\u001b[0m         \u001b[1;32mif\u001b[0m \u001b[0mself\u001b[0m\u001b[1;33m.\u001b[0m\u001b[0mcoords\u001b[0m\u001b[1;33m(\u001b[0m\u001b[0mcoord\u001b[0m\u001b[1;33m)\u001b[0m\u001b[1;33m:\u001b[0m  \u001b[1;31m# TODO: just fail on duplicate object\u001b[0m\u001b[1;33m\u001b[0m\u001b[0m\n\u001b[0;32m    816\u001b[0m             \u001b[1;32mraise\u001b[0m \u001b[0mValueError\u001b[0m\u001b[1;33m(\u001b[0m\u001b[1;34m'Duplicate coordinates are not permitted.'\u001b[0m\u001b[1;33m)\u001b[0m\u001b[1;33m\u001b[0m\u001b[0m\n\u001b[1;32m--> 817\u001b[1;33m         \u001b[0mself\u001b[0m\u001b[1;33m.\u001b[0m\u001b[0m_add_unique_aux_coord\u001b[0m\u001b[1;33m(\u001b[0m\u001b[0mcoord\u001b[0m\u001b[1;33m,\u001b[0m \u001b[0mdata_dims\u001b[0m\u001b[1;33m)\u001b[0m\u001b[1;33m\u001b[0m\u001b[0m\n\u001b[0m\u001b[0;32m    818\u001b[0m \u001b[1;33m\u001b[0m\u001b[0m\n\u001b[0;32m    819\u001b[0m     \u001b[1;32mdef\u001b[0m \u001b[0m_add_unique_aux_coord\u001b[0m\u001b[1;33m(\u001b[0m\u001b[0mself\u001b[0m\u001b[1;33m,\u001b[0m \u001b[0mcoord\u001b[0m\u001b[1;33m,\u001b[0m \u001b[0mdata_dims\u001b[0m\u001b[1;33m)\u001b[0m\u001b[1;33m:\u001b[0m\u001b[1;33m\u001b[0m\u001b[0m\n",
      "\u001b[1;32mc:\\programs\\anaconda-64\\envs\\SECOORA4\\lib\\site-packages\\iris\\cube.pyc\u001b[0m in \u001b[0;36m_add_unique_aux_coord\u001b[1;34m(self, coord, data_dims)\u001b[0m\n\u001b[0;32m    838\u001b[0m                     raise ValueError(msg.format(dim, self.shape[dim],\n\u001b[0;32m    839\u001b[0m                                                 \u001b[0mcoord\u001b[0m\u001b[1;33m.\u001b[0m\u001b[0mname\u001b[0m\u001b[1;33m(\u001b[0m\u001b[1;33m)\u001b[0m\u001b[1;33m,\u001b[0m \u001b[0mi\u001b[0m\u001b[1;33m,\u001b[0m\u001b[1;33m\u001b[0m\u001b[0m\n\u001b[1;32m--> 840\u001b[1;33m                                                 coord.shape[i]))\n\u001b[0m\u001b[0;32m    841\u001b[0m         \u001b[1;32melif\u001b[0m \u001b[0mcoord\u001b[0m\u001b[1;33m.\u001b[0m\u001b[0mshape\u001b[0m \u001b[1;33m!=\u001b[0m \u001b[1;33m(\u001b[0m\u001b[1;36m1\u001b[0m\u001b[1;33m,\u001b[0m\u001b[1;33m)\u001b[0m\u001b[1;33m:\u001b[0m\u001b[1;33m\u001b[0m\u001b[0m\n\u001b[0;32m    842\u001b[0m             raise ValueError('Missing data dimensions for multi-valued'\n",
      "\u001b[1;31mValueError\u001b[0m: Unequal lengths. Cube dimension 1 => 876; coord u'depth' dimension 0 => 1."
     ]
    }
   ],
   "source": [
    "# cube = proc_cube(cube, bbox=bbox, time=(start, stop), units=units)\n",
    "cube = get_surface(cube)  # Get a 2D surface cube.  I am working on 3D...\n",
    "cube"
   ]
  },
  {
   "cell_type": "code",
   "execution_count": null,
   "metadata": {
    "collapsed": false
   },
   "outputs": [],
   "source": [
    "from utilities import get_nearest_water, make_tree\n",
    "\n",
    "obs = dict(lon=-77.7867, lat=34.2133)\n",
    "\n",
    "tree, lon, lat = make_tree(cube)\n",
    "kw = dict(k=10, max_dist=0.04, min_var=0.01)\n",
    "series, dist, idx = get_nearest_water(cube, tree, obs['lon'], obs['lat'], **kw)\n",
    "\n",
    "print('Distance (degrees): {}'.format(dist))\n",
    "print('Indices: {!r}'.format(idx))"
   ]
  },
  {
   "cell_type": "code",
   "execution_count": null,
   "metadata": {
    "collapsed": false
   },
   "outputs": [],
   "source": [
    "series"
   ]
  },
  {
   "cell_type": "code",
   "execution_count": null,
   "metadata": {
    "collapsed": true
   },
   "outputs": [],
   "source": [
    "%matplotlib inline\n",
    "import cartopy.crs as ccrs\n",
    "import matplotlib.pyplot as plt\n",
    "from cartopy.feature import NaturalEarthFeature\n",
    "from cartopy.mpl.gridliner import LONGITUDE_FORMATTER, LATITUDE_FORMATTER\n",
    "\n",
    "states = NaturalEarthFeature(category='cultural', scale='50m', facecolor='none',\n",
    "                             name='admin_1_states_provinces_shp')\n",
    "\n",
    "def make_map(projection=ccrs.PlateCarree()):\n",
    "    fig, ax = plt.subplots(figsize=(8, 6),\n",
    "                           subplot_kw=dict(projection=projection))\n",
    "    ax.coastlines(resolution='50m')\n",
    "    gl = ax.gridlines(draw_labels=True)\n",
    "    gl.xlabels_top = gl.ylabels_right = False\n",
    "    gl.xformatter = LONGITUDE_FORMATTER\n",
    "    gl.yformatter = LATITUDE_FORMATTER\n",
    "    return fig, ax"
   ]
  },
  {
   "cell_type": "code",
   "execution_count": null,
   "metadata": {
    "collapsed": false
   },
   "outputs": [],
   "source": [
    "import numpy.ma as ma\n",
    "from oceans import cm\n",
    "\n",
    "\n",
    "c = cube[0, ...]\n",
    "c.data = ma.masked_invalid(c.data)\n",
    "# I hate when I have to \"mask manually.\"\n",
    "c.data = ma.masked_greater(c.data, 999)\n",
    "\n",
    "lon = c.coord(axis='X').points\n",
    "lat = c.coord(axis='Y').points\n",
    "\n",
    "extent = (lon.min(), lon.max(),\n",
    "          lat.min(), lat.max())\n",
    "\n",
    "fig, ax = make_map()\n",
    "ax.set_extent(extent)\n",
    "cs = ax.pcolormesh(lon, lat, c.data, cmap=cm.rscolmap, alpha=0.5)\n",
    "ax.plot(obs['lon'], obs['lat'], 'k*', label='observation')\n",
    "# Note that to avoid dealing with the different indices formats\n",
    "# from the different models (FVCOM, ROMS, ESTOFS etc)\n",
    "# I recommend using the coords from the series output.\n",
    "ax.plot(series.coord(axis='X').points,\n",
    "        series.coord(axis='Y').points,\n",
    "        'ro', label='model', alpha=0.5)\n",
    "#ax.set_title(c.attributes['title'])\n",
    "ax.add_feature(states, edgecolor='gray')\n",
    "leg = ax.legend(numpoints=1, loc='upper left')"
   ]
  },
  {
   "cell_type": "code",
   "execution_count": null,
   "metadata": {
    "collapsed": false
   },
   "outputs": [],
   "source": [
    "import iris.quickplot as qplt\n",
    "\n",
    "# I hate when I have to \"mask manually.\"\n",
    "series.data = ma.masked_greater(series.data, 999)\n",
    "\n",
    "fig, ax = plt.subplots(figsize=(9, 2.75))\n",
    "l, = qplt.plot(series)"
   ]
  },
  {
   "cell_type": "code",
   "execution_count": null,
   "metadata": {
    "collapsed": false
   },
   "outputs": [],
   "source": [
    "!conda info"
   ]
  },
  {
   "cell_type": "code",
   "execution_count": null,
   "metadata": {
    "collapsed": false
   },
   "outputs": [],
   "source": [
    "!conda list"
   ]
  }
 ],
 "metadata": {
  "kernelspec": {
   "display_name": "Python 2",
   "language": "python",
   "name": "python2"
  },
  "language_info": {
   "codemirror_mode": {
    "name": "ipython",
    "version": 2
   },
   "file_extension": ".py",
   "mimetype": "text/x-python",
   "name": "python",
   "nbconvert_exporter": "python",
   "pygments_lexer": "ipython2",
   "version": "2.7.9"
  }
 },
 "nbformat": 4,
 "nbformat_minor": 0
}
