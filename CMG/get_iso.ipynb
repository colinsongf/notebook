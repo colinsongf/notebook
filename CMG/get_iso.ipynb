{
 "metadata": {
  "name": "",
  "signature": "sha256:84fee0233a2339c5f08f414dad589ebbe3974cbc098dd9dc6e7dcea28f10e4a4"
 },
 "nbformat": 3,
 "nbformat_minor": 0,
 "worksheets": [
  {
   "cells": [
    {
     "cell_type": "code",
     "collapsed": false,
     "input": [
      "a='http://geoport.whoi.edu/thredds/wms/coawst_4/use/fmrc/coawst_4_use_best.ncd?service=WMS&version=1.3.0&request=GetCapabilities'"
     ],
     "language": "python",
     "metadata": {},
     "outputs": [],
     "prompt_number": 83
    },
    {
     "cell_type": "code",
     "collapsed": false,
     "input": [
      "# create a name for the WMS layer from the URL \n",
      "# by finding the text after the last '/' and before the '.' or the '?', which ever comes first\n",
      "# also don't allow '-' in the name, as SciWMS doesn't like hyphens\n",
      "nam=a.split('/')[-1].replace('-','_').replace('.','?').split('?')[0]\n",
      "print nam"
     ],
     "language": "python",
     "metadata": {},
     "outputs": [
      {
       "output_type": "stream",
       "stream": "stdout",
       "text": [
        "coawst_4_use_best\n"
       ]
      }
     ],
     "prompt_number": 84
    },
    {
     "cell_type": "code",
     "collapsed": false,
     "input": [
      "# SCI-WMS endpoint\n",
      "b='http://geoport.whoi.edu:8899/wms/datasets/%s/?REQUEST=GetCapabilities' % nam"
     ],
     "language": "python",
     "metadata": {},
     "outputs": [],
     "prompt_number": 85
    },
    {
     "cell_type": "code",
     "collapsed": false,
     "input": [
      "b"
     ],
     "language": "python",
     "metadata": {},
     "outputs": [
      {
       "metadata": {},
       "output_type": "pyout",
       "prompt_number": 86,
       "text": [
        "'http://geoport.whoi.edu:8899/wms/datasets/coawst_4_use_best/?REQUEST=GetCapabilities'"
       ]
      }
     ],
     "prompt_number": 86
    },
    {
     "cell_type": "code",
     "collapsed": false,
     "input": [
      "import os\n",
      "import urllib\n",
      "from thredds_crawler.crawl import Crawl\n",
      "from lxml import etree as et"
     ],
     "language": "python",
     "metadata": {},
     "outputs": [],
     "prompt_number": 87
    },
    {
     "cell_type": "code",
     "collapsed": false,
     "input": [
      "import logging\n",
      "import logging.handlers\n",
      "logger = logging.getLogger('thredds_crawler')\n",
      "fh = logging.handlers.RotatingFileHandler('/usgs/data0/iso/logs/iso_harvest.log', maxBytes=1024*1024*10, backupCount=5)\n",
      "fh.setLevel(logging.DEBUG)\n",
      "ch = logging.StreamHandler()\n",
      "ch.setLevel(logging.DEBUG)\n",
      "formatter = logging.Formatter('%(asctime)s - %(name)s - %(levelname)s - %(message)s')\n",
      "fh.setFormatter(formatter)\n",
      "ch.setFormatter(formatter)\n",
      "logger.addHandler(fh)\n",
      "logger.addHandler(ch)\n",
      "logger.setLevel(logging.DEBUG)\n",
      "\n",
      "SAVE_DIR=\"/usgs/data0/iso/iso_records\"\n",
      "\n",
      "namespace = {'gco': 'http://www.isotc211.org/2005/gco',\n",
      "             'gmd': 'http://www.isotc211.org/2005/gmd'\n",
      "             }\n",
      "\n",
      "THREDDS_SERVERS = {\n",
      "    \"necofs1\": \"http://www.smast.umassd.edu:8080/thredds/forecasts.html\",\n",
      "    \"coawst\":   \"http://geoport.whoi.edu/thredds/catalog/coawst_4/use/fmrc/catalog.html\" \n",
      "}\n",
      "\n",
      "for subfolder, thredds_url in THREDDS_SERVERS.items():\n",
      "  logger.info(\"Crawling %s (%s)\" % (subfolder, thredds_url))\n",
      "  crawler = Crawl(thredds_url, debug=True)\n",
      "  isos = [(d.id, s.get(\"url\")) for d in crawler.datasets for s in d.services if s.get(\"service\").lower() == \"iso\"]\n",
      "  filefolder = os.path.join(SAVE_DIR, subfolder)\n",
      "  if not os.path.exists(filefolder):\n",
      "    os.makedirs(filefolder)\n",
      "  for iso in isos:\n",
      "    try:\n",
      "      filename = iso[0].replace(\"/\", \"_\") + \".iso.xml\"\n",
      "      filepath = os.path.join(filefolder, filename)\n",
      "      logger.info(\"Downloading/Saving %s\" % filepath)\n",
      "      # retrieve XML from ncISO and put in file:\n",
      "#      urllib.urlretrieve(iso[1], filepath)\n",
      "      # retrieve XML from ncISO and put in etree\n",
      "      tree = et.parse(iso[1])\n",
      "      # Does metadata contain 'CMG_Portal' in a gco:CharacterString element?\n",
      "      # if so, replace Thredds WMS endpoint with a SciWMS endpoint\n",
      "      if tree.xpath(\".//gco:CharacterString[text()='CMG_Portal']\", namespaces=namespace):\n",
      "        # find element with thredds WMS endpoint\n",
      "        ele = tree.xpath(\".//gmd:URL[contains(text(), 'thredds/wms')]\", namespaces=namespace)\n",
      "        url = ele[0].text\n",
      "        # find the dataset name to use in the SciWMS endpoint\n",
      "        name = url.split('/')[-1].replace('-','_').replace('.','?').split('?')[0]\n",
      "        # replace element with new SciWMS endpoint\n",
      "        new_url = 'http://geoport.whoi.edu:8899/wms/datasets/{0}/?REQUEST=GetCapabilities'.format(name)\n",
      "        ele[0].text = new_url\n",
      "        with open(filepath, 'w') as f:\n",
      "          f.write(et.tostring(tree, pretty_print=True))\n",
      "    except BaseException:\n",
      "      logger.exception(\"Error!\")"
     ],
     "language": "python",
     "metadata": {},
     "outputs": [
      {
       "output_type": "stream",
       "stream": "stderr",
       "text": [
        "2015-02-11 16:43:33,757 - thredds_crawler - INFO - Crawling coawst (http://geoport.whoi.edu/thredds/catalog/coawst_4/use/fmrc/catalog.html)\n"
       ]
      },
      {
       "output_type": "stream",
       "stream": "stdout",
       "text": [
        "2015-02-11 16:43:33,757 - [INFO] Crawling coawst (http://geoport.whoi.edu/thredds/catalog/coawst_4/use/fmrc/catalog.html)\n"
       ]
      },
      {
       "output_type": "stream",
       "stream": "stdout",
       "text": [
        "2015-02-11 16:43:33,757 - [INFO] Crawling coawst (http://geoport.whoi.edu/thredds/catalog/coawst_4/use/fmrc/catalog.html)\n"
       ]
      },
      {
       "output_type": "stream",
       "stream": "stderr",
       "text": [
        "2015-02-11 16:43:33,757 - thredds_crawler - INFO - Crawling coawst (http://geoport.whoi.edu/thredds/catalog/coawst_4/use/fmrc/catalog.html)\n"
       ]
      },
      {
       "output_type": "stream",
       "stream": "stdout",
       "text": [
        "2015-02-11 16:43:33,757 - [INFO] Crawling coawst (http://geoport.whoi.edu/thredds/catalog/coawst_4/use/fmrc/catalog.html)\n"
       ]
      },
      {
       "output_type": "stream",
       "stream": "stdout",
       "text": [
        "2015-02-11 16:43:33,757 - [INFO] Crawling coawst (http://geoport.whoi.edu/thredds/catalog/coawst_4/use/fmrc/catalog.html)\n"
       ]
      },
      {
       "output_type": "stream",
       "stream": "stderr",
       "text": [
        "2015-02-11 16:43:33,757 - thredds_crawler - INFO - Crawling coawst (http://geoport.whoi.edu/thredds/catalog/coawst_4/use/fmrc/catalog.html)\n"
       ]
      },
      {
       "output_type": "stream",
       "stream": "stdout",
       "text": [
        "2015-02-11 16:43:33,757 - [INFO] Crawling coawst (http://geoport.whoi.edu/thredds/catalog/coawst_4/use/fmrc/catalog.html)\n"
       ]
      },
      {
       "output_type": "stream",
       "stream": "stderr",
       "text": [
        "2015-02-11 16:43:33,757 - thredds_crawler - INFO - Crawling coawst (http://geoport.whoi.edu/thredds/catalog/coawst_4/use/fmrc/catalog.html)\n"
       ]
      },
      {
       "output_type": "stream",
       "stream": "stdout",
       "text": [
        "2015-02-11 16:43:33,757 - [INFO] Crawling coawst (http://geoport.whoi.edu/thredds/catalog/coawst_4/use/fmrc/catalog.html)\n"
       ]
      },
      {
       "output_type": "stream",
       "stream": "stderr",
       "text": [
        "2015-02-11 16:43:33,757 - thredds_crawler - INFO - Crawling coawst (http://geoport.whoi.edu/thredds/catalog/coawst_4/use/fmrc/catalog.html)\n"
       ]
      },
      {
       "output_type": "stream",
       "stream": "stdout",
       "text": [
        "2015-02-11 16:43:33,757 - [INFO] Crawling coawst (http://geoport.whoi.edu/thredds/catalog/coawst_4/use/fmrc/catalog.html)\n"
       ]
      },
      {
       "output_type": "stream",
       "stream": "stderr",
       "text": [
        "2015-02-11 16:43:33,757 - thredds_crawler - INFO - Crawling coawst (http://geoport.whoi.edu/thredds/catalog/coawst_4/use/fmrc/catalog.html)\n"
       ]
      },
      {
       "output_type": "stream",
       "stream": "stderr",
       "text": [
        "INFO:thredds_crawler:Crawling coawst (http://geoport.whoi.edu/thredds/catalog/coawst_4/use/fmrc/catalog.html)\n"
       ]
      },
      {
       "output_type": "stream",
       "stream": "stderr",
       "text": [
        "2015-02-11 16:43:33,765 - thredds_crawler - INFO - Crawling: http://geoport.whoi.edu/thredds/catalog/coawst_4/use/fmrc/catalog.html\n"
       ]
      },
      {
       "output_type": "stream",
       "stream": "stdout",
       "text": [
        "2015-02-11 16:43:33,765 - [INFO] Crawling: http://geoport.whoi.edu/thredds/catalog/coawst_4/use/fmrc/catalog.html\n"
       ]
      },
      {
       "output_type": "stream",
       "stream": "stdout",
       "text": [
        "2015-02-11 16:43:33,765 - [INFO] Crawling: http://geoport.whoi.edu/thredds/catalog/coawst_4/use/fmrc/catalog.html\n"
       ]
      },
      {
       "output_type": "stream",
       "stream": "stderr",
       "text": [
        "2015-02-11 16:43:33,765 - thredds_crawler - INFO - Crawling: http://geoport.whoi.edu/thredds/catalog/coawst_4/use/fmrc/catalog.html\n"
       ]
      },
      {
       "output_type": "stream",
       "stream": "stdout",
       "text": [
        "2015-02-11 16:43:33,765 - [INFO] Crawling: http://geoport.whoi.edu/thredds/catalog/coawst_4/use/fmrc/catalog.html\n"
       ]
      },
      {
       "output_type": "stream",
       "stream": "stdout",
       "text": [
        "2015-02-11 16:43:33,765 - [INFO] Crawling: http://geoport.whoi.edu/thredds/catalog/coawst_4/use/fmrc/catalog.html\n"
       ]
      },
      {
       "output_type": "stream",
       "stream": "stderr",
       "text": [
        "2015-02-11 16:43:33,765 - thredds_crawler - INFO - Crawling: http://geoport.whoi.edu/thredds/catalog/coawst_4/use/fmrc/catalog.html\n"
       ]
      },
      {
       "output_type": "stream",
       "stream": "stdout",
       "text": [
        "2015-02-11 16:43:33,765 - [INFO] Crawling: http://geoport.whoi.edu/thredds/catalog/coawst_4/use/fmrc/catalog.html\n"
       ]
      },
      {
       "output_type": "stream",
       "stream": "stderr",
       "text": [
        "2015-02-11 16:43:33,765 - thredds_crawler - INFO - Crawling: http://geoport.whoi.edu/thredds/catalog/coawst_4/use/fmrc/catalog.html\n"
       ]
      },
      {
       "output_type": "stream",
       "stream": "stdout",
       "text": [
        "2015-02-11 16:43:33,765 - [INFO] Crawling: http://geoport.whoi.edu/thredds/catalog/coawst_4/use/fmrc/catalog.html\n"
       ]
      },
      {
       "output_type": "stream",
       "stream": "stderr",
       "text": [
        "2015-02-11 16:43:33,765 - thredds_crawler - INFO - Crawling: http://geoport.whoi.edu/thredds/catalog/coawst_4/use/fmrc/catalog.html\n"
       ]
      },
      {
       "output_type": "stream",
       "stream": "stdout",
       "text": [
        "2015-02-11 16:43:33,765 - [INFO] Crawling: http://geoport.whoi.edu/thredds/catalog/coawst_4/use/fmrc/catalog.html\n"
       ]
      },
      {
       "output_type": "stream",
       "stream": "stderr",
       "text": [
        "2015-02-11 16:43:33,765 - thredds_crawler - INFO - Crawling: http://geoport.whoi.edu/thredds/catalog/coawst_4/use/fmrc/catalog.html\n"
       ]
      },
      {
       "output_type": "stream",
       "stream": "stdout",
       "text": [
        "2015-02-11 16:43:33,765 - [INFO] Crawling: http://geoport.whoi.edu/thredds/catalog/coawst_4/use/fmrc/catalog.html\n"
       ]
      },
      {
       "output_type": "stream",
       "stream": "stderr",
       "text": [
        "INFO:thredds_crawler:Crawling: http://geoport.whoi.edu/thredds/catalog/coawst_4/use/fmrc/catalog.html\n"
       ]
      },
      {
       "output_type": "stream",
       "stream": "stderr",
       "text": [
        "2015-02-11 16:43:33,782 - thredds_crawler - DEBUG - Processing coawst_4/use/fmrc/coawst_4_use_best.ncd\n"
       ]
      },
      {
       "output_type": "stream",
       "stream": "stdout",
       "text": [
        "2015-02-11 16:43:33,782 - [DEBUG] Processing coawst_4/use/fmrc/coawst_4_use_best.ncd\n"
       ]
      },
      {
       "output_type": "stream",
       "stream": "stdout",
       "text": [
        "2015-02-11 16:43:33,782 - [DEBUG] Processing coawst_4/use/fmrc/coawst_4_use_best.ncd\n"
       ]
      },
      {
       "output_type": "stream",
       "stream": "stderr",
       "text": [
        "2015-02-11 16:43:33,782 - thredds_crawler - DEBUG - Processing coawst_4/use/fmrc/coawst_4_use_best.ncd\n"
       ]
      },
      {
       "output_type": "stream",
       "stream": "stdout",
       "text": [
        "2015-02-11 16:43:33,782 - [DEBUG] Processing coawst_4/use/fmrc/coawst_4_use_best.ncd\n"
       ]
      },
      {
       "output_type": "stream",
       "stream": "stdout",
       "text": [
        "2015-02-11 16:43:33,782 - [DEBUG] Processing coawst_4/use/fmrc/coawst_4_use_best.ncd\n"
       ]
      },
      {
       "output_type": "stream",
       "stream": "stderr",
       "text": [
        "2015-02-11 16:43:33,782 - thredds_crawler - DEBUG - Processing coawst_4/use/fmrc/coawst_4_use_best.ncd\n"
       ]
      },
      {
       "output_type": "stream",
       "stream": "stdout",
       "text": [
        "2015-02-11 16:43:33,782 - [DEBUG] Processing coawst_4/use/fmrc/coawst_4_use_best.ncd\n"
       ]
      },
      {
       "output_type": "stream",
       "stream": "stderr",
       "text": [
        "2015-02-11 16:43:33,782 - thredds_crawler - DEBUG - Processing coawst_4/use/fmrc/coawst_4_use_best.ncd\n"
       ]
      },
      {
       "output_type": "stream",
       "stream": "stdout",
       "text": [
        "2015-02-11 16:43:33,782 - [DEBUG] Processing coawst_4/use/fmrc/coawst_4_use_best.ncd\n"
       ]
      },
      {
       "output_type": "stream",
       "stream": "stderr",
       "text": [
        "2015-02-11 16:43:33,782 - thredds_crawler - DEBUG - Processing coawst_4/use/fmrc/coawst_4_use_best.ncd\n"
       ]
      },
      {
       "output_type": "stream",
       "stream": "stdout",
       "text": [
        "2015-02-11 16:43:33,782 - [DEBUG] Processing coawst_4/use/fmrc/coawst_4_use_best.ncd\n"
       ]
      },
      {
       "output_type": "stream",
       "stream": "stderr",
       "text": [
        "2015-02-11 16:43:33,782 - thredds_crawler - DEBUG - Processing coawst_4/use/fmrc/coawst_4_use_best.ncd\n"
       ]
      },
      {
       "output_type": "stream",
       "stream": "stdout",
       "text": [
        "2015-02-11 16:43:33,782 - [DEBUG] Processing coawst_4/use/fmrc/coawst_4_use_best.ncd\n"
       ]
      },
      {
       "output_type": "stream",
       "stream": "stderr",
       "text": [
        "DEBUG:thredds_crawler:Processing coawst_4/use/fmrc/coawst_4_use_best.ncd\n"
       ]
      },
      {
       "output_type": "stream",
       "stream": "stderr",
       "text": [
        "2015-02-11 16:43:33,799 - thredds_crawler - INFO - Downloading/Saving /usgs/data0/iso/iso_records/coawst/coawst_4_use_fmrc_coawst_4_use_best.ncd.iso.xml\n"
       ]
      },
      {
       "output_type": "stream",
       "stream": "stdout",
       "text": [
        "2015-02-11 16:43:33,799 - [INFO] Downloading/Saving /usgs/data0/iso/iso_records/coawst/coawst_4_use_fmrc_coawst_4_use_best.ncd.iso.xml\n"
       ]
      },
      {
       "output_type": "stream",
       "stream": "stdout",
       "text": [
        "2015-02-11 16:43:33,799 - [INFO] Downloading/Saving /usgs/data0/iso/iso_records/coawst/coawst_4_use_fmrc_coawst_4_use_best.ncd.iso.xml\n"
       ]
      },
      {
       "output_type": "stream",
       "stream": "stderr",
       "text": [
        "2015-02-11 16:43:33,799 - thredds_crawler - INFO - Downloading/Saving /usgs/data0/iso/iso_records/coawst/coawst_4_use_fmrc_coawst_4_use_best.ncd.iso.xml\n"
       ]
      },
      {
       "output_type": "stream",
       "stream": "stdout",
       "text": [
        "2015-02-11 16:43:33,799 - [INFO] Downloading/Saving /usgs/data0/iso/iso_records/coawst/coawst_4_use_fmrc_coawst_4_use_best.ncd.iso.xml\n"
       ]
      },
      {
       "output_type": "stream",
       "stream": "stdout",
       "text": [
        "2015-02-11 16:43:33,799 - [INFO] Downloading/Saving /usgs/data0/iso/iso_records/coawst/coawst_4_use_fmrc_coawst_4_use_best.ncd.iso.xml\n"
       ]
      },
      {
       "output_type": "stream",
       "stream": "stderr",
       "text": [
        "2015-02-11 16:43:33,799 - thredds_crawler - INFO - Downloading/Saving /usgs/data0/iso/iso_records/coawst/coawst_4_use_fmrc_coawst_4_use_best.ncd.iso.xml\n"
       ]
      },
      {
       "output_type": "stream",
       "stream": "stdout",
       "text": [
        "2015-02-11 16:43:33,799 - [INFO] Downloading/Saving /usgs/data0/iso/iso_records/coawst/coawst_4_use_fmrc_coawst_4_use_best.ncd.iso.xml\n"
       ]
      },
      {
       "output_type": "stream",
       "stream": "stderr",
       "text": [
        "2015-02-11 16:43:33,799 - thredds_crawler - INFO - Downloading/Saving /usgs/data0/iso/iso_records/coawst/coawst_4_use_fmrc_coawst_4_use_best.ncd.iso.xml\n"
       ]
      },
      {
       "output_type": "stream",
       "stream": "stdout",
       "text": [
        "2015-02-11 16:43:33,799 - [INFO] Downloading/Saving /usgs/data0/iso/iso_records/coawst/coawst_4_use_fmrc_coawst_4_use_best.ncd.iso.xml\n"
       ]
      },
      {
       "output_type": "stream",
       "stream": "stderr",
       "text": [
        "2015-02-11 16:43:33,799 - thredds_crawler - INFO - Downloading/Saving /usgs/data0/iso/iso_records/coawst/coawst_4_use_fmrc_coawst_4_use_best.ncd.iso.xml\n"
       ]
      },
      {
       "output_type": "stream",
       "stream": "stdout",
       "text": [
        "2015-02-11 16:43:33,799 - [INFO] Downloading/Saving /usgs/data0/iso/iso_records/coawst/coawst_4_use_fmrc_coawst_4_use_best.ncd.iso.xml\n"
       ]
      },
      {
       "output_type": "stream",
       "stream": "stderr",
       "text": [
        "2015-02-11 16:43:33,799 - thredds_crawler - INFO - Downloading/Saving /usgs/data0/iso/iso_records/coawst/coawst_4_use_fmrc_coawst_4_use_best.ncd.iso.xml\n"
       ]
      },
      {
       "output_type": "stream",
       "stream": "stdout",
       "text": [
        "2015-02-11 16:43:33,799 - [INFO] Downloading/Saving /usgs/data0/iso/iso_records/coawst/coawst_4_use_fmrc_coawst_4_use_best.ncd.iso.xml\n"
       ]
      },
      {
       "output_type": "stream",
       "stream": "stderr",
       "text": [
        "INFO:thredds_crawler:Downloading/Saving /usgs/data0/iso/iso_records/coawst/coawst_4_use_fmrc_coawst_4_use_best.ncd.iso.xml\n"
       ]
      },
      {
       "output_type": "stream",
       "stream": "stderr",
       "text": [
        "2015-02-11 16:43:34,517 - thredds_crawler - INFO - Crawling necofs1 (http://www.smast.umassd.edu:8080/thredds/forecasts.html)\n"
       ]
      },
      {
       "output_type": "stream",
       "stream": "stdout",
       "text": [
        "2015-02-11 16:43:34,517 - [INFO] Crawling necofs1 (http://www.smast.umassd.edu:8080/thredds/forecasts.html)\n"
       ]
      },
      {
       "output_type": "stream",
       "stream": "stdout",
       "text": [
        "2015-02-11 16:43:34,517 - [INFO] Crawling necofs1 (http://www.smast.umassd.edu:8080/thredds/forecasts.html)\n"
       ]
      },
      {
       "output_type": "stream",
       "stream": "stderr",
       "text": [
        "2015-02-11 16:43:34,517 - thredds_crawler - INFO - Crawling necofs1 (http://www.smast.umassd.edu:8080/thredds/forecasts.html)\n"
       ]
      },
      {
       "output_type": "stream",
       "stream": "stdout",
       "text": [
        "2015-02-11 16:43:34,517 - [INFO] Crawling necofs1 (http://www.smast.umassd.edu:8080/thredds/forecasts.html)\n"
       ]
      },
      {
       "output_type": "stream",
       "stream": "stdout",
       "text": [
        "2015-02-11 16:43:34,517 - [INFO] Crawling necofs1 (http://www.smast.umassd.edu:8080/thredds/forecasts.html)\n"
       ]
      },
      {
       "output_type": "stream",
       "stream": "stderr",
       "text": [
        "2015-02-11 16:43:34,517 - thredds_crawler - INFO - Crawling necofs1 (http://www.smast.umassd.edu:8080/thredds/forecasts.html)\n"
       ]
      },
      {
       "output_type": "stream",
       "stream": "stdout",
       "text": [
        "2015-02-11 16:43:34,517 - [INFO] Crawling necofs1 (http://www.smast.umassd.edu:8080/thredds/forecasts.html)\n"
       ]
      },
      {
       "output_type": "stream",
       "stream": "stderr",
       "text": [
        "2015-02-11 16:43:34,517 - thredds_crawler - INFO - Crawling necofs1 (http://www.smast.umassd.edu:8080/thredds/forecasts.html)\n"
       ]
      },
      {
       "output_type": "stream",
       "stream": "stdout",
       "text": [
        "2015-02-11 16:43:34,517 - [INFO] Crawling necofs1 (http://www.smast.umassd.edu:8080/thredds/forecasts.html)\n"
       ]
      },
      {
       "output_type": "stream",
       "stream": "stderr",
       "text": [
        "2015-02-11 16:43:34,517 - thredds_crawler - INFO - Crawling necofs1 (http://www.smast.umassd.edu:8080/thredds/forecasts.html)\n"
       ]
      },
      {
       "output_type": "stream",
       "stream": "stdout",
       "text": [
        "2015-02-11 16:43:34,517 - [INFO] Crawling necofs1 (http://www.smast.umassd.edu:8080/thredds/forecasts.html)\n"
       ]
      },
      {
       "output_type": "stream",
       "stream": "stderr",
       "text": [
        "2015-02-11 16:43:34,517 - thredds_crawler - INFO - Crawling necofs1 (http://www.smast.umassd.edu:8080/thredds/forecasts.html)\n"
       ]
      },
      {
       "output_type": "stream",
       "stream": "stdout",
       "text": [
        "2015-02-11 16:43:34,517 - [INFO] Crawling necofs1 (http://www.smast.umassd.edu:8080/thredds/forecasts.html)\n"
       ]
      },
      {
       "output_type": "stream",
       "stream": "stderr",
       "text": [
        "INFO:thredds_crawler:Crawling necofs1 (http://www.smast.umassd.edu:8080/thredds/forecasts.html)\n"
       ]
      },
      {
       "output_type": "stream",
       "stream": "stderr",
       "text": [
        "2015-02-11 16:43:34,523 - thredds_crawler - INFO - Crawling: http://www.smast.umassd.edu:8080/thredds/forecasts.html\n"
       ]
      },
      {
       "output_type": "stream",
       "stream": "stdout",
       "text": [
        "2015-02-11 16:43:34,523 - [INFO] Crawling: http://www.smast.umassd.edu:8080/thredds/forecasts.html\n"
       ]
      },
      {
       "output_type": "stream",
       "stream": "stdout",
       "text": [
        "2015-02-11 16:43:34,523 - [INFO] Crawling: http://www.smast.umassd.edu:8080/thredds/forecasts.html\n"
       ]
      },
      {
       "output_type": "stream",
       "stream": "stderr",
       "text": [
        "2015-02-11 16:43:34,523 - thredds_crawler - INFO - Crawling: http://www.smast.umassd.edu:8080/thredds/forecasts.html\n"
       ]
      },
      {
       "output_type": "stream",
       "stream": "stdout",
       "text": [
        "2015-02-11 16:43:34,523 - [INFO] Crawling: http://www.smast.umassd.edu:8080/thredds/forecasts.html\n"
       ]
      },
      {
       "output_type": "stream",
       "stream": "stdout",
       "text": [
        "2015-02-11 16:43:34,523 - [INFO] Crawling: http://www.smast.umassd.edu:8080/thredds/forecasts.html\n"
       ]
      },
      {
       "output_type": "stream",
       "stream": "stderr",
       "text": [
        "2015-02-11 16:43:34,523 - thredds_crawler - INFO - Crawling: http://www.smast.umassd.edu:8080/thredds/forecasts.html\n"
       ]
      },
      {
       "output_type": "stream",
       "stream": "stdout",
       "text": [
        "2015-02-11 16:43:34,523 - [INFO] Crawling: http://www.smast.umassd.edu:8080/thredds/forecasts.html\n"
       ]
      },
      {
       "output_type": "stream",
       "stream": "stderr",
       "text": [
        "2015-02-11 16:43:34,523 - thredds_crawler - INFO - Crawling: http://www.smast.umassd.edu:8080/thredds/forecasts.html\n"
       ]
      },
      {
       "output_type": "stream",
       "stream": "stdout",
       "text": [
        "2015-02-11 16:43:34,523 - [INFO] Crawling: http://www.smast.umassd.edu:8080/thredds/forecasts.html\n"
       ]
      },
      {
       "output_type": "stream",
       "stream": "stderr",
       "text": [
        "2015-02-11 16:43:34,523 - thredds_crawler - INFO - Crawling: http://www.smast.umassd.edu:8080/thredds/forecasts.html\n"
       ]
      },
      {
       "output_type": "stream",
       "stream": "stdout",
       "text": [
        "2015-02-11 16:43:34,523 - [INFO] Crawling: http://www.smast.umassd.edu:8080/thredds/forecasts.html\n"
       ]
      },
      {
       "output_type": "stream",
       "stream": "stderr",
       "text": [
        "2015-02-11 16:43:34,523 - thredds_crawler - INFO - Crawling: http://www.smast.umassd.edu:8080/thredds/forecasts.html\n"
       ]
      },
      {
       "output_type": "stream",
       "stream": "stdout",
       "text": [
        "2015-02-11 16:43:34,523 - [INFO] Crawling: http://www.smast.umassd.edu:8080/thredds/forecasts.html\n"
       ]
      },
      {
       "output_type": "stream",
       "stream": "stdout",
       "text": [
        "2015-02-11 16:43:34,523 - [INFO] Crawling: http://www.smast.umassd.edu:8080/thredds/forecasts.html\n"
       ]
      },
      {
       "output_type": "stream",
       "stream": "stderr",
       "text": [
        "INFO:thredds_crawler:Crawling: http://www.smast.umassd.edu:8080/thredds/forecasts.html\n"
       ]
      },
      {
       "output_type": "stream",
       "stream": "stderr",
       "text": [
        "2015-02-11 16:43:34,572 - thredds_crawler - DEBUG - Processing gom3_nocache\n"
       ]
      },
      {
       "output_type": "stream",
       "stream": "stdout",
       "text": [
        "2015-02-11 16:43:34,572 - [DEBUG] Processing gom3_nocache\n"
       ]
      },
      {
       "output_type": "stream",
       "stream": "stdout",
       "text": [
        "2015-02-11 16:43:34,572 - [DEBUG] Processing gom3_nocache\n"
       ]
      },
      {
       "output_type": "stream",
       "stream": "stderr",
       "text": [
        "2015-02-11 16:43:34,572 - thredds_crawler - DEBUG - Processing gom3_nocache\n"
       ]
      },
      {
       "output_type": "stream",
       "stream": "stdout",
       "text": [
        "2015-02-11 16:43:34,572 - [DEBUG] Processing gom3_nocache\n"
       ]
      },
      {
       "output_type": "stream",
       "stream": "stdout",
       "text": [
        "2015-02-11 16:43:34,572 - [DEBUG] Processing gom3_nocache\n"
       ]
      },
      {
       "output_type": "stream",
       "stream": "stderr",
       "text": [
        "2015-02-11 16:43:34,572 - thredds_crawler - DEBUG - Processing gom3_nocache\n"
       ]
      },
      {
       "output_type": "stream",
       "stream": "stdout",
       "text": [
        "2015-02-11 16:43:34,572 - [DEBUG] Processing gom3_nocache\n"
       ]
      },
      {
       "output_type": "stream",
       "stream": "stderr",
       "text": [
        "2015-02-11 16:43:34,572 - thredds_crawler - DEBUG - Processing gom3_nocache\n"
       ]
      },
      {
       "output_type": "stream",
       "stream": "stdout",
       "text": [
        "2015-02-11 16:43:34,572 - [DEBUG] Processing gom3_nocache\n"
       ]
      },
      {
       "output_type": "stream",
       "stream": "stderr",
       "text": [
        "2015-02-11 16:43:34,572 - thredds_crawler - DEBUG - Processing gom3_nocache\n"
       ]
      },
      {
       "output_type": "stream",
       "stream": "stdout",
       "text": [
        "2015-02-11 16:43:34,572 - [DEBUG] Processing gom3_nocache\n"
       ]
      },
      {
       "output_type": "stream",
       "stream": "stderr",
       "text": [
        "2015-02-11 16:43:34,572 - thredds_crawler - DEBUG - Processing gom3_nocache\n"
       ]
      },
      {
       "output_type": "stream",
       "stream": "stdout",
       "text": [
        "2015-02-11 16:43:34,572 - [DEBUG] Processing gom3_nocache\n"
       ]
      },
      {
       "output_type": "stream",
       "stream": "stdout",
       "text": [
        "2015-02-11 16:43:34,572 - [DEBUG] Processing gom3_nocache\n"
       ]
      },
      {
       "output_type": "stream",
       "stream": "stderr",
       "text": [
        "DEBUG:thredds_crawler:Processing gom3_nocache\n"
       ]
      },
      {
       "output_type": "stream",
       "stream": "stderr",
       "text": [
        "2015-02-11 16:43:34,614 - thredds_crawler - DEBUG - Processing necofs_met\n"
       ]
      },
      {
       "output_type": "stream",
       "stream": "stdout",
       "text": [
        "2015-02-11 16:43:34,614 - [DEBUG] Processing necofs_met\n"
       ]
      },
      {
       "output_type": "stream",
       "stream": "stdout",
       "text": [
        "2015-02-11 16:43:34,614 - [DEBUG] Processing necofs_met\n"
       ]
      },
      {
       "output_type": "stream",
       "stream": "stderr",
       "text": [
        "2015-02-11 16:43:34,614 - thredds_crawler - DEBUG - Processing necofs_met\n"
       ]
      },
      {
       "output_type": "stream",
       "stream": "stdout",
       "text": [
        "2015-02-11 16:43:34,614 - [DEBUG] Processing necofs_met\n"
       ]
      },
      {
       "output_type": "stream",
       "stream": "stdout",
       "text": [
        "2015-02-11 16:43:34,614 - [DEBUG] Processing necofs_met\n"
       ]
      },
      {
       "output_type": "stream",
       "stream": "stderr",
       "text": [
        "2015-02-11 16:43:34,614 - thredds_crawler - DEBUG - Processing necofs_met\n"
       ]
      },
      {
       "output_type": "stream",
       "stream": "stdout",
       "text": [
        "2015-02-11 16:43:34,614 - [DEBUG] Processing necofs_met\n"
       ]
      },
      {
       "output_type": "stream",
       "stream": "stderr",
       "text": [
        "2015-02-11 16:43:34,614 - thredds_crawler - DEBUG - Processing necofs_met\n"
       ]
      },
      {
       "output_type": "stream",
       "stream": "stdout",
       "text": [
        "2015-02-11 16:43:34,614 - [DEBUG] Processing necofs_met\n"
       ]
      },
      {
       "output_type": "stream",
       "stream": "stderr",
       "text": [
        "2015-02-11 16:43:34,614 - thredds_crawler - DEBUG - Processing necofs_met\n"
       ]
      },
      {
       "output_type": "stream",
       "stream": "stdout",
       "text": [
        "2015-02-11 16:43:34,614 - [DEBUG] Processing necofs_met\n"
       ]
      },
      {
       "output_type": "stream",
       "stream": "stderr",
       "text": [
        "2015-02-11 16:43:34,614 - thredds_crawler - DEBUG - Processing necofs_met\n"
       ]
      },
      {
       "output_type": "stream",
       "stream": "stdout",
       "text": [
        "2015-02-11 16:43:34,614 - [DEBUG] Processing necofs_met\n"
       ]
      },
      {
       "output_type": "stream",
       "stream": "stdout",
       "text": [
        "2015-02-11 16:43:34,614 - [DEBUG] Processing necofs_met\n"
       ]
      },
      {
       "output_type": "stream",
       "stream": "stderr",
       "text": [
        "DEBUG:thredds_crawler:Processing necofs_met\n"
       ]
      },
      {
       "output_type": "stream",
       "stream": "stderr",
       "text": [
        "2015-02-11 16:43:34,653 - thredds_crawler - DEBUG - Processing necofs_gom3_wave\n"
       ]
      },
      {
       "output_type": "stream",
       "stream": "stdout",
       "text": [
        "2015-02-11 16:43:34,653 - [DEBUG] Processing necofs_gom3_wave\n"
       ]
      },
      {
       "output_type": "stream",
       "stream": "stdout",
       "text": [
        "2015-02-11 16:43:34,653 - [DEBUG] Processing necofs_gom3_wave\n"
       ]
      },
      {
       "output_type": "stream",
       "stream": "stderr",
       "text": [
        "2015-02-11 16:43:34,653 - thredds_crawler - DEBUG - Processing necofs_gom3_wave\n"
       ]
      },
      {
       "output_type": "stream",
       "stream": "stdout",
       "text": [
        "2015-02-11 16:43:34,653 - [DEBUG] Processing necofs_gom3_wave\n"
       ]
      },
      {
       "output_type": "stream",
       "stream": "stdout",
       "text": [
        "2015-02-11 16:43:34,653 - [DEBUG] Processing necofs_gom3_wave\n"
       ]
      },
      {
       "output_type": "stream",
       "stream": "stderr",
       "text": [
        "2015-02-11 16:43:34,653 - thredds_crawler - DEBUG - Processing necofs_gom3_wave\n"
       ]
      },
      {
       "output_type": "stream",
       "stream": "stdout",
       "text": [
        "2015-02-11 16:43:34,653 - [DEBUG] Processing necofs_gom3_wave\n"
       ]
      },
      {
       "output_type": "stream",
       "stream": "stderr",
       "text": [
        "2015-02-11 16:43:34,653 - thredds_crawler - DEBUG - Processing necofs_gom3_wave\n"
       ]
      },
      {
       "output_type": "stream",
       "stream": "stdout",
       "text": [
        "2015-02-11 16:43:34,653 - [DEBUG] Processing necofs_gom3_wave\n"
       ]
      },
      {
       "output_type": "stream",
       "stream": "stderr",
       "text": [
        "2015-02-11 16:43:34,653 - thredds_crawler - DEBUG - Processing necofs_gom3_wave\n"
       ]
      },
      {
       "output_type": "stream",
       "stream": "stdout",
       "text": [
        "2015-02-11 16:43:34,653 - [DEBUG] Processing necofs_gom3_wave\n"
       ]
      },
      {
       "output_type": "stream",
       "stream": "stderr",
       "text": [
        "2015-02-11 16:43:34,653 - thredds_crawler - DEBUG - Processing necofs_gom3_wave\n"
       ]
      },
      {
       "output_type": "stream",
       "stream": "stdout",
       "text": [
        "2015-02-11 16:43:34,653 - [DEBUG] Processing necofs_gom3_wave\n"
       ]
      },
      {
       "output_type": "stream",
       "stream": "stdout",
       "text": [
        "2015-02-11 16:43:34,653 - [DEBUG] Processing necofs_gom3_wave\n"
       ]
      },
      {
       "output_type": "stream",
       "stream": "stderr",
       "text": [
        "DEBUG:thredds_crawler:Processing necofs_gom3_wave\n"
       ]
      },
      {
       "output_type": "stream",
       "stream": "stderr",
       "text": [
        "2015-02-11 16:43:34,693 - thredds_crawler - DEBUG - Processing massbay_nocache\n"
       ]
      },
      {
       "output_type": "stream",
       "stream": "stdout",
       "text": [
        "2015-02-11 16:43:34,693 - [DEBUG] Processing massbay_nocache\n"
       ]
      },
      {
       "output_type": "stream",
       "stream": "stdout",
       "text": [
        "2015-02-11 16:43:34,693 - [DEBUG] Processing massbay_nocache\n"
       ]
      },
      {
       "output_type": "stream",
       "stream": "stderr",
       "text": [
        "2015-02-11 16:43:34,693 - thredds_crawler - DEBUG - Processing massbay_nocache\n"
       ]
      },
      {
       "output_type": "stream",
       "stream": "stdout",
       "text": [
        "2015-02-11 16:43:34,693 - [DEBUG] Processing massbay_nocache\n"
       ]
      },
      {
       "output_type": "stream",
       "stream": "stdout",
       "text": [
        "2015-02-11 16:43:34,693 - [DEBUG] Processing massbay_nocache\n"
       ]
      },
      {
       "output_type": "stream",
       "stream": "stderr",
       "text": [
        "2015-02-11 16:43:34,693 - thredds_crawler - DEBUG - Processing massbay_nocache\n"
       ]
      },
      {
       "output_type": "stream",
       "stream": "stdout",
       "text": [
        "2015-02-11 16:43:34,693 - [DEBUG] Processing massbay_nocache\n"
       ]
      },
      {
       "output_type": "stream",
       "stream": "stderr",
       "text": [
        "2015-02-11 16:43:34,693 - thredds_crawler - DEBUG - Processing massbay_nocache\n"
       ]
      },
      {
       "output_type": "stream",
       "stream": "stdout",
       "text": [
        "2015-02-11 16:43:34,693 - [DEBUG] Processing massbay_nocache\n"
       ]
      },
      {
       "output_type": "stream",
       "stream": "stderr",
       "text": [
        "2015-02-11 16:43:34,693 - thredds_crawler - DEBUG - Processing massbay_nocache\n"
       ]
      },
      {
       "output_type": "stream",
       "stream": "stdout",
       "text": [
        "2015-02-11 16:43:34,693 - [DEBUG] Processing massbay_nocache\n"
       ]
      },
      {
       "output_type": "stream",
       "stream": "stderr",
       "text": [
        "2015-02-11 16:43:34,693 - thredds_crawler - DEBUG - Processing massbay_nocache\n"
       ]
      },
      {
       "output_type": "stream",
       "stream": "stdout",
       "text": [
        "2015-02-11 16:43:34,693 - [DEBUG] Processing massbay_nocache\n"
       ]
      },
      {
       "output_type": "stream",
       "stream": "stdout",
       "text": [
        "2015-02-11 16:43:34,693 - [DEBUG] Processing massbay_nocache\n"
       ]
      },
      {
       "output_type": "stream",
       "stream": "stderr",
       "text": [
        "DEBUG:thredds_crawler:Processing massbay_nocache\n"
       ]
      },
      {
       "output_type": "stream",
       "stream": "stderr",
       "text": [
        "2015-02-11 16:43:34,735 - thredds_crawler - INFO - Downloading/Saving /usgs/data0/iso/iso_records/necofs1/gom3_nocache.iso.xml\n"
       ]
      },
      {
       "output_type": "stream",
       "stream": "stdout",
       "text": [
        "2015-02-11 16:43:34,735 - [INFO] Downloading/Saving /usgs/data0/iso/iso_records/necofs1/gom3_nocache.iso.xml\n"
       ]
      },
      {
       "output_type": "stream",
       "stream": "stdout",
       "text": [
        "2015-02-11 16:43:34,735 - [INFO] Downloading/Saving /usgs/data0/iso/iso_records/necofs1/gom3_nocache.iso.xml\n"
       ]
      },
      {
       "output_type": "stream",
       "stream": "stderr",
       "text": [
        "2015-02-11 16:43:34,735 - thredds_crawler - INFO - Downloading/Saving /usgs/data0/iso/iso_records/necofs1/gom3_nocache.iso.xml\n"
       ]
      },
      {
       "output_type": "stream",
       "stream": "stdout",
       "text": [
        "2015-02-11 16:43:34,735 - [INFO] Downloading/Saving /usgs/data0/iso/iso_records/necofs1/gom3_nocache.iso.xml\n"
       ]
      },
      {
       "output_type": "stream",
       "stream": "stdout",
       "text": [
        "2015-02-11 16:43:34,735 - [INFO] Downloading/Saving /usgs/data0/iso/iso_records/necofs1/gom3_nocache.iso.xml\n"
       ]
      },
      {
       "output_type": "stream",
       "stream": "stderr",
       "text": [
        "2015-02-11 16:43:34,735 - thredds_crawler - INFO - Downloading/Saving /usgs/data0/iso/iso_records/necofs1/gom3_nocache.iso.xml\n"
       ]
      },
      {
       "output_type": "stream",
       "stream": "stdout",
       "text": [
        "2015-02-11 16:43:34,735 - [INFO] Downloading/Saving /usgs/data0/iso/iso_records/necofs1/gom3_nocache.iso.xml\n"
       ]
      },
      {
       "output_type": "stream",
       "stream": "stderr",
       "text": [
        "2015-02-11 16:43:34,735 - thredds_crawler - INFO - Downloading/Saving /usgs/data0/iso/iso_records/necofs1/gom3_nocache.iso.xml\n"
       ]
      },
      {
       "output_type": "stream",
       "stream": "stdout",
       "text": [
        "2015-02-11 16:43:34,735 - [INFO] Downloading/Saving /usgs/data0/iso/iso_records/necofs1/gom3_nocache.iso.xml\n"
       ]
      },
      {
       "output_type": "stream",
       "stream": "stderr",
       "text": [
        "2015-02-11 16:43:34,735 - thredds_crawler - INFO - Downloading/Saving /usgs/data0/iso/iso_records/necofs1/gom3_nocache.iso.xml\n"
       ]
      },
      {
       "output_type": "stream",
       "stream": "stdout",
       "text": [
        "2015-02-11 16:43:34,735 - [INFO] Downloading/Saving /usgs/data0/iso/iso_records/necofs1/gom3_nocache.iso.xml\n"
       ]
      },
      {
       "output_type": "stream",
       "stream": "stderr",
       "text": [
        "2015-02-11 16:43:34,735 - thredds_crawler - INFO - Downloading/Saving /usgs/data0/iso/iso_records/necofs1/gom3_nocache.iso.xml\n"
       ]
      },
      {
       "output_type": "stream",
       "stream": "stdout",
       "text": [
        "2015-02-11 16:43:34,735 - [INFO] Downloading/Saving /usgs/data0/iso/iso_records/necofs1/gom3_nocache.iso.xml\n"
       ]
      },
      {
       "output_type": "stream",
       "stream": "stdout",
       "text": [
        "2015-02-11 16:43:34,735 - [INFO] Downloading/Saving /usgs/data0/iso/iso_records/necofs1/gom3_nocache.iso.xml\n"
       ]
      },
      {
       "output_type": "stream",
       "stream": "stderr",
       "text": [
        "INFO:thredds_crawler:Downloading/Saving /usgs/data0/iso/iso_records/necofs1/gom3_nocache.iso.xml\n"
       ]
      },
      {
       "output_type": "stream",
       "stream": "stderr",
       "text": [
        "2015-02-11 16:43:35,019 - thredds_crawler - INFO - Downloading/Saving /usgs/data0/iso/iso_records/necofs1/necofs_met.iso.xml\n"
       ]
      },
      {
       "output_type": "stream",
       "stream": "stdout",
       "text": [
        "2015-02-11 16:43:35,019 - [INFO] Downloading/Saving /usgs/data0/iso/iso_records/necofs1/necofs_met.iso.xml\n"
       ]
      },
      {
       "output_type": "stream",
       "stream": "stdout",
       "text": [
        "2015-02-11 16:43:35,019 - [INFO] Downloading/Saving /usgs/data0/iso/iso_records/necofs1/necofs_met.iso.xml\n"
       ]
      },
      {
       "output_type": "stream",
       "stream": "stderr",
       "text": [
        "2015-02-11 16:43:35,019 - thredds_crawler - INFO - Downloading/Saving /usgs/data0/iso/iso_records/necofs1/necofs_met.iso.xml\n"
       ]
      },
      {
       "output_type": "stream",
       "stream": "stdout",
       "text": [
        "2015-02-11 16:43:35,019 - [INFO] Downloading/Saving /usgs/data0/iso/iso_records/necofs1/necofs_met.iso.xml\n"
       ]
      },
      {
       "output_type": "stream",
       "stream": "stdout",
       "text": [
        "2015-02-11 16:43:35,019 - [INFO] Downloading/Saving /usgs/data0/iso/iso_records/necofs1/necofs_met.iso.xml\n"
       ]
      },
      {
       "output_type": "stream",
       "stream": "stderr",
       "text": [
        "2015-02-11 16:43:35,019 - thredds_crawler - INFO - Downloading/Saving /usgs/data0/iso/iso_records/necofs1/necofs_met.iso.xml\n"
       ]
      },
      {
       "output_type": "stream",
       "stream": "stdout",
       "text": [
        "2015-02-11 16:43:35,019 - [INFO] Downloading/Saving /usgs/data0/iso/iso_records/necofs1/necofs_met.iso.xml\n"
       ]
      },
      {
       "output_type": "stream",
       "stream": "stderr",
       "text": [
        "2015-02-11 16:43:35,019 - thredds_crawler - INFO - Downloading/Saving /usgs/data0/iso/iso_records/necofs1/necofs_met.iso.xml\n"
       ]
      },
      {
       "output_type": "stream",
       "stream": "stdout",
       "text": [
        "2015-02-11 16:43:35,019 - [INFO] Downloading/Saving /usgs/data0/iso/iso_records/necofs1/necofs_met.iso.xml\n"
       ]
      },
      {
       "output_type": "stream",
       "stream": "stderr",
       "text": [
        "2015-02-11 16:43:35,019 - thredds_crawler - INFO - Downloading/Saving /usgs/data0/iso/iso_records/necofs1/necofs_met.iso.xml\n"
       ]
      },
      {
       "output_type": "stream",
       "stream": "stdout",
       "text": [
        "2015-02-11 16:43:35,019 - [INFO] Downloading/Saving /usgs/data0/iso/iso_records/necofs1/necofs_met.iso.xml\n"
       ]
      },
      {
       "output_type": "stream",
       "stream": "stderr",
       "text": [
        "2015-02-11 16:43:35,019 - thredds_crawler - INFO - Downloading/Saving /usgs/data0/iso/iso_records/necofs1/necofs_met.iso.xml\n"
       ]
      },
      {
       "output_type": "stream",
       "stream": "stdout",
       "text": [
        "2015-02-11 16:43:35,019 - [INFO] Downloading/Saving /usgs/data0/iso/iso_records/necofs1/necofs_met.iso.xml\n"
       ]
      },
      {
       "output_type": "stream",
       "stream": "stdout",
       "text": [
        "2015-02-11 16:43:35,019 - [INFO] Downloading/Saving /usgs/data0/iso/iso_records/necofs1/necofs_met.iso.xml\n"
       ]
      },
      {
       "output_type": "stream",
       "stream": "stderr",
       "text": [
        "INFO:thredds_crawler:Downloading/Saving /usgs/data0/iso/iso_records/necofs1/necofs_met.iso.xml\n"
       ]
      },
      {
       "output_type": "stream",
       "stream": "stderr",
       "text": [
        "2015-02-11 16:43:35,201 - thredds_crawler - INFO - Downloading/Saving /usgs/data0/iso/iso_records/necofs1/necofs_gom3_wave.iso.xml\n"
       ]
      },
      {
       "output_type": "stream",
       "stream": "stdout",
       "text": [
        "2015-02-11 16:43:35,201 - [INFO] Downloading/Saving /usgs/data0/iso/iso_records/necofs1/necofs_gom3_wave.iso.xml\n"
       ]
      },
      {
       "output_type": "stream",
       "stream": "stdout",
       "text": [
        "2015-02-11 16:43:35,201 - [INFO] Downloading/Saving /usgs/data0/iso/iso_records/necofs1/necofs_gom3_wave.iso.xml\n"
       ]
      },
      {
       "output_type": "stream",
       "stream": "stderr",
       "text": [
        "2015-02-11 16:43:35,201 - thredds_crawler - INFO - Downloading/Saving /usgs/data0/iso/iso_records/necofs1/necofs_gom3_wave.iso.xml\n"
       ]
      },
      {
       "output_type": "stream",
       "stream": "stdout",
       "text": [
        "2015-02-11 16:43:35,201 - [INFO] Downloading/Saving /usgs/data0/iso/iso_records/necofs1/necofs_gom3_wave.iso.xml\n"
       ]
      },
      {
       "output_type": "stream",
       "stream": "stdout",
       "text": [
        "2015-02-11 16:43:35,201 - [INFO] Downloading/Saving /usgs/data0/iso/iso_records/necofs1/necofs_gom3_wave.iso.xml\n"
       ]
      },
      {
       "output_type": "stream",
       "stream": "stderr",
       "text": [
        "2015-02-11 16:43:35,201 - thredds_crawler - INFO - Downloading/Saving /usgs/data0/iso/iso_records/necofs1/necofs_gom3_wave.iso.xml\n"
       ]
      },
      {
       "output_type": "stream",
       "stream": "stdout",
       "text": [
        "2015-02-11 16:43:35,201 - [INFO] Downloading/Saving /usgs/data0/iso/iso_records/necofs1/necofs_gom3_wave.iso.xml\n"
       ]
      },
      {
       "output_type": "stream",
       "stream": "stderr",
       "text": [
        "2015-02-11 16:43:35,201 - thredds_crawler - INFO - Downloading/Saving /usgs/data0/iso/iso_records/necofs1/necofs_gom3_wave.iso.xml\n"
       ]
      },
      {
       "output_type": "stream",
       "stream": "stdout",
       "text": [
        "2015-02-11 16:43:35,201 - [INFO] Downloading/Saving /usgs/data0/iso/iso_records/necofs1/necofs_gom3_wave.iso.xml\n"
       ]
      },
      {
       "output_type": "stream",
       "stream": "stderr",
       "text": [
        "2015-02-11 16:43:35,201 - thredds_crawler - INFO - Downloading/Saving /usgs/data0/iso/iso_records/necofs1/necofs_gom3_wave.iso.xml\n"
       ]
      },
      {
       "output_type": "stream",
       "stream": "stdout",
       "text": [
        "2015-02-11 16:43:35,201 - [INFO] Downloading/Saving /usgs/data0/iso/iso_records/necofs1/necofs_gom3_wave.iso.xml\n"
       ]
      },
      {
       "output_type": "stream",
       "stream": "stderr",
       "text": [
        "2015-02-11 16:43:35,201 - thredds_crawler - INFO - Downloading/Saving /usgs/data0/iso/iso_records/necofs1/necofs_gom3_wave.iso.xml\n"
       ]
      },
      {
       "output_type": "stream",
       "stream": "stdout",
       "text": [
        "2015-02-11 16:43:35,201 - [INFO] Downloading/Saving /usgs/data0/iso/iso_records/necofs1/necofs_gom3_wave.iso.xml\n"
       ]
      },
      {
       "output_type": "stream",
       "stream": "stdout",
       "text": [
        "2015-02-11 16:43:35,201 - [INFO] Downloading/Saving /usgs/data0/iso/iso_records/necofs1/necofs_gom3_wave.iso.xml\n"
       ]
      },
      {
       "output_type": "stream",
       "stream": "stderr",
       "text": [
        "INFO:thredds_crawler:Downloading/Saving /usgs/data0/iso/iso_records/necofs1/necofs_gom3_wave.iso.xml\n"
       ]
      },
      {
       "output_type": "stream",
       "stream": "stderr",
       "text": [
        "2015-02-11 16:43:35,354 - thredds_crawler - INFO - Downloading/Saving /usgs/data0/iso/iso_records/necofs1/massbay_nocache.iso.xml\n"
       ]
      },
      {
       "output_type": "stream",
       "stream": "stdout",
       "text": [
        "2015-02-11 16:43:35,354 - [INFO] Downloading/Saving /usgs/data0/iso/iso_records/necofs1/massbay_nocache.iso.xml\n"
       ]
      },
      {
       "output_type": "stream",
       "stream": "stdout",
       "text": [
        "2015-02-11 16:43:35,354 - [INFO] Downloading/Saving /usgs/data0/iso/iso_records/necofs1/massbay_nocache.iso.xml\n"
       ]
      },
      {
       "output_type": "stream",
       "stream": "stderr",
       "text": [
        "2015-02-11 16:43:35,354 - thredds_crawler - INFO - Downloading/Saving /usgs/data0/iso/iso_records/necofs1/massbay_nocache.iso.xml\n"
       ]
      },
      {
       "output_type": "stream",
       "stream": "stdout",
       "text": [
        "2015-02-11 16:43:35,354 - [INFO] Downloading/Saving /usgs/data0/iso/iso_records/necofs1/massbay_nocache.iso.xml\n"
       ]
      },
      {
       "output_type": "stream",
       "stream": "stdout",
       "text": [
        "2015-02-11 16:43:35,354 - [INFO] Downloading/Saving /usgs/data0/iso/iso_records/necofs1/massbay_nocache.iso.xml\n"
       ]
      },
      {
       "output_type": "stream",
       "stream": "stderr",
       "text": [
        "2015-02-11 16:43:35,354 - thredds_crawler - INFO - Downloading/Saving /usgs/data0/iso/iso_records/necofs1/massbay_nocache.iso.xml\n"
       ]
      },
      {
       "output_type": "stream",
       "stream": "stdout",
       "text": [
        "2015-02-11 16:43:35,354 - [INFO] Downloading/Saving /usgs/data0/iso/iso_records/necofs1/massbay_nocache.iso.xml\n"
       ]
      },
      {
       "output_type": "stream",
       "stream": "stderr",
       "text": [
        "2015-02-11 16:43:35,354 - thredds_crawler - INFO - Downloading/Saving /usgs/data0/iso/iso_records/necofs1/massbay_nocache.iso.xml\n"
       ]
      },
      {
       "output_type": "stream",
       "stream": "stdout",
       "text": [
        "2015-02-11 16:43:35,354 - [INFO] Downloading/Saving /usgs/data0/iso/iso_records/necofs1/massbay_nocache.iso.xml\n"
       ]
      },
      {
       "output_type": "stream",
       "stream": "stderr",
       "text": [
        "2015-02-11 16:43:35,354 - thredds_crawler - INFO - Downloading/Saving /usgs/data0/iso/iso_records/necofs1/massbay_nocache.iso.xml\n"
       ]
      },
      {
       "output_type": "stream",
       "stream": "stdout",
       "text": [
        "2015-02-11 16:43:35,354 - [INFO] Downloading/Saving /usgs/data0/iso/iso_records/necofs1/massbay_nocache.iso.xml\n"
       ]
      },
      {
       "output_type": "stream",
       "stream": "stderr",
       "text": [
        "2015-02-11 16:43:35,354 - thredds_crawler - INFO - Downloading/Saving /usgs/data0/iso/iso_records/necofs1/massbay_nocache.iso.xml\n"
       ]
      },
      {
       "output_type": "stream",
       "stream": "stdout",
       "text": [
        "2015-02-11 16:43:35,354 - [INFO] Downloading/Saving /usgs/data0/iso/iso_records/necofs1/massbay_nocache.iso.xml\n"
       ]
      },
      {
       "output_type": "stream",
       "stream": "stdout",
       "text": [
        "2015-02-11 16:43:35,354 - [INFO] Downloading/Saving /usgs/data0/iso/iso_records/necofs1/massbay_nocache.iso.xml\n"
       ]
      },
      {
       "output_type": "stream",
       "stream": "stderr",
       "text": [
        "INFO:thredds_crawler:Downloading/Saving /usgs/data0/iso/iso_records/necofs1/massbay_nocache.iso.xml\n"
       ]
      }
     ],
     "prompt_number": 88
    },
    {
     "cell_type": "code",
     "collapsed": false,
     "input": [
      "iso"
     ],
     "language": "python",
     "metadata": {},
     "outputs": [
      {
       "metadata": {},
       "output_type": "pyout",
       "prompt_number": 89,
       "text": [
        "('massbay_nocache',\n",
        " 'http://www.smast.umassd.edu:8080/thredds/iso/FVCOM/NECOFS/Forecasts/NECOFS_FVCOM_OCEAN_MASSBAY_FORECAST.nc?dataset=massbay_nocache&catalog=http%3A%2F%2Fwww.smast.umassd.edu%3A8080%2Fthredds%2Fforecasts.xml')"
       ]
      }
     ],
     "prompt_number": 89
    },
    {
     "cell_type": "code",
     "collapsed": false,
     "input": [
      "xml_url = iso[1]\n",
      "tree = et.parse(xml_url)\n",
      "print(et.tostring(tree, pretty_print=True))"
     ],
     "language": "python",
     "metadata": {},
     "outputs": [
      {
       "output_type": "stream",
       "stream": "stdout",
       "text": [
        "<gmi:MI_Metadata xmlns:gmx=\"http://www.isotc211.org/2005/gmx\" xmlns:gsr=\"http://www.isotc211.org/2005/gsr\" xmlns:gss=\"http://www.isotc211.org/2005/gss\" xmlns:gts=\"http://www.isotc211.org/2005/gts\" xmlns:xs=\"http://www.w3.org/2001/XMLSchema\" xmlns:gml=\"http://www.opengis.net/gml/3.2\" xmlns:xlink=\"http://www.w3.org/1999/xlink\" xmlns:xsi=\"http://www.w3.org/2001/XMLSchema-instance\" xmlns:gco=\"http://www.isotc211.org/2005/gco\" xmlns:gmd=\"http://www.isotc211.org/2005/gmd\" xmlns:gmi=\"http://www.isotc211.org/2005/gmi\" xmlns:srv=\"http://www.isotc211.org/2005/srv\" xsi:schemaLocation=\"http://www.isotc211.org/2005/gmi http://www.ngdc.noaa.gov/metadata/published/xsd/schema.xsd\">\n",
        "   <gmd:fileIdentifier>\n",
        "      <gco:CharacterString>massbay_nocache</gco:CharacterString>\n",
        "   </gmd:fileIdentifier>\n",
        "   <gmd:language>\n",
        "      <gmd:LanguageCode codeList=\"http://www.ngdc.noaa.gov/metadata/published/xsd/schema/resources/Codelist/gmxCodelists.xml#LanguageCode\" codeListValue=\"eng\">eng</gmd:LanguageCode>\n",
        "   </gmd:language>\n",
        "   <gmd:characterSet>\n",
        "      <gmd:MD_CharacterSetCode codeList=\"http://www.ngdc.noaa.gov/metadata/published/xsd/schema/resources/Codelist/gmxCodelists.xml#MD_CharacterSetCode\" codeListValue=\"UTF8\">UTF8</gmd:MD_CharacterSetCode>\n",
        "   </gmd:characterSet>\n",
        "   <gmd:hierarchyLevel>\n",
        "      <gmd:MD_ScopeCode codeList=\"http://www.ngdc.noaa.gov/metadata/published/xsd/schema/resources/Codelist/gmxCodelists.xml#MD_ScopeCode\" codeListValue=\"dataset\">dataset</gmd:MD_ScopeCode>\n",
        "   </gmd:hierarchyLevel>\n",
        "   <gmd:hierarchyLevel>\n",
        "      <gmd:MD_ScopeCode codeList=\"http://www.ngdc.noaa.gov/metadata/published/xsd/schema/resources/Codelist/gmxCodelists.xml#MD_ScopeCode\" codeListValue=\"service\">service</gmd:MD_ScopeCode>\n",
        "   </gmd:hierarchyLevel>\n",
        "   <gmd:contact>\n",
        "      <gmd:CI_ResponsibleParty>\n",
        "         <gmd:individualName gco:nilReason=\"missing\"/>\n",
        "         <gmd:organisationName>\n",
        "            <gco:CharacterString>School for Marine Science and Technology</gco:CharacterString>\n",
        "         </gmd:organisationName>\n",
        "         <gmd:contactInfo gco:nilReason=\"missing\"/>\n",
        "         <gmd:role>\n",
        "            <gmd:CI_RoleCode codeList=\"http://www.ngdc.noaa.gov/metadata/published/xsd/schema/resources/Codelist/gmxCodelists.xml#CI_RoleCode\" codeListValue=\"pointOfContact\">pointOfContact</gmd:CI_RoleCode>\n",
        "         </gmd:role>\n",
        "      </gmd:CI_ResponsibleParty>\n",
        "   </gmd:contact>\n",
        "   <gmd:dateStamp>\n",
        "      <gco:Date>2015-02-11</gco:Date>\n",
        "   </gmd:dateStamp>\n",
        "   <gmd:metadataStandardName>\n",
        "      <gco:CharacterString>ISO 19115-2 Geographic Information - Metadata Part 2 Extensions for imagery and gridded data</gco:CharacterString>\n",
        "   </gmd:metadataStandardName>\n",
        "   <gmd:metadataStandardVersion>\n",
        "      <gco:CharacterString>ISO 19115-2:2009(E)</gco:CharacterString>\n",
        "   </gmd:metadataStandardVersion>\n",
        "   <gmd:spatialRepresentationInfo>\n",
        "      <gmd:MD_GridSpatialRepresentation>\n",
        "         <gmd:numberOfDimensions>\n",
        "            <gco:Integer>3</gco:Integer>\n",
        "         </gmd:numberOfDimensions>\n",
        "         <gmd:axisDimensionProperties>\n",
        "            <gmd:MD_Dimension>\n",
        "               <gmd:dimensionName>\n",
        "                  <gmd:MD_DimensionNameTypeCode codeList=\"http://www.ngdc.noaa.gov/metadata/published/xsd/schema/resources/Codelist/gmxCodelists.xml#MD_DimensionNameTypeCode\" codeListValue=\"column\">column</gmd:MD_DimensionNameTypeCode>\n",
        "               </gmd:dimensionName>\n",
        "               <gmd:dimensionSize gco:nilReason=\"unknown\"/>\n",
        "               <gmd:resolution>\n",
        "                  <gco:Measure uom=\"degrees_east\">1.4300389525366042E-5</gco:Measure>\n",
        "               </gmd:resolution>\n",
        "            </gmd:MD_Dimension>\n",
        "         </gmd:axisDimensionProperties>\n",
        "         <gmd:axisDimensionProperties>\n",
        "            <gmd:MD_Dimension>\n",
        "               <gmd:dimensionName>\n",
        "                  <gmd:MD_DimensionNameTypeCode codeList=\"http://www.ngdc.noaa.gov/metadata/published/xsd/schema/resources/Codelist/gmxCodelists.xml#MD_DimensionNameTypeCode\" codeListValue=\"row\">row</gmd:MD_DimensionNameTypeCode>\n",
        "               </gmd:dimensionName>\n",
        "               <gmd:dimensionSize gco:nilReason=\"unknown\"/>\n",
        "               <gmd:resolution>\n",
        "                  <gco:Measure uom=\"degrees_north\">1.4300389525366042E-5</gco:Measure>\n",
        "               </gmd:resolution>\n",
        "            </gmd:MD_Dimension>\n",
        "         </gmd:axisDimensionProperties>\n",
        "         <gmd:axisDimensionProperties>\n",
        "            <gmd:MD_Dimension>\n",
        "               <gmd:dimensionName>\n",
        "                  <gmd:MD_DimensionNameTypeCode codeList=\"http://www.ngdc.noaa.gov/metadata/published/xsd/schema/resources/Codelist/gmxCodelists.xml#MD_DimensionNameTypeCode\" codeListValue=\"vertical\">vertical</gmd:MD_DimensionNameTypeCode>\n",
        "               </gmd:dimensionName>\n",
        "               <gmd:dimensionSize>\n",
        "                  <gco:Integer>10</gco:Integer>\n",
        "               </gmd:dimensionSize>\n",
        "               <gmd:resolution gco:nilReason=\"missing\"/>\n",
        "            </gmd:MD_Dimension>\n",
        "         </gmd:axisDimensionProperties>\n",
        "         <gmd:cellGeometry>\n",
        "            <gmd:MD_CellGeometryCode codeList=\"http://www.ngdc.noaa.gov/metadata/published/xsd/schema/resources/Codelist/gmxCodelists.xml#MD_CellGeometryCode\" codeListValue=\"area\">area</gmd:MD_CellGeometryCode>\n",
        "         </gmd:cellGeometry>\n",
        "         <gmd:transformationParameterAvailability gco:nilReason=\"unknown\"/>\n",
        "      </gmd:MD_GridSpatialRepresentation>\n",
        "   </gmd:spatialRepresentationInfo>\n",
        "   <gmd:identificationInfo>\n",
        "      <gmd:MD_DataIdentification id=\"DataIdentification\">\n",
        "         <gmd:citation>\n",
        "            <gmd:CI_Citation>\n",
        "               <gmd:title>\n",
        "                  <gco:CharacterString>NECOFS Massachusetts (FVCOM) - Massachusetts Coastal - Latest Forecast</gco:CharacterString>\n",
        "               </gmd:title>\n",
        "               <gmd:date gco:nilReason=\"missing\"/>\n",
        "               <gmd:identifier>\n",
        "                  <gmd:MD_Identifier>\n",
        "                     <gmd:code>\n",
        "                        <gco:CharacterString>massbay_nocache</gco:CharacterString>\n",
        "                     </gmd:code>\n",
        "                  </gmd:MD_Identifier>\n",
        "               </gmd:identifier>\n",
        "               <gmd:citedResponsibleParty>\n",
        "                  <gmd:CI_ResponsibleParty>\n",
        "                     <gmd:individualName gco:nilReason=\"missing\"/>\n",
        "                     <gmd:organisationName>\n",
        "                        <gco:CharacterString>School for Marine Science and Technology</gco:CharacterString>\n",
        "                     </gmd:organisationName>\n",
        "                     <gmd:contactInfo gco:nilReason=\"missing\"/>\n",
        "                     <gmd:role>\n",
        "                        <gmd:CI_RoleCode codeList=\"http://www.ngdc.noaa.gov/metadata/published/xsd/schema/resources/Codelist/gmxCodelists.xml#CI_RoleCode\" codeListValue=\"originator\">originator</gmd:CI_RoleCode>\n",
        "                     </gmd:role>\n",
        "                  </gmd:CI_ResponsibleParty>\n",
        "               </gmd:citedResponsibleParty>\n",
        "            </gmd:CI_Citation>\n",
        "         </gmd:citation>\n",
        "         <gmd:abstract>\n",
        "            <gco:CharacterString>Latest forecast from the FVCOM Northeast Coastal Ocean Forecast System using high-resolution mesh covering the Massachusetts coastal region</gco:CharacterString>\n",
        "         </gmd:abstract>\n",
        "         <gmd:pointOfContact>\n",
        "            <gmd:CI_ResponsibleParty>\n",
        "               <gmd:individualName gco:nilReason=\"missing\"/>\n",
        "               <gmd:organisationName>\n",
        "                  <gco:CharacterString>School for Marine Science and Technology</gco:CharacterString>\n",
        "               </gmd:organisationName>\n",
        "               <gmd:contactInfo gco:nilReason=\"missing\"/>\n",
        "               <gmd:role>\n",
        "                  <gmd:CI_RoleCode codeList=\"http://www.ngdc.noaa.gov/metadata/published/xsd/schema/resources/Codelist/gmxCodelists.xml#CI_RoleCode\" codeListValue=\"pointOfContact\">pointOfContact</gmd:CI_RoleCode>\n",
        "               </gmd:role>\n",
        "            </gmd:CI_ResponsibleParty>\n",
        "         </gmd:pointOfContact>\n",
        "         <gmd:descriptiveKeywords>\n",
        "            <gmd:MD_Keywords>\n",
        "               <gmd:keyword>\n",
        "                  <gco:CharacterString>sea_floor_depth_below_geoid</gco:CharacterString>\n",
        "               </gmd:keyword>\n",
        "               <gmd:keyword>\n",
        "                  <gco:CharacterString>sea_surface_height_above_geoid</gco:CharacterString>\n",
        "               </gmd:keyword>\n",
        "               <gmd:keyword>\n",
        "                  <gco:CharacterString>eastward_sea_water_velocity</gco:CharacterString>\n",
        "               </gmd:keyword>\n",
        "               <gmd:keyword>\n",
        "                  <gco:CharacterString>northward_sea_water_velocity</gco:CharacterString>\n",
        "               </gmd:keyword>\n",
        "               <gmd:keyword>\n",
        "                  <gco:CharacterString>upward_sea_water_velocity</gco:CharacterString>\n",
        "               </gmd:keyword>\n",
        "               <gmd:keyword>\n",
        "                  <gco:CharacterString>barotropic_eastward_sea_water_velocity</gco:CharacterString>\n",
        "               </gmd:keyword>\n",
        "               <gmd:keyword>\n",
        "                  <gco:CharacterString>barotropic_northward_sea_water_velocity</gco:CharacterString>\n",
        "               </gmd:keyword>\n",
        "               <gmd:keyword>\n",
        "                  <gco:CharacterString>sea_water_potential_temperature</gco:CharacterString>\n",
        "               </gmd:keyword>\n",
        "               <gmd:keyword>\n",
        "                  <gco:CharacterString>sea_water_salinity</gco:CharacterString>\n",
        "               </gmd:keyword>\n",
        "               <gmd:keyword>\n",
        "                  <gco:CharacterString>longitude</gco:CharacterString>\n",
        "               </gmd:keyword>\n",
        "               <gmd:keyword>\n",
        "                  <gco:CharacterString>latitude</gco:CharacterString>\n",
        "               </gmd:keyword>\n",
        "               <gmd:keyword>\n",
        "                  <gco:CharacterString>longitude</gco:CharacterString>\n",
        "               </gmd:keyword>\n",
        "               <gmd:keyword>\n",
        "                  <gco:CharacterString>latitude</gco:CharacterString>\n",
        "               </gmd:keyword>\n",
        "               <gmd:keyword>\n",
        "                  <gco:CharacterString>ocean_sigma_coordinate</gco:CharacterString>\n",
        "               </gmd:keyword>\n",
        "               <gmd:type>\n",
        "                  <gmd:MD_KeywordTypeCode codeList=\"http://www.ngdc.noaa.gov/metadata/published/xsd/schema/resources/Codelist/gmxCodelists.xml#MD_KeywordTypeCode\" codeListValue=\"theme\">theme</gmd:MD_KeywordTypeCode>\n",
        "               </gmd:type>\n",
        "               <gmd:thesaurusName>\n",
        "                  <gmd:CI_Citation>\n",
        "                     <gmd:title gco:nilReason=\"missing\"/>\n",
        "                     <gmd:date gco:nilReason=\"unknown\"/>\n",
        "                  </gmd:CI_Citation>\n",
        "               </gmd:thesaurusName>\n",
        "            </gmd:MD_Keywords>\n",
        "         </gmd:descriptiveKeywords>\n",
        "         <gmd:aggregationInfo>\n",
        "            <gmd:MD_AggregateInformation>\n",
        "               <gmd:aggregateDataSetIdentifier>\n",
        "                  <gmd:MD_Identifier>\n",
        "                     <gmd:authority>\n",
        "                        <gmd:CI_Citation>\n",
        "                           <gmd:title>\n",
        "                              <gco:CharacterString>Unidata Common Data Model</gco:CharacterString>\n",
        "                           </gmd:title>\n",
        "                           <gmd:date gco:nilReason=\"inapplicable\"/>\n",
        "                        </gmd:CI_Citation>\n",
        "                     </gmd:authority>\n",
        "                     <gmd:code>\n",
        "                        <gco:CharacterString>any</gco:CharacterString>\n",
        "                     </gmd:code>\n",
        "                  </gmd:MD_Identifier>\n",
        "               </gmd:aggregateDataSetIdentifier>\n",
        "               <gmd:associationType>\n",
        "                  <gmd:DS_AssociationTypeCode codeList=\"http://www.ngdc.noaa.gov/metadata/published/xsd/schema/resources/Codelist/gmxCodelists.xml#DS_AssociationTypeCode\" codeListValue=\"largerWorkCitation\">largerWorkCitation</gmd:DS_AssociationTypeCode>\n",
        "               </gmd:associationType>\n",
        "               <gmd:initiativeType>\n",
        "                  <gmd:DS_InitiativeTypeCode codeList=\"http://www.ngdc.noaa.gov/metadata/published/xsd/schema/resources/Codelist/gmxCodelists.xml#DS_InitiativeTypeCode\" codeListValue=\"project\">project</gmd:DS_InitiativeTypeCode>\n",
        "               </gmd:initiativeType>\n",
        "            </gmd:MD_AggregateInformation>\n",
        "         </gmd:aggregationInfo>\n",
        "         <gmd:language>\n",
        "            <gco:CharacterString>eng</gco:CharacterString>\n",
        "         </gmd:language>\n",
        "         <gmd:topicCategory>\n",
        "            <gmd:MD_TopicCategoryCode>climatologyMeteorologyAtmosphere</gmd:MD_TopicCategoryCode>\n",
        "         </gmd:topicCategory>\n",
        "         <gmd:extent>\n",
        "            <gmd:EX_Extent id=\"boundingExtent\">\n",
        "               <gmd:geographicElement>\n",
        "                  <gmd:EX_GeographicBoundingBox id=\"boundingGeographicBoundingBox\">\n",
        "                     <gmd:extentTypeCode>\n",
        "                        <gco:Boolean>1</gco:Boolean>\n",
        "                     </gmd:extentTypeCode>\n",
        "                     <gmd:westBoundLongitude>\n",
        "                        <gco:Decimal>-71.19001007080078</gco:Decimal>\n",
        "                     </gmd:westBoundLongitude>\n",
        "                     <gmd:eastBoundLongitude>\n",
        "                        <gco:Decimal>-69.3973159790039</gco:Decimal>\n",
        "                     </gmd:eastBoundLongitude>\n",
        "                     <gmd:southBoundLatitude>\n",
        "                        <gco:Decimal>40.944496154785156</gco:Decimal>\n",
        "                     </gmd:southBoundLatitude>\n",
        "                     <gmd:northBoundLatitude>\n",
        "                        <gco:Decimal>43.30540466308594</gco:Decimal>\n",
        "                     </gmd:northBoundLatitude>\n",
        "                  </gmd:EX_GeographicBoundingBox>\n",
        "               </gmd:geographicElement>\n",
        "               <gmd:temporalElement>\n",
        "                  <gmd:EX_TemporalExtent id=\"boundingTemporalExtent\">\n",
        "                     <gmd:extent>\n",
        "                        <gml:TimePeriod gml:id=\"d1007\">\n",
        "                           <gml:description>seconds</gml:description>\n",
        "                           <gml:beginPosition>2015-02-08T00:00:00Z</gml:beginPosition>\n",
        "                           <gml:endPosition>2015-02-14T00:00:00Z</gml:endPosition>\n",
        "                        </gml:TimePeriod>\n",
        "                     </gmd:extent>\n",
        "                  </gmd:EX_TemporalExtent>\n",
        "               </gmd:temporalElement>\n",
        "            </gmd:EX_Extent>\n",
        "         </gmd:extent>\n",
        "      </gmd:MD_DataIdentification>\n",
        "   </gmd:identificationInfo>\n",
        "   <gmd:identificationInfo>\n",
        "      <srv:SV_ServiceIdentification id=\"OPeNDAP\">\n",
        "         <gmd:citation>\n",
        "            <gmd:CI_Citation>\n",
        "               <gmd:title>\n",
        "                  <gco:CharacterString>NECOFS Massachusetts (FVCOM) - Massachusetts Coastal - Latest Forecast</gco:CharacterString>\n",
        "               </gmd:title>\n",
        "               <gmd:date gco:nilReason=\"missing\"/>\n",
        "               <gmd:citedResponsibleParty>\n",
        "                  <gmd:CI_ResponsibleParty>\n",
        "                     <gmd:individualName gco:nilReason=\"missing\"/>\n",
        "                     <gmd:organisationName>\n",
        "                        <gco:CharacterString>School for Marine Science and Technology</gco:CharacterString>\n",
        "                     </gmd:organisationName>\n",
        "                     <gmd:contactInfo gco:nilReason=\"missing\"/>\n",
        "                     <gmd:role>\n",
        "                        <gmd:CI_RoleCode codeList=\"http://www.ngdc.noaa.gov/metadata/published/xsd/schema/resources/Codelist/gmxCodelists.xml#CI_RoleCode\" codeListValue=\"originator\">originator</gmd:CI_RoleCode>\n",
        "                     </gmd:role>\n",
        "                  </gmd:CI_ResponsibleParty>\n",
        "               </gmd:citedResponsibleParty>\n",
        "            </gmd:CI_Citation>\n",
        "         </gmd:citation>\n",
        "         <gmd:abstract>\n",
        "            <gco:CharacterString>Latest forecast from the FVCOM Northeast Coastal Ocean Forecast System using high-resolution mesh covering the Massachusetts coastal region</gco:CharacterString>\n",
        "         </gmd:abstract>\n",
        "         <srv:serviceType>\n",
        "            <gco:LocalName>THREDDS OPeNDAP</gco:LocalName>\n",
        "         </srv:serviceType>\n",
        "         <srv:extent>\n",
        "            <gmd:EX_Extent>\n",
        "               <gmd:geographicElement>\n",
        "                  <gmd:EX_GeographicBoundingBox>\n",
        "                     <gmd:extentTypeCode>\n",
        "                        <gco:Boolean>1</gco:Boolean>\n",
        "                     </gmd:extentTypeCode>\n",
        "                     <gmd:westBoundLongitude>\n",
        "                        <gco:Decimal>-71.19001007080078</gco:Decimal>\n",
        "                     </gmd:westBoundLongitude>\n",
        "                     <gmd:eastBoundLongitude>\n",
        "                        <gco:Decimal>-69.3973159790039</gco:Decimal>\n",
        "                     </gmd:eastBoundLongitude>\n",
        "                     <gmd:southBoundLatitude>\n",
        "                        <gco:Decimal>40.944496154785156</gco:Decimal>\n",
        "                     </gmd:southBoundLatitude>\n",
        "                     <gmd:northBoundLatitude>\n",
        "                        <gco:Decimal>43.30540466308594</gco:Decimal>\n",
        "                     </gmd:northBoundLatitude>\n",
        "                  </gmd:EX_GeographicBoundingBox>\n",
        "               </gmd:geographicElement>\n",
        "               <gmd:temporalElement>\n",
        "                  <gmd:EX_TemporalExtent>\n",
        "                     <gmd:extent>\n",
        "                        <gml:TimePeriod gml:id=\"d1007e48\">\n",
        "                           <gml:beginPosition>2015-02-08T00:00:00Z</gml:beginPosition>\n",
        "                           <gml:endPosition>2015-02-14T00:00:00Z</gml:endPosition>\n",
        "                        </gml:TimePeriod>\n",
        "                     </gmd:extent>\n",
        "                  </gmd:EX_TemporalExtent>\n",
        "               </gmd:temporalElement>\n",
        "            </gmd:EX_Extent>\n",
        "         </srv:extent>\n",
        "         <srv:couplingType>\n",
        "            <srv:SV_CouplingType codeList=\"http://www.tc211.org/ISO19139/resources/codeList.xml#SV_CouplingType\" codeListValue=\"tight\">tight</srv:SV_CouplingType>\n",
        "         </srv:couplingType>\n",
        "         <srv:containsOperations>\n",
        "            <srv:SV_OperationMetadata>\n",
        "               <srv:operationName>\n",
        "                  <gco:CharacterString>OPeNDAP Client Access</gco:CharacterString>\n",
        "               </srv:operationName>\n",
        "               <srv:DCP gco:nilReason=\"unknown\"/>\n",
        "               <srv:connectPoint>\n",
        "                  <gmd:CI_OnlineResource>\n",
        "                     <gmd:linkage>\n",
        "                        <gmd:URL>http://www.smast.umassd.edu:8080/thredds/dodsC/FVCOM/NECOFS/Forecasts/NECOFS_FVCOM_OCEAN_MASSBAY_FORECAST.nc</gmd:URL>\n",
        "                     </gmd:linkage>\n",
        "                     <gmd:name>\n",
        "                        <gco:CharacterString>OPeNDAP</gco:CharacterString>\n",
        "                     </gmd:name>\n",
        "                     <gmd:description>\n",
        "                        <gco:CharacterString>THREDDS OPeNDAP</gco:CharacterString>\n",
        "                     </gmd:description>\n",
        "                     <gmd:function>\n",
        "                        <gmd:CI_OnLineFunctionCode codeList=\"http://www.ngdc.noaa.gov/metadata/published/xsd/schema/resources/Codelist/gmxCodelists.xml#CI_OnLineFunctionCode\" codeListValue=\"download\">download</gmd:CI_OnLineFunctionCode>\n",
        "                     </gmd:function>\n",
        "                  </gmd:CI_OnlineResource>\n",
        "               </srv:connectPoint>\n",
        "            </srv:SV_OperationMetadata>\n",
        "         </srv:containsOperations>\n",
        "         <srv:operatesOn xlink:href=\"#DataIdentification\"/>\n",
        "      </srv:SV_ServiceIdentification>\n",
        "   </gmd:identificationInfo>\n",
        "   <gmd:identificationInfo>\n",
        "      <srv:SV_ServiceIdentification id=\"THREDDS_HTTP_Service\">\n",
        "         <gmd:citation>\n",
        "            <gmd:CI_Citation>\n",
        "               <gmd:title>\n",
        "                  <gco:CharacterString>NECOFS Massachusetts (FVCOM) - Massachusetts Coastal - Latest Forecast</gco:CharacterString>\n",
        "               </gmd:title>\n",
        "               <gmd:date gco:nilReason=\"missing\"/>\n",
        "               <gmd:citedResponsibleParty>\n",
        "                  <gmd:CI_ResponsibleParty>\n",
        "                     <gmd:individualName gco:nilReason=\"missing\"/>\n",
        "                     <gmd:organisationName>\n",
        "                        <gco:CharacterString>School for Marine Science and Technology</gco:CharacterString>\n",
        "                     </gmd:organisationName>\n",
        "                     <gmd:contactInfo gco:nilReason=\"missing\"/>\n",
        "                     <gmd:role>\n",
        "                        <gmd:CI_RoleCode codeList=\"http://www.ngdc.noaa.gov/metadata/published/xsd/schema/resources/Codelist/gmxCodelists.xml#CI_RoleCode\" codeListValue=\"originator\">originator</gmd:CI_RoleCode>\n",
        "                     </gmd:role>\n",
        "                  </gmd:CI_ResponsibleParty>\n",
        "               </gmd:citedResponsibleParty>\n",
        "            </gmd:CI_Citation>\n",
        "         </gmd:citation>\n",
        "         <gmd:abstract>\n",
        "            <gco:CharacterString>Latest forecast from the FVCOM Northeast Coastal Ocean Forecast System using high-resolution mesh covering the Massachusetts coastal region</gco:CharacterString>\n",
        "         </gmd:abstract>\n",
        "         <srv:serviceType>\n",
        "            <gco:LocalName>THREDDS HTTP Service</gco:LocalName>\n",
        "         </srv:serviceType>\n",
        "         <srv:extent>\n",
        "            <gmd:EX_Extent>\n",
        "               <gmd:geographicElement>\n",
        "                  <gmd:EX_GeographicBoundingBox>\n",
        "                     <gmd:extentTypeCode>\n",
        "                        <gco:Boolean>1</gco:Boolean>\n",
        "                     </gmd:extentTypeCode>\n",
        "                     <gmd:westBoundLongitude>\n",
        "                        <gco:Decimal>-71.19001007080078</gco:Decimal>\n",
        "                     </gmd:westBoundLongitude>\n",
        "                     <gmd:eastBoundLongitude>\n",
        "                        <gco:Decimal>-69.3973159790039</gco:Decimal>\n",
        "                     </gmd:eastBoundLongitude>\n",
        "                     <gmd:southBoundLatitude>\n",
        "                        <gco:Decimal>40.944496154785156</gco:Decimal>\n",
        "                     </gmd:southBoundLatitude>\n",
        "                     <gmd:northBoundLatitude>\n",
        "                        <gco:Decimal>43.30540466308594</gco:Decimal>\n",
        "                     </gmd:northBoundLatitude>\n",
        "                  </gmd:EX_GeographicBoundingBox>\n",
        "               </gmd:geographicElement>\n",
        "               <gmd:temporalElement>\n",
        "                  <gmd:EX_TemporalExtent>\n",
        "                     <gmd:extent>\n",
        "                        <gml:TimePeriod gml:id=\"d1007e49\">\n",
        "                           <gml:beginPosition>2015-02-08T00:00:00Z</gml:beginPosition>\n",
        "                           <gml:endPosition>2015-02-14T00:00:00Z</gml:endPosition>\n",
        "                        </gml:TimePeriod>\n",
        "                     </gmd:extent>\n",
        "                  </gmd:EX_TemporalExtent>\n",
        "               </gmd:temporalElement>\n",
        "            </gmd:EX_Extent>\n",
        "         </srv:extent>\n",
        "         <srv:couplingType>\n",
        "            <srv:SV_CouplingType codeList=\"http://www.tc211.org/ISO19139/resources/codeList.xml#SV_CouplingType\" codeListValue=\"tight\">tight</srv:SV_CouplingType>\n",
        "         </srv:couplingType>\n",
        "         <srv:containsOperations>\n",
        "            <srv:SV_OperationMetadata>\n",
        "               <srv:operationName>\n",
        "                  <gco:CharacterString>FileHTTPService</gco:CharacterString>\n",
        "               </srv:operationName>\n",
        "               <srv:DCP gco:nilReason=\"unknown\"/>\n",
        "               <srv:connectPoint>\n",
        "                  <gmd:CI_OnlineResource>\n",
        "                     <gmd:linkage>\n",
        "                        <gmd:URL>http://www.smast.umassd.edu:8080/thredds/fileServer/FVCOM/NECOFS/Forecasts/NECOFS_FVCOM_OCEAN_MASSBAY_FORECAST.nc</gmd:URL>\n",
        "                     </gmd:linkage>\n",
        "                     <gmd:name>\n",
        "                        <gco:CharacterString>THREDDS_HTTP_Service</gco:CharacterString>\n",
        "                     </gmd:name>\n",
        "                     <gmd:description>\n",
        "                        <gco:CharacterString>THREDDS HTTP Service</gco:CharacterString>\n",
        "                     </gmd:description>\n",
        "                     <gmd:function>\n",
        "                        <gmd:CI_OnLineFunctionCode codeList=\"http://www.ngdc.noaa.gov/metadata/published/xsd/schema/resources/Codelist/gmxCodelists.xml#CI_OnLineFunctionCode\" codeListValue=\"download\">download</gmd:CI_OnLineFunctionCode>\n",
        "                     </gmd:function>\n",
        "                  </gmd:CI_OnlineResource>\n",
        "               </srv:connectPoint>\n",
        "            </srv:SV_OperationMetadata>\n",
        "         </srv:containsOperations>\n",
        "         <srv:operatesOn xlink:href=\"#DataIdentification\"/>\n",
        "      </srv:SV_ServiceIdentification>\n",
        "   </gmd:identificationInfo>\n",
        "   <gmd:contentInfo>\n",
        "      <gmi:MI_CoverageDescription>\n",
        "         <gmd:attributeDescription gco:nilReason=\"unknown\"/>\n",
        "         <gmd:contentType gco:nilReason=\"unknown\"/>\n",
        "         <gmd:dimension>\n",
        "            <gmd:MD_Band>\n",
        "               <gmd:sequenceIdentifier>\n",
        "                  <gco:MemberName>\n",
        "                     <gco:aName>\n",
        "                        <gco:CharacterString>x</gco:CharacterString>\n",
        "                     </gco:aName>\n",
        "                     <gco:attributeType>\n",
        "                        <gco:TypeName>\n",
        "                           <gco:aName>\n",
        "                              <gco:CharacterString>float</gco:CharacterString>\n",
        "                           </gco:aName>\n",
        "                        </gco:TypeName>\n",
        "                     </gco:attributeType>\n",
        "                  </gco:MemberName>\n",
        "               </gmd:sequenceIdentifier>\n",
        "               <gmd:descriptor>\n",
        "                  <gco:CharacterString>nodal x-coordinate</gco:CharacterString>\n",
        "               </gmd:descriptor>\n",
        "               <gmd:units xlink:href=\"http://example.org/someUnitsDictionary.xml#meters\"/>\n",
        "            </gmd:MD_Band>\n",
        "         </gmd:dimension>\n",
        "         <gmd:dimension>\n",
        "            <gmd:MD_Band>\n",
        "               <gmd:sequenceIdentifier>\n",
        "                  <gco:MemberName>\n",
        "                     <gco:aName>\n",
        "                        <gco:CharacterString>y</gco:CharacterString>\n",
        "                     </gco:aName>\n",
        "                     <gco:attributeType>\n",
        "                        <gco:TypeName>\n",
        "                           <gco:aName>\n",
        "                              <gco:CharacterString>float</gco:CharacterString>\n",
        "                           </gco:aName>\n",
        "                        </gco:TypeName>\n",
        "                     </gco:attributeType>\n",
        "                  </gco:MemberName>\n",
        "               </gmd:sequenceIdentifier>\n",
        "               <gmd:descriptor>\n",
        "                  <gco:CharacterString>nodal y-coordinate</gco:CharacterString>\n",
        "               </gmd:descriptor>\n",
        "               <gmd:units xlink:href=\"http://example.org/someUnitsDictionary.xml#meters\"/>\n",
        "            </gmd:MD_Band>\n",
        "         </gmd:dimension>\n",
        "         <gmd:dimension>\n",
        "            <gmd:MD_Band>\n",
        "               <gmd:sequenceIdentifier>\n",
        "                  <gco:MemberName>\n",
        "                     <gco:aName>\n",
        "                        <gco:CharacterString>xc</gco:CharacterString>\n",
        "                     </gco:aName>\n",
        "                     <gco:attributeType>\n",
        "                        <gco:TypeName>\n",
        "                           <gco:aName>\n",
        "                              <gco:CharacterString>float</gco:CharacterString>\n",
        "                           </gco:aName>\n",
        "                        </gco:TypeName>\n",
        "                     </gco:attributeType>\n",
        "                  </gco:MemberName>\n",
        "               </gmd:sequenceIdentifier>\n",
        "               <gmd:descriptor>\n",
        "                  <gco:CharacterString>zonal x-coordinate</gco:CharacterString>\n",
        "               </gmd:descriptor>\n",
        "               <gmd:units xlink:href=\"http://example.org/someUnitsDictionary.xml#meters\"/>\n",
        "            </gmd:MD_Band>\n",
        "         </gmd:dimension>\n",
        "         <gmd:dimension>\n",
        "            <gmd:MD_Band>\n",
        "               <gmd:sequenceIdentifier>\n",
        "                  <gco:MemberName>\n",
        "                     <gco:aName>\n",
        "                        <gco:CharacterString>yc</gco:CharacterString>\n",
        "                     </gco:aName>\n",
        "                     <gco:attributeType>\n",
        "                        <gco:TypeName>\n",
        "                           <gco:aName>\n",
        "                              <gco:CharacterString>float</gco:CharacterString>\n",
        "                           </gco:aName>\n",
        "                        </gco:TypeName>\n",
        "                     </gco:attributeType>\n",
        "                  </gco:MemberName>\n",
        "               </gmd:sequenceIdentifier>\n",
        "               <gmd:descriptor>\n",
        "                  <gco:CharacterString>zonal y-coordinate</gco:CharacterString>\n",
        "               </gmd:descriptor>\n",
        "               <gmd:units xlink:href=\"http://example.org/someUnitsDictionary.xml#meters\"/>\n",
        "            </gmd:MD_Band>\n",
        "         </gmd:dimension>\n",
        "         <gmd:dimension>\n",
        "            <gmd:MD_Band>\n",
        "               <gmd:sequenceIdentifier>\n",
        "                  <gco:MemberName>\n",
        "                     <gco:aName>\n",
        "                        <gco:CharacterString>h</gco:CharacterString>\n",
        "                     </gco:aName>\n",
        "                     <gco:attributeType>\n",
        "                        <gco:TypeName>\n",
        "                           <gco:aName>\n",
        "                              <gco:CharacterString>float</gco:CharacterString>\n",
        "                           </gco:aName>\n",
        "                        </gco:TypeName>\n",
        "                     </gco:attributeType>\n",
        "                  </gco:MemberName>\n",
        "               </gmd:sequenceIdentifier>\n",
        "               <gmd:descriptor>\n",
        "                  <gco:CharacterString>Bathymetry (sea_floor_depth_below_geoid)</gco:CharacterString>\n",
        "               </gmd:descriptor>\n",
        "               <gmd:units xlink:href=\"http://example.org/someUnitsDictionary.xml#m\"/>\n",
        "            </gmd:MD_Band>\n",
        "         </gmd:dimension>\n",
        "         <gmd:dimension>\n",
        "            <gmd:MD_Band>\n",
        "               <gmd:sequenceIdentifier>\n",
        "                  <gco:MemberName>\n",
        "                     <gco:aName>\n",
        "                        <gco:CharacterString>nv</gco:CharacterString>\n",
        "                     </gco:aName>\n",
        "                     <gco:attributeType>\n",
        "                        <gco:TypeName>\n",
        "                           <gco:aName>\n",
        "                              <gco:CharacterString>int</gco:CharacterString>\n",
        "                           </gco:aName>\n",
        "                        </gco:TypeName>\n",
        "                     </gco:attributeType>\n",
        "                  </gco:MemberName>\n",
        "               </gmd:sequenceIdentifier>\n",
        "               <gmd:descriptor>\n",
        "                  <gco:CharacterString>nodes surrounding element</gco:CharacterString>\n",
        "               </gmd:descriptor>\n",
        "            </gmd:MD_Band>\n",
        "         </gmd:dimension>\n",
        "         <gmd:dimension>\n",
        "            <gmd:MD_Band>\n",
        "               <gmd:sequenceIdentifier>\n",
        "                  <gco:MemberName>\n",
        "                     <gco:aName>\n",
        "                        <gco:CharacterString>Times</gco:CharacterString>\n",
        "                     </gco:aName>\n",
        "                     <gco:attributeType>\n",
        "                        <gco:TypeName>\n",
        "                           <gco:aName>\n",
        "                              <gco:CharacterString>char</gco:CharacterString>\n",
        "                           </gco:aName>\n",
        "                        </gco:TypeName>\n",
        "                     </gco:attributeType>\n",
        "                  </gco:MemberName>\n",
        "               </gmd:sequenceIdentifier>\n",
        "               <gmd:descriptor>\n",
        "                  <gco:CharacterString/>\n",
        "               </gmd:descriptor>\n",
        "            </gmd:MD_Band>\n",
        "         </gmd:dimension>\n",
        "         <gmd:dimension>\n",
        "            <gmd:MD_Band>\n",
        "               <gmd:sequenceIdentifier>\n",
        "                  <gco:MemberName>\n",
        "                     <gco:aName>\n",
        "                        <gco:CharacterString>zeta</gco:CharacterString>\n",
        "                     </gco:aName>\n",
        "                     <gco:attributeType>\n",
        "                        <gco:TypeName>\n",
        "                           <gco:aName>\n",
        "                              <gco:CharacterString>float</gco:CharacterString>\n",
        "                           </gco:aName>\n",
        "                        </gco:TypeName>\n",
        "                     </gco:attributeType>\n",
        "                  </gco:MemberName>\n",
        "               </gmd:sequenceIdentifier>\n",
        "               <gmd:descriptor>\n",
        "                  <gco:CharacterString>Water Surface Elevation (sea_surface_height_above_geoid)</gco:CharacterString>\n",
        "               </gmd:descriptor>\n",
        "               <gmd:units xlink:href=\"http://example.org/someUnitsDictionary.xml#meters\"/>\n",
        "            </gmd:MD_Band>\n",
        "         </gmd:dimension>\n",
        "         <gmd:dimension>\n",
        "            <gmd:MD_Band>\n",
        "               <gmd:sequenceIdentifier>\n",
        "                  <gco:MemberName>\n",
        "                     <gco:aName>\n",
        "                        <gco:CharacterString>nbe</gco:CharacterString>\n",
        "                     </gco:aName>\n",
        "                     <gco:attributeType>\n",
        "                        <gco:TypeName>\n",
        "                           <gco:aName>\n",
        "                              <gco:CharacterString>int</gco:CharacterString>\n",
        "                           </gco:aName>\n",
        "                        </gco:TypeName>\n",
        "                     </gco:attributeType>\n",
        "                  </gco:MemberName>\n",
        "               </gmd:sequenceIdentifier>\n",
        "               <gmd:descriptor>\n",
        "                  <gco:CharacterString>elements surrounding each element</gco:CharacterString>\n",
        "               </gmd:descriptor>\n",
        "            </gmd:MD_Band>\n",
        "         </gmd:dimension>\n",
        "         <gmd:dimension>\n",
        "            <gmd:MD_Band>\n",
        "               <gmd:sequenceIdentifier>\n",
        "                  <gco:MemberName>\n",
        "                     <gco:aName>\n",
        "                        <gco:CharacterString>aw0</gco:CharacterString>\n",
        "                     </gco:aName>\n",
        "                     <gco:attributeType>\n",
        "                        <gco:TypeName>\n",
        "                           <gco:aName>\n",
        "                              <gco:CharacterString>float</gco:CharacterString>\n",
        "                           </gco:aName>\n",
        "                        </gco:TypeName>\n",
        "                     </gco:attributeType>\n",
        "                  </gco:MemberName>\n",
        "               </gmd:sequenceIdentifier>\n",
        "               <gmd:descriptor>\n",
        "                  <gco:CharacterString>aw0</gco:CharacterString>\n",
        "               </gmd:descriptor>\n",
        "            </gmd:MD_Band>\n",
        "         </gmd:dimension>\n",
        "         <gmd:dimension>\n",
        "            <gmd:MD_Band>\n",
        "               <gmd:sequenceIdentifier>\n",
        "                  <gco:MemberName>\n",
        "                     <gco:aName>\n",
        "                        <gco:CharacterString>awx</gco:CharacterString>\n",
        "                     </gco:aName>\n",
        "                     <gco:attributeType>\n",
        "                        <gco:TypeName>\n",
        "                           <gco:aName>\n",
        "                              <gco:CharacterString>float</gco:CharacterString>\n",
        "                           </gco:aName>\n",
        "                        </gco:TypeName>\n",
        "                     </gco:attributeType>\n",
        "                  </gco:MemberName>\n",
        "               </gmd:sequenceIdentifier>\n",
        "               <gmd:descriptor>\n",
        "                  <gco:CharacterString>awx</gco:CharacterString>\n",
        "               </gmd:descriptor>\n",
        "            </gmd:MD_Band>\n",
        "         </gmd:dimension>\n",
        "         <gmd:dimension>\n",
        "            <gmd:MD_Band>\n",
        "               <gmd:sequenceIdentifier>\n",
        "                  <gco:MemberName>\n",
        "                     <gco:aName>\n",
        "                        <gco:CharacterString>awy</gco:CharacterString>\n",
        "                     </gco:aName>\n",
        "                     <gco:attributeType>\n",
        "                        <gco:TypeName>\n",
        "                           <gco:aName>\n",
        "                              <gco:CharacterString>float</gco:CharacterString>\n",
        "                           </gco:aName>\n",
        "                        </gco:TypeName>\n",
        "                     </gco:attributeType>\n",
        "                  </gco:MemberName>\n",
        "               </gmd:sequenceIdentifier>\n",
        "               <gmd:descriptor>\n",
        "                  <gco:CharacterString>awy</gco:CharacterString>\n",
        "               </gmd:descriptor>\n",
        "            </gmd:MD_Band>\n",
        "         </gmd:dimension>\n",
        "         <gmd:dimension>\n",
        "            <gmd:MD_Band>\n",
        "               <gmd:sequenceIdentifier>\n",
        "                  <gco:MemberName>\n",
        "                     <gco:aName>\n",
        "                        <gco:CharacterString>u</gco:CharacterString>\n",
        "                     </gco:aName>\n",
        "                     <gco:attributeType>\n",
        "                        <gco:TypeName>\n",
        "                           <gco:aName>\n",
        "                              <gco:CharacterString>float</gco:CharacterString>\n",
        "                           </gco:aName>\n",
        "                        </gco:TypeName>\n",
        "                     </gco:attributeType>\n",
        "                  </gco:MemberName>\n",
        "               </gmd:sequenceIdentifier>\n",
        "               <gmd:descriptor>\n",
        "                  <gco:CharacterString>Eastward Water Velocity (eastward_sea_water_velocity)</gco:CharacterString>\n",
        "               </gmd:descriptor>\n",
        "               <gmd:units xlink:href=\"http://example.org/someUnitsDictionary.xml#meters%20s-1\"/>\n",
        "            </gmd:MD_Band>\n",
        "         </gmd:dimension>\n",
        "         <gmd:dimension>\n",
        "            <gmd:MD_Band>\n",
        "               <gmd:sequenceIdentifier>\n",
        "                  <gco:MemberName>\n",
        "                     <gco:aName>\n",
        "                        <gco:CharacterString>v</gco:CharacterString>\n",
        "                     </gco:aName>\n",
        "                     <gco:attributeType>\n",
        "                        <gco:TypeName>\n",
        "                           <gco:aName>\n",
        "                              <gco:CharacterString>float</gco:CharacterString>\n",
        "                           </gco:aName>\n",
        "                        </gco:TypeName>\n",
        "                     </gco:attributeType>\n",
        "                  </gco:MemberName>\n",
        "               </gmd:sequenceIdentifier>\n",
        "               <gmd:descriptor>\n",
        "                  <gco:CharacterString>Northward Water Velocity (northward_sea_water_velocity)</gco:CharacterString>\n",
        "               </gmd:descriptor>\n",
        "               <gmd:units xlink:href=\"http://example.org/someUnitsDictionary.xml#meters%20s-1\"/>\n",
        "            </gmd:MD_Band>\n",
        "         </gmd:dimension>\n",
        "         <gmd:dimension>\n",
        "            <gmd:MD_Band>\n",
        "               <gmd:sequenceIdentifier>\n",
        "                  <gco:MemberName>\n",
        "                     <gco:aName>\n",
        "                        <gco:CharacterString>ww</gco:CharacterString>\n",
        "                     </gco:aName>\n",
        "                     <gco:attributeType>\n",
        "                        <gco:TypeName>\n",
        "                           <gco:aName>\n",
        "                              <gco:CharacterString>float</gco:CharacterString>\n",
        "                           </gco:aName>\n",
        "                        </gco:TypeName>\n",
        "                     </gco:attributeType>\n",
        "                  </gco:MemberName>\n",
        "               </gmd:sequenceIdentifier>\n",
        "               <gmd:descriptor>\n",
        "                  <gco:CharacterString>Upward Water Velocity (upward_sea_water_velocity)</gco:CharacterString>\n",
        "               </gmd:descriptor>\n",
        "               <gmd:units xlink:href=\"http://example.org/someUnitsDictionary.xml#meters%20s-1\"/>\n",
        "            </gmd:MD_Band>\n",
        "         </gmd:dimension>\n",
        "         <gmd:dimension>\n",
        "            <gmd:MD_Band>\n",
        "               <gmd:sequenceIdentifier>\n",
        "                  <gco:MemberName>\n",
        "                     <gco:aName>\n",
        "                        <gco:CharacterString>ua</gco:CharacterString>\n",
        "                     </gco:aName>\n",
        "                     <gco:attributeType>\n",
        "                        <gco:TypeName>\n",
        "                           <gco:aName>\n",
        "                              <gco:CharacterString>float</gco:CharacterString>\n",
        "                           </gco:aName>\n",
        "                        </gco:TypeName>\n",
        "                     </gco:attributeType>\n",
        "                  </gco:MemberName>\n",
        "               </gmd:sequenceIdentifier>\n",
        "               <gmd:descriptor>\n",
        "                  <gco:CharacterString>Vertically Averaged x-velocity (barotropic_eastward_sea_water_velocity)</gco:CharacterString>\n",
        "               </gmd:descriptor>\n",
        "               <gmd:units xlink:href=\"http://example.org/someUnitsDictionary.xml#meters%20s-1\"/>\n",
        "            </gmd:MD_Band>\n",
        "         </gmd:dimension>\n",
        "         <gmd:dimension>\n",
        "            <gmd:MD_Band>\n",
        "               <gmd:sequenceIdentifier>\n",
        "                  <gco:MemberName>\n",
        "                     <gco:aName>\n",
        "                        <gco:CharacterString>va</gco:CharacterString>\n",
        "                     </gco:aName>\n",
        "                     <gco:attributeType>\n",
        "                        <gco:TypeName>\n",
        "                           <gco:aName>\n",
        "                              <gco:CharacterString>float</gco:CharacterString>\n",
        "                           </gco:aName>\n",
        "                        </gco:TypeName>\n",
        "                     </gco:attributeType>\n",
        "                  </gco:MemberName>\n",
        "               </gmd:sequenceIdentifier>\n",
        "               <gmd:descriptor>\n",
        "                  <gco:CharacterString>Vertically Averaged y-velocity (barotropic_northward_sea_water_velocity)</gco:CharacterString>\n",
        "               </gmd:descriptor>\n",
        "               <gmd:units xlink:href=\"http://example.org/someUnitsDictionary.xml#meters%20s-1\"/>\n",
        "            </gmd:MD_Band>\n",
        "         </gmd:dimension>\n",
        "         <gmd:dimension>\n",
        "            <gmd:MD_Band>\n",
        "               <gmd:sequenceIdentifier>\n",
        "                  <gco:MemberName>\n",
        "                     <gco:aName>\n",
        "                        <gco:CharacterString>temp</gco:CharacterString>\n",
        "                     </gco:aName>\n",
        "                     <gco:attributeType>\n",
        "                        <gco:TypeName>\n",
        "                           <gco:aName>\n",
        "                              <gco:CharacterString>float</gco:CharacterString>\n",
        "                           </gco:aName>\n",
        "                        </gco:TypeName>\n",
        "                     </gco:attributeType>\n",
        "                  </gco:MemberName>\n",
        "               </gmd:sequenceIdentifier>\n",
        "               <gmd:descriptor>\n",
        "                  <gco:CharacterString>temperature (sea_water_potential_temperature)</gco:CharacterString>\n",
        "               </gmd:descriptor>\n",
        "               <gmd:units xlink:href=\"http://example.org/someUnitsDictionary.xml#degrees_C\"/>\n",
        "            </gmd:MD_Band>\n",
        "         </gmd:dimension>\n",
        "         <gmd:dimension>\n",
        "            <gmd:MD_Band>\n",
        "               <gmd:sequenceIdentifier>\n",
        "                  <gco:MemberName>\n",
        "                     <gco:aName>\n",
        "                        <gco:CharacterString>salinity</gco:CharacterString>\n",
        "                     </gco:aName>\n",
        "                     <gco:attributeType>\n",
        "                        <gco:TypeName>\n",
        "                           <gco:aName>\n",
        "                              <gco:CharacterString>float</gco:CharacterString>\n",
        "                           </gco:aName>\n",
        "                        </gco:TypeName>\n",
        "                     </gco:attributeType>\n",
        "                  </gco:MemberName>\n",
        "               </gmd:sequenceIdentifier>\n",
        "               <gmd:descriptor>\n",
        "                  <gco:CharacterString>salinity (sea_water_salinity)</gco:CharacterString>\n",
        "               </gmd:descriptor>\n",
        "               <gmd:units xlink:href=\"http://example.org/someUnitsDictionary.xml#1\"/>\n",
        "            </gmd:MD_Band>\n",
        "         </gmd:dimension>\n",
        "         <gmd:dimension>\n",
        "            <gmd:MD_Band>\n",
        "               <gmd:sequenceIdentifier>\n",
        "                  <gco:MemberName>\n",
        "                     <gco:aName>\n",
        "                        <gco:CharacterString>fvcom_mesh</gco:CharacterString>\n",
        "                     </gco:aName>\n",
        "                     <gco:attributeType>\n",
        "                        <gco:TypeName>\n",
        "                           <gco:aName>\n",
        "                              <gco:CharacterString>int</gco:CharacterString>\n",
        "                           </gco:aName>\n",
        "                        </gco:TypeName>\n",
        "                     </gco:attributeType>\n",
        "                  </gco:MemberName>\n",
        "               </gmd:sequenceIdentifier>\n",
        "               <gmd:descriptor>\n",
        "                  <gco:CharacterString/>\n",
        "               </gmd:descriptor>\n",
        "            </gmd:MD_Band>\n",
        "         </gmd:dimension>\n",
        "         <gmd:dimension>\n",
        "            <gmd:MD_Band>\n",
        "               <gmd:sequenceIdentifier>\n",
        "                  <gco:MemberName>\n",
        "                     <gco:aName>\n",
        "                        <gco:CharacterString>lon</gco:CharacterString>\n",
        "                     </gco:aName>\n",
        "                     <gco:attributeType>\n",
        "                        <gco:TypeName>\n",
        "                           <gco:aName>\n",
        "                              <gco:CharacterString>float</gco:CharacterString>\n",
        "                           </gco:aName>\n",
        "                        </gco:TypeName>\n",
        "                     </gco:attributeType>\n",
        "                  </gco:MemberName>\n",
        "               </gmd:sequenceIdentifier>\n",
        "               <gmd:descriptor>\n",
        "                  <gco:CharacterString>nodal longitude (longitude)</gco:CharacterString>\n",
        "               </gmd:descriptor>\n",
        "               <gmd:units xlink:href=\"http://example.org/someUnitsDictionary.xml#degrees_east\"/>\n",
        "            </gmd:MD_Band>\n",
        "         </gmd:dimension>\n",
        "         <gmd:dimension>\n",
        "            <gmd:MD_Band>\n",
        "               <gmd:sequenceIdentifier>\n",
        "                  <gco:MemberName>\n",
        "                     <gco:aName>\n",
        "                        <gco:CharacterString>lat</gco:CharacterString>\n",
        "                     </gco:aName>\n",
        "                     <gco:attributeType>\n",
        "                        <gco:TypeName>\n",
        "                           <gco:aName>\n",
        "                              <gco:CharacterString>float</gco:CharacterString>\n",
        "                           </gco:aName>\n",
        "                        </gco:TypeName>\n",
        "                     </gco:attributeType>\n",
        "                  </gco:MemberName>\n",
        "               </gmd:sequenceIdentifier>\n",
        "               <gmd:descriptor>\n",
        "                  <gco:CharacterString>nodal latitude (latitude)</gco:CharacterString>\n",
        "               </gmd:descriptor>\n",
        "               <gmd:units xlink:href=\"http://example.org/someUnitsDictionary.xml#degrees_north\"/>\n",
        "            </gmd:MD_Band>\n",
        "         </gmd:dimension>\n",
        "         <gmd:dimension>\n",
        "            <gmd:MD_Band>\n",
        "               <gmd:sequenceIdentifier>\n",
        "                  <gco:MemberName>\n",
        "                     <gco:aName>\n",
        "                        <gco:CharacterString>lonc</gco:CharacterString>\n",
        "                     </gco:aName>\n",
        "                     <gco:attributeType>\n",
        "                        <gco:TypeName>\n",
        "                           <gco:aName>\n",
        "                              <gco:CharacterString>float</gco:CharacterString>\n",
        "                           </gco:aName>\n",
        "                        </gco:TypeName>\n",
        "                     </gco:attributeType>\n",
        "                  </gco:MemberName>\n",
        "               </gmd:sequenceIdentifier>\n",
        "               <gmd:descriptor>\n",
        "                  <gco:CharacterString>zonal longitude (longitude)</gco:CharacterString>\n",
        "               </gmd:descriptor>\n",
        "               <gmd:units xlink:href=\"http://example.org/someUnitsDictionary.xml#degrees_east\"/>\n",
        "            </gmd:MD_Band>\n",
        "         </gmd:dimension>\n",
        "         <gmd:dimension>\n",
        "            <gmd:MD_Band>\n",
        "               <gmd:sequenceIdentifier>\n",
        "                  <gco:MemberName>\n",
        "                     <gco:aName>\n",
        "                        <gco:CharacterString>latc</gco:CharacterString>\n",
        "                     </gco:aName>\n",
        "                     <gco:attributeType>\n",
        "                        <gco:TypeName>\n",
        "                           <gco:aName>\n",
        "                              <gco:CharacterString>float</gco:CharacterString>\n",
        "                           </gco:aName>\n",
        "                        </gco:TypeName>\n",
        "                     </gco:attributeType>\n",
        "                  </gco:MemberName>\n",
        "               </gmd:sequenceIdentifier>\n",
        "               <gmd:descriptor>\n",
        "                  <gco:CharacterString>zonal latitude (latitude)</gco:CharacterString>\n",
        "               </gmd:descriptor>\n",
        "               <gmd:units xlink:href=\"http://example.org/someUnitsDictionary.xml#degrees_north\"/>\n",
        "            </gmd:MD_Band>\n",
        "         </gmd:dimension>\n",
        "         <gmd:dimension>\n",
        "            <gmd:MD_Band>\n",
        "               <gmd:sequenceIdentifier>\n",
        "                  <gco:MemberName>\n",
        "                     <gco:aName>\n",
        "                        <gco:CharacterString>siglay</gco:CharacterString>\n",
        "                     </gco:aName>\n",
        "                     <gco:attributeType>\n",
        "                        <gco:TypeName>\n",
        "                           <gco:aName>\n",
        "                              <gco:CharacterString>float</gco:CharacterString>\n",
        "                           </gco:aName>\n",
        "                        </gco:TypeName>\n",
        "                     </gco:attributeType>\n",
        "                  </gco:MemberName>\n",
        "               </gmd:sequenceIdentifier>\n",
        "               <gmd:descriptor>\n",
        "                  <gco:CharacterString>Sigma Layers (ocean_sigma_coordinate)</gco:CharacterString>\n",
        "               </gmd:descriptor>\n",
        "            </gmd:MD_Band>\n",
        "         </gmd:dimension>\n",
        "         <gmd:dimension>\n",
        "            <gmd:MD_Band>\n",
        "               <gmd:sequenceIdentifier>\n",
        "                  <gco:MemberName>\n",
        "                     <gco:aName>\n",
        "                        <gco:CharacterString>time</gco:CharacterString>\n",
        "                     </gco:aName>\n",
        "                     <gco:attributeType>\n",
        "                        <gco:TypeName>\n",
        "                           <gco:aName>\n",
        "                              <gco:CharacterString>float</gco:CharacterString>\n",
        "                           </gco:aName>\n",
        "                        </gco:TypeName>\n",
        "                     </gco:attributeType>\n",
        "                  </gco:MemberName>\n",
        "               </gmd:sequenceIdentifier>\n",
        "               <gmd:descriptor>\n",
        "                  <gco:CharacterString>time</gco:CharacterString>\n",
        "               </gmd:descriptor>\n",
        "               <gmd:units xlink:href=\"http://example.org/someUnitsDictionary.xml#days%20since%201858-11-17%2000%3A00%3A00\"/>\n",
        "            </gmd:MD_Band>\n",
        "         </gmd:dimension>\n",
        "      </gmi:MI_CoverageDescription>\n",
        "   </gmd:contentInfo>\n",
        "   <gmd:distributionInfo>\n",
        "      <gmd:MD_Distribution>\n",
        "         <gmd:distributor>\n",
        "            <gmd:MD_Distributor>\n",
        "               <gmd:distributorContact gco:nilReason=\"missing\"/>\n",
        "               <gmd:distributorFormat>\n",
        "                  <gmd:MD_Format>\n",
        "                     <gmd:name>\n",
        "                        <gco:CharacterString>OPeNDAP</gco:CharacterString>\n",
        "                     </gmd:name>\n",
        "                     <gmd:version gco:nilReason=\"unknown\"/>\n",
        "                  </gmd:MD_Format>\n",
        "               </gmd:distributorFormat>\n",
        "               <gmd:distributorTransferOptions>\n",
        "                  <gmd:MD_DigitalTransferOptions>\n",
        "                     <gmd:onLine>\n",
        "                        <gmd:CI_OnlineResource>\n",
        "                           <gmd:linkage>\n",
        "                              <gmd:URL>http://www.smast.umassd.edu:8080/thredds/dodsC/FVCOM/NECOFS/Forecasts/NECOFS_FVCOM_OCEAN_MASSBAY_FORECAST.nc.html</gmd:URL>\n",
        "                           </gmd:linkage>\n",
        "                           <gmd:name>\n",
        "                              <gco:CharacterString>File Information</gco:CharacterString>\n",
        "                           </gmd:name>\n",
        "                           <gmd:description>\n",
        "                              <gco:CharacterString>This URL provides a standard OPeNDAP html interface for selecting data from this dataset. Change the extension to .info for a description of the dataset.</gco:CharacterString>\n",
        "                           </gmd:description>\n",
        "                           <gmd:function>\n",
        "                              <gmd:CI_OnLineFunctionCode codeList=\"http://www.ngdc.noaa.gov/metadata/published/xsd/schema/resources/Codelist/gmxCodelists.xml#CI_OnLineFunctionCode\" codeListValue=\"download\">download</gmd:CI_OnLineFunctionCode>\n",
        "                           </gmd:function>\n",
        "                        </gmd:CI_OnlineResource>\n",
        "                     </gmd:onLine>\n",
        "                  </gmd:MD_DigitalTransferOptions>\n",
        "               </gmd:distributorTransferOptions>\n",
        "               <gmd:distributorTransferOptions>\n",
        "                  <gmd:MD_DigitalTransferOptions>\n",
        "                     <gmd:onLine>\n",
        "                        <gmd:CI_OnlineResource>\n",
        "                           <gmd:linkage>\n",
        "                              <gmd:URL>http://www.ncdc.noaa.gov/oa/wct/wct-jnlp-beta.php?singlefile=http://www.smast.umassd.edu:8080/thredds/dodsC/FVCOM/NECOFS/Forecasts/NECOFS_FVCOM_OCEAN_MASSBAY_FORECAST.nc</gmd:URL>\n",
        "                           </gmd:linkage>\n",
        "                           <gmd:name>\n",
        "                              <gco:CharacterString>Viewer Information</gco:CharacterString>\n",
        "                           </gmd:name>\n",
        "                           <gmd:description>\n",
        "                              <gco:CharacterString>This URL provides an NCDC climate and weather toolkit view of an OPeNDAP resource.</gco:CharacterString>\n",
        "                           </gmd:description>\n",
        "                           <gmd:function>\n",
        "                              <gmd:CI_OnLineFunctionCode codeList=\"http://www.ngdc.noaa.gov/metadata/published/xsd/schema/resources/Codelist/gmxCodelists.xml#CI_PresentationFormCode\" codeListValue=\"mapDigital\">mapDigital</gmd:CI_OnLineFunctionCode>\n",
        "                           </gmd:function>\n",
        "                        </gmd:CI_OnlineResource>\n",
        "                     </gmd:onLine>\n",
        "                  </gmd:MD_DigitalTransferOptions>\n",
        "               </gmd:distributorTransferOptions>\n",
        "            </gmd:MD_Distributor>\n",
        "         </gmd:distributor>\n",
        "      </gmd:MD_Distribution>\n",
        "   </gmd:distributionInfo>\n",
        "   <gmd:dataQualityInfo>\n",
        "      <gmd:DQ_DataQuality>\n",
        "         <gmd:scope>\n",
        "            <gmd:DQ_Scope>\n",
        "               <gmd:level>\n",
        "                  <gmd:MD_ScopeCode codeList=\"http://www.ngdc.noaa.gov/metadata/published/xsd/schema/resources/Codelist/gmxCodelists.xml#MD_ScopeCode\" codeListValue=\"dataset\">dataset</gmd:MD_ScopeCode>\n",
        "               </gmd:level>\n",
        "            </gmd:DQ_Scope>\n",
        "         </gmd:scope>\n",
        "         <gmd:lineage>\n",
        "            <gmd:LI_Lineage>\n",
        "               <gmd:statement>\n",
        "                  <gco:CharacterString>Wed Feb 11 09:05:55 2015: ncrcat -O -v x,y,lat,lon,xc,yc,lonc,latc,siglay,siglev,nv,nbe,aw0,awx,awy,h,temp,salinity,u,v,ww,ua,va,zeta,Times -d time,3840,3984 /data01/necofs/FVCOM/output_mbn_layer11/mbn_0001.nc -o /data01/necofs/NECOFS_ARCHIVES/NECOFS_FVCOM_OCEAN_MASSBAY_FORECAST.nc\n",
        "Thu Sep 18 10:34:18 2014: ncrcat -d time,5832,6312 mbn_hot_0001.nc mbn_hot_0002.nc\n",
        "Thu Jan  9 13:24:19 2014: ncrcat -d time,6600,6864 mbn_hot_0001.nc mbn_hot_0001_1.nc\n",
        "Fri Apr  5 10:31:42 2013: ncrcat -d time,8112,8280 mbn_hot_0001.nc mbn_hot_0001_1.nc\n",
        "Tue May  1 11:24:29 2012: ncrcat mbn_hot_0003.nc mbn_hot_0002.nc mbn_hot_0004.nc\n",
        "Tue May  1 11:23:08 2012: ncrcat -d time,11184,11187 mbn_hot_0001.nc mbn_hot_0003.nc\n",
        "model started at: 19/01/2011   08:26</gco:CharacterString>\n",
        "               </gmd:statement>\n",
        "            </gmd:LI_Lineage>\n",
        "         </gmd:lineage>\n",
        "      </gmd:DQ_DataQuality>\n",
        "   </gmd:dataQualityInfo>\n",
        "   <gmd:metadataMaintenance>\n",
        "      <gmd:MD_MaintenanceInformation>\n",
        "         <gmd:maintenanceAndUpdateFrequency gco:nilReason=\"unknown\"/>\n",
        "         <gmd:maintenanceNote>\n",
        "            <gco:CharacterString>This record was translated from NcML using UnidataDD2MI.xsl Version 2.3</gco:CharacterString>\n",
        "         </gmd:maintenanceNote>\n",
        "      </gmd:MD_MaintenanceInformation>\n",
        "   </gmd:metadataMaintenance>\n",
        "</gmi:MI_Metadata>\n",
        "\n"
       ]
      }
     ],
     "prompt_number": 90
    },
    {
     "cell_type": "code",
     "collapsed": false,
     "input": [
      "namespace = {'gco': 'http://www.isotc211.org/2005/gco',\n",
      "             'gmd': 'http://www.isotc211.org/2005/gmd'\n",
      "             }\n",
      "#cmg_portal = tree.findall(\".//gmd:keyword[gco:CharacterString='CMG_Portal']/gco:CharacterString\", namespace)\n",
      "cmg_portal = tree.xpath(\".//gco:CharacterString[text()='CMG_Portal']\", namespaces=namespace)\n",
      "print(cmg_portal)"
     ],
     "language": "python",
     "metadata": {},
     "outputs": [
      {
       "output_type": "stream",
       "stream": "stdout",
       "text": [
        "[]\n"
       ]
      }
     ],
     "prompt_number": 91
    },
    {
     "cell_type": "code",
     "collapsed": false,
     "input": [
      "if not cmg_portal:\n",
      "    print 'empty'"
     ],
     "language": "python",
     "metadata": {},
     "outputs": [
      {
       "output_type": "stream",
       "stream": "stdout",
       "text": [
        "empty\n"
       ]
      }
     ],
     "prompt_number": 96
    },
    {
     "cell_type": "code",
     "collapsed": false,
     "input": [
      "cmg_portal = tree.xpath(\".//gmd:URL[contains(text(), 'thredds/wms')]\", namespaces=namespace)\n",
      "print(cmg_portal[0].text)"
     ],
     "language": "python",
     "metadata": {},
     "outputs": [
      {
       "ename": "IndexError",
       "evalue": "list index out of range",
       "output_type": "pyerr",
       "traceback": [
        "\u001b[1;31m---------------------------------------------------------------------------\u001b[0m\n\u001b[1;31mIndexError\u001b[0m                                Traceback (most recent call last)",
        "\u001b[1;32m<ipython-input-97-5e2d2d2aa823>\u001b[0m in \u001b[0;36m<module>\u001b[1;34m()\u001b[0m\n\u001b[0;32m      1\u001b[0m \u001b[0mcmg_portal\u001b[0m \u001b[1;33m=\u001b[0m \u001b[0mtree\u001b[0m\u001b[1;33m.\u001b[0m\u001b[0mxpath\u001b[0m\u001b[1;33m(\u001b[0m\u001b[1;34m\".//gmd:URL[contains(text(), 'thredds/wms')]\"\u001b[0m\u001b[1;33m,\u001b[0m \u001b[0mnamespaces\u001b[0m\u001b[1;33m=\u001b[0m\u001b[0mnamespace\u001b[0m\u001b[1;33m)\u001b[0m\u001b[1;33m\u001b[0m\u001b[0m\n\u001b[1;32m----> 2\u001b[1;33m \u001b[1;32mprint\u001b[0m\u001b[1;33m(\u001b[0m\u001b[0mcmg_portal\u001b[0m\u001b[1;33m[\u001b[0m\u001b[1;36m0\u001b[0m\u001b[1;33m]\u001b[0m\u001b[1;33m.\u001b[0m\u001b[0mtext\u001b[0m\u001b[1;33m)\u001b[0m\u001b[1;33m\u001b[0m\u001b[0m\n\u001b[0m",
        "\u001b[1;31mIndexError\u001b[0m: list index out of range"
       ]
      }
     ],
     "prompt_number": 97
    },
    {
     "cell_type": "code",
     "collapsed": false,
     "input": [
      "wms_url = cmg_portal[0].text\n",
      "name = wms_url.split('/')[-1].replace('-','_').replace('.','?').split('?')[0]\n",
      "print(name)"
     ],
     "language": "python",
     "metadata": {},
     "outputs": []
    },
    {
     "cell_type": "code",
     "collapsed": false,
     "input": [
      "new_wms_url = 'http://geoport.whoi.edu:8899/wms/datasets/{0}/?REQUEST=GetCapabilities'.format(name)\n",
      "print(new_wms_url)"
     ],
     "language": "python",
     "metadata": {},
     "outputs": []
    },
    {
     "cell_type": "code",
     "collapsed": false,
     "input": [
      "cmg_portal[0].text = new_wms_url"
     ],
     "language": "python",
     "metadata": {},
     "outputs": []
    },
    {
     "cell_type": "code",
     "collapsed": false,
     "input": [
      "print(et.tostring(tree, pretty_print=True))"
     ],
     "language": "python",
     "metadata": {},
     "outputs": []
    },
    {
     "cell_type": "code",
     "collapsed": false,
     "input": [
      "with open('somefile.xml', 'w') as f:\n",
      "    f.write(et.tostring(tree, pretty_print=True))"
     ],
     "language": "python",
     "metadata": {},
     "outputs": []
    },
    {
     "cell_type": "code",
     "collapsed": false,
     "input": [],
     "language": "python",
     "metadata": {},
     "outputs": []
    }
   ],
   "metadata": {}
  }
 ]
}