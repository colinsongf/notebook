{
 "metadata": {
  "name": "",
  "signature": "sha256:5af32794f6062370917e926d56c0bf6e579975cf70a4bee17c75d6c24fa03586"
 },
 "nbformat": 3,
 "nbformat_minor": 0,
 "worksheets": []
}