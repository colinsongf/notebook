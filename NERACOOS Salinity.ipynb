{
 "metadata": {
  "name": "NERACOOS Salinity"
 },
 "nbformat": 3,
 "worksheets": [
  {
   "cells": [
    {
     "cell_type": "code",
     "input": [
      "date0='2012-07-04T00:00:00Z'\n",
      "date1='2012-07-11T00:00:00Z'\n",
      "var='sea_water_salinity'\n",
      "http://coastwatch.pfeg.noaa.gov/erddap/tabledap/neracoosSos.graph?longitude,latitude,sea_water_salinity&time%3E=2012-07-04T00:00:00Z&time%3C=2012-07-11T00:00:00Z"
     ],
     "language": "python",
     "outputs": []
    }
   ]
  }
 ]
}