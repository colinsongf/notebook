{
 "metadata": {
  "name": "",
  "signature": "sha256:50b47b020e2cb76c174b57bbdb692c9630f82406aef5156a98a2edfa02f752b6"
 },
 "nbformat": 3,
 "nbformat_minor": 0,
 "worksheets": [
  {
   "cells": [
    {
     "cell_type": "heading",
     "level": 1,
     "metadata": {},
     "source": [
      "pygridgen test"
     ]
    },
    {
     "cell_type": "markdown",
     "metadata": {},
     "source": [
      "conda install using phobson's binstar channel:\n",
      "```\n",
      "conda create --name=grids python=2.7 nose pip ipython-notebook\n",
      "source activate grids\n",
      "conda install --channel=phobson nn csa gridutils gridgen pygridgen\n",
      "```"
     ]
    },
    {
     "cell_type": "code",
     "collapsed": false,
     "input": [
      "import matplotlib.pyplot as plt\n",
      "import pygridgen\n",
      "%matplotlib inline"
     ],
     "language": "python",
     "metadata": {},
     "outputs": [],
     "prompt_number": 1
    },
    {
     "cell_type": "heading",
     "level": 2,
     "metadata": {},
     "source": [
      "Basic Example"
     ]
    },
    {
     "cell_type": "code",
     "collapsed": false,
     "input": [
      "x = [0, 1, 2, 1, 0]\n",
      "y = [0, 0, 1, 2, 2]\n",
      "beta = [1, 1, 0, 1, 1]\n",
      "\n",
      "grid = pygridgen.grid.Gridgen(x, y, beta, shape=(10, 5))\n",
      "\n",
      "fig, ax = plt.subplots()\n",
      "ax.plot(x, y, 'k-')\n",
      "ax.plot(grid.x, grid.y, 'b.')\n",
      "plt.show()"
     ],
     "language": "python",
     "metadata": {},
     "outputs": [
      {
       "metadata": {},
       "output_type": "display_data",
       "png": "[encoded data removed]",
       "text": [
        "<matplotlib.figure.Figure at 0x7f4471dd9310>"
       ]
      }
     ],
     "prompt_number": 2
    },
    {
     "cell_type": "markdown",
     "metadata": {},
     "source": [
      "## Example with focus\n",
      "Note that `add_focus_x` means focus *along* the x axis, not\n",
      "*at* a specific x-postion."
     ]
    },
    {
     "cell_type": "code",
     "collapsed": false,
     "input": [
      "x = [0, 1, 2, 1, 0]\n",
      "y = [0, 0, 1, 2, 2]\n",
      "beta = [1, 1, 0, 1, 1]\n",
      "\n",
      "focus = pygridgen.grid.Focus()\n",
      "focus.add_focus_x(xo=0.5, factor=3, Rx=0.2)\n",
      "focus.add_focus_y(yo=0.75, factor=5, Ry=0.1)\n",
      "grid = pygridgen.grid.Gridgen(x, y, beta, shape=(20, 20), focus=focus)\n",
      "\n",
      "fig, ax = plt.subplots()\n",
      "ax.plot(x, y, 'k-')\n",
      "ax.plot(grid.x, grid.y, 'b.')\n",
      "plt.show()"
     ],
     "language": "python",
     "metadata": {},
     "outputs": [
      {
       "metadata": {},
       "output_type": "display_data",
       "png": "[encoded data removed]",
       "text": [
        "<matplotlib.figure.Figure at 0x7f4470a72dd0>"
       ]
      }
     ],
     "prompt_number": 3
    },
    {
     "cell_type": "code",
     "collapsed": false,
     "input": [],
     "language": "python",
     "metadata": {},
     "outputs": [],
     "prompt_number": 3
    }
   ],
   "metadata": {}
  }
 ]
}