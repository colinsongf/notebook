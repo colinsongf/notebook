{
 "metadata": {
  "name": "",
  "signature": "sha256:39e88d2cadcfd02313d50c9101e7625f3590af12213fc40df5318e064ef8826e"
 },
 "nbformat": 3,
 "nbformat_minor": 0,
 "worksheets": [
  {
   "cells": [
    {
     "cell_type": "code",
     "collapsed": false,
     "input": [
      "import pandas as pd"
     ],
     "language": "python",
     "metadata": {},
     "outputs": [],
     "prompt_number": 1
    },
    {
     "cell_type": "code",
     "collapsed": false,
     "input": [
      "url='http://geoport.whoi.edu/thredds/ncss/grid/fmrc/NCEP/ww3/cfsr/4m/best?var=Significant_height_of_combined_wind_waves_and_swell_surface&latitude=24.47&longitude=-80.16&time_start=1979-01-01T00%3A00%3A00Z&time_end=2009-12-31T21%3A00%3A00Z&accept=csv'\n",
      "df = pd.read_csv(url,parse_dates=True,index_col=0)"
     ],
     "language": "python",
     "metadata": {},
     "outputs": []
    },
    {
     "cell_type": "code",
     "collapsed": false,
     "input": [
      "df"
     ],
     "language": "python",
     "metadata": {},
     "outputs": []
    },
    {
     "cell_type": "code",
     "collapsed": false,
     "input": [],
     "language": "python",
     "metadata": {},
     "outputs": []
    }
   ],
   "metadata": {}
  }
 ]
}