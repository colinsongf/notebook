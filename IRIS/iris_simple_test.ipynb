{
 "metadata": {
  "name": "",
  "signature": "sha256:10cb595b71d86815ef343564baaebb93a83dd063bab2b7bcb999c798d7f3ab30"
 },
 "nbformat": 3,
 "nbformat_minor": 0,
 "worksheets": [
  {
   "cells": [
    {
     "cell_type": "code",
     "collapsed": false,
     "input": [
      "import iris\n",
      "url='http://oceanmodeling.pmc.ucsc.edu:8080/thredds/dodsC/ccsnrt/fmrc/CCSNRT_Aggregation_best.ncd'\n",
      "var='potential temperature'\n",
      "cube = iris.load_cube(url,var)"
     ],
     "language": "python",
     "metadata": {},
     "outputs": [
      {
       "output_type": "stream",
       "stream": "stderr",
       "text": [
        "/home/local/python27_epd/lib/python2.7/site-packages/iris/fileformats/_pyke_rules/compiled_krb/fc_rules_cf_fc.py:1216: UserWarning: Gracefully filling 'time' dimension coordinate masked points\n",
        "  warnings.warn(msg.format(str(cf_coord_var.cf_name)))\n"
       ]
      }
     ],
     "prompt_number": 1
    },
    {
     "cell_type": "code",
     "collapsed": false,
     "input": [
      "print cube"
     ],
     "language": "python",
     "metadata": {},
     "outputs": [
      {
       "output_type": "stream",
       "stream": "stdout",
       "text": [
        "potential temperature / (Celsius)   (time: 1193; S-coordinate at RHO-points: 42; -- : 181; -- : 186)\n",
        "     Dimension coordinates:\n",
        "          time                           x                                 -        -         -\n",
        "          S-coordinate at RHO-points     -                                 x        -         -\n",
        "     Auxiliary coordinates:\n",
        "          forecast_reference_time        x                                 -        -         -\n",
        "          latitude                       -                                 -        x         x\n",
        "          longitude                      -                                 -        x         x\n",
        "     Attributes:\n",
        "          CF%3afeature_type: GRID\n",
        "          CPP_options: USWC, ADJOINT, ANA_BSFLUX, ANA_BTFLUX, ASSUMED_SHAPE, BACKGROUND, BULK_FLUXES,...\n",
        "          Conventions: CF-1.4, _Coordinates\n",
        "          DODS_EXTRA.Unlimited_Dimension: ocean_time\n",
        "          ana_file: ROMS/Functionals/ana_btflux.h, /home/ocemod/roms/i4dvar_compile/Functi...\n",
        "          apar_file: is4dvar_563.in\n",
        "          bry_file: /home/ocemod/ccsrt_runs/misc_ncfiles/wc12.0_WOA05_bry_cycle365.25_extr...\n",
        "          cdm_data_type: GRID\n",
        "          code_dir: /auto/home/ocemod/roms/repository/trunk\n",
        "          compiler_command: /soft/openmpi_pgi/bin/mpif90\n",
        "          compiler_flags:  -O3 -Mfree\n",
        "          compiler_system: pgi\n",
        "          cpu: x86_64\n",
        "          field: temperature, scalar, series\n",
        "          file: output/is4dvar_fwd_001.nc\n",
        "          format: netCDF-3 classic file\n",
        "          frc_file_01: /home/ocemod/ccsrt_runs/wc12.0/wc12.0_coamps_woa_gls_v563_tave24_combo...\n",
        "          frc_file_02: /home/ocemod/ccsrt_runs/wc12.0/wc12.0_coamps_woa_gls_v563_tave24_combo...\n",
        "          frc_file_03: /home/ocemod/ccsrt_runs/wc12.0/wc12.0_coamps_woa_gls_v563_tave24_combo...\n",
        "          frc_file_04: /home/ocemod/ccsrt_runs/wc12.0/wc12.0_coamps_woa_gls_v563_tave24_combo...\n",
        "          frc_file_05: /home/ocemod/ccsrt_runs/wc12.0/wc12.0_coamps_woa_gls_v563_tave24_combo...\n",
        "          frc_file_06: /home/ocemod/ccsrt_runs/wc12.0/wc12.0_coamps_woa_gls_v563_tave24_combo...\n",
        "          frc_file_07: /home/ocemod/ccsrt_runs/wc12.0/wc12.0_coamps_woa_gls_v563_tave24_combo...\n",
        "          fwd_file: output/is4dvar_fwd_000.nc\n",
        "          grd_file: /home/ocemod/ccsrt_sys/grids/wc12_grd.nc.0\n",
        "          header_dir: /home/ocemod/roms/i4dvar_compile\n",
        "          header_file: wc13.h\n",
        "          his_file: output/is4dvar_fwd_001.nc\n",
        "          history: ROMS/TOMS, Version 3.5, Tuesday - March 18, 2014 - 12:45:55 AM ;\n",
        "FMRC Best...\n",
        "          ini_file: /home/ocemod/ccsrt_runs/wc12.0/wc12.0_coamps_woa_gls_v563_tave24_combo...\n",
        "          itl_file: ncfiles/is4dvar_itl.nc\n",
        "          location: Proto fmrc:CCSNRT Aggregation\n",
        "          nrm_file: ncfiles/wc12.0_nrm_i_start_on_5547.00.nc\n",
        "          obs_file: ncfiles/wc12.0_ssh_aviso_ssh_noaa_tide_sst_ostia_ts_mbari_glider_merge...\n",
        "          os: Linux\n",
        "          rst_file: output/is4dvar_rst.nc\n",
        "          script_file: ocean_563.in\n",
        "          state_vector: zeta, ubar, vbar, u, v, temp, salt\n",
        "          svn_rev: 563M\n",
        "          svn_url: https:://myroms.org/svn/src\n",
        "          tiling: 004x004\n",
        "          time: ocean_time\n",
        "          title: UCSC California Current System, version wc12.0_coamps_woa_gls_v563_01\n",
        "          type: ROMS/TOMS history file\n"
       ]
      }
     ],
     "prompt_number": 2
    },
    {
     "cell_type": "code",
     "collapsed": false,
     "input": [],
     "language": "python",
     "metadata": {},
     "outputs": []
    }
   ],
   "metadata": {}
  }
 ]
}