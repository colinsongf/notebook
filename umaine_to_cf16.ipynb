{
 "metadata": {
  "name": ""
 },
 "nbformat": 3,
 "nbformat_minor": 0,
 "worksheets": [
  {
   "cells": [
    {
     "cell_type": "markdown",
     "metadata": {},
     "source": [
      "#Convert UMAINE existing time series NetCDF files in 4D (T,Z,Y,X) \"grid\" format to CF-1.6 format"
     ]
    },
    {
     "cell_type": "code",
     "collapsed": false,
     "input": [
      "import glob\n",
      "import os\n",
      "import netCDF4\n",
      "import StringIO\n",
      "from pylab import *"
     ],
     "language": "python",
     "metadata": {},
     "outputs": [],
     "prompt_number": 14
    },
    {
     "cell_type": "code",
     "collapsed": false,
     "input": [
      "#idir='/usgs/data2/emontgomery/stellwagen/Data/ARGO_MERCHANT'\n",
      "#idir = '/usgs/data2/emontgomery/stellwagen/Data/MVCO_11'\n",
      "\n",
      "idir='/usgs/data2/rsignell/data/umaine'\n",
      "odir='/usgs/data2/rsignell/data/umaine/cf'\n",
      "os.chdir(idir)\n"
     ],
     "language": "python",
     "metadata": {},
     "outputs": [],
     "prompt_number": 2
    },
    {
     "cell_type": "code",
     "collapsed": false,
     "input": [
      "# find netcdf files \n",
      "types = ('*.cdf', '*.nc') # the tuple of file types\n",
      "files = []\n",
      "for file in types:\n",
      "    files.extend(glob.glob(file))\n",
      "print files"
     ],
     "language": "python",
     "metadata": {},
     "outputs": [
      {
       "output_type": "stream",
       "stream": "stdout",
       "text": [
        "['A01.sbe37.realtime.1m.nc']\n"
       ]
      }
     ],
     "prompt_number": 3
    },
    {
     "cell_type": "markdown",
     "metadata": {},
     "source": [
      "##Read a sample old file "
     ]
    },
    {
     "cell_type": "code",
     "collapsed": false,
     "input": [
      "file = files[-1]\n",
      "print file\n",
      "nc = netCDF4.Dataset(file)"
     ],
     "language": "python",
     "metadata": {},
     "outputs": [
      {
       "output_type": "stream",
       "stream": "stdout",
       "text": [
        "A01.sbe37.realtime.1m.nc\n"
       ]
      }
     ],
     "prompt_number": 4
    },
    {
     "cell_type": "code",
     "collapsed": false,
     "input": [
      "vars=nc.variables.keys()"
     ],
     "language": "python",
     "metadata": {},
     "outputs": [],
     "prompt_number": 5
    },
    {
     "cell_type": "code",
     "collapsed": false,
     "input": [
      "ncvars = nc.variables"
     ],
     "language": "python",
     "metadata": {},
     "outputs": [],
     "prompt_number": 8
    },
    {
     "cell_type": "code",
     "collapsed": false,
     "input": [
      "print ncvars['temperature']"
     ],
     "language": "python",
     "metadata": {},
     "outputs": [
      {
       "output_type": "stream",
       "stream": "stdout",
       "text": [
        "<type 'netCDF4.Variable'>\n",
        "float32 temperature(time, depth, lat, lon)\n",
        "    long_name: Temperature\n",
        "    standard_name: sea_water_temperature\n",
        "    short_name: WT\n",
        "    ancillary_variables: temperature_qc\n",
        "    _FillValue: -999.0\n",
        "    units: celsius\n",
        "    measurement_type: Measured\n",
        "    cal_coeff_a0: 1.382304e-06\n",
        "    cal_coeff_a1: 0.000276329\n",
        "    cal_coeff_a2: -2.310126e-06\n",
        "    cal_coeff_a3: 1.571893e-07\n",
        "    instrument_range: [ -5.  40.]\n",
        "    valid_range: [ -2.  25.]\n",
        "    precision: 0.001\n",
        "    accuracy: 0.005\n",
        "    standard: ITS90\n",
        "    is_dead: 0\n",
        "    epic_code: 20\n",
        "unlimited dimensions: time\n",
        "current shape = (1041, 1, 1, 1)\n",
        "\n"
       ]
      }
     ],
     "prompt_number": 10
    },
    {
     "cell_type": "code",
     "collapsed": false,
     "input": [
      "coord_vars = ['time','time2','depth','lat','lon']"
     ],
     "language": "python",
     "metadata": {},
     "outputs": [],
     "prompt_number": 11
    },
    {
     "cell_type": "code",
     "collapsed": false,
     "input": [
      "# find data variables by removing coordinate variables from the variable list\n",
      "data_vars = [var for var in vars if var not in coord_vars]\n",
      "print data_vars"
     ],
     "language": "python",
     "metadata": {},
     "outputs": [
      {
       "output_type": "stream",
       "stream": "stdout",
       "text": [
        "[u'offset_time', u'conductivity', u'conductivity_qc', u'temperature', u'temperature_qc', u'salinity', u'salinity_qc', u'sigma_t', u'sigma_t_qc', u'time_created', u'time_modified']\n"
       ]
      }
     ],
     "prompt_number": 12
    },
    {
     "cell_type": "code",
     "collapsed": false,
     "input": [
      "nt = len(nc.dimensions['time'])\n",
      "nz = len(nc.dimensions['depth'])\n",
      "print nt,nz"
     ],
     "language": "python",
     "metadata": {},
     "outputs": [
      {
       "output_type": "stream",
       "stream": "stdout",
       "text": [
        "1041 1\n"
       ]
      }
     ],
     "prompt_number": 13
    },
    {
     "cell_type": "markdown",
     "metadata": {},
     "source": [
      "## Write a sample \"CF-1.6, timeSeries\" File"
     ]
    },
    {
     "cell_type": "code",
     "collapsed": false,
     "input": [
      "\n",
      "id = file.split('.')[0]\n",
      "print id"
     ],
     "language": "python",
     "metadata": {},
     "outputs": [
      {
       "output_type": "stream",
       "stream": "stdout",
       "text": [
        "A01\n"
       ]
      }
     ],
     "prompt_number": 19
    },
    {
     "cell_type": "code",
     "collapsed": false,
     "input": [
      "ofile = os.path.join(odir, file)"
     ],
     "language": "python",
     "metadata": {},
     "outputs": [],
     "prompt_number": 20
    },
    {
     "cell_type": "code",
     "collapsed": false,
     "input": [
      "# create dimensions\n",
      "nco = netCDF4.Dataset(ofile,'w',clobber=True)\n",
      "nco.createDimension('time',nt)\n",
      "if nz > 1:\n",
      "    nco.createDimension('depth',nz)\n",
      "\n",
      "nchar=20\n",
      "nco.createDimension('nchar',nchar)"
     ],
     "language": "python",
     "metadata": {},
     "outputs": [
      {
       "metadata": {},
       "output_type": "pyout",
       "prompt_number": 21,
       "text": [
        "<netCDF4.Dimension at 0x2657af0>"
       ]
      }
     ],
     "prompt_number": 21
    },
    {
     "cell_type": "code",
     "collapsed": false,
     "input": [
      "# create coordinate variables\n",
      "time_v = nco.createVariable('time', 'f8', ('time'))\n",
      "lon_v = nco.createVariable('lon','f4')\n",
      "lat_v = nco.createVariable('lat','f4')\n",
      "if nz > 1:\n",
      "    depth_v = nco.createVariable('depth','f4',dimensions='depth')\n",
      "else:\n",
      "    depth_v = nco.createVariable('depth','f4')\n",
      "\n",
      "station_v = nco.createVariable('site','S1',('nchar'))"
     ],
     "language": "python",
     "metadata": {},
     "outputs": [],
     "prompt_number": 22
    },
    {
     "cell_type": "code",
     "collapsed": false,
     "input": [
      "# write global attributes\n",
      "g_attdict = nc.__dict__\n",
      "g_attdict['Conventions'] = 'CF-1.6'\n",
      "if nz>1:\n",
      "    g_attdict['featureType'] = 'timeSeriesProfile'\n",
      "else:\n",
      "    g_attdict['featureType'] = 'timeSeries'\n",
      "\n",
      "g_attdict['naming_authority'] = 'edu.maine'\n",
      "g_attdict['id'] = id\n",
      "g_attdict['source'] = 'USGS'\n",
      "g_attdict['institution'] = 'Woods Hole Coastal and Marine Science Center'\n",
      "g_attdict['title'] = g_attdict['source'] + g_attdict['id']\n",
      "g_attdict['keywords']='Oceans > Ocean Pressure > Water Pressure, Oceans > Ocean Temperature > Water Temperature, Oceans > Salinity/Density > Conductivity, Oceans > Salinity/Density > Salinity'\n",
      "g_attdict['keywords_vocabulary']='GCMD Science Keywords'\n",
      "g_attdict['standard_name_vocabulary'] = 'CF-1.6'\n",
      "g_attdict['creator_email'] = g_attdict['contact']\n",
      "g_attdict['creator_name'] =  'Neil Pettigrew'\n",
      "g_attdict['publisher_url'] = g_attdict['institution_url']\n",
      "g_attdict['publisher_name'] =  'Neil Pettigrew'\n",
      "g_attdict['publisher_phone'] = '207-581-4381'\n",
      "g_attdict['publisher_email'] = g_attdict['contact']\n",
      "nco.setncatts(g_attdict) "
     ],
     "language": "python",
     "metadata": {},
     "outputs": [],
     "prompt_number": 23
    },
    {
     "cell_type": "code",
     "collapsed": false,
     "input": [
      "# write station variable\n",
      "station_v.cf_role = 'timeseries_id'\n",
      "station_v.standard_name = 'station_id'\n",
      "data = empty((1,),'S'+repr(nchar))\n",
      "data[0] = id\n",
      "station_v[:] = netCDF4.stringtochar(data)\n",
      "\n",
      "# write time variable\n",
      "time_v.units = 'days since 1858-11-17 00:00:00 +0:00'\n",
      "time_v.standard_name = 'time'\n",
      "time_v.calendar = 'gregorian'\n",
      "time_v[:] = nc.variables['time'][:]\n",
      "\n",
      "# write lon variable\n",
      "lon_v.units = 'degree_east'\n",
      "lon_v.standard_name = 'longitude'\n",
      "lon_v[:] = nc.variables['lon'][:]\n",
      "\n",
      "# write lat variable\n",
      "lat_v.units = 'degree_north'\n",
      "lat_v.standard_name = 'latitude'\n",
      "lat_v[:] = nc.variables['lat'][:]\n",
      "\n",
      "# write depth variable\n",
      "depth_v.units = 'm'\n",
      "depth_v.standard_name = 'depth'   \n",
      "depth_v.positive = 'down'\n",
      "depth_v.axis = 'Z'\n",
      "depth_v[:] = nc.variables['depth'][:]\n",
      "\n"
     ],
     "language": "python",
     "metadata": {},
     "outputs": [],
     "prompt_number": 26
    },
    {
     "cell_type": "code",
     "collapsed": false,
     "input": [
      "nc.variables['depth'][:]"
     ],
     "language": "python",
     "metadata": {},
     "outputs": [
      {
       "metadata": {},
       "output_type": "pyout",
       "prompt_number": 27,
       "text": [
        "array([ 1.])"
       ]
      }
     ],
     "prompt_number": 27
    },
    {
     "cell_type": "code",
     "collapsed": false,
     "input": [
      "# variable mapping\n",
      "d={}\n",
      "d['eastward_sea_water_velocity']=['u_1205', 'u']\n",
      "d['northward_sea_water_velocity']=['v_1206', 'v']\n",
      "d['sea_water_temperature']=['t_20']\n",
      "d['sea_water_salinity'] = ['s_40']"
     ],
     "language": "python",
     "metadata": {},
     "outputs": [],
     "prompt_number": 28
    },
    {
     "cell_type": "code",
     "collapsed": false,
     "input": [
      "# create the data variables\n",
      "var_v=[]\n",
      "for varname in data_vars:\n",
      "    ncvar = nc.variables[varname]\n",
      "    # if time series variable\n",
      "    if size(ncvar) == nt:\n",
      "        var = nco.createVariable(varname,ncvar.dtype,('time'))\n",
      "    elif size(ncvar) == nz:\n",
      "        var = nco.createVariable(varname,ncvar.dtype,('depth'))\n",
      "    else:\n",
      "        var = nco.createVariable(varname,ncvar.dtype,('time','depth'))\n",
      "\n",
      "#   load old variable attributes and modify if necessary \n",
      "    attdict = ncvar.__dict__\n",
      "#   if dounpackshort and 'scale_factor' in attdict: del attdict['scale_factor']\n",
      "  \n",
      "    attdict['coordinates'] = 'time lon lat depth'\n",
      "\n",
      "    # assign standard_name if in dictionary\n",
      "    a =[k for (k, v) in d.iteritems() if varname.lower() in v]\n",
      "    if len(a)==1: attdict['standard_name']=a[0]\n",
      "    \n",
      "    # write variable attributes\n",
      "    var.setncatts(attdict) \n",
      "    # write the data\n",
      "#    print ncvar\n",
      "    var[:] = ncvar[:]"
     ],
     "language": "python",
     "metadata": {},
     "outputs": [],
     "prompt_number": 29
    },
    {
     "cell_type": "code",
     "collapsed": false,
     "input": [
      "nco.close()"
     ],
     "language": "python",
     "metadata": {},
     "outputs": [],
     "prompt_number": 30
    }
   ],
   "metadata": {}
  }
 ]
}