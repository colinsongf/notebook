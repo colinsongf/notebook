{
 "metadata": {
  "name": "",
  "signature": "sha256:e7ab9c23d44d2187931bf266db6cb76664d58609eacab4d1c09377ca67c7e089"
 },
 "nbformat": 3,
 "nbformat_minor": 0,
 "worksheets": [
  {
   "cells": [
    {
     "cell_type": "code",
     "collapsed": false,
     "input": [
      "import netCDF4\n",
      "url='http://ingria.coas.oregonstate.edu/opendap/hyrax/ocean_time_aggregation.ncml'\n",
      "nc = netCDF4.Dataset(url)\n",
      "ncv = nc.variables\n",
      "nc.title"
     ],
     "language": "python",
     "metadata": {},
     "outputs": [
      {
       "metadata": {},
       "output_type": "pyout",
       "prompt_number": 1,
       "text": [
        "u'ACTZ nowcast/forecast, generated 12-Feb-2014'"
       ]
      }
     ],
     "prompt_number": 1
    },
    {
     "cell_type": "code",
     "collapsed": false,
     "input": [
      "nc.comment"
     ],
     "language": "python",
     "metadata": {},
     "outputs": [
      {
       "ename": "AttributeError",
       "evalue": "NetCDF: Attribute not found",
       "output_type": "pyerr",
       "traceback": [
        "\u001b[1;31m---------------------------------------------------------------------------\u001b[0m\n\u001b[1;31mAttributeError\u001b[0m                            Traceback (most recent call last)",
        "\u001b[1;32m<ipython-input-2-d037fe49ef89>\u001b[0m in \u001b[0;36m<module>\u001b[1;34m()\u001b[0m\n\u001b[1;32m----> 1\u001b[1;33m \u001b[0mnc\u001b[0m\u001b[1;33m.\u001b[0m\u001b[0mcomment\u001b[0m\u001b[1;33m\u001b[0m\u001b[0m\n\u001b[0m",
        "\u001b[1;32m/home/local/python27_epd/lib/python2.7/site-packages/netCDF4.so\u001b[0m in \u001b[0;36mnetCDF4.Dataset.__getattr__ (netCDF4.c:23758)\u001b[1;34m()\u001b[0m\n",
        "\u001b[1;32m/home/local/python27_epd/lib/python2.7/site-packages/netCDF4.so\u001b[0m in \u001b[0;36mnetCDF4.Dataset.getncattr (netCDF4.c:23021)\u001b[1;34m()\u001b[0m\n",
        "\u001b[1;32m/home/local/python27_epd/lib/python2.7/site-packages/netCDF4.so\u001b[0m in \u001b[0;36mnetCDF4._get_att (netCDF4.c:14674)\u001b[1;34m()\u001b[0m\n",
        "\u001b[1;31mAttributeError\u001b[0m: NetCDF: Attribute not found"
       ]
      }
     ],
     "prompt_number": 2
    },
    {
     "cell_type": "code",
     "collapsed": false,
     "input": [],
     "language": "python",
     "metadata": {},
     "outputs": []
    }
   ],
   "metadata": {}
  }
 ]
}