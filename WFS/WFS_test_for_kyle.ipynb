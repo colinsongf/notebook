{
 "metadata": {
  "name": "",
  "signature": "sha256:1f444d0a37d4e7b4c9e1cfea71b86ea024ea548525e38c4a415783ed1b1b2150"
 },
 "nbformat": 3,
 "nbformat_minor": 0,
 "worksheets": [
  {
   "cells": [
    {
     "cell_type": "markdown",
     "metadata": {},
     "source": [
      "## Try manual and OWSLib methods to retrieve WFS data as JSON from a version 1.1.0 server. \n",
      "The two methods should return the same result, but only the manual method is returning points in the (lon,lat) order requested by `srsName=EPSG:4326`.  The OWSLib version results are still coming back with\n",
      "the default 1.1.0 order (lat,lon), indicating that `srsName=EPSG:4326` was not passed to the WFS"
     ]
    },
    {
     "cell_type": "code",
     "collapsed": false,
     "input": [
      "# some USGS ScienceBase Geoserver WFS endpoints:\n",
      "endpoint='https://www.sciencebase.gov/catalogMaps/mapping/ows/5342c5fce4b0aa151574a8ed'"
     ],
     "language": "python",
     "metadata": {},
     "outputs": [],
     "prompt_number": 30
    },
    {
     "cell_type": "markdown",
     "metadata": {},
     "source": [
      "## Method 1: building WFS request by hand and using `requests`"
     ]
    },
    {
     "cell_type": "code",
     "collapsed": false,
     "input": [
      "import requests\n",
      "import geojson"
     ],
     "language": "python",
     "metadata": {},
     "outputs": []
    },
    {
     "cell_type": "code",
     "collapsed": false,
     "input": [
      "url = ('%s?service=wfs&version=1.1.0&request=GetFeature&'\n",
      "'typeNames=%s&srsName=EPSG:4326&outputFormat=application/json') % (endpoint, 'sb:Conservation_Zone_WGS84')\n",
      "print url"
     ],
     "language": "python",
     "metadata": {},
     "outputs": [
      {
       "output_type": "stream",
       "stream": "stdout",
       "text": [
        "https://www.sciencebase.gov/catalogMaps/mapping/ows/5342c5fce4b0aa151574a8ed?service=wfs&version=1.1.0&request=GetFeature&typeNames=sb:Conservation_Zone_WGS84&srsName=EPSG:4326&outputFormat=application/json\n"
       ]
      }
     ],
     "prompt_number": 38
    },
    {
     "cell_type": "code",
     "collapsed": false,
     "input": [
      "json_response=requests.get(url).text"
     ],
     "language": "python",
     "metadata": {},
     "outputs": []
    },
    {
     "cell_type": "markdown",
     "metadata": {},
     "source": [
      "Here we get `[lon,lat]` ordering of points, as requested by using `srsName=EPSG:4326`"
     ]
    },
    {
     "cell_type": "code",
     "collapsed": false,
     "input": [
      "print json_response[:300]"
     ],
     "language": "python",
     "metadata": {},
     "outputs": [
      {
       "output_type": "stream",
       "stream": "stdout",
       "text": [
        "{\"type\":\"FeatureCollection\",\"features\":[{\"type\":\"Feature\",\"id\":\"Conservation_Zone_WGS84.1\",\"geometry\":{\"type\":\"MultiPolygon\",\"coordinates\":[[[[-74.09688169446223,39.81487959537135],[-74.09587338924456,39.81488113835475],[-74.09614209870023,39.8143317590967],[-74.09633047532941,39.8137616151959],[-74\n"
       ]
      }
     ],
     "prompt_number": 39
    },
    {
     "cell_type": "markdown",
     "metadata": {},
     "source": [
      "## Method 2: Use `OWSLib` to construct the request"
     ]
    },
    {
     "cell_type": "code",
     "collapsed": false,
     "input": [
      "from owslib.wfs import WebFeatureService"
     ],
     "language": "python",
     "metadata": {},
     "outputs": [],
     "prompt_number": 42
    },
    {
     "cell_type": "code",
     "collapsed": false,
     "input": [
      "wfs = WebFeatureService(endpoint, version='1.1.0')\n",
      "print wfs.version"
     ],
     "language": "python",
     "metadata": {},
     "outputs": [
      {
       "output_type": "stream",
       "stream": "stdout",
       "text": [
        "1.1.0\n"
       ]
      }
     ],
     "prompt_number": 43
    },
    {
     "cell_type": "code",
     "collapsed": false,
     "input": [
      "json_response = wfs.getfeature(typename=['sb:Conservation_Zone_WGS84'], propertyname=None, srsname='EPSG:4326', outputFormat='application/json').read()"
     ],
     "language": "python",
     "metadata": {},
     "outputs": [],
     "prompt_number": 44
    },
    {
     "cell_type": "markdown",
     "metadata": {},
     "source": [
      "Here we get still getting `[lat,lon]` ordering of points, the default if no `srsName` is provided, despite requesting `srsname='EPSG:4326'`"
     ]
    },
    {
     "cell_type": "code",
     "collapsed": false,
     "input": [
      "json_response[:300]"
     ],
     "language": "python",
     "metadata": {},
     "outputs": [
      {
       "metadata": {},
       "output_type": "pyout",
       "prompt_number": 45,
       "text": [
        "'{\"type\":\"FeatureCollection\",\"features\":[{\"type\":\"Feature\",\"id\":\"Conservation_Zone_WGS84.1\",\"geometry\":{\"type\":\"MultiPolygon\",\"coordinates\":[[[[39.81487959537135,-74.09688169446223],[39.81488113835475,-74.09587338924456],[39.8143317590967,-74.09614209870023],[39.8137616151959,-74.09633047532941],[39.'"
       ]
      }
     ],
     "prompt_number": 45
    },
    {
     "cell_type": "code",
     "collapsed": false,
     "input": [],
     "language": "python",
     "metadata": {},
     "outputs": []
    }
   ],
   "metadata": {}
  }
 ]
}