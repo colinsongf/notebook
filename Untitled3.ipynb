{
 "metadata": {
  "name": ""
 },
 "nbformat": 3,
 "nbformat_minor": 0,
 "worksheets": [
  {
   "cells": [
    {
     "cell_type": "code",
     "collapsed": false,
     "input": [
      "import matplotlib.path as mpath\n",
      "import matplotlib.patches as mpatches\n",
      "import matplotlib.pyplot as plt\n",
      "\n",
      "from mpld3 import show_d3\n",
      "\n",
      "\n",
      "fig, ax = plt.subplots()\n",
      "\n",
      "Path = mpath.Path\n",
      "path_data = [\n",
      "    (Path.MOVETO, (1.58, -2.57)),\n",
      "    (Path.CURVE4, (0.35, -1.1)),\n",
      "    (Path.CURVE4, (-1.75, 2.0)),\n",
      "    (Path.CURVE4, (0.375, 2.0)),\n",
      "    (Path.LINETO, (0.85, 1.15)),\n",
      "    (Path.CURVE4, (2.2, 3.2)),\n",
      "    (Path.CURVE4, (3, 0.05)),\n",
      "    (Path.CURVE4, (2.0, -0.5)),\n",
      "    (Path.CLOSEPOLY, (1.58, -2.57)),\n",
      "    ]\n",
      "codes, verts = zip(*path_data)\n",
      "path = mpath.Path(verts, codes)\n",
      "patch = mpatches.PathPatch(path, facecolor='r', alpha=0.5)\n",
      "ax.add_patch(patch)\n",
      "\n",
      "# plot control points and connecting lines\n",
      "x, y = zip(*path.vertices)\n",
      "line, = ax.plot(x, y, 'go-')\n",
      "\n",
      "ax.grid(True, color='gray', alpha=0.5)\n",
      "ax.axis('equal')\n",
      "\n",
      "show_d3()"
     ],
     "language": "python",
     "metadata": {},
     "outputs": [],
     "prompt_number": "*"
    },
    {
     "cell_type": "code",
     "collapsed": false,
     "input": [],
     "language": "python",
     "metadata": {},
     "outputs": [],
     "prompt_number": "*"
    }
   ],
   "metadata": {}
  }
 ]
}