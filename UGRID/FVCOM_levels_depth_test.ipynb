{
 "metadata": {
  "name": "FVCOM_levels_depth_test"
 },
 "nbformat": 3,
 "nbformat_minor": 0,
 "worksheets": [
  {
   "cells": [
    {
     "cell_type": "code",
     "collapsed": false,
     "input": [
      "import netCDF4\n",
      "import datetime as dt"
     ],
     "language": "python",
     "metadata": {},
     "outputs": [],
     "prompt_number": 3
    },
    {
     "cell_type": "code",
     "collapsed": false,
     "input": [
      "url = 'http://www.smast.umassd.edu:8080/thredds/dodsC/FVCOM/NECOFS/Forecasts/NECOFS_FVCOM_OCEAN_MASSBAY_FORECAST.nc'\n",
      "nc = netCDF4.Dataset(url)"
     ],
     "language": "python",
     "metadata": {},
     "outputs": [],
     "prompt_number": 4
    },
    {
     "cell_type": "code",
     "collapsed": false,
     "input": [
      "nc.variables['h'][0] "
     ],
     "language": "python",
     "metadata": {},
     "outputs": [
      {
       "metadata": {},
       "output_type": "pyout",
       "prompt_number": 5,
       "text": [
        "10.137"
       ]
      }
     ],
     "prompt_number": 5
    },
    {
     "cell_type": "code",
     "collapsed": false,
     "input": [
      "nc.variables['zeta'][0][0]"
     ],
     "language": "python",
     "metadata": {},
     "outputs": [
      {
       "metadata": {},
       "output_type": "pyout",
       "prompt_number": 6,
       "text": [
        "-0.9639281"
       ]
      }
     ],
     "prompt_number": 6
    },
    {
     "cell_type": "code",
     "collapsed": false,
     "input": [
      "nc.variables['siglev'][:,0]"
     ],
     "language": "python",
     "metadata": {},
     "outputs": [
      {
       "metadata": {},
       "output_type": "pyout",
       "prompt_number": 7,
       "text": [
        "array([ 0.        , -0.10000002, -0.19999999, -0.30000007, -0.40000004,\n",
        "       -0.5       , -0.60000008, -0.70000005, -0.80000007, -0.90000004, -1.        ], dtype=float32)"
       ]
      }
     ],
     "prompt_number": 7
    },
    {
     "cell_type": "code",
     "collapsed": false,
     "input": [
      "# the vertical coordinate for variables that have dimension 'siglay', like \"temperature\" and \"salt\"\n",
      "tz = nc.variables['siglay'][:,0] * (nc.variables['zeta'][0][0] + nc.variables['h'][0]) + nc.variables['zeta'][0][0]"
     ],
     "language": "python",
     "metadata": {},
     "outputs": [],
     "prompt_number": 8
    },
    {
     "cell_type": "code",
     "collapsed": false,
     "input": [
      "# is this the resulting depth for the ppoint i=0 at the timestamp=0 for a total of qo levels ?"
     ],
     "language": "python",
     "metadata": {},
     "outputs": [],
     "prompt_number": 9
    },
    {
     "cell_type": "code",
     "collapsed": false,
     "input": [
      "tz"
     ],
     "language": "python",
     "metadata": {},
     "outputs": [
      {
       "metadata": {},
       "output_type": "pyout",
       "prompt_number": 10,
       "text": [
        "array([-1.42258179, -2.33988905, -3.25719643, -4.1745038 , -5.0918107 ,\n",
        "       -6.00911856, -6.92642593, -7.84373283, -8.76103973, -9.67834663], dtype=float32)"
       ]
      }
     ],
     "prompt_number": 10
    },
    {
     "cell_type": "code",
     "collapsed": false,
     "input": [
      "# the vertical coordinate for variables that have dimension 'siglev', like \"vertical velocity\"\n",
      "wz =  nc.variables['siglev'][:,0] * (nc.variables['zeta'][0][0] + nc.variables['h'][0]) + nc.variables['zeta'][0][0]"
     ],
     "language": "python",
     "metadata": {},
     "outputs": [],
     "prompt_number": 11
    },
    {
     "cell_type": "code",
     "collapsed": false,
     "input": [
      "wz"
     ],
     "language": "python",
     "metadata": {},
     "outputs": [
      {
       "metadata": {},
       "output_type": "pyout",
       "prompt_number": 12,
       "text": [
        "array([ -0.9639281 ,  -1.88123548,  -2.7985425 ,  -3.71585035,\n",
        "        -4.63315725,  -5.55046415,  -6.46777201,  -7.38507891,\n",
        "        -8.30238628,  -9.21969318, -10.13700008], dtype=float32)"
       ]
      }
     ],
     "prompt_number": 12
    },
    {
     "cell_type": "markdown",
     "metadata": {},
     "source": [
      "The vertical coordinate for \"u\" and \"v\" velocity is a bit tricky since velocity is defined at face centers, while the vertical coordinate is defined at nodes"
     ]
    },
    {
     "cell_type": "code",
     "collapsed": false,
     "input": [
      "nv = nc.variables['nv'][:].T - 1\n",
      "print shape(nv)"
     ],
     "language": "python",
     "metadata": {},
     "outputs": [
      {
       "output_type": "stream",
       "stream": "stdout",
       "text": [
        "(165095, 3)\n"
       ]
      }
     ],
     "prompt_number": 14
    },
    {
     "cell_type": "code",
     "collapsed": false,
     "input": [
      "tz = nc.variables['siglay'][:]* (nc.variables['zeta'][0][:] + nc.variables['h'][:]) + nc.variables['zeta'][0][:]\n",
      "print shape(tz)"
     ],
     "language": "python",
     "metadata": {},
     "outputs": [
      {
       "output_type": "stream",
       "stream": "stdout",
       "text": [
        "(10, 98432)\n"
       ]
      }
     ],
     "prompt_number": 16
    },
    {
     "cell_type": "code",
     "collapsed": false,
     "input": [
      "# so here are the z values for the \"u\" and \"v\" variables\n",
      "uz = mean(tz[:,nv],axis=2)\n",
      "print shape(uz)"
     ],
     "language": "python",
     "metadata": {},
     "outputs": [
      {
       "output_type": "stream",
       "stream": "stdout",
       "text": [
        "(10, 165095)\n"
       ]
      }
     ],
     "prompt_number": 25
    },
    {
     "cell_type": "code",
     "collapsed": false,
     "input": [
      "# depth at the center of element 0\n",
      "uz[:,0]"
     ],
     "language": "python",
     "metadata": {},
     "outputs": [
      {
       "metadata": {},
       "output_type": "pyout",
       "prompt_number": 27,
       "text": [
        "array([ -1.55788386,  -2.74849248,  -3.93910146,  -5.12971067,\n",
        "        -6.32031965,  -7.51092863,  -8.70153809,  -9.89214611,\n",
        "       -11.08275318, -12.27336216], dtype=float32)"
       ]
      }
     ],
     "prompt_number": 27
    },
    {
     "cell_type": "code",
     "collapsed": false,
     "input": [],
     "language": "python",
     "metadata": {},
     "outputs": []
    }
   ],
   "metadata": {}
  }
 ]
}