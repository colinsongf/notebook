{
 "metadata": {
  "name": "OPULS_UGRID_Subset-Copy0"
 },
 "nbformat": 3,
 "nbformat_minor": 0,
 "worksheets": [
  {
   "cells": [
    {
     "cell_type": "heading",
     "level": 2,
     "metadata": {},
     "source": [
      "UGRID Remote Subsetting Demo "
     ]
    },
    {
     "cell_type": "markdown",
     "metadata": {},
     "source": [
      "Much of the power of OPeNDAP is the ability to select and subset just the data you need from a remote dataset. This works great for structured grid data because one can subset on index ranges, but for unstructured grid (e.g. triangular grid) this is impossible.  It's therefore necessary to add an additional constraint syntax to the URL and do the subsetting on the server.  This is one of the goals of the OPeNDAP-Unidata Linked Servers [OPULS](http://www.unidata.ucar.edu/projects/#opuls) project, a collaboration between [Unidata](http://www.unidata.ucar.edu), [OPeNDAP, Inc.](http://www.opendap.org/) and the [University of Washington eScience Institute](http://escience.washington.edu).\n",
      "\n",
      "In this demo, we show how the subset expression works, extracting the Galveston Bay region from a model simulation of the entire Gulf of Mexico.  The model dataset is [UGRID-compliant](http://bit.ly/ugrid_cf) FVCOM model output from the [IOOS Modeling Testbed](http://testbed.ioos.us) project. A sample dataset was moved from the testbed THREDDS Data Server to a developmental Hyrax server in the Cloud which has the subsetting enabled. The subsetting is accomplished on the server backend using [GridFields](http://code.google.com/p/gridfields/)."
     ]
    },
    {
     "cell_type": "code",
     "collapsed": false,
     "input": [
      "from pylab import *\n",
      "import time\n",
      "# The netCDF4-Python library accesses OPeNDAP using the Unidata NetCDF-C library:\n",
      "import netCDF4"
     ],
     "language": "python",
     "metadata": {},
     "outputs": [],
     "prompt_number": 1
    },
    {
     "cell_type": "code",
     "collapsed": false,
     "input": [
      "# the full dataset OPeNDAP URL:\n",
      "#url='http://ec2-54-245-151-123.us-west-2.compute.amazonaws.com:8080/opendap/ugrids/fvcom_1step.nc'\n",
      "url='http://ec2-54-242-224-73.compute-1.amazonaws.com:8080/opendap/hyrax/ebs/Ike/2D_varied_manning_windstress/test_dir-norename.ncml'"
     ],
     "language": "python",
     "metadata": {},
     "outputs": [],
     "prompt_number": 21
    },
    {
     "cell_type": "code",
     "collapsed": false,
     "input": [
      "# the region we want to subset, in Matlab style bbox:\n",
      "bbox=[-95.0, -94.4, 29.3, 29.8]  # [lonmin lonmax latmin latmax] Galveston Bay"
     ],
     "language": "python",
     "metadata": {},
     "outputs": [],
     "prompt_number": 3
    },
    {
     "cell_type": "code",
     "collapsed": false,
     "input": [
      "# open and read a field from the full dataset:\n",
      "time0 = time.time()\n",
      "nc = netCDF4.Dataset(url)\n",
      "nc.variables\n",
      "lon = nc.variables['lon'][:]\n",
      "lat = nc.variables['lat'][:]\n",
      "# read connectivity array, and convert to pythonic 0-based indexing\n",
      "nv = nc.variables['nv'][:] - nc.variables['nv'].start_index\n",
      "h = nc.variables['depth'][:]\n",
      "etime = time.time()- time0\n",
      "print 'Elapsed time to read full grid: %.2f seconds' % etime"
     ],
     "language": "python",
     "metadata": {},
     "outputs": [
      {
       "output_type": "stream",
       "stream": "stdout",
       "text": [
        "Elapsed time to read full grid: 15.45 seconds\n"
       ]
      }
     ],
     "prompt_number": 4
    },
    {
     "cell_type": "code",
     "collapsed": false,
     "input": [
      "# plot full bathy:\n",
      "figure(figsize=(10,6),frameon=True)\n",
      "tricontourf(lon,lat,-h,triangles=nv,\n",
      "   levels=[-5000,-4000,-3000,-2000,-1000,-500,-100,-50,-20,-10,0])\n",
      "colorbar()\n",
      "gca().set_aspect(1./cos(30.0*pi/180))\n",
      "title('FVCOM Bathy (m)')"
     ],
     "language": "python",
     "metadata": {},
     "outputs": [
      {
       "metadata": {},
       "output_type": "pyout",
       "prompt_number": 5,
       "text": [
        "<matplotlib.text.Text at 0x37915d0>"
       ]
      },
      {
       "metadata": {},
       "output_type": "display_data",
       "png": "[encoded data removed]",
       "text": [
        "<matplotlib.figure.Figure at 0x3785d90>"
       ]
      }
     ],
     "prompt_number": 5
    },
    {
     "cell_type": "code",
     "collapsed": false,
     "input": [
      "# construct the subset expression\n",
      "expr='_expr_{}{ugr5(0,ua,\\\"%.6f<lat&lat<%.6f&%.6f<lon&lon<%.6f\\\")}{}' % (bbox[2],bbox[3],bbox[0],bbox[1])"
     ],
     "language": "python",
     "metadata": {},
     "outputs": [],
     "prompt_number": 6
    },
    {
     "cell_type": "code",
     "collapsed": false,
     "input": [
      "# construct the subset expression\n",
      "expr='?ugr5(0,ua,\\\"%.6f<lat&lat<%.6f&%.6f<lon&lon<%.6f\\\")' % (bbox[2],bbox[3],bbox[0],bbox[1])"
     ],
     "language": "python",
     "metadata": {},
     "outputs": [],
     "prompt_number": 7
    },
    {
     "cell_type": "code",
     "collapsed": true,
     "input": [
      "# construct the subset url \n",
      "url_subset = url + '.dods' + expr"
     ],
     "language": "python",
     "metadata": {},
     "outputs": [],
     "prompt_number": 23
    },
    {
     "cell_type": "code",
     "collapsed": true,
     "input": [
      "print url_subset"
     ],
     "language": "python",
     "metadata": {},
     "outputs": [
      {
       "output_type": "stream",
       "stream": "stdout",
       "text": [
        "http://ec2-54-242-224-73.compute-1.amazonaws.com:8080/opendap/hyrax/ebs/Ike/2D_varied_manning_windstress/test_dir-norename.ncml.dods?ugr5(0,ua,\"29.300000<lat&lat<29.800000&-95.000000<lon&lon<-94.400000\")\n"
       ]
      }
     ],
     "prompt_number": 24
    },
    {
     "cell_type": "code",
     "collapsed": false,
     "input": [
      "url='http://ec2-54-242-224-73.compute-1.amazonaws.com:8080/opendap/ebs/Ike/2D_varied_manning_windstress/test_dir-norename.ncml?ugr5(0,zeta[3:3:30][*],\\\"29.3<lat&lat<29.8&-95.0<lon&lon<-94.4\\\")'\n",
      "print url\n"
     ],
     "language": "python",
     "metadata": {},
     "outputs": [
      {
       "output_type": "stream",
       "stream": "stdout",
       "text": [
        "http://ec2-54-242-224-73.compute-1.amazonaws.com:8080/opendap/ebs/Ike/2D_varied_manning_windstress/test_dir-norename.ncml?ugr5(0,zeta[3:3:30][*],\"29.3<lat&lat<29.8&-95.0<lon&lon<-94.4\")\n"
       ]
      }
     ],
     "prompt_number": 10
    },
    {
     "cell_type": "code",
     "collapsed": false,
     "input": [
      "nc = netCDF4.Dataset(url_subset)"
     ],
     "language": "python",
     "metadata": {},
     "outputs": [
      {
       "ename": "RuntimeError",
       "evalue": "NetCDF: Malformed or inaccessible DAP DDS",
       "output_type": "pyerr",
       "traceback": [
        "\u001b[1;31m---------------------------------------------------------------------------\u001b[0m\n\u001b[1;31mRuntimeError\u001b[0m                              Traceback (most recent call last)",
        "\u001b[1;32m<ipython-input-25-033224375773>\u001b[0m in \u001b[0;36m<module>\u001b[1;34m()\u001b[0m\n\u001b[1;32m----> 1\u001b[1;33m \u001b[0mnc\u001b[0m \u001b[1;33m=\u001b[0m \u001b[0mnetCDF4\u001b[0m\u001b[1;33m.\u001b[0m\u001b[0mDataset\u001b[0m\u001b[1;33m(\u001b[0m\u001b[0murl_subset\u001b[0m\u001b[1;33m)\u001b[0m\u001b[1;33m\u001b[0m\u001b[0m\n\u001b[0m",
        "\u001b[1;32m/home/local/python27_epd/lib/python2.7/site-packages/netCDF4.so\u001b[0m in \u001b[0;36mnetCDF4.Dataset.__init__ (netCDF4.c:19476)\u001b[1;34m()\u001b[0m\n",
        "\u001b[1;31mRuntimeError\u001b[0m: NetCDF: Malformed or inaccessible DAP DDS"
       ]
      }
     ],
     "prompt_number": 25
    },
    {
     "cell_type": "code",
     "collapsed": false,
     "input": [
      "url='http://ec2-54-242-224-73.compute-1.amazonaws.com:8080/opendap/ebs/Ike/2D_varied_manning_windstress/test_dir-norename.ncml'\n",
      "nc = netCDF4.Dataset(url)"
     ],
     "language": "python",
     "metadata": {},
     "outputs": []
    },
    {
     "cell_type": "code",
     "collapsed": false,
     "input": [
      "time0 = time.time()\n",
      "ncs = netCDF4.Dataset(url_subset)\n",
      "lons=ncs.variables['ugr_result.lon'][:]\n",
      "lats=ncs.variables['ugr_result.lat'][:]\n",
      "# read connectivity array, and convert to pythonic 0-based indexing\n",
      "nvs = ncs.variables['ugr_result.nv'][:] - ncs.variables['ugr_result.nv'].start_index\n",
      "hs=ncs.variables['ugr_result.depth'][:]\n",
      "etime = time.time()- time0\n",
      "print 'Elapsed time to read subset grid: %.2f seconds' % etime"
     ],
     "language": "python",
     "metadata": {},
     "outputs": []
    },
    {
     "cell_type": "code",
     "collapsed": false,
     "input": [
      "# plot subset bathy:\n",
      "figure(figsize=(8,6),frameon=True)\n",
      "tricontourf(lons,lats,-hs,triangles=nvs,levels=range(-20,0))\n",
      "gca().set_aspect(1./cos(30.0*pi/180))\n",
      "axis(bbox)\n",
      "title('Galveston Bay subset bathy (m)')\n",
      "colorbar()"
     ],
     "language": "python",
     "metadata": {},
     "outputs": []
    },
    {
     "cell_type": "code",
     "collapsed": false,
     "input": [
      "# plot subset bathy with mesh drawn\n",
      "figure(figsize=(8,6),frameon=True)\n",
      "tricontourf(lons,lats,-hs,triangles=nvs,levels=range(-20,0))\n",
      "triplot(lons,lats,triangles=nvs)\n",
      "gca().set_aspect(1./cos(30.0*pi/180))\n",
      "axis(bbox)\n",
      "title('Galveston Bay subset bathy with mesh indicated(m)')\n",
      "colorbar()"
     ],
     "language": "python",
     "metadata": {},
     "outputs": []
    },
    {
     "cell_type": "code",
     "collapsed": false,
     "input": [
      "# Plot WMS bathy image from NOAA Coastal Relief Model\n",
      "from IPython.core.display import Image\n",
      "wms = 'http://geoport-dev.whoi.edu/thredds/wms/bathy/crm_vol5.nc?'\n",
      "wms_query = 'LAYERS=topo&ELEVATION=0&TIME=2012-12-07T08%3A42%3A13Z&TRANSPARENT=true&STYLES=boxfill%2Frainbow&CRS=EPSG%3A4326&COLORSCALERANGE=-20%2C0&NUMCOLORBANDS=32&LOGSCALE=false&SERVICE=WMS&VERSION=1.1.1&REQUEST=GetMap&EXCEPTIONS=application%2Fvnd.ogc.se_inimage&FORMAT=image%2Fpng&SRS=EPSG%3A4326&WIDTH=360&HEIGHT=360'\n",
      "wms_bbox = '&BBOX=%.6f,%.6f,%.6f,%.6f' % (bbox[0],bbox[2],bbox[1],bbox[3])\n",
      "wms_get_map = wms + wms_query + wms_bbox\n",
      "print wms_get_map"
     ],
     "language": "python",
     "metadata": {},
     "outputs": []
    },
    {
     "cell_type": "code",
     "collapsed": false,
     "input": [
      "Image(url=wms_get_map)"
     ],
     "language": "python",
     "metadata": {},
     "outputs": []
    },
    {
     "cell_type": "code",
     "collapsed": false,
     "input": [
      "ncs.variables.keys()"
     ],
     "language": "python",
     "metadata": {},
     "outputs": []
    },
    {
     "cell_type": "code",
     "collapsed": false,
     "input": [
      "print nc.variables['ua']"
     ],
     "language": "python",
     "metadata": {},
     "outputs": []
    },
    {
     "cell_type": "code",
     "collapsed": false,
     "input": [
      "print ncs.variables['ugr_result.ua']"
     ],
     "language": "python",
     "metadata": {},
     "outputs": []
    },
    {
     "cell_type": "code",
     "collapsed": false,
     "input": [
      "ua=ncs.variables['ugr_result.ua'][:]"
     ],
     "language": "python",
     "metadata": {},
     "outputs": []
    },
    {
     "cell_type": "code",
     "collapsed": false,
     "input": [
      "va=ncs.variables['ugr_result.va'][:]"
     ],
     "language": "python",
     "metadata": {},
     "outputs": []
    },
    {
     "cell_type": "code",
     "collapsed": false,
     "input": [
      "lonc=mean(lons[nvs],axis=0)\n",
      "latc=mean(lats[nvs],axis=0)"
     ],
     "language": "python",
     "metadata": {},
     "outputs": []
    },
    {
     "cell_type": "code",
     "collapsed": false,
     "input": [
      "# subsample velocity vectors \n",
      "ind=range(len(lonc))\n",
      "subsample=3\n",
      "np.random.shuffle(ind)\n",
      "Nvec = int(len(ind) / subsample)\n",
      "idv = ind[:Nvec]"
     ],
     "language": "python",
     "metadata": {},
     "outputs": []
    },
    {
     "cell_type": "code",
     "collapsed": false,
     "input": [
      "# plot subset bathy:\n",
      "figure(figsize=(10,8),frameon=True)\n",
      "tricontourf(lons,lats,-hs,triangles=nvs,levels=range(-20,1))\n",
      "gca().set_aspect(1./cos(mean(lats)*pi/180))\n",
      "colorbar()\n",
      "Q = quiver(lonc[idv],latc[idv],ua[idv],va[idv],scale=5)\n",
      "qk = quiverkey(Q,0.82,0.92,0.20,'0.2 m/s',labelpos='W')\n",
      "axis(bbox)\n",
      "title('Galveston Bay subset bathy (m)')\n"
     ],
     "language": "python",
     "metadata": {},
     "outputs": []
    },
    {
     "cell_type": "code",
     "collapsed": false,
     "input": [],
     "language": "python",
     "metadata": {},
     "outputs": []
    }
   ],
   "metadata": {}
  }
 ]
}