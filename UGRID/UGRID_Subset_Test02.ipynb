{
 "metadata": {
  "name": "UGRID_Subset_Test02"
 },
 "nbformat": 3,
 "nbformat_minor": 0,
 "worksheets": [
  {
   "cells": [
    {
     "cell_type": "heading",
     "level": 2,
     "metadata": {},
     "source": [
      "UGRID Remote Subsetting Demo with Time"
     ]
    },
    {
     "cell_type": "markdown",
     "metadata": {},
     "source": [
      "Much of the power of OPeNDAP is the ability to select and subset just the data you need from a remote dataset. This works great for structured grid data because one can subset on index ranges, but for unstructured grid (e.g. triangular grid) this is impossible.  It's therefore necessary to add an additional constraint syntax to the URL and do the subsetting on the server.  This is one of the goals of the OPeNDAP-Unidata Linked Servers [OPULS](http://www.unidata.ucar.edu/projects/#opuls) project, a collaboration between [Unidata](http://www.unidata.ucar.edu), [OPeNDAP, Inc.](http://www.opendap.org/) and the [University of Washington eScience Institute](http://escience.washington.edu).\n",
      "\n",
      "In this demo, we show how the subset expression works, extracting the Galveston Bay region from a model simulation of the entire Gulf of Mexico.  The model dataset is [UGRID-compliant](http://bit.ly/ugrid_cf) FVCOM model output from the [IOOS Modeling Testbed](http://testbed.ioos.us) project. A sample dataset was moved from the testbed THREDDS Data Server to a developmental Hyrax server in the Cloud which has the subsetting enabled. The subsetting is accomplished on the server backend using [GridFields](http://code.google.com/p/gridfields/)."
     ]
    },
    {
     "cell_type": "code",
     "collapsed": false,
     "input": [
      "from pylab import *\n",
      "import time\n",
      "# The netCDF4-Python library accesses OPeNDAP using the Unidata NetCDF-C library:\n",
      "import netCDF4"
     ],
     "language": "python",
     "metadata": {},
     "outputs": [],
     "prompt_number": 1
    },
    {
     "cell_type": "code",
     "collapsed": false,
     "input": [
      "# the full dataset OPeNDAP URL:\n",
      "#url='http://ec2-54-245-151-123.us-west-2.compute.amazonaws.com:8080/opendap/ugrids/fvcom_1step.nc'\n",
      "#url='http://ec2-54-242-224-73.compute-1.amazonaws.com:8080/opendap/ebs/fvcom_1step.nc'\n",
      "url='http://ec2-54-242-224-73.compute-1.amazonaws.com:8080/opendap/ebs/Ike/2D_varied_manning_windstress/test_dir-norename.ncml'\n"
     ],
     "language": "python",
     "metadata": {},
     "outputs": [],
     "prompt_number": 10
    },
    {
     "cell_type": "code",
     "collapsed": false,
     "input": [
      "# the region we want to subset, in Matlab style bbox:\n",
      "bbox=[-95.0, -94.4, 29.3, 29.8]  # [lonmin lonmax latmin latmax] Galveston Bay"
     ],
     "language": "python",
     "metadata": {},
     "outputs": [],
     "prompt_number": 11
    },
    {
     "cell_type": "code",
     "collapsed": false,
     "input": [
      "# construct the subset expression\n",
      "# here extract every 3rd time step between 3 and 10\n",
      "expr='_expr_{}{ugr5(0,ua[3:3:10][*],va[3:3:10][*],zeta[3:3:10][*],\\\"%.6f<lat&lat<%.6f&%.6f<lon&lon<%.6f\\\")}{}' % (bbox[2],bbox[3],bbox[0],bbox[1])"
     ],
     "language": "python",
     "metadata": {},
     "outputs": [],
     "prompt_number": 12
    },
    {
     "cell_type": "code",
     "collapsed": false,
     "input": [
      "# construct the subset expression\n",
      "# here extract every 3rd time step between 3 and 10\n",
      "expr='_expr_{}{ugr5(0,zeta[3:3:10][*],\\\"%.6f<lat&lat<%.6f&%.6f<lon&lon<%.6f\\\")}{}' % (bbox[2],bbox[3],bbox[0],bbox[1])"
     ],
     "language": "python",
     "metadata": {},
     "outputs": [],
     "prompt_number": 16
    },
    {
     "cell_type": "code",
     "collapsed": true,
     "input": [
      "# construct the subset url \n",
      "url_subset = url + expr"
     ],
     "language": "python",
     "metadata": {},
     "outputs": [],
     "prompt_number": 17
    },
    {
     "cell_type": "code",
     "collapsed": false,
     "input": [
      "print url_subset"
     ],
     "language": "python",
     "metadata": {},
     "outputs": [
      {
       "output_type": "stream",
       "stream": "stdout",
       "text": [
        "http://ec2-54-242-224-73.compute-1.amazonaws.com:8080/opendap/ebs/Ike/2D_varied_manning_windstress/test_dir-norename.ncml_expr_{}{ugr5(0,zeta[3:3:10][*],\"29.300000<lat&lat<29.800000&-95.000000<lon&lon<-94.400000\")}{}\n"
       ]
      }
     ],
     "prompt_number": 18
    },
    {
     "cell_type": "code",
     "collapsed": false,
     "input": [
      "time0 = time.time()\n",
      "ncs = netCDF4.Dataset(url_subset)\n",
      "lons=ncs.variables['ugr_result.lon'][:]\n",
      "lats=ncs.variables['ugr_result.lat'][:]\n",
      "lonc=ncs.variables['ugr_result.lonc'][:]\n",
      "latc=ncs.variables['ugr_result.latc'][:]\n",
      "# read connectivity array, and convert to pythonic 0-based indexing\n",
      "nvs = ncs.variables['ugr_result.nv'][:] - ncs.variables['ugr_result.nv'].start_index\n",
      "zeta =ncs.variables['ugr_result.zeta'][:]\n",
      "ua =ncs.variables['ugr_result.ua'][:]\n",
      "va =ncs.variables['ugr_result.va'][:]\n",
      "etime = time.time()- time0\n",
      "print 'Elapsed time to read subset grid: %.2f seconds' % etime"
     ],
     "language": "python",
     "metadata": {},
     "outputs": [
      {
       "ename": "RuntimeError",
       "evalue": "NetCDF: I/O failure",
       "output_type": "pyerr",
       "traceback": [
        "\u001b[1;31m---------------------------------------------------------------------------\u001b[0m\n\u001b[1;31mRuntimeError\u001b[0m                              Traceback (most recent call last)",
        "\u001b[1;32m<ipython-input-19-d8ffa62d15c9>\u001b[0m in \u001b[0;36m<module>\u001b[1;34m()\u001b[0m\n\u001b[0;32m      1\u001b[0m \u001b[0mtime0\u001b[0m \u001b[1;33m=\u001b[0m \u001b[0mtime\u001b[0m\u001b[1;33m.\u001b[0m\u001b[0mtime\u001b[0m\u001b[1;33m(\u001b[0m\u001b[1;33m)\u001b[0m\u001b[1;33m\u001b[0m\u001b[0m\n\u001b[1;32m----> 2\u001b[1;33m \u001b[0mncs\u001b[0m \u001b[1;33m=\u001b[0m \u001b[0mnetCDF4\u001b[0m\u001b[1;33m.\u001b[0m\u001b[0mDataset\u001b[0m\u001b[1;33m(\u001b[0m\u001b[0murl_subset\u001b[0m\u001b[1;33m)\u001b[0m\u001b[1;33m\u001b[0m\u001b[0m\n\u001b[0m\u001b[0;32m      3\u001b[0m \u001b[0mlons\u001b[0m\u001b[1;33m=\u001b[0m\u001b[0mncs\u001b[0m\u001b[1;33m.\u001b[0m\u001b[0mvariables\u001b[0m\u001b[1;33m[\u001b[0m\u001b[1;34m'ugr_result.lon'\u001b[0m\u001b[1;33m]\u001b[0m\u001b[1;33m[\u001b[0m\u001b[1;33m:\u001b[0m\u001b[1;33m]\u001b[0m\u001b[1;33m\u001b[0m\u001b[0m\n\u001b[0;32m      4\u001b[0m \u001b[0mlats\u001b[0m\u001b[1;33m=\u001b[0m\u001b[0mncs\u001b[0m\u001b[1;33m.\u001b[0m\u001b[0mvariables\u001b[0m\u001b[1;33m[\u001b[0m\u001b[1;34m'ugr_result.lat'\u001b[0m\u001b[1;33m]\u001b[0m\u001b[1;33m[\u001b[0m\u001b[1;33m:\u001b[0m\u001b[1;33m]\u001b[0m\u001b[1;33m\u001b[0m\u001b[0m\n\u001b[0;32m      5\u001b[0m \u001b[0mlonc\u001b[0m\u001b[1;33m=\u001b[0m\u001b[0mncs\u001b[0m\u001b[1;33m.\u001b[0m\u001b[0mvariables\u001b[0m\u001b[1;33m[\u001b[0m\u001b[1;34m'ugr_result.lonc'\u001b[0m\u001b[1;33m]\u001b[0m\u001b[1;33m[\u001b[0m\u001b[1;33m:\u001b[0m\u001b[1;33m]\u001b[0m\u001b[1;33m\u001b[0m\u001b[0m\n",
        "\u001b[1;32m/opt/anaconda/envs/np17py27-1.5/lib/python2.7/site-packages/netCDF4.so\u001b[0m in \u001b[0;36mnetCDF4.Dataset.__init__ (netCDF4.c:19148)\u001b[1;34m()\u001b[0m\n",
        "\u001b[1;31mRuntimeError\u001b[0m: NetCDF: I/O failure"
       ]
      }
     ],
     "prompt_number": 19
    },
    {
     "cell_type": "code",
     "collapsed": false,
     "input": [
      "print shape(ua)\n",
      "print shape(zeta)"
     ],
     "language": "python",
     "metadata": {},
     "outputs": [
      {
       "ename": "NameError",
       "evalue": "name 'ua' is not defined",
       "output_type": "pyerr",
       "traceback": [
        "\u001b[1;31m---------------------------------------------------------------------------\u001b[0m\n\u001b[1;31mNameError\u001b[0m                                 Traceback (most recent call last)",
        "\u001b[1;32m<ipython-input-9-dc86fcf08ccd>\u001b[0m in \u001b[0;36m<module>\u001b[1;34m()\u001b[0m\n\u001b[1;32m----> 1\u001b[1;33m \u001b[1;32mprint\u001b[0m \u001b[0mshape\u001b[0m\u001b[1;33m(\u001b[0m\u001b[0mua\u001b[0m\u001b[1;33m)\u001b[0m\u001b[1;33m\u001b[0m\u001b[0m\n\u001b[0m\u001b[0;32m      2\u001b[0m \u001b[1;32mprint\u001b[0m \u001b[0mshape\u001b[0m\u001b[1;33m(\u001b[0m\u001b[0mzeta\u001b[0m\u001b[1;33m)\u001b[0m\u001b[1;33m\u001b[0m\u001b[0m\n",
        "\u001b[1;31mNameError\u001b[0m: name 'ua' is not defined"
       ]
      }
     ],
     "prompt_number": 9
    },
    {
     "cell_type": "code",
     "collapsed": false,
     "input": [
      "# subsample velocity vectors \n",
      "ind=range(len(lonc))\n",
      "subsample=3\n",
      "np.random.shuffle(ind)\n",
      "Nvec = int(len(ind) / subsample)\n",
      "idv = ind[:Nvec]"
     ],
     "language": "python",
     "metadata": {},
     "outputs": []
    },
    {
     "cell_type": "code",
     "collapsed": false,
     "input": [
      "# plot subset water level and vectors\n",
      "\n",
      "figure(figsize=(10,8),frameon=True)\n",
      "# plot one of the time steps \n",
      "time_step=-1\n",
      "tricontourf(lons,lats,zeta[time_step,:].flatten(),triangles=nvs,levels=arange(-1,1,.1))\n",
      "gca().set_aspect(1./cos(mean(lats)*pi/180))\n",
      "colorbar()\n",
      "Q = quiver(lonc[idv],latc[idv],ua[time_step,idv].flatten(),va[time_step,idv].flatten(),scale=5)\n",
      "qk = quiverkey(Q,0.82,0.92,0.20,'0.2 m/s',labelpos='W')\n",
      "axis(bbox)\n",
      "title('Galveston Bay Water Level (m) and Depth-Averaged Velocity');"
     ],
     "language": "python",
     "metadata": {},
     "outputs": []
    },
    {
     "cell_type": "code",
     "collapsed": false,
     "input": [],
     "language": "python",
     "metadata": {},
     "outputs": []
    }
   ],
   "metadata": {}
  }
 ]
}