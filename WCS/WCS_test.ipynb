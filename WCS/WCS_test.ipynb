{
 "metadata": {
  "gist_id": "7a1eceb3b7d74ee83561",
  "name": "",
  "signature": "sha256:7175240d2a39003ab44c4204dbcdaebf748e15723c4e48036aa01417c62b11e8"
 },
 "nbformat": 3,
 "nbformat_minor": 0,
 "worksheets": [
  {
   "cells": [
    {
     "cell_type": "heading",
     "level": 1,
     "metadata": {},
     "source": [
      "Test ESRI WCS with OWSLib"
     ]
    },
    {
     "cell_type": "code",
     "collapsed": false,
     "input": [
      "from owslib.wcs import WebCoverageService\n",
      "endpoint='http://olga.er.usgs.gov/stpgis/services/lidar/Bare_Earth_Lidar/MapServer/WCSServer?request=GetCapabilities&service=WCS'"
     ],
     "language": "python",
     "metadata": {},
     "outputs": [],
     "prompt_number": 1
    },
    {
     "cell_type": "code",
     "collapsed": false,
     "input": [
      "wcs = WebCoverageService(endpoint,version='1.0.0',timeout=60)"
     ],
     "language": "python",
     "metadata": {},
     "outputs": [],
     "prompt_number": 2
    },
    {
     "cell_type": "code",
     "collapsed": false,
     "input": [
      "for k,v in wcs.contents.iteritems():\n",
      "    print v.title"
     ],
     "language": "python",
     "metadata": {},
     "outputs": [
      {
       "output_type": "stream",
       "stream": "stdout",
       "text": [
        "DEM (NAVD88)_56\n",
        "OFR 06-1244 Dry Tortugas Nat'l Park_77\n",
        "DEM (NAVD88)_54\n",
        "DEM (NAVD88)_42\n",
        "DEM (NAVD88)_48\n",
        "DS 389 Jean Lafitte Nat'l Historic Park_43\n",
        "DEM (NAVD88)_60\n",
        "OFR 07-1177 Thomas Stone Nat'l Historic Site _61\n",
        "DEM (NAVD88)_62\n",
        "OFR 07-1178 Gateway Nat'l Recreation Area_63\n",
        "DEM (NAVD88)_64\n",
        "OFR 07-1431 Padre Island Nat'l Seashore_49\n",
        "DEM (NAVD88)_66\n",
        "DS 627 Eastern Florida (post-Hurricane Jeanne)_67\n",
        "DEM (NAVD88)_68\n",
        "DS 528 Eastern Florida (post-Hurricane Frances)_69\n",
        "DEM (m WGS84)_80\n",
        "DEM (NAVD88)_52\n",
        "OFR 07-1394 Sagamore Hills Nat'l Historic Site_53\n",
        "DEM (NAVD88)_84\n",
        "DEM (NAVD88)_24\n",
        "DS 556 Mississippi and Alabama Barrier Islands_25\n",
        "DEM (NAVD88)_26\n",
        "DS 447 Assateague Island_27\n",
        "DEM (NAVD88)_20\n",
        "DS 557 Sandy Hook, NJ_21\n",
        "DEM (NAVD88)_22\n",
        "DS 525 Gateway Nat'l Recreation Area_23\n",
        "DEM (m NAVD88)_46\n",
        "OFR 08-1326 Colonial Hist. Site_47\n",
        "DEM (NAVD88)_44\n",
        "OFR 2007-1395 Florida Keys Nat'l Marine Sanctuary_45\n",
        "DEM (NAVD88)_28\n",
        "DS 416 Pearl River Delta_29\n",
        "DEM (NAVD88)_40\n",
        "DS 400 Northern Gulf of Mexico_41\n",
        "DS 628 Assateague Island_1\n",
        "DEM (NAVD88)_82\n",
        "DS 617 Potato Creek, GA_3\n",
        "DEM (NAVD88)_2\n",
        "DS 618 Three Mile Creek and Mobile-Tensaw_5\n",
        "DEM (NAVD88)_4\n",
        "DS 511 Chandeleur Islands_7\n",
        "DEM (NAVD88)_6\n",
        "DS 616 Northern Outer Banks, NC_9\n",
        "DEM (NAVD88)_8\n",
        "DEM (NAVD88)_78\n",
        "OFR 07-1422 Gulf Islands Nat'l Seashore, Florida_51\n",
        "OFR 06-1118 Biscayne Nat'l Park_83\n",
        "DS 398 Northeast Barrier Islands_39\n",
        "OFR 06-1384 Fire Island, NY_65\n",
        "DEM (NAVD88)_76\n",
        "OFR 07-1176 Assateague Island_75\n",
        "DEM (NAVD88)_38\n",
        "DS 384 Northern Gulf of Mexico_73\n",
        "DEM (NAVD88)_72\n",
        "DS 482 Western Florida_71\n",
        "DEM (NAVD88)_70\n",
        "OFR 07-1179 George Washington Birthplace Nat'l Monument_59\n",
        "DS 395 Virgin Islands_79\n",
        "DEM (NAVD88)_58\n",
        "DS 578 Cape Hatteras, NC_11\n",
        "DEM (NAVD88)_10\n",
        "DS 565 Fire Island, NY (post-Hurricane Frances)_13\n",
        "DEM (NAVD88)_12\n",
        "DS 562 Maryland and Delaware coasts_15\n",
        "DEM (NAVD88)_14\n",
        "DS 559 Assateague Island_17\n",
        "DEM (NAVD88)_16\n",
        "DS 558 Fire Island, NY (post-Nor'Ida)_19\n",
        "DEM (NAVD88)_18\n",
        "DS 401 George Washington Birthplace Nat'l Monument_31\n",
        "DEM (NAVD88)_30\n",
        "DS 393 Sandy Hook_37\n",
        "DEM (NAVD88)_36\n",
        "DS 391 Fire Island, NY_35\n",
        "DEM (NAVD88)_34\n",
        "DS 390 Vicksburg Nat'l Military Park_33\n",
        "OFR 07-1375 Cape Code Nat'l Seashore_55\n",
        "DEM (NAVD88)_74\n",
        "DEM (NAVD88)_32\n",
        "OFR 07-1432 Northern Florida Keys Reef Tract_81\n",
        "OFR 07-1377 Gulf Islands Nat'l Seashore, Mississippi_57\n",
        "DEM (NAVD88)_50\n"
       ]
      }
     ],
     "prompt_number": 3
    },
    {
     "cell_type": "code",
     "collapsed": false,
     "input": [
      "wcs['1'].title"
     ],
     "language": "python",
     "metadata": {},
     "outputs": [
      {
       "metadata": {},
       "output_type": "pyout",
       "prompt_number": 4,
       "text": [
        "'DS 628 Assateague Island_1'"
       ]
      }
     ],
     "prompt_number": 4
    },
    {
     "cell_type": "code",
     "collapsed": false,
     "input": [
      "cvg = wcs['1']\n",
      "print cvg.title\n",
      "print cvg.boundingBoxWGS84"
     ],
     "language": "python",
     "metadata": {},
     "outputs": [
      {
       "output_type": "stream",
       "stream": "stdout",
       "text": [
        "DS 628 Assateague Island_1\n",
        "(-75.41186096051426, 37.83872212674116, -75.06819077503195, 38.32610245033198)\n"
       ]
      }
     ],
     "prompt_number": 5
    },
    {
     "cell_type": "code",
     "collapsed": false,
     "input": [
      "print cvg.supportedFormats"
     ],
     "language": "python",
     "metadata": {},
     "outputs": [
      {
       "output_type": "stream",
       "stream": "stdout",
       "text": [
        "[]\n"
       ]
      }
     ],
     "prompt_number": 6
    },
    {
     "cell_type": "code",
     "collapsed": false,
     "input": [
      "print cvg.supportedCRS"
     ],
     "language": "python",
     "metadata": {},
     "outputs": [
      {
       "output_type": "stream",
       "stream": "stdout",
       "text": [
        "[]\n"
       ]
      }
     ],
     "prompt_number": 7
    },
    {
     "cell_type": "code",
     "collapsed": false,
     "input": [
      "output = wcs.getCoverage(identifier=['1'],bbox=(-75.4,37.8,-75.2,38.0),crs='EPSG:4326',format='GeoTIFF')"
     ],
     "language": "python",
     "metadata": {},
     "outputs": [],
     "prompt_number": 8
    },
    {
     "cell_type": "code",
     "collapsed": false,
     "input": [
      "f=open('test.tif','wb')\n",
      "f.write(output.read())\n",
      "f.close()"
     ],
     "language": "python",
     "metadata": {},
     "outputs": [],
     "prompt_number": 9
    },
    {
     "cell_type": "code",
     "collapsed": false,
     "input": [
      "!more test.tif"
     ],
     "language": "python",
     "metadata": {},
     "outputs": [
      {
       "output_type": "stream",
       "stream": "stdout",
       "text": [
        "<?xml version=\"1.0\" encoding=\"UTF-8\" ?>\r\n",
        "<ServiceExceptionReport version=\"1.2.0\" xmlns=\"http://www.opengis.net/ogc\" xmlns\r\n",
        ":xsi=\"http://www.w3.org/2001/XMLSchema-instance\" xsi:schemaLocation=\"http://www.\r\n",
        "opengis.net/ogc http://schemas.opengeospatial.net/wms/1.1.1/OGC-exception.xsd\"> \r\n",
        " <ServiceException code=\"InvalidParameterValue\">\r\n",
        "parameter COVERAGE is invalid\r\n",
        "  </ServiceException>\r\n",
        "</ServiceExceptionReport>\r\n"
       ]
      }
     ],
     "prompt_number": 10
    },
    {
     "cell_type": "code",
     "collapsed": false,
     "input": [],
     "language": "python",
     "metadata": {},
     "outputs": [],
     "prompt_number": 10
    }
   ],
   "metadata": {}
  }
 ]
}