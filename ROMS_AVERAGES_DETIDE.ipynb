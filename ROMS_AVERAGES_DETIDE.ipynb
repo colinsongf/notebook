{
 "metadata": {
  "gist_id": "6a6c21286485744a7b54",
  "name": "",
  "signature": "sha256:f390cda791b3364a3d5974df7fef52dfdaf32f2203149be6b012fb6a6d01ad40"
 },
 "nbformat": 3,
 "nbformat_minor": 0,
 "worksheets": [
  {
   "cells": [
    {
     "cell_type": "heading",
     "level": 1,
     "metadata": {},
     "source": [
      "Computing tidal constituent amplitude and phase from ROMS AVERAGES_DETIDE output"
     ]
    },
    {
     "cell_type": "code",
     "collapsed": false,
     "input": [
      "import netCDF4\n",
      "import numpy as np\n",
      "from IPython.display import HTML"
     ],
     "language": "python",
     "metadata": {},
     "outputs": [],
     "prompt_number": 1
    },
    {
     "cell_type": "code",
     "collapsed": false,
     "input": [
      "#url='http://geoport.whoi.edu/thredds/dodsC/usgs/data0/bbleh/tidal/bbleh_base_detide.nc'\n",
      "url='/usgs/data0/bbleh/tidal/bbleh_base_detide.nc'"
     ],
     "language": "python",
     "metadata": {},
     "outputs": [],
     "prompt_number": 2
    },
    {
     "cell_type": "code",
     "collapsed": false,
     "input": [
      "nc = netCDF4.Dataset(url)\n",
      "ncv = nc.variables"
     ],
     "language": "python",
     "metadata": {},
     "outputs": [],
     "prompt_number": 3
    },
    {
     "cell_type": "code",
     "collapsed": false,
     "input": [
      "ncv.keys()"
     ],
     "language": "python",
     "metadata": {},
     "outputs": [
      {
       "metadata": {},
       "output_type": "pyout",
       "prompt_number": 4,
       "text": [
        "[u'tide_period',\n",
        " u'tide_Ephase',\n",
        " u'tide_Eamp',\n",
        " u'tide_Cphase',\n",
        " u'tide_Cangle',\n",
        " u'tide_Cmin',\n",
        " u'tide_Cmax',\n",
        " u'Hcount',\n",
        " u'ocean_time',\n",
        " u'CosW',\n",
        " u'SinW',\n",
        " u'CosWCosW',\n",
        " u'SinWSinW',\n",
        " u'SinWCosW',\n",
        " u'zeta_tide',\n",
        " u'ubar_tide',\n",
        " u'vbar_tide',\n",
        " u'u_tide',\n",
        " u'v_tide']"
       ]
      }
     ],
     "prompt_number": 4
    },
    {
     "cell_type": "code",
     "collapsed": false,
     "input": [
      "NTC = len(ncv['tide_period'])\n",
      "print NTC"
     ],
     "language": "python",
     "metadata": {},
     "outputs": [
      {
       "output_type": "stream",
       "stream": "stdout",
       "text": [
        "9\n"
       ]
      }
     ],
     "prompt_number": 5
    },
    {
     "cell_type": "code",
     "collapsed": false,
     "input": [
      "print ncv['tide_period'][:]"
     ],
     "language": "python",
     "metadata": {},
     "outputs": [
      {
       "output_type": "stream",
       "stream": "stdout",
       "text": [
        "[ 23.93446966  25.81934167  26.86835667  12.42060122  12.          12.65834824\n",
        "  11.96723479   6.21030061   4.14020041]\n"
       ]
      }
     ],
     "prompt_number": 6
    },
    {
     "cell_type": "code",
     "collapsed": false,
     "input": [
      "zt = ncv['zeta_tide']\n",
      "print zt"
     ],
     "language": "python",
     "metadata": {},
     "outputs": [
      {
       "output_type": "stream",
       "stream": "stdout",
       "text": [
        "<type 'netCDF4.Variable'>\n",
        "float64 zeta_tide(harmonics, eta_rho, xi_rho)\n",
        "    long_name: time-accumulated free-surface tide harmonics\n",
        "    units: meter\n",
        "    coordinates: lon_rho lat_rho ocean_time\n",
        "    field: zeta_tide, scalar\n",
        "    _FillValue: 1e+37\n",
        "unlimited dimensions: \n",
        "current shape = (19, 800, 160)\n",
        "filling off\n",
        "\n"
       ]
      }
     ],
     "prompt_number": 7
    },
    {
     "cell_type": "code",
     "collapsed": false,
     "input": [
      "Hcount =ncv['Hcount'][:]\n",
      "print Hcount"
     ],
     "language": "python",
     "metadata": {},
     "outputs": [
      {
       "output_type": "stream",
       "stream": "stdout",
       "text": [
        "[121021]\n"
       ]
      }
     ],
     "prompt_number": 14
    },
    {
     "cell_type": "code",
     "collapsed": false,
     "input": [
      "\"\"\"\n",
      "Comments from ROMS/Modules/mod_tides.F:\n",
      "\n",
      "!  Detided time-averaged fields via least-squares fitting. Notice that !\n",
      "!  the harmonics for the state variable have an extra dimension of     !\n",
      "!  size (0:2*NTC) to store several terms:                              !\n",
      "!                                                                      !\n",
      "!               index 0               mean term (accumulated sum)      !\n",
      "!                     1:NTC           accumulated sine terms           !\n",
      "!                     NTC+1:2*NTC     accumulated cosine terms         !\n",
      "!                                                                      !\n",
      "!  CosW_avg     Current time-average window COS(omega(k)*t).           !\n",
      "!  CosW_sum     Time-accumulated COS(omega(k)*t).                      !\n",
      "!  SinW_avg     Current time-average window SIN(omega(k)*t).           !\n",
      "!  SinW_sum     Time-accumulated SIN(omega(k)*t).                      !\n",
      "!  CosWCosW     Time-accumulated COS(omega(k)*t)*COS(omega(l)*t).      !\n",
      "!  SinWSinW     Time-accumulated SIN(omega(k)*t)*SIN(omega(l)*t).      !\n",
      "!  SinWCosW     Time-accumulated SIN(omega(k)*t)*COS(omega(l)*t).      !\n",
      "!                                                                      !\n",
      "!  ubar_detided Time-averaged and detided 2D u-momentum.               !\n",
      "!  ubar_tide    Time-accumulated 2D u-momentum tide harmonics.         !\n",
      "!  vbar_detided Time-averaged and detided 2D v-momentum.               !\n",
      "!  vbar_tide    Time-accumulated 2D v-momentum tide harmonics.         !\n",
      "!  zeta_detided Time-averaged and detided free-surface.                !\n",
      "!  zeta_tide    Time-accumulated free-surface tide harmonics.          !\n",
      "\"\"\";"
     ],
     "language": "python",
     "metadata": {},
     "outputs": [],
     "prompt_number": 8
    },
    {
     "cell_type": "markdown",
     "metadata": {},
     "source": [
      "To calculate the `m2` elevation amplitude and phase from the variable `zeta_tide`, we will need to add one to the tide_period index to get the `sin` term, and then add the number of analyzed constituents to get the `cos` term.  "
     ]
    },
    {
     "cell_type": "code",
     "collapsed": false,
     "input": [
      "i_m2sin = 1+3\n",
      "i_m2cos = 1+3+NTC"
     ],
     "language": "python",
     "metadata": {},
     "outputs": [],
     "prompt_number": 9
    },
    {
     "cell_type": "code",
     "collapsed": false,
     "input": [
      "cosW = ncv['CosW'][:]\n",
      "sinW = ncv['SinW']{}"
     ],
     "language": "python",
     "metadata": {},
     "outputs": []
    },
    {
     "cell_type": "code",
     "collapsed": false,
     "input": [
      "# represent tide as complex\n",
      "z_m2 = (zt[i_m2cos,:] + 1j* zt[i_m2sin,:]) /Hcount"
     ],
     "language": "python",
     "metadata": {},
     "outputs": [],
     "prompt_number": 15
    },
    {
     "cell_type": "code",
     "collapsed": false,
     "input": [
      "# compute amplitude and phase\n",
      "z_m2_amp = np.abs(z_m2)\n",
      "z_m2_pha = np.angle(z_m2)"
     ],
     "language": "python",
     "metadata": {},
     "outputs": [],
     "prompt_number": 16
    },
    {
     "cell_type": "code",
     "collapsed": false,
     "input": [
      "z_m2_amp.min()"
     ],
     "language": "python",
     "metadata": {},
     "outputs": [
      {
       "metadata": {},
       "output_type": "pyout",
       "prompt_number": 17,
       "text": [
        "0.0"
       ]
      }
     ],
     "prompt_number": 17
    },
    {
     "cell_type": "code",
     "collapsed": false,
     "input": [
      "z_m2_amp.max()"
     ],
     "language": "python",
     "metadata": {},
     "outputs": [
      {
       "metadata": {},
       "output_type": "pyout",
       "prompt_number": 18,
       "text": [
        "0.27411115895338473"
       ]
      }
     ],
     "prompt_number": 18
    },
    {
     "cell_type": "code",
     "collapsed": false,
     "input": [],
     "language": "python",
     "metadata": {},
     "outputs": []
    }
   ],
   "metadata": {}
  }
 ]
}