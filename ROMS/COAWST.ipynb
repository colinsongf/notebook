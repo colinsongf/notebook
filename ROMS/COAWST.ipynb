{
 "metadata": {
  "name": "COAWST"
 },
 "nbformat": 3,
 "nbformat_minor": 0,
 "worksheets": [
  {
   "cells": [
    {
     "cell_type": "code",
     "collapsed": false,
     "input": [
      "import iris\n",
      "import time"
     ],
     "language": "python",
     "metadata": {},
     "outputs": [],
     "prompt_number": 1
    },
    {
     "cell_type": "code",
     "collapsed": true,
     "input": [
      "url = 'http://geoport.whoi.edu/thredds/dodsC/coawst_4/use/fmrc/coawst_4_use_best.ncd'\n",
      "time0=time.time()\n",
      "cubes = iris.load(url)\n",
      "t = time.time()-time0\n",
      "print 'elapsed time = %f ' % t"
     ],
     "language": "python",
     "metadata": {},
     "outputs": [
      {
       "output_type": "stream",
       "stream": "stdout",
       "text": [
        "elapsed time = 337.115112 \n"
       ]
      }
     ],
     "prompt_number": 2
    },
    {
     "cell_type": "code",
     "collapsed": false,
     "input": [
      "temp = cubes.extract(iris.Constraint(name='potential temperature'))[0]\n",
      "print temp"
     ],
     "language": "python",
     "metadata": {},
     "outputs": [
      {
       "output_type": "stream",
       "stream": "stdout",
       "text": [
        "potential temperature / (Celsius)   (time: 6869; S-coordinate at RHO-points: 16; *ANONYMOUS*: 336; *ANONYMOUS*: 896)\n",
        "     Dimension coordinates:\n",
        "          time                           x                                 -                -                 -\n",
        "          S-coordinate at RHO-points     -                                 x                -                 -\n",
        "     Auxiliary coordinates:\n",
        "          forecast_reference_time        x                                 -                -                 -\n",
        "          latitude                       -                                 -                x                 x\n",
        "          longitude                      -                                 -                x                 x\n",
        "     Attributes:\n",
        "          CPP_options: ISABEL, ATM_PRESS, ANA_BPFLUX, ANA_BSFLUX, ANA_BTFLUX, ANA_FSOBC, ANA_M2OBC,...\n",
        "          Conventions: CF-1.4, _Coordinates\n",
        "          DODS.strlen: 0\n",
        "          DODS_EXTRA.Unlimited_Dimension: ocean_time\n",
        "          _ChunkSize: [  1   4 112 299]\n",
        "          _CoordSysBuilder: ucar.nc2.dataset.conv.CF1Convention\n",
        "          ana_file: ROMS/Functionals/ana_btflux.h, ROMS/Functionals/ana_fsobc.h, ROMS/Functionals/ana_m2obc.h,...\n",
        "          bry_file: ./forcings3/USE_coawst_bdy.nc\n",
        "          cdm_data_type: GRID\n",
        "          clm_file: ./forcings3/USE_coawst_clm.nc\n",
        "          code_dir: /raid1/barmstrong/Projects/COAWST_4\n",
        "          compiler_command: /usr/local/mpi/bin/mpif90\n",
        "          compiler_flags:  -fastsse -Mipa=fast -tp k8-64 -Mfree\n",
        "          compiler_system: pgi\n",
        "          cpu: x86_64\n",
        "          featureType: GRID\n",
        "          field: temperature, scalar, series\n",
        "          file: ./Output/coawst_use_his_0001.nc\n",
        "          format: netCDF-3 classic file\n",
        "          frc_file_01: ./forcings/cloud_coawst.nc\n",
        "          frc_file_02: ./forcings/Pair_coawst.nc\n",
        "          frc_file_03: ./forcings/Qair_coawst.nc\n",
        "          frc_file_04: ./forcings/rain_coawst.nc\n",
        "          frc_file_05: ./forcings/swrad_coawst.nc\n",
        "          frc_file_06: ./forcings/Tair_coawst.nc\n",
        "          frc_file_07: ./forcings/lwrad_coawst.nc\n",
        "          frc_file_08: ./forcings/Big_grd2_coawstwind.nc\n",
        "          frc_file_09: ./grids/tide_forc_USeast_grd16_osu_rev2.nc\n",
        "          grd_file: ./grids/USeast_grd19.nc\n",
        "          header_dir: /raid1/barmstrong/Projects/COAWST_4/Projects/coawst\n",
        "          header_file: coawst.h\n",
        "          his_base: ./Output/coawst_use_his\n",
        "          history: ROMS/TOMS, Version 3.4, Wednesday - September 4, 2013 -  3:03:13 AM ;\n",
        "FMRC...\n",
        "          ini_file: ./restart/ocean_use_rst.nc\n",
        "          location: Proto fmrc:coawst_4_use\n",
        "          os: Linux\n",
        "          rst_file: ./Output/ocean_use_rst.nc\n",
        "          script_file: Projects/coawst/ocean_coawst.in\n",
        "          svn_rev: exported\n",
        "          svn_url: https://www.myroms.org/svn/omlab/branches/jcwarner\n",
        "          tiling: 010x004\n",
        "          time: ocean_time\n",
        "          title: COAWST\n",
        "          type: ROMS/TOMS history file\n"
       ]
      }
     ],
     "prompt_number": 7
    },
    {
     "cell_type": "code",
     "collapsed": false,
     "input": [
      "slice=temp[-1,-1,::2,::2]\n",
      "print slice"
     ],
     "language": "python",
     "metadata": {},
     "outputs": [
      {
       "output_type": "stream",
       "stream": "stdout",
       "text": [
        "potential temperature / (Celsius)   (*ANONYMOUS*: 168; *ANONYMOUS*: 448)\n",
        "     Auxiliary coordinates:\n",
        "          latitude                              x                 x\n",
        "          longitude                             x                 x\n",
        "     Scalar coordinates:\n",
        "          S-coordinate at RHO-points: -0.03125\n",
        "          forecast_reference_time: 2013-09-04 13:00:00\n",
        "          time: 2013-09-05 00:00:00\n",
        "     Attributes:\n",
        "          CPP_options: ISABEL, ATM_PRESS, ANA_BPFLUX, ANA_BSFLUX, ANA_BTFLUX, ANA_FSOBC, ANA_M2OBC,...\n",
        "          Conventions: CF-1.4, _Coordinates\n",
        "          DODS.strlen: 0\n",
        "          DODS_EXTRA.Unlimited_Dimension: ocean_time\n",
        "          _ChunkSize: [  1   4 112 299]\n",
        "          _CoordSysBuilder: ucar.nc2.dataset.conv.CF1Convention\n",
        "          ana_file: ROMS/Functionals/ana_btflux.h, ROMS/Functionals/ana_fsobc.h, ROMS/Functionals/ana_m2obc.h,...\n",
        "          bry_file: ./forcings3/USE_coawst_bdy.nc\n",
        "          cdm_data_type: GRID\n",
        "          clm_file: ./forcings3/USE_coawst_clm.nc\n",
        "          code_dir: /raid1/barmstrong/Projects/COAWST_4\n",
        "          compiler_command: /usr/local/mpi/bin/mpif90\n",
        "          compiler_flags:  -fastsse -Mipa=fast -tp k8-64 -Mfree\n",
        "          compiler_system: pgi\n",
        "          cpu: x86_64\n",
        "          featureType: GRID\n",
        "          field: temperature, scalar, series\n",
        "          file: ./Output/coawst_use_his_0001.nc\n",
        "          format: netCDF-3 classic file\n",
        "          frc_file_01: ./forcings/cloud_coawst.nc\n",
        "          frc_file_02: ./forcings/Pair_coawst.nc\n",
        "          frc_file_03: ./forcings/Qair_coawst.nc\n",
        "          frc_file_04: ./forcings/rain_coawst.nc\n",
        "          frc_file_05: ./forcings/swrad_coawst.nc\n",
        "          frc_file_06: ./forcings/Tair_coawst.nc\n",
        "          frc_file_07: ./forcings/lwrad_coawst.nc\n",
        "          frc_file_08: ./forcings/Big_grd2_coawstwind.nc\n",
        "          frc_file_09: ./grids/tide_forc_USeast_grd16_osu_rev2.nc\n",
        "          grd_file: ./grids/USeast_grd19.nc\n",
        "          header_dir: /raid1/barmstrong/Projects/COAWST_4/Projects/coawst\n",
        "          header_file: coawst.h\n",
        "          his_base: ./Output/coawst_use_his\n",
        "          history: ROMS/TOMS, Version 3.4, Wednesday - September 4, 2013 -  3:03:13 AM ;\n",
        "FMRC...\n",
        "          ini_file: ./restart/ocean_use_rst.nc\n",
        "          location: Proto fmrc:coawst_4_use\n",
        "          os: Linux\n",
        "          rst_file: ./Output/ocean_use_rst.nc\n",
        "          script_file: Projects/coawst/ocean_coawst.in\n",
        "          svn_rev: exported\n",
        "          svn_url: https://www.myroms.org/svn/omlab/branches/jcwarner\n",
        "          tiling: 010x004\n",
        "          time: ocean_time\n",
        "          title: COAWST\n",
        "          type: ROMS/TOMS history file\n"
       ]
      }
     ],
     "prompt_number": 20
    },
    {
     "cell_type": "code",
     "collapsed": false,
     "input": [
      "pcolormesh(ma.masked_invalid(slice).data)"
     ],
     "language": "python",
     "metadata": {},
     "outputs": []
    },
    {
     "cell_type": "code",
     "collapsed": false,
     "input": [
      "ma.maske"
     ],
     "language": "python",
     "metadata": {},
     "outputs": [
      {
       "metadata": {},
       "output_type": "pyout",
       "prompt_number": 14,
       "text": [
        "array([[         nan,          nan,          nan, ...,  20.35491562,\n",
        "         20.63477135,  20.8020649 ],\n",
        "       [         nan,          nan,          nan, ...,  20.36610794,\n",
        "         20.66008759,  21.0580883 ],\n",
        "       [         nan,          nan,          nan, ...,  20.28735733,\n",
        "         20.58859062,  20.84395599],\n",
        "       ..., \n",
        "       [         nan,          nan,          nan, ...,          nan,\n",
        "                 nan,          nan],\n",
        "       [         nan,          nan,          nan, ...,          nan,\n",
        "                 nan,          nan],\n",
        "       [         nan,          nan,          nan, ...,          nan,\n",
        "                 nan,          nan]], dtype=float32)"
       ]
      }
     ],
     "prompt_number": 14
    },
    {
     "cell_type": "code",
     "collapsed": false,
     "input": [],
     "language": "python",
     "metadata": {},
     "outputs": []
    }
   ],
   "metadata": {}
  }
 ]
}