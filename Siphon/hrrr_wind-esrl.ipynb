{
 "metadata": {
  "gist_id": "",
  "name": "",
  "signature": "sha256:7df63840d8aa027eb9502bebf7fed028b1d948597ac7757c40784367c3eac38e"
 },
 "nbformat": 3,
 "nbformat_minor": 0,
 "worksheets": [
  {
   "cells": [
    {
     "cell_type": "code",
     "collapsed": false,
     "input": [
      "import matplotlib.pyplot as plt\n",
      "import numpy as np\n",
      "%matplotlib inline"
     ],
     "language": "python",
     "metadata": {},
     "outputs": [],
     "prompt_number": 97
    },
    {
     "cell_type": "code",
     "collapsed": false,
     "input": [
      "import xray\n",
      "import datetime"
     ],
     "language": "python",
     "metadata": {},
     "outputs": [],
     "prompt_number": 98
    },
    {
     "cell_type": "code",
     "collapsed": false,
     "input": [
      "# lon/lat bounding box [lon_min, lon_max, lat_min, lat_max]\n",
      "ax = [-72,-69.6,40.6, 43.5]\n",
      "\n",
      "# Enter time in EDT\n",
      "date = datetime.datetime.now()\n",
      "date = datetime.datetime(2015,7,25,1,0,0)\n",
      "# convert from EDT to UTC\n",
      "date += datetime.timedelta(hours=+5)\n",
      "date"
     ],
     "language": "python",
     "metadata": {},
     "outputs": [
      {
       "metadata": {},
       "output_type": "pyout",
       "prompt_number": 99,
       "text": [
        "datetime.datetime(2015, 7, 25, 6, 0)"
       ]
      }
     ],
     "prompt_number": 99
    },
    {
     "cell_type": "code",
     "collapsed": false,
     "input": [
      "def get_latest_url(date):  \n",
      "    # build URL for latest synoptic analysis time\n",
      "\n",
      "    # keep moving back 1 hours until a valid URL found\n",
      "    validURL = False; ncount = 0\n",
      "    while (not validURL and ncount < 24):\n",
      "        URL = 'http://thredds-jumbo.unidata.ucar.edu/thredds/dodsC/grib/HRRR/CONUS_3km/surface/HRRR_CONUS_3km_surface_%04i%02i%02i%02i%02i.grib2' %\\\n",
      "(date.year,date.month,date.day,1*(date.hour//1),0)\n",
      "#        URL='http://thredds-jumbo.unidata.ucar.edu/thredds/dodsC/grib/NCEP/HRRR/CONUS_2p5km/HRRR_CONUS_2p5km_%04i%02i%02i_%02i%02i.grib2' %\\\n",
      "#(date.year,date.month,date.day,1*(date.hour//1),0)\n",
      "#        print(URL)\n",
      "        try:\n",
      "            gfs = xray.open_dataset(URL)\n",
      "            validURL = True\n",
      "        except RuntimeError:\n",
      "            date -= datetime.timedelta(hours=1)\n",
      "            ncount += 1  \n",
      "    return URL"
     ],
     "language": "python",
     "metadata": {},
     "outputs": [],
     "prompt_number": 100
    },
    {
     "cell_type": "code",
     "collapsed": false,
     "input": [
      "url = get_latest_url(date)\n",
      "url"
     ],
     "language": "python",
     "metadata": {},
     "outputs": [
      {
       "metadata": {},
       "output_type": "pyout",
       "prompt_number": 101,
       "text": [
        "'http://thredds-jumbo.unidata.ucar.edu/thredds/dodsC/grib/HRRR/CONUS_3km/surface/HRRR_CONUS_3km_surface_201507241700.grib2'"
       ]
      }
     ],
     "prompt_number": 101
    },
    {
     "cell_type": "heading",
     "level": 2,
     "metadata": {},
     "source": [
      "Try reading extracted data with Xray"
     ]
    },
    {
     "cell_type": "code",
     "collapsed": false,
     "input": [
      "url"
     ],
     "language": "python",
     "metadata": {},
     "outputs": [
      {
       "metadata": {},
       "output_type": "pyout",
       "prompt_number": 102,
       "text": [
        "'http://thredds-jumbo.unidata.ucar.edu/thredds/dodsC/grib/HRRR/CONUS_3km/surface/HRRR_CONUS_3km_surface_201507241700.grib2'"
       ]
      }
     ],
     "prompt_number": 102
    },
    {
     "cell_type": "code",
     "collapsed": false,
     "input": [
      "nc = xray.open_dataset(url)"
     ],
     "language": "python",
     "metadata": {},
     "outputs": [],
     "prompt_number": 103
    },
    {
     "cell_type": "code",
     "collapsed": false,
     "input": [
      "#nc"
     ],
     "language": "python",
     "metadata": {},
     "outputs": [],
     "prompt_number": 104
    },
    {
     "cell_type": "code",
     "collapsed": false,
     "input": [
      "uvar_name='u-component_of_wind_height_above_ground'\n",
      "vvar_name='v-component_of_wind_height_above_ground'\n",
      "uvar = nc[uvar_name]\n",
      "vvar = nc[vvar_name]"
     ],
     "language": "python",
     "metadata": {},
     "outputs": [],
     "prompt_number": 105
    },
    {
     "cell_type": "code",
     "collapsed": false,
     "input": [
      "uvar"
     ],
     "language": "python",
     "metadata": {},
     "outputs": [
      {
       "metadata": {},
       "output_type": "pyout",
       "prompt_number": 106,
       "text": [
        "<xray.DataArray 'u-component_of_wind_height_above_ground' (time3: 80, height_above_ground5: 2, y: 1059, x: 1799)>\n",
        "[304822560 values with dtype=float32]\n",
        "Coordinates:\n",
        "  * time3                 (time3) datetime64[ns] 2015-07-24T17:00:00 ...\n",
        "  * height_above_ground5  (height_above_ground5) float32 10.0 80.0\n",
        "    reftime               datetime64[ns] ...\n",
        "  * y                     (y) float32 -1587.31 -1584.31 -1581.31 -1578.31 ...\n",
        "  * x                     (x) float32 -2697.57 -2694.57 -2691.57 -2688.57 ...\n",
        "Attributes:\n",
        "    long_name: u-component of wind @ Specified height level above ground\n",
        "    units: m/s\n",
        "    description: u-component of wind\n",
        "    grid_mapping: LambertConformal_Projection\n",
        "    Grib_Variable_Id: VAR_0-2-2_L103\n",
        "    Grib2_Parameter: [0 2 2]\n",
        "    Grib2_Parameter_Discipline: Meteorological products\n",
        "    Grib2_Parameter_Category: Momentum\n",
        "    Grib2_Parameter_Name: u-component of wind\n",
        "    Grib2_Level_Type: Specified height level above ground\n",
        "    Grib2_Generating_Process_Type: Forecast"
       ]
      }
     ],
     "prompt_number": 106
    },
    {
     "cell_type": "code",
     "collapsed": false,
     "input": [
      "grid = nc[uvar.grid_mapping]\n",
      "grid"
     ],
     "language": "python",
     "metadata": {},
     "outputs": [
      {
       "metadata": {},
       "output_type": "pyout",
       "prompt_number": 107,
       "text": [
        "<xray.DataArray u'LambertConformal_Projection' ()>\n",
        "array(0)\n",
        "Coordinates:\n",
        "    reftime  datetime64[ns] ...\n",
        "Attributes:\n",
        "    grid_mapping_name: lambert_conformal_conic\n",
        "    latitude_of_projection_origin: 38.5\n",
        "    longitude_of_central_meridian: 262.5\n",
        "    standard_parallel: 38.5\n",
        "    earth_radius: 6371229.0\n",
        "    _CoordinateTransformType: Projection\n",
        "    _CoordinateAxisTypes: GeoX GeoY"
       ]
      }
     ],
     "prompt_number": 107
    },
    {
     "cell_type": "code",
     "collapsed": false,
     "input": [
      "lon0 = grid.longitude_of_central_meridian\n",
      "lat0 = grid.latitude_of_projection_origin\n",
      "lat1 = grid.standard_parallel\n",
      "earth_radius = grid.earth_radius"
     ],
     "language": "python",
     "metadata": {},
     "outputs": [],
     "prompt_number": 108
    },
    {
     "cell_type": "heading",
     "level": 2,
     "metadata": {},
     "source": [
      "Find points of LambertConformal grid withing lon/lat bounding box using Cartopy"
     ]
    },
    {
     "cell_type": "code",
     "collapsed": false,
     "input": [
      "import cartopy\n",
      "import cartopy.crs as ccrs"
     ],
     "language": "python",
     "metadata": {},
     "outputs": [],
     "prompt_number": 109
    },
    {
     "cell_type": "code",
     "collapsed": false,
     "input": [
      "#globe = ccrs.Globe(ellipse='WGS84') #default\n",
      "globe = ccrs.Globe(ellipse='sphere', semimajor_axis=grid.earth_radius)\n",
      "\n",
      "crs = ccrs.LambertConformal(central_longitude=lon0, central_latitude=lat0, \n",
      "                            standard_parallels=(lat0,lat1), globe=globe)"
     ],
     "language": "python",
     "metadata": {},
     "outputs": [],
     "prompt_number": 110
    },
    {
     "cell_type": "code",
     "collapsed": false,
     "input": [
      "#Find indices to read based on lon/lat bounding box\n",
      "#newcs = ccrs.PlateCarree.transform_points(crs,xx,yy)\n",
      "dest = ccrs.PlateCarree()\n",
      "#cartopy wants meters, not km\n",
      "x2d, y2d = np.meshgrid(uvar.x.data*1000.0, uvar.y.data*1000.0)\n",
      "lonlat = dest.transform_points(crs, x2d, y2d)"
     ],
     "language": "python",
     "metadata": {},
     "outputs": [],
     "prompt_number": 111
    },
    {
     "cell_type": "code",
     "collapsed": false,
     "input": [
      "uvar.coords"
     ],
     "language": "python",
     "metadata": {},
     "outputs": [
      {
       "metadata": {},
       "output_type": "pyout",
       "prompt_number": 112,
       "text": [
        "Coordinates:\n",
        "  * time3                 (time3) datetime64[ns] 2015-07-24T17:00:00 ...\n",
        "  * height_above_ground5  (height_above_ground5) float32 10.0 80.0\n",
        "    reftime               datetime64[ns] ...\n",
        "  * y                     (y) float32 -1587.31 -1584.31 -1581.31 -1578.31 ...\n",
        "  * x                     (x) float32 -2697.57 -2694.57 -2691.57 -2688.57 ..."
       ]
      }
     ],
     "prompt_number": 112
    },
    {
     "cell_type": "code",
     "collapsed": false,
     "input": [
      "nc.time3"
     ],
     "language": "python",
     "metadata": {},
     "outputs": [
      {
       "metadata": {},
       "output_type": "pyout",
       "prompt_number": 114,
       "text": [
        "<xray.DataArray 'time3' (time3: 80)>\n",
        "array(['2015-07-24T13:00:00.000000000-0400',\n",
        "       '2015-07-24T13:01:00.000000000-0400',\n",
        "       '2015-07-24T13:02:00.000000000-0400',\n",
        "       '2015-07-24T13:03:00.000000000-0400',\n",
        "       '2015-07-24T13:04:00.000000000-0400',\n",
        "       '2015-07-24T13:05:00.000000000-0400',\n",
        "       '2015-07-24T13:06:00.000000000-0400',\n",
        "       '2015-07-24T13:07:00.000000000-0400',\n",
        "       '2015-07-24T13:08:00.000000000-0400',\n",
        "       '2015-07-24T13:09:00.000000000-0400',\n",
        "       '2015-07-24T13:10:00.000000000-0400',\n",
        "       '2015-07-24T13:11:00.000000000-0400',\n",
        "       '2015-07-24T13:12:00.000000000-0400',\n",
        "       '2015-07-24T13:13:00.000000000-0400',\n",
        "       '2015-07-24T13:14:00.000000000-0400',\n",
        "       '2015-07-24T13:15:00.000000000-0400',\n",
        "       '2015-07-24T13:16:00.000000000-0400',\n",
        "       '2015-07-24T13:17:00.000000000-0400',\n",
        "       '2015-07-24T13:18:00.000000000-0400',\n",
        "       '2015-07-24T13:19:00.000000000-0400',\n",
        "       '2015-07-24T13:20:00.000000000-0400',\n",
        "       '2015-07-24T13:21:00.000000000-0400',\n",
        "       '2015-07-24T13:22:00.000000000-0400',\n",
        "       '2015-07-24T13:23:00.000000000-0400',\n",
        "       '2015-07-24T13:24:00.000000000-0400',\n",
        "       '2015-07-24T13:30:00.000000000-0400',\n",
        "       '2015-07-24T13:45:00.000000000-0400',\n",
        "       '2015-07-24T14:00:00.000000000-0400',\n",
        "       '2015-07-24T14:15:00.000000000-0400',\n",
        "       '2015-07-24T14:30:00.000000000-0400',\n",
        "       '2015-07-24T14:45:00.000000000-0400',\n",
        "       '2015-07-24T15:00:00.000000000-0400',\n",
        "       '2015-07-24T15:15:00.000000000-0400',\n",
        "       '2015-07-24T15:30:00.000000000-0400',\n",
        "       '2015-07-24T15:45:00.000000000-0400',\n",
        "       '2015-07-24T16:00:00.000000000-0400',\n",
        "       '2015-07-24T16:15:00.000000000-0400',\n",
        "       '2015-07-24T16:30:00.000000000-0400',\n",
        "       '2015-07-24T16:45:00.000000000-0400',\n",
        "       '2015-07-24T17:00:00.000000000-0400',\n",
        "       '2015-07-24T17:15:00.000000000-0400',\n",
        "       '2015-07-24T17:30:00.000000000-0400',\n",
        "       '2015-07-24T17:45:00.000000000-0400',\n",
        "       '2015-07-24T18:00:00.000000000-0400',\n",
        "       '2015-07-24T18:15:00.000000000-0400',\n",
        "       '2015-07-24T18:30:00.000000000-0400',\n",
        "       '2015-07-24T18:45:00.000000000-0400',\n",
        "       '2015-07-24T19:00:00.000000000-0400',\n",
        "       '2015-07-24T19:15:00.000000000-0400',\n",
        "       '2015-07-24T19:30:00.000000000-0400',\n",
        "       '2015-07-24T19:45:00.000000000-0400',\n",
        "       '2015-07-24T20:00:00.000000000-0400',\n",
        "       '2015-07-24T20:15:00.000000000-0400',\n",
        "       '2015-07-24T20:30:00.000000000-0400',\n",
        "       '2015-07-24T20:45:00.000000000-0400',\n",
        "       '2015-07-24T21:00:00.000000000-0400',\n",
        "       '2015-07-24T21:15:00.000000000-0400',\n",
        "       '2015-07-24T21:30:00.000000000-0400',\n",
        "       '2015-07-24T21:45:00.000000000-0400',\n",
        "       '2015-07-24T22:00:00.000000000-0400',\n",
        "       '2015-07-24T22:15:00.000000000-0400',\n",
        "       '2015-07-24T22:30:00.000000000-0400',\n",
        "       '2015-07-24T22:45:00.000000000-0400',\n",
        "       '2015-07-24T23:00:00.000000000-0400',\n",
        "       '2015-07-24T23:15:00.000000000-0400',\n",
        "       '2015-07-24T23:30:00.000000000-0400',\n",
        "       '2015-07-24T23:45:00.000000000-0400',\n",
        "       '2015-07-25T00:00:00.000000000-0400',\n",
        "       '2015-07-25T01:15:00.000000000-0400',\n",
        "       '2015-07-25T01:30:00.000000000-0400',\n",
        "       '2015-07-25T01:45:00.000000000-0400',\n",
        "       '2015-07-25T02:00:00.000000000-0400',\n",
        "       '2015-07-25T02:15:00.000000000-0400',\n",
        "       '2015-07-25T02:30:00.000000000-0400',\n",
        "       '2015-07-25T02:45:00.000000000-0400',\n",
        "       '2015-07-25T03:00:00.000000000-0400',\n",
        "       '2015-07-25T03:15:00.000000000-0400',\n",
        "       '2015-07-25T03:30:00.000000000-0400',\n",
        "       '2015-07-25T03:45:00.000000000-0400',\n",
        "       '2015-07-25T04:00:00.000000000-0400'], dtype='datetime64[ns]')\n",
        "Coordinates:\n",
        "  * time3    (time3) datetime64[ns] 2015-07-24T17:00:00 2015-07-24T17:01:00 ...\n",
        "    reftime  datetime64[ns] ...\n",
        "Attributes:\n",
        "    standard_name: time\n",
        "    long_name: GRIB forecast or observation time\n",
        "    _CoordinateAxisType: Time"
       ]
      }
     ],
     "prompt_number": 114
    },
    {
     "cell_type": "code",
     "collapsed": false,
     "input": [
      "zmet=10. # want 10 m height\n",
      "# use xray to select date and height with real numbers, not indices!\n",
      "uv = uvar.sel(time3=date, height_above_ground5=zmet ,method='nearest')\n",
      "vv = vvar.sel(time3=date, height_above_ground5=zmet ,method='nearest')\n",
      "tim = uv.time3.data"
     ],
     "language": "python",
     "metadata": {},
     "outputs": [
      {
       "ename": "KeyError",
       "evalue": "'time'",
       "output_type": "pyerr",
       "traceback": [
        "\u001b[1;31m---------------------------------------------------------------------------\u001b[0m\n\u001b[1;31mKeyError\u001b[0m                                  Traceback (most recent call last)",
        "\u001b[1;32m<ipython-input-113-30596b5eaa9d>\u001b[0m in \u001b[0;36m<module>\u001b[1;34m()\u001b[0m\n\u001b[0;32m      1\u001b[0m \u001b[0mzmet\u001b[0m\u001b[1;33m=\u001b[0m\u001b[1;36m10.\u001b[0m \u001b[1;31m# want 10 m height\u001b[0m\u001b[1;33m\u001b[0m\u001b[0m\n\u001b[0;32m      2\u001b[0m \u001b[1;31m# use xray to select date and height with real numbers, not indices!\u001b[0m\u001b[1;33m\u001b[0m\u001b[1;33m\u001b[0m\u001b[0m\n\u001b[1;32m----> 3\u001b[1;33m \u001b[0muv\u001b[0m \u001b[1;33m=\u001b[0m \u001b[0muvar\u001b[0m\u001b[1;33m.\u001b[0m\u001b[0msel\u001b[0m\u001b[1;33m(\u001b[0m\u001b[0mtime\u001b[0m\u001b[1;33m=\u001b[0m\u001b[0mdate\u001b[0m\u001b[1;33m,\u001b[0m \u001b[0mheight_above_ground5\u001b[0m\u001b[1;33m=\u001b[0m\u001b[0mzmet\u001b[0m \u001b[1;33m,\u001b[0m\u001b[0mmethod\u001b[0m\u001b[1;33m=\u001b[0m\u001b[1;34m'nearest'\u001b[0m\u001b[1;33m)\u001b[0m\u001b[1;33m\u001b[0m\u001b[0m\n\u001b[0m\u001b[0;32m      4\u001b[0m \u001b[0mvv\u001b[0m \u001b[1;33m=\u001b[0m \u001b[0mvvar\u001b[0m\u001b[1;33m.\u001b[0m\u001b[0msel\u001b[0m\u001b[1;33m(\u001b[0m\u001b[0mtime\u001b[0m\u001b[1;33m=\u001b[0m\u001b[0mdate\u001b[0m\u001b[1;33m,\u001b[0m \u001b[0mheight_above_ground5\u001b[0m\u001b[1;33m=\u001b[0m\u001b[0mzmet\u001b[0m \u001b[1;33m,\u001b[0m\u001b[0mmethod\u001b[0m\u001b[1;33m=\u001b[0m\u001b[1;34m'nearest'\u001b[0m\u001b[1;33m)\u001b[0m\u001b[1;33m\u001b[0m\u001b[0m\n\u001b[0;32m      5\u001b[0m \u001b[0mtim\u001b[0m \u001b[1;33m=\u001b[0m \u001b[0muv\u001b[0m\u001b[1;33m.\u001b[0m\u001b[0mtime\u001b[0m\u001b[1;33m.\u001b[0m\u001b[0mdata\u001b[0m\u001b[1;33m\u001b[0m\u001b[0m\n",
        "\u001b[1;32m/home/usgs/miniconda/envs/ioos/lib/python2.7/site-packages/xray/core/dataarray.pyc\u001b[0m in \u001b[0;36msel\u001b[1;34m(self, method, **indexers)\u001b[0m\n\u001b[0;32m    548\u001b[0m         \"\"\"\n\u001b[0;32m    549\u001b[0m         return self.isel(**indexing.remap_label_indexers(self, indexers,\n\u001b[1;32m--> 550\u001b[1;33m                                                          method=method))\n\u001b[0m\u001b[0;32m    551\u001b[0m \u001b[1;33m\u001b[0m\u001b[0m\n\u001b[0;32m    552\u001b[0m     \u001b[1;32mdef\u001b[0m \u001b[0mreindex_like\u001b[0m\u001b[1;33m(\u001b[0m\u001b[0mself\u001b[0m\u001b[1;33m,\u001b[0m \u001b[0mother\u001b[0m\u001b[1;33m,\u001b[0m \u001b[0mmethod\u001b[0m\u001b[1;33m=\u001b[0m\u001b[0mNone\u001b[0m\u001b[1;33m,\u001b[0m \u001b[0mcopy\u001b[0m\u001b[1;33m=\u001b[0m\u001b[0mTrue\u001b[0m\u001b[1;33m)\u001b[0m\u001b[1;33m:\u001b[0m\u001b[1;33m\u001b[0m\u001b[0m\n",
        "\u001b[1;32m/home/usgs/miniconda/envs/ioos/lib/python2.7/site-packages/xray/core/indexing.pyc\u001b[0m in \u001b[0;36mremap_label_indexers\u001b[1;34m(data_obj, indexers, method)\u001b[0m\n\u001b[0;32m    161\u001b[0m     return dict((dim, convert_label_indexer(data_obj[dim].to_index(), label,\n\u001b[0;32m    162\u001b[0m                                             dim, method))\n\u001b[1;32m--> 163\u001b[1;33m                 for dim, label in iteritems(indexers))\n\u001b[0m\u001b[0;32m    164\u001b[0m \u001b[1;33m\u001b[0m\u001b[0m\n\u001b[0;32m    165\u001b[0m \u001b[1;33m\u001b[0m\u001b[0m\n",
        "\u001b[1;32m/home/usgs/miniconda/envs/ioos/lib/python2.7/site-packages/xray/core/indexing.pyc\u001b[0m in \u001b[0;36m<genexpr>\u001b[1;34m((dim, label))\u001b[0m\n\u001b[0;32m    161\u001b[0m     return dict((dim, convert_label_indexer(data_obj[dim].to_index(), label,\n\u001b[0;32m    162\u001b[0m                                             dim, method))\n\u001b[1;32m--> 163\u001b[1;33m                 for dim, label in iteritems(indexers))\n\u001b[0m\u001b[0;32m    164\u001b[0m \u001b[1;33m\u001b[0m\u001b[0m\n\u001b[0;32m    165\u001b[0m \u001b[1;33m\u001b[0m\u001b[0m\n",
        "\u001b[1;32m/home/usgs/miniconda/envs/ioos/lib/python2.7/site-packages/xray/core/dataarray.pyc\u001b[0m in \u001b[0;36m__getitem__\u001b[1;34m(self, key)\u001b[0m\n\u001b[0;32m    365\u001b[0m     \u001b[1;32mdef\u001b[0m \u001b[0m__getitem__\u001b[0m\u001b[1;33m(\u001b[0m\u001b[0mself\u001b[0m\u001b[1;33m,\u001b[0m \u001b[0mkey\u001b[0m\u001b[1;33m)\u001b[0m\u001b[1;33m:\u001b[0m\u001b[1;33m\u001b[0m\u001b[0m\n\u001b[0;32m    366\u001b[0m         \u001b[1;32mif\u001b[0m \u001b[0misinstance\u001b[0m\u001b[1;33m(\u001b[0m\u001b[0mkey\u001b[0m\u001b[1;33m,\u001b[0m \u001b[0mbasestring\u001b[0m\u001b[1;33m)\u001b[0m\u001b[1;33m:\u001b[0m\u001b[1;33m\u001b[0m\u001b[0m\n\u001b[1;32m--> 367\u001b[1;33m             \u001b[1;32mreturn\u001b[0m \u001b[0mself\u001b[0m\u001b[1;33m.\u001b[0m\u001b[0mcoords\u001b[0m\u001b[1;33m[\u001b[0m\u001b[0mkey\u001b[0m\u001b[1;33m]\u001b[0m\u001b[1;33m\u001b[0m\u001b[0m\n\u001b[0m\u001b[0;32m    368\u001b[0m         \u001b[1;32melse\u001b[0m\u001b[1;33m:\u001b[0m\u001b[1;33m\u001b[0m\u001b[0m\n\u001b[0;32m    369\u001b[0m             \u001b[1;31m# orthogonal array indexing\u001b[0m\u001b[1;33m\u001b[0m\u001b[1;33m\u001b[0m\u001b[0m\n",
        "\u001b[1;32m/home/usgs/miniconda/envs/ioos/lib/python2.7/site-packages/xray/core/coordinates.pyc\u001b[0m in \u001b[0;36m__getitem__\u001b[1;34m(self, key)\u001b[0m\n\u001b[0;32m     48\u001b[0m             \u001b[1;32mreturn\u001b[0m \u001b[0mself\u001b[0m\u001b[1;33m.\u001b[0m\u001b[0m_dataset\u001b[0m\u001b[1;33m[\u001b[0m\u001b[0mkey\u001b[0m\u001b[1;33m]\u001b[0m\u001b[1;33m\u001b[0m\u001b[0m\n\u001b[0;32m     49\u001b[0m         \u001b[1;32melse\u001b[0m\u001b[1;33m:\u001b[0m\u001b[1;33m\u001b[0m\u001b[0m\n\u001b[1;32m---> 50\u001b[1;33m             \u001b[1;32mraise\u001b[0m \u001b[0mKeyError\u001b[0m\u001b[1;33m(\u001b[0m\u001b[0mkey\u001b[0m\u001b[1;33m)\u001b[0m\u001b[1;33m\u001b[0m\u001b[0m\n\u001b[0m\u001b[0;32m     51\u001b[0m \u001b[1;33m\u001b[0m\u001b[0m\n\u001b[0;32m     52\u001b[0m     \u001b[1;32mdef\u001b[0m \u001b[0m__setitem__\u001b[0m\u001b[1;33m(\u001b[0m\u001b[0mself\u001b[0m\u001b[1;33m,\u001b[0m \u001b[0mkey\u001b[0m\u001b[1;33m,\u001b[0m \u001b[0mvalue\u001b[0m\u001b[1;33m)\u001b[0m\u001b[1;33m:\u001b[0m\u001b[1;33m\u001b[0m\u001b[0m\n",
        "\u001b[1;31mKeyError\u001b[0m: 'time'"
       ]
      }
     ],
     "prompt_number": 113
    },
    {
     "cell_type": "code",
     "collapsed": false,
     "input": [
      "# determine index range to select data that spans our lon/lat bounding box \n",
      "i = np.argwhere((lonlat[:,:,0] >= ax[0]) & \n",
      "               (lonlat[:,:,0] <= ax[1]) & \n",
      "               (lonlat[:,:,1] >= ax[2]) & \n",
      "               (lonlat[:,:,1] <= ax[3]))\n",
      "\n",
      "j0 = i[:,0].min()\n",
      "j1 = i[:,0].max()\n",
      "i0 = i[:,1].min()\n",
      "i1 = i[:,1].max()"
     ],
     "language": "python",
     "metadata": {},
     "outputs": []
    },
    {
     "cell_type": "code",
     "collapsed": false,
     "input": [
      "print(uv.shape)\n",
      "print(i0,i1,j0,j1)"
     ],
     "language": "python",
     "metadata": {},
     "outputs": []
    },
    {
     "cell_type": "code",
     "collapsed": false,
     "input": [
      "uv=uv[j0:j1,i0:i1]\n",
      "vv=vv[j0:j1,i0:i1]"
     ],
     "language": "python",
     "metadata": {},
     "outputs": []
    },
    {
     "cell_type": "code",
     "collapsed": false,
     "input": [
      "uv"
     ],
     "language": "python",
     "metadata": {},
     "outputs": []
    },
    {
     "cell_type": "heading",
     "level": 2,
     "metadata": {},
     "source": [
      "Plot Lambert Conformal Conic data in PlateCarree coordinates using Cartopy"
     ]
    },
    {
     "cell_type": "code",
     "collapsed": false,
     "input": [
      "x = uv.x.data*1000.\n",
      "y = uv.y.data*1000.\n",
      "u = uv.data\n",
      "v = vv.data\n",
      "spd = np.sqrt(u*u+v*v)"
     ],
     "language": "python",
     "metadata": {},
     "outputs": []
    },
    {
     "cell_type": "code",
     "collapsed": false,
     "input": [
      "print(spd.shape)\n",
      "print(x.shape)\n",
      "print(y.shape)"
     ],
     "language": "python",
     "metadata": {},
     "outputs": []
    },
    {
     "cell_type": "code",
     "collapsed": false,
     "input": [
      "spd2 = spd[1:,1:]\n",
      "print(spd2.shape)"
     ],
     "language": "python",
     "metadata": {},
     "outputs": []
    },
    {
     "cell_type": "code",
     "collapsed": false,
     "input": [
      "fig = plt.figure(figsize=(14,14))\n",
      "ax1 = plt.axes(projection=ccrs.PlateCarree())\n",
      "c = ax1.pcolormesh(x,y,spd2, transform=crs,zorder=0,vmin=0,vmax=10)\n",
      "cb = fig.colorbar(c,orientation='vertical',shrink=0.5)\n",
      "cb.set_label('m/s')\n",
      "ax1.coastlines(resolution='10m',color='black',zorder=1)\n",
      "ax1.quiver(x,y,u,v,transform=crs,zorder=2,scale=200)\n",
      "gl = ax1.gridlines(draw_labels=True)\n",
      "gl.xlabels_top = False\n",
      "gl.ylabels_right = False\n",
      "plt.title(tim);\n",
      "plt.axis(ax);"
     ],
     "language": "python",
     "metadata": {},
     "outputs": []
    },
    {
     "cell_type": "code",
     "collapsed": false,
     "input": [],
     "language": "python",
     "metadata": {},
     "outputs": []
    },
    {
     "cell_type": "code",
     "collapsed": false,
     "input": [],
     "language": "python",
     "metadata": {},
     "outputs": []
    },
    {
     "cell_type": "code",
     "collapsed": false,
     "input": [],
     "language": "python",
     "metadata": {},
     "outputs": []
    },
    {
     "cell_type": "code",
     "collapsed": false,
     "input": [],
     "language": "python",
     "metadata": {},
     "outputs": []
    }
   ],
   "metadata": {}
  }
 ]
}